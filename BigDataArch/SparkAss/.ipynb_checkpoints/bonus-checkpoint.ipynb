{
 "cells": [
  {
   "cell_type": "markdown",
   "metadata": {},
   "source": [
    "# Bonus question [+5 points]\n",
    "Write down something you liked for this assignment and something you disliked. You get all\n",
    "the points if you write something relevant to the question, regardless of which your opinion\n",
    "is. If your comments are irrelevant or do not provide any feedback you get no points. Your\n",
    "deliverable should be a report (named “bonus.pdf”) containing your feedback."
   ]
  },
  {
   "cell_type": "markdown",
   "metadata": {},
   "source": [
    "### Liked\n",
    "Once I got it up and running, Spark is pretty cool! This definitely would be a powerful tool to have at my disposal. It's really nice to leverage the power of both python and Spark while also leveraging the simple yet effective SQL syntax. While working through this project, I could absolutely see how I could use the tool myself.\n",
    "\n",
    "\n",
    "### Disliked\n",
    "1) It took me a long time to get this sucker installed and up and running on my machine; at least twice the time I spent on actually learning Spark. Just because you don't have much experience installing it on Windows doesn't mean that you don't have to help your students lol it would have been nice to have a tutorial that you made or at least one you would recommend which is on the internet - because yes there are a ton floating around on the web, but they are all different and I had to try basically a brand new technique comprised of many different facets of each tutorial.\n",
    "\n",
    "2) it would be cool if you upload some example code for use to practice with; including datasets etc. There was some in the notes, but some full fledged examples would be fun to practice with!"
   ]
  }
 ],
 "metadata": {
  "kernelspec": {
   "display_name": "Python 3",
   "language": "python",
   "name": "python3"
  },
  "language_info": {
   "codemirror_mode": {
    "name": "ipython",
    "version": 3
   },
   "file_extension": ".py",
   "mimetype": "text/x-python",
   "name": "python",
   "nbconvert_exporter": "python",
   "pygments_lexer": "ipython3",
   "version": "3.6.5"
  }
 },
 "nbformat": 4,
 "nbformat_minor": 2
}
