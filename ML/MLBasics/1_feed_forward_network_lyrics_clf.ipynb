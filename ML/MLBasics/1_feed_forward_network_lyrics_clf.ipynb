{
 "cells": [
  {
   "cell_type": "markdown",
   "metadata": {},
   "source": [
    "# Big Data Content Analytics - AUEB\n",
    "\n",
    "## Introduction to Feed Forward Networks \n",
    "\n",
    "* Lab Assistant: George Perakis\n",
    "* Email: gperakis[at]aeub.gr "
   ]
  },
  {
   "cell_type": "markdown",
   "metadata": {},
   "source": [
    "### Importing Modules"
   ]
  },
  {
   "cell_type": "code",
   "execution_count": 1,
   "metadata": {},
   "outputs": [],
   "source": [
    "# !pip install tensorflow"
   ]
  },
  {
   "cell_type": "code",
   "execution_count": 2,
   "metadata": {},
   "outputs": [],
   "source": [
    "import pandas as pd\n",
    "from collections import Counter\n",
    "import numpy as np\n",
    "import matplotlib.pyplot as plt\n",
    "from IPython.display import Image\n",
    "from IPython.core.display import HTML \n",
    "\n",
    "%matplotlib inline"
   ]
  },
  {
   "cell_type": "markdown",
   "metadata": {},
   "source": [
    "### Loading dataset"
   ]
  },
  {
   "cell_type": "markdown",
   "metadata": {},
   "source": [
    "### At first download the file from this [link](https://drive.google.com/file/d/1yyOuPAvAzNV_oeh2QfHu9aqzCk50ypOM/view?usp=sharing)\n"
   ]
  },
  {
   "cell_type": "code",
   "execution_count": 3,
   "metadata": {},
   "outputs": [
    {
     "data": {
      "text/html": [
       "<div>\n",
       "<style scoped>\n",
       "    .dataframe tbody tr th:only-of-type {\n",
       "        vertical-align: middle;\n",
       "    }\n",
       "\n",
       "    .dataframe tbody tr th {\n",
       "        vertical-align: top;\n",
       "    }\n",
       "\n",
       "    .dataframe thead th {\n",
       "        text-align: right;\n",
       "    }\n",
       "</style>\n",
       "<table border=\"1\" class=\"dataframe\">\n",
       "  <thead>\n",
       "    <tr style=\"text-align: right;\">\n",
       "      <th></th>\n",
       "      <th>composers</th>\n",
       "      <th>lyricists</th>\n",
       "      <th>lyrics</th>\n",
       "      <th>singers</th>\n",
       "      <th>title</th>\n",
       "    </tr>\n",
       "  </thead>\n",
       "  <tbody>\n",
       "    <tr>\n",
       "      <th>13824</th>\n",
       "      <td>Νίκος Μαμαγκάκης</td>\n",
       "      <td>Αθηνά Καραταράκη</td>\n",
       "      <td>Μέσ’ στων ματιών σου τα νερά\\r\\nχωρίς βαρκούλα...</td>\n",
       "      <td>Λιζέττα Καλημέρη</td>\n",
       "      <td>Μέσ’ στων ματιών σου τα νερά</td>\n",
       "    </tr>\n",
       "    <tr>\n",
       "      <th>4769</th>\n",
       "      <td>NaN</td>\n",
       "      <td>NaN</td>\n",
       "      <td>Τίποτα δεν έμεινε\\r\\nτίποτα απ τα περασμένα\\r\\...</td>\n",
       "      <td>Βικτώρια Χαλκίτη</td>\n",
       "      <td>Τώρα - τώρα</td>\n",
       "    </tr>\n",
       "    <tr>\n",
       "      <th>20529</th>\n",
       "      <td>Δημήτρης Χαλκιάς</td>\n",
       "      <td>Βασίλης Παπαδόπουλος</td>\n",
       "      <td>Για όλους είσαι μονοπάτι \\r\\nπου βγάζει στην κ...</td>\n",
       "      <td>Κατερίνα Στανίση</td>\n",
       "      <td>Το μονοπάτι</td>\n",
       "    </tr>\n",
       "    <tr>\n",
       "      <th>38411</th>\n",
       "      <td>Γιώργος Κατσαρός (Θεολογίτης)</td>\n",
       "      <td>Γιώργος Κατσαρός (Θεολογίτης)</td>\n",
       "      <td>Στης Σύρας τον ανήφορο\\r\\nμου την εσκάσαν σήμε...</td>\n",
       "      <td>Γιώργος Κατσαρός (Θεολογίτης)</td>\n",
       "      <td>Στης Σύρας τον ανήφορο</td>\n",
       "    </tr>\n",
       "    <tr>\n",
       "      <th>32774</th>\n",
       "      <td>Αργύρης Στασουλάκης</td>\n",
       "      <td>Φώτης Στασουλάκης</td>\n",
       "      <td>Πιο πολύ τρέχει το δάκρυ απ’ το ποτάμι\\r\\nπιο ...</td>\n",
       "      <td>Φώτης Στασουλάκης</td>\n",
       "      <td>Προσευχή</td>\n",
       "    </tr>\n",
       "  </tbody>\n",
       "</table>\n",
       "</div>"
      ],
      "text/plain": [
       "                           composers                      lyricists  \\\n",
       "13824               Νίκος Μαμαγκάκης               Αθηνά Καραταράκη   \n",
       "4769                             NaN                            NaN   \n",
       "20529               Δημήτρης Χαλκιάς           Βασίλης Παπαδόπουλος   \n",
       "38411  Γιώργος Κατσαρός (Θεολογίτης)  Γιώργος Κατσαρός (Θεολογίτης)   \n",
       "32774            Αργύρης Στασουλάκης              Φώτης Στασουλάκης   \n",
       "\n",
       "                                                  lyrics  \\\n",
       "13824  Μέσ’ στων ματιών σου τα νερά\\r\\nχωρίς βαρκούλα...   \n",
       "4769   Τίποτα δεν έμεινε\\r\\nτίποτα απ τα περασμένα\\r\\...   \n",
       "20529  Για όλους είσαι μονοπάτι \\r\\nπου βγάζει στην κ...   \n",
       "38411  Στης Σύρας τον ανήφορο\\r\\nμου την εσκάσαν σήμε...   \n",
       "32774  Πιο πολύ τρέχει το δάκρυ απ’ το ποτάμι\\r\\nπιο ...   \n",
       "\n",
       "                             singers                         title  \n",
       "13824               Λιζέττα Καλημέρη  Μέσ’ στων ματιών σου τα νερά  \n",
       "4769                Βικτώρια Χαλκίτη                   Τώρα - τώρα  \n",
       "20529               Κατερίνα Στανίση                   Το μονοπάτι  \n",
       "38411  Γιώργος Κατσαρός (Θεολογίτης)        Στης Σύρας τον ανήφορο  \n",
       "32774              Φώτης Στασουλάκης                      Προσευχή  "
      ]
     },
     "execution_count": 3,
     "metadata": {},
     "output_type": "execute_result"
    }
   ],
   "source": [
    "# using pandas to read a .csv file\n",
    "df = pd.read_csv('stixoi_info_lyrics_all.csv')\n",
    "\n",
    "df.sample(5)"
   ]
  },
  {
   "cell_type": "code",
   "execution_count": 4,
   "metadata": {},
   "outputs": [
    {
     "data": {
      "text/html": [
       "<div>\n",
       "<style scoped>\n",
       "    .dataframe tbody tr th:only-of-type {\n",
       "        vertical-align: middle;\n",
       "    }\n",
       "\n",
       "    .dataframe tbody tr th {\n",
       "        vertical-align: top;\n",
       "    }\n",
       "\n",
       "    .dataframe thead th {\n",
       "        text-align: right;\n",
       "    }\n",
       "</style>\n",
       "<table border=\"1\" class=\"dataframe\">\n",
       "  <thead>\n",
       "    <tr style=\"text-align: right;\">\n",
       "      <th></th>\n",
       "      <th>composers</th>\n",
       "      <th>lyricists</th>\n",
       "      <th>lyrics</th>\n",
       "      <th>singers</th>\n",
       "      <th>title</th>\n",
       "    </tr>\n",
       "  </thead>\n",
       "  <tbody>\n",
       "    <tr>\n",
       "      <th>44459</th>\n",
       "      <td>Αμελοποίητα</td>\n",
       "      <td>Γιώργος Σαραντάρης</td>\n",
       "      <td>Κορυδαλλοί κορυδαλλοί αδελφοί μου\\r\\nΖύγωσα πά...</td>\n",
       "      <td>None</td>\n",
       "      <td>Θαλασσινός βίος 12</td>\n",
       "    </tr>\n",
       "    <tr>\n",
       "      <th>23816</th>\n",
       "      <td>Γιώργος Γεωργόπουλος</td>\n",
       "      <td>Λάκης Τσώλης</td>\n",
       "      <td>Τι κρίμα να `σαι αλλουνού γυναίκα\\r\\nκι εγώ να...</td>\n",
       "      <td>Γιώργος Μπουλουγουράς</td>\n",
       "      <td>Διπλή αγάπη</td>\n",
       "    </tr>\n",
       "    <tr>\n",
       "      <th>39111</th>\n",
       "      <td>Λουκάς Θάνος</td>\n",
       "      <td>Πάνος Δημητρόπουλος</td>\n",
       "      <td>Στον κήπο μας \\r\\nθα παίζουν τα λιοντάρια με τ...</td>\n",
       "      <td>Σταύρος Σιόλας</td>\n",
       "      <td>Στον κήπο μας</td>\n",
       "    </tr>\n",
       "    <tr>\n",
       "      <th>29401</th>\n",
       "      <td>Αμελοποίητα</td>\n",
       "      <td>Κώστας Βάρναλης</td>\n",
       "      <td>Το τελευταίο σου γραμματάκι, \\r\\nπου σπαρταράε...</td>\n",
       "      <td>None</td>\n",
       "      <td>Σ’ ένα αδειανό βάθρο Θεού 9</td>\n",
       "    </tr>\n",
       "    <tr>\n",
       "      <th>49460</th>\n",
       "      <td>Σώτης Βολάνης</td>\n",
       "      <td>Σώτης Βολάνης | Γιώργος Ασλάνης</td>\n",
       "      <td>Σ’ έχω ξεπεράσει τώρα πια\\r\\nέχω βρει μια άλλη...</td>\n",
       "      <td>Σώτης Βολάνης</td>\n",
       "      <td>Σ’ έχω ξεπεράσει</td>\n",
       "    </tr>\n",
       "  </tbody>\n",
       "</table>\n",
       "</div>"
      ],
      "text/plain": [
       "                  composers                        lyricists  \\\n",
       "44459           Αμελοποίητα               Γιώργος Σαραντάρης   \n",
       "23816  Γιώργος Γεωργόπουλος                     Λάκης Τσώλης   \n",
       "39111          Λουκάς Θάνος              Πάνος Δημητρόπουλος   \n",
       "29401           Αμελοποίητα                  Κώστας Βάρναλης   \n",
       "49460         Σώτης Βολάνης  Σώτης Βολάνης | Γιώργος Ασλάνης   \n",
       "\n",
       "                                                  lyrics  \\\n",
       "44459  Κορυδαλλοί κορυδαλλοί αδελφοί μου\\r\\nΖύγωσα πά...   \n",
       "23816  Τι κρίμα να `σαι αλλουνού γυναίκα\\r\\nκι εγώ να...   \n",
       "39111  Στον κήπο μας \\r\\nθα παίζουν τα λιοντάρια με τ...   \n",
       "29401  Το τελευταίο σου γραμματάκι, \\r\\nπου σπαρταράε...   \n",
       "49460  Σ’ έχω ξεπεράσει τώρα πια\\r\\nέχω βρει μια άλλη...   \n",
       "\n",
       "                     singers                        title  \n",
       "44459                   None           Θαλασσινός βίος 12  \n",
       "23816  Γιώργος Μπουλουγουράς                  Διπλή αγάπη  \n",
       "39111         Σταύρος Σιόλας                Στον κήπο μας  \n",
       "29401                   None  Σ’ ένα αδειανό βάθρο Θεού 9  \n",
       "49460          Σώτης Βολάνης             Σ’ έχω ξεπεράσει  "
      ]
     },
     "execution_count": 4,
     "metadata": {},
     "output_type": "execute_result"
    }
   ],
   "source": [
    "# converts NaN's to None \n",
    "df = df.where((pd.notnull(df)), None)\n",
    "\n",
    "df.sample(5)"
   ]
  },
  {
   "cell_type": "code",
   "execution_count": 5,
   "metadata": {},
   "outputs": [
    {
     "data": {
      "text/html": [
       "<div>\n",
       "<style scoped>\n",
       "    .dataframe tbody tr th:only-of-type {\n",
       "        vertical-align: middle;\n",
       "    }\n",
       "\n",
       "    .dataframe tbody tr th {\n",
       "        vertical-align: top;\n",
       "    }\n",
       "\n",
       "    .dataframe thead th {\n",
       "        text-align: right;\n",
       "    }\n",
       "</style>\n",
       "<table border=\"1\" class=\"dataframe\">\n",
       "  <thead>\n",
       "    <tr style=\"text-align: right;\">\n",
       "      <th></th>\n",
       "      <th>count</th>\n",
       "      <th>unique</th>\n",
       "      <th>top</th>\n",
       "      <th>freq</th>\n",
       "    </tr>\n",
       "  </thead>\n",
       "  <tbody>\n",
       "    <tr>\n",
       "      <th>composers</th>\n",
       "      <td>47432</td>\n",
       "      <td>3836</td>\n",
       "      <td>Αμελοποίητα</td>\n",
       "      <td>13708</td>\n",
       "    </tr>\n",
       "    <tr>\n",
       "      <th>lyricists</th>\n",
       "      <td>47902</td>\n",
       "      <td>5489</td>\n",
       "      <td>Παραδοσιακό</td>\n",
       "      <td>983</td>\n",
       "    </tr>\n",
       "    <tr>\n",
       "      <th>lyrics</th>\n",
       "      <td>50608</td>\n",
       "      <td>50477</td>\n",
       "      <td>Ο στιχουργός του συγκεκριμένου τραγουδιού έχει...</td>\n",
       "      <td>32</td>\n",
       "    </tr>\n",
       "    <tr>\n",
       "      <th>singers</th>\n",
       "      <td>35869</td>\n",
       "      <td>4610</td>\n",
       "      <td>Λευτέρης Πανταζής</td>\n",
       "      <td>361</td>\n",
       "    </tr>\n",
       "    <tr>\n",
       "      <th>title</th>\n",
       "      <td>50608</td>\n",
       "      <td>43518</td>\n",
       "      <td>Νανούρισμα</td>\n",
       "      <td>37</td>\n",
       "    </tr>\n",
       "  </tbody>\n",
       "</table>\n",
       "</div>"
      ],
      "text/plain": [
       "           count unique                                                top  \\\n",
       "composers  47432   3836                                        Αμελοποίητα   \n",
       "lyricists  47902   5489                                        Παραδοσιακό   \n",
       "lyrics     50608  50477  Ο στιχουργός του συγκεκριμένου τραγουδιού έχει...   \n",
       "singers    35869   4610                                  Λευτέρης Πανταζής   \n",
       "title      50608  43518                                         Νανούρισμα   \n",
       "\n",
       "            freq  \n",
       "composers  13708  \n",
       "lyricists    983  \n",
       "lyrics        32  \n",
       "singers      361  \n",
       "title         37  "
      ]
     },
     "execution_count": 5,
     "metadata": {},
     "output_type": "execute_result"
    }
   ],
   "source": [
    "# some basic descriptions\n",
    "df.describe().T"
   ]
  },
  {
   "cell_type": "code",
   "execution_count": 6,
   "metadata": {
    "scrolled": false
   },
   "outputs": [
    {
     "name": "stdout",
     "output_type": "stream",
     "text": [
      "<class 'pandas.core.frame.DataFrame'>\n",
      "RangeIndex: 50608 entries, 0 to 50607\n",
      "Data columns (total 5 columns):\n",
      " #   Column     Non-Null Count  Dtype \n",
      "---  ------     --------------  ----- \n",
      " 0   composers  47432 non-null  object\n",
      " 1   lyricists  47902 non-null  object\n",
      " 2   lyrics     50608 non-null  object\n",
      " 3   singers    35869 non-null  object\n",
      " 4   title      50608 non-null  object\n",
      "dtypes: object(5)\n",
      "memory usage: 1.9+ MB\n"
     ]
    }
   ],
   "source": [
    "# and some extra info for the dataframe\n",
    "df.info()"
   ]
  },
  {
   "cell_type": "code",
   "execution_count": 7,
   "metadata": {},
   "outputs": [
    {
     "data": {
      "text/plain": [
       "'Δεν μπορούσες λίγο χρόνο να δώσεις\\r\\nπερισσότερο δεν είχες καιρό\\r\\nδε μπορούσες ποτέ να με νιώσεις\\r\\nένα στήριγμα να `χω γερό\\n\\r\\nΤώρα δεν μπορώ εγώ\\r\\nάλλαξε το σκηνικό\\r\\nτώρα είμαι\\r\\nσε περίεργη φάση\\n\\r\\nΤώρα πια δε βλέπω φως\\r\\nμεταξύ μας δυστυχώς\\r\\nκαι δεν ξέρω \\r\\nπότε θα μου περάσει\\n\\r\\nΔεν μπορούσες το θυμό σου να πνίξεις\\r\\nαντιδρούσες με το παραμικρό\\r\\nδε μπορούσες ενδιαφέρον να δείξεις\\r\\nγια ποιο λόγο εγώ να μπορώ'"
      ]
     },
     "execution_count": 7,
     "metadata": {},
     "output_type": "execute_result"
    }
   ],
   "source": [
    "random_id = 8901\n",
    "\n",
    "df.loc[random_id]['lyrics']"
   ]
  },
  {
   "cell_type": "code",
   "execution_count": 8,
   "metadata": {},
   "outputs": [
    {
     "name": "stdout",
     "output_type": "stream",
     "text": [
      "Δεν μπορούσες λίγο χρόνο να δώσεις\r\n",
      "περισσότερο δεν είχες καιρό\r\n",
      "δε μπορούσες ποτέ να με νιώσεις\r\n",
      "ένα στήριγμα να `χω γερό\n",
      "\r\n",
      "Τώρα δεν μπορώ εγώ\r\n",
      "άλλαξε το σκηνικό\r\n",
      "τώρα είμαι\r\n",
      "σε περίεργη φάση\n",
      "\r\n",
      "Τώρα πια δε βλέπω φως\r\n",
      "μεταξύ μας δυστυχώς\r\n",
      "και δεν ξέρω \r\n",
      "πότε θα μου περάσει\n",
      "\r\n",
      "Δεν μπορούσες το θυμό σου να πνίξεις\r\n",
      "αντιδρούσες με το παραμικρό\r\n",
      "δε μπορούσες ενδιαφέρον να δείξεις\r\n",
      "για ποιο λόγο εγώ να μπορώ\n"
     ]
    }
   ],
   "source": [
    "print(df.loc[random_id]['lyrics'])"
   ]
  },
  {
   "cell_type": "code",
   "execution_count": 9,
   "metadata": {},
   "outputs": [],
   "source": [
    "# Counting the frequency of each lyricist\n",
    "lyricists_counts = Counter(df['lyricists'])"
   ]
  },
  {
   "cell_type": "code",
   "execution_count": 10,
   "metadata": {},
   "outputs": [],
   "source": [
    "# alternatively use: df['lyricists'].value_counts()"
   ]
  },
  {
   "cell_type": "code",
   "execution_count": 11,
   "metadata": {},
   "outputs": [
    {
     "data": {
      "text/plain": [
       "[(None, 2706),\n",
       " ('Παραδοσιακό', 983),\n",
       " ('Ανδρέας Κάλβος', 438),\n",
       " ('Ηλίας Φιλίππου', 397),\n",
       " ('Γιάννης Τσίγκρας', 333),\n",
       " ('Γιώργος Σαραντάρης', 302),\n",
       " ('Θεόδωρος Γκλαβέρης', 295),\n",
       " ('Πυθαγόρας', 286),\n",
       " ('Τάσος Λειβαδίτης', 282),\n",
       " ('Αχιλλέας Παράσχος', 271),\n",
       " ('Χλόη Κουτσουμπέλη', 269),\n",
       " ('Τάκης Μουσαφίρης', 264),\n",
       " ('Μίλτος Σαχτούρης', 261),\n",
       " ('Τόλης Νικηφόρου', 254),\n",
       " ('Κωνσταντίνος Καβάφης', 250),\n",
       " ('Κώστας Βάρναλης', 236),\n",
       " ('Κώστας Βίρβος', 225),\n",
       " ('Ιωάννης Καρασούτσας', 222),\n",
       " ('Γεώργιος Σουρής', 220),\n",
       " ('Τζούτζη Ματζουράνη', 207),\n",
       " ('Πάνος Φαλάρας', 206),\n",
       " ('Γιάννης Ρίτσος', 206),\n",
       " ('Νίκος Γρηγοριάδης', 200),\n",
       " ('Νίκος Καρβέλας', 197),\n",
       " ('Γιώργος Σεφέρης', 193)]"
      ]
     },
     "execution_count": 11,
     "metadata": {},
     "output_type": "execute_result"
    }
   ],
   "source": [
    "lyricists_counts.most_common(25)"
   ]
  },
  {
   "cell_type": "code",
   "execution_count": 12,
   "metadata": {},
   "outputs": [
    {
     "data": {
      "text/plain": [
       "109"
      ]
     },
     "execution_count": 12,
     "metadata": {},
     "output_type": "execute_result"
    }
   ],
   "source": [
    "# Getting the counts of a specific Lyricist\n",
    "lyricists_counts.get('Φοίβος')"
   ]
  },
  {
   "cell_type": "code",
   "execution_count": 13,
   "metadata": {
    "scrolled": true
   },
   "outputs": [
    {
     "data": {
      "text/plain": [
       "[(None, 2706),\n",
       " ('Παραδοσιακό', 983),\n",
       " ('Ανδρέας Κάλβος', 438),\n",
       " ('Ηλίας Φιλίππου', 397),\n",
       " ('Γιάννης Τσίγκρας', 333),\n",
       " ('Γιώργος Σαραντάρης', 302),\n",
       " ('Θεόδωρος Γκλαβέρης', 295),\n",
       " ('Πυθαγόρας', 286),\n",
       " ('Τάσος Λειβαδίτης', 282),\n",
       " ('Αχιλλέας Παράσχος', 271),\n",
       " ('Χλόη Κουτσουμπέλη', 269),\n",
       " ('Τάκης Μουσαφίρης', 264),\n",
       " ('Μίλτος Σαχτούρης', 261),\n",
       " ('Τόλης Νικηφόρου', 254),\n",
       " ('Κωνσταντίνος Καβάφης', 250),\n",
       " ('Κώστας Βάρναλης', 236),\n",
       " ('Κώστας Βίρβος', 225),\n",
       " ('Ιωάννης Καρασούτσας', 222),\n",
       " ('Γεώργιος Σουρής', 220),\n",
       " ('Τζούτζη Ματζουράνη', 207),\n",
       " ('Πάνος Φαλάρας', 206)]"
      ]
     },
     "execution_count": 13,
     "metadata": {},
     "output_type": "execute_result"
    }
   ],
   "source": [
    "# Extracting the top 20 Lyricists.\n",
    "# We use 21 in the code because we will remove the \"None\" Lyricist\n",
    "top_lyricists = lyricists_counts.most_common()[:21]\n",
    "top_lyricists"
   ]
  },
  {
   "cell_type": "code",
   "execution_count": 14,
   "metadata": {
    "scrolled": true
   },
   "outputs": [
    {
     "data": {
      "text/plain": [
       "['Παραδοσιακό',\n",
       " 'Ανδρέας Κάλβος',\n",
       " 'Ηλίας Φιλίππου',\n",
       " 'Γιάννης Τσίγκρας',\n",
       " 'Γιώργος Σαραντάρης',\n",
       " 'Θεόδωρος Γκλαβέρης',\n",
       " 'Πυθαγόρας',\n",
       " 'Τάσος Λειβαδίτης',\n",
       " 'Αχιλλέας Παράσχος',\n",
       " 'Χλόη Κουτσουμπέλη',\n",
       " 'Τάκης Μουσαφίρης',\n",
       " 'Μίλτος Σαχτούρης',\n",
       " 'Τόλης Νικηφόρου',\n",
       " 'Κωνσταντίνος Καβάφης',\n",
       " 'Κώστας Βάρναλης',\n",
       " 'Κώστας Βίρβος',\n",
       " 'Ιωάννης Καρασούτσας',\n",
       " 'Γεώργιος Σουρής',\n",
       " 'Τζούτζη Ματζουράνη',\n",
       " 'Πάνος Φαλάρας']"
      ]
     },
     "execution_count": 14,
     "metadata": {},
     "output_type": "execute_result"
    }
   ],
   "source": [
    "top_lyricists = list(filter(None, [lyricist for lyricist, count in top_lyricists]))\n",
    "top_lyricists"
   ]
  },
  {
   "cell_type": "code",
   "execution_count": 15,
   "metadata": {
    "scrolled": true
   },
   "outputs": [
    {
     "data": {
      "text/html": [
       "<div>\n",
       "<style scoped>\n",
       "    .dataframe tbody tr th:only-of-type {\n",
       "        vertical-align: middle;\n",
       "    }\n",
       "\n",
       "    .dataframe tbody tr th {\n",
       "        vertical-align: top;\n",
       "    }\n",
       "\n",
       "    .dataframe thead th {\n",
       "        text-align: right;\n",
       "    }\n",
       "</style>\n",
       "<table border=\"1\" class=\"dataframe\">\n",
       "  <thead>\n",
       "    <tr style=\"text-align: right;\">\n",
       "      <th></th>\n",
       "      <th>composers</th>\n",
       "      <th>lyricists</th>\n",
       "      <th>lyrics</th>\n",
       "      <th>singers</th>\n",
       "      <th>title</th>\n",
       "    </tr>\n",
       "  </thead>\n",
       "  <tbody>\n",
       "    <tr>\n",
       "      <th>5037</th>\n",
       "      <td>Αμελοποίητα</td>\n",
       "      <td>Χλόη Κουτσουμπέλη</td>\n",
       "      <td>Κάθε ποίημα είναι ένας άντρας.\\r\\nΠλαγιάζεις μ...</td>\n",
       "      <td>None</td>\n",
       "      <td>Η μυστική Ζωή των ποιημάτων Χ</td>\n",
       "    </tr>\n",
       "    <tr>\n",
       "      <th>2176</th>\n",
       "      <td>Αμελοποίητα</td>\n",
       "      <td>Κώστας Βάρναλης</td>\n",
       "      <td>Απ’ το χωριό κατέβηκα\\r\\nμ’ όλη τη φαμελιά μου...</td>\n",
       "      <td>None</td>\n",
       "      <td>Ο \"καλός\" Λαός</td>\n",
       "    </tr>\n",
       "    <tr>\n",
       "      <th>5603</th>\n",
       "      <td>Αμελοποίητα</td>\n",
       "      <td>Γιάννης Τσίγκρας</td>\n",
       "      <td>Διάβαζα λυτά έγγραφα του Δήμου, γραμμένα στην ...</td>\n",
       "      <td>None</td>\n",
       "      <td>Πώς γράφεται ένα ιστορικό βιβλίο</td>\n",
       "    </tr>\n",
       "    <tr>\n",
       "      <th>5123</th>\n",
       "      <td>Αμελοποίητα</td>\n",
       "      <td>Γεώργιος Σουρής</td>\n",
       "      <td>Λοιπὸν στὴν Ἄρτα πόλεμος ἐκ τῶν λυσσωδεστέρων,...</td>\n",
       "      <td>None</td>\n",
       "      <td>Θούριον</td>\n",
       "    </tr>\n",
       "    <tr>\n",
       "      <th>4053</th>\n",
       "      <td>Αμελοποίητα</td>\n",
       "      <td>Αχιλλέας Παράσχος</td>\n",
       "      <td>Ἄκοντες δύσμοιροι φονεῖς καὶ ἴσως πλήρεις τρόμ...</td>\n",
       "      <td>None</td>\n",
       "      <td>Εν περιπάτω 13</td>\n",
       "    </tr>\n",
       "    <tr>\n",
       "      <th>5312</th>\n",
       "      <td>Αμελοποίητα</td>\n",
       "      <td>Γιώργος Σαραντάρης</td>\n",
       "      <td>Μια σιωπή βρεγμένη με λόγια\\r\\nΟι δυο μας εκεί...</td>\n",
       "      <td>None</td>\n",
       "      <td>Μια σιωπή βρεγμένη με λόγια</td>\n",
       "    </tr>\n",
       "    <tr>\n",
       "      <th>1867</th>\n",
       "      <td>Νεκτάριος Μπήτρος | Λευτέρης Πανταζής</td>\n",
       "      <td>Ηλίας Φιλίππου</td>\n",
       "      <td>Να θυμάσαι τι σου λέω πάντα θα `μαι εδώ\\r\\nνα ...</td>\n",
       "      <td>Λευτέρης Πανταζής</td>\n",
       "      <td>Να θυμάσαι</td>\n",
       "    </tr>\n",
       "    <tr>\n",
       "      <th>135</th>\n",
       "      <td>Θόδωρος Δερβενιώτης</td>\n",
       "      <td>Κώστας Βίρβος</td>\n",
       "      <td>Σε πλήγωσε η ντόλτσε βίτα\\r\\nκι είναι το δάκρυ...</td>\n",
       "      <td>Στράτος Διονυσίου</td>\n",
       "      <td>Η νέα ντόλτσε βίτα</td>\n",
       "    </tr>\n",
       "    <tr>\n",
       "      <th>4079</th>\n",
       "      <td>Αμελοποίητα</td>\n",
       "      <td>Αχιλλέας Παράσχος</td>\n",
       "      <td>Ποῦ εἶσθε πατριαρχικοὶ καιροί, γαληνιαῖοι, \\r\\...</td>\n",
       "      <td>None</td>\n",
       "      <td>Εν περιπάτω 19</td>\n",
       "    </tr>\n",
       "    <tr>\n",
       "      <th>3895</th>\n",
       "      <td>Αμελοποίητα</td>\n",
       "      <td>Αχιλλέας Παράσχος</td>\n",
       "      <td>Θνητοὺς νὰ δῆτε τοὺς Θεοὺς στοὺς κάμπους τοῦ ἀ...</td>\n",
       "      <td>None</td>\n",
       "      <td>Εις τον Θεόν 25</td>\n",
       "    </tr>\n",
       "  </tbody>\n",
       "</table>\n",
       "</div>"
      ],
      "text/plain": [
       "                                  composers           lyricists  \\\n",
       "5037                            Αμελοποίητα   Χλόη Κουτσουμπέλη   \n",
       "2176                            Αμελοποίητα     Κώστας Βάρναλης   \n",
       "5603                            Αμελοποίητα    Γιάννης Τσίγκρας   \n",
       "5123                            Αμελοποίητα     Γεώργιος Σουρής   \n",
       "4053                            Αμελοποίητα   Αχιλλέας Παράσχος   \n",
       "5312                            Αμελοποίητα  Γιώργος Σαραντάρης   \n",
       "1867  Νεκτάριος Μπήτρος | Λευτέρης Πανταζής      Ηλίας Φιλίππου   \n",
       "135                     Θόδωρος Δερβενιώτης       Κώστας Βίρβος   \n",
       "4079                            Αμελοποίητα   Αχιλλέας Παράσχος   \n",
       "3895                            Αμελοποίητα   Αχιλλέας Παράσχος   \n",
       "\n",
       "                                                 lyrics            singers  \\\n",
       "5037  Κάθε ποίημα είναι ένας άντρας.\\r\\nΠλαγιάζεις μ...               None   \n",
       "2176  Απ’ το χωριό κατέβηκα\\r\\nμ’ όλη τη φαμελιά μου...               None   \n",
       "5603  Διάβαζα λυτά έγγραφα του Δήμου, γραμμένα στην ...               None   \n",
       "5123  Λοιπὸν στὴν Ἄρτα πόλεμος ἐκ τῶν λυσσωδεστέρων,...               None   \n",
       "4053  Ἄκοντες δύσμοιροι φονεῖς καὶ ἴσως πλήρεις τρόμ...               None   \n",
       "5312  Μια σιωπή βρεγμένη με λόγια\\r\\nΟι δυο μας εκεί...               None   \n",
       "1867  Να θυμάσαι τι σου λέω πάντα θα `μαι εδώ\\r\\nνα ...  Λευτέρης Πανταζής   \n",
       "135   Σε πλήγωσε η ντόλτσε βίτα\\r\\nκι είναι το δάκρυ...  Στράτος Διονυσίου   \n",
       "4079  Ποῦ εἶσθε πατριαρχικοὶ καιροί, γαληνιαῖοι, \\r\\...               None   \n",
       "3895  Θνητοὺς νὰ δῆτε τοὺς Θεοὺς στοὺς κάμπους τοῦ ἀ...               None   \n",
       "\n",
       "                                 title  \n",
       "5037     Η μυστική Ζωή των ποιημάτων Χ  \n",
       "2176                    Ο \"καλός\" Λαός  \n",
       "5603  Πώς γράφεται ένα ιστορικό βιβλίο  \n",
       "5123                           Θούριον  \n",
       "4053                    Εν περιπάτω 13  \n",
       "5312       Μια σιωπή βρεγμένη με λόγια  \n",
       "1867                        Να θυμάσαι  \n",
       "135                 Η νέα ντόλτσε βίτα  \n",
       "4079                    Εν περιπάτω 19  \n",
       "3895                   Εις τον Θεόν 25  "
      ]
     },
     "execution_count": 15,
     "metadata": {},
     "output_type": "execute_result"
    }
   ],
   "source": [
    "# Keep only the songs that are in the given List of Lyricists.\n",
    "df_top = df[df['lyricists'].isin(top_lyricists)].reset_index(drop=True)\n",
    "\n",
    "df_top.sample(10)"
   ]
  },
  {
   "cell_type": "markdown",
   "metadata": {},
   "source": [
    "### Extract - Transform data\n",
    "\n",
    "\n",
    "#### The concept is that given a song's lyrics we will try to infer the Lyricist that wrote it"
   ]
  },
  {
   "cell_type": "code",
   "execution_count": 16,
   "metadata": {},
   "outputs": [
    {
     "data": {
      "text/plain": [
       "0    Θά `μαι παρών όσο θα ζεις και θα υπάρχεις\\r\\nΜ...\n",
       "1    Το σπίτι αγάπη μύρισε\\r\\nΚι η καμαρούλα μας στ...\n",
       "2    Μη μου λες όπως χτες, \\r\\nοι νύχτες κρύβουν εν...\n",
       "3    Κακή ψυχή εγώ δεν έχω\\r\\nκαι όλα σου τα συγχωρ...\n",
       "4    Χτυπάτε τις καμπάνες, χτυπάτε τις καμπάνες, \\r...\n",
       "5    Το τελευταίο μας φιλί, το υστερνό μας χάδι, \\r...\n",
       "6    Σκοτεινιασμένε ουρανέ χαμήλωσε λιγάκι\\r\\nκαι π...\n",
       "7    Πες μου τι ζήλεψες απ’ την καρδιά μου\\r\\nκι απ...\n",
       "8    Έκλαψες πολλές φορές\\r\\nΜαρινέλλα μου για μένα...\n",
       "9    Χίλιοι γιατροί με κοίταξαν, αχ!\\r\\nσ’ Ανατολή ...\n",
       "Name: lyrics, dtype: object"
      ]
     },
     "execution_count": 16,
     "metadata": {},
     "output_type": "execute_result"
    }
   ],
   "source": [
    "# The raw input (lyrics)\n",
    "X = df_top['lyrics']\n",
    "\n",
    "X.head(10)"
   ]
  },
  {
   "cell_type": "code",
   "execution_count": 17,
   "metadata": {},
   "outputs": [
    {
     "data": {
      "text/plain": [
       "0        Πυθαγόρας\n",
       "1        Πυθαγόρας\n",
       "2    Πάνος Φαλάρας\n",
       "3    Κώστας Βίρβος\n",
       "4    Κώστας Βίρβος\n",
       "5    Κώστας Βίρβος\n",
       "6    Κώστας Βίρβος\n",
       "7    Κώστας Βίρβος\n",
       "8    Κώστας Βίρβος\n",
       "9    Κώστας Βίρβος\n",
       "Name: lyricists, dtype: object"
      ]
     },
     "execution_count": 17,
     "metadata": {},
     "output_type": "execute_result"
    }
   ],
   "source": [
    "# The raw output (lyricists)\n",
    "y = df_top['lyricists']\n",
    "\n",
    "y.head(10)"
   ]
  },
  {
   "cell_type": "markdown",
   "metadata": {
    "code_folding": []
   },
   "source": [
    "### Splitting Dataset Procedure\n",
    "\n",
    "---\n",
    "**NOTE:**\n",
    "\n",
    "Usually we split the data in **3 smaller datasets**\n",
    "* Training dataset\n",
    "* Validation dataset\n",
    "* Test dataset (unseen dataset)\n",
    "\n",
    "---\n",
    "\n"
   ]
  },
  {
   "cell_type": "code",
   "execution_count": 18,
   "metadata": {},
   "outputs": [],
   "source": [
    "from sklearn.preprocessing import OneHotEncoder\n",
    "\n",
    "# splitting in train-validation-test sets in a stratified manner.\n",
    "from sklearn.model_selection import train_test_split\n",
    "\n",
    "# you may also use\n",
    "# from sklearn.model_selection import StratifiedShuffleSplit"
   ]
  },
  {
   "cell_type": "markdown",
   "metadata": {},
   "source": [
    "More info on [stratified splitting](https://scikit-learn.org/stable/modules/generated/sklearn.model_selection.StratifiedShuffleSplit.html)"
   ]
  },
  {
   "cell_type": "markdown",
   "metadata": {},
   "source": [
    "At first, we will split the Original dataset into two parts:\n",
    "* Train-Validation dataset\n",
    "* Test dataset \n",
    "\n",
    "Secondly, we will split the Train-Validation dataset into another two parts:\n",
    "* Train dataset\n",
    "* Validation dataset"
   ]
  },
  {
   "cell_type": "code",
   "execution_count": 19,
   "metadata": {},
   "outputs": [],
   "source": [
    "X_train_val, X_test, y_train_val, y_test = train_test_split(X,\n",
    "                                                            y,\n",
    "                                                            test_size=0.15,\n",
    "                                                            random_state=42,\n",
    "                                                            stratify=y)"
   ]
  },
  {
   "cell_type": "code",
   "execution_count": 20,
   "metadata": {},
   "outputs": [
    {
     "data": {
      "text/plain": [
       "6049    Γιατὶ ἀλήθεια πάντα καθένας νὰ γυρεύῃ\\r\\nἐκεῖν...\n",
       "4485    Σκιά μου έχεις γίνει \\r\\nδεν ξέρω τι να κάνω,\\...\n",
       "2880    Σήμερα ας πούμε πως είμαι στη Νέα Ορλεάνη, δεν...\n",
       "536     Τα μάτια σου μ`αρέσουνε σαν είν`και δακρυσμένα...\n",
       "2719    «Είν’ όλα νέα σήμερον έτος δωρήματα ελπίδες κα...\n",
       "Name: lyrics, dtype: object"
      ]
     },
     "execution_count": 20,
     "metadata": {},
     "output_type": "execute_result"
    }
   ],
   "source": [
    "# check here the indexes. \n",
    "X_train_val.head()"
   ]
  },
  {
   "cell_type": "code",
   "execution_count": 21,
   "metadata": {},
   "outputs": [],
   "source": [
    "X_train, X_val, y_train, y_val = train_test_split(X_train_val,\n",
    "                                                  y_train_val,\n",
    "                                                  test_size=0.20, \n",
    "                                                  random_state=42,\n",
    "                                                  stratify=y_train_val)"
   ]
  },
  {
   "cell_type": "code",
   "execution_count": 22,
   "metadata": {},
   "outputs": [
    {
     "name": "stdout",
     "output_type": "stream",
     "text": [
      "X_train_val shape: (5270,)\n",
      "y_train_val shape: (5270,)\n",
      "\n",
      "X_train shape: (4216,)\n",
      "y_train shape: (4216,)\n",
      "\n",
      "X_val shape: (1054,)\n",
      "y_val shape: (1054,)\n",
      "\n",
      "X_test shape: (931,)\n",
      "y_test shape: (931,)\n"
     ]
    }
   ],
   "source": [
    "print(f'X_train_val shape: {X_train_val.shape}')\n",
    "print(f'y_train_val shape: {y_train_val.shape}')\n",
    "print()\n",
    "\n",
    "print(f'X_train shape: {X_train.shape}')\n",
    "print(f'y_train shape: {y_train.shape}')\n",
    "print()\n",
    "\n",
    "print(f'X_val shape: {X_val.shape}')\n",
    "print(f'y_val shape: {y_val.shape}')\n",
    "\n",
    "print()\n",
    "print(f'X_test shape: {X_test.shape}')\n",
    "print(f'y_test shape: {y_test.shape}')"
   ]
  },
  {
   "cell_type": "markdown",
   "metadata": {},
   "source": [
    "### Label Encoding "
   ]
  },
  {
   "cell_type": "code",
   "execution_count": 23,
   "metadata": {},
   "outputs": [],
   "source": [
    "# Encoding the labels using a One-Hot Encoder\n",
    "y_enc = OneHotEncoder(sparse=False)"
   ]
  },
  {
   "cell_type": "code",
   "execution_count": 24,
   "metadata": {},
   "outputs": [
    {
     "data": {
      "text/plain": [
       "OneHotEncoder(sparse=False)"
      ]
     },
     "execution_count": 24,
     "metadata": {},
     "output_type": "execute_result"
    }
   ],
   "source": [
    "y_enc"
   ]
  },
  {
   "cell_type": "markdown",
   "metadata": {},
   "source": [
    "Note: One hot encoding also explained [here](https://medium.com/hackernoon/what-is-one-hot-encoding-why-and-when-do-you-have-to-use-it-e3c6186d008f)"
   ]
  },
  {
   "cell_type": "code",
   "execution_count": 25,
   "metadata": {
    "scrolled": true
   },
   "outputs": [
    {
     "ename": "ValueError",
     "evalue": "Expected 2D array, got 1D array instead:\narray=['Ανδρέας Κάλβος' 'Γιώργος Σαραντάρης' 'Πάνος Φαλάρας' ... 'Παραδοσιακό'\n 'Παραδοσιακό' 'Ηλίας Φιλίππου'].\nReshape your data either using array.reshape(-1, 1) if your data has a single feature or array.reshape(1, -1) if it contains a single sample.",
     "output_type": "error",
     "traceback": [
      "\u001b[1;31m---------------------------------------------------------------------------\u001b[0m",
      "\u001b[1;31mValueError\u001b[0m                                Traceback (most recent call last)",
      "\u001b[1;32m<ipython-input-25-839279a45adb>\u001b[0m in \u001b[0;36m<module>\u001b[1;34m\u001b[0m\n\u001b[0;32m      6\u001b[0m \u001b[1;31m# or array.reshape(1, -1) if it contains a single sample.\u001b[0m\u001b[1;33m\u001b[0m\u001b[1;33m\u001b[0m\u001b[1;33m\u001b[0m\u001b[0m\n\u001b[0;32m      7\u001b[0m \u001b[1;33m\u001b[0m\u001b[0m\n\u001b[1;32m----> 8\u001b[1;33m \u001b[0my_enc\u001b[0m\u001b[1;33m.\u001b[0m\u001b[0mfit_transform\u001b[0m\u001b[1;33m(\u001b[0m\u001b[0my_train\u001b[0m\u001b[1;33m.\u001b[0m\u001b[0mvalues\u001b[0m\u001b[1;33m)\u001b[0m\u001b[1;33m\u001b[0m\u001b[1;33m\u001b[0m\u001b[0m\n\u001b[0m",
      "\u001b[1;32mc:\\users\\giorg\\.virtualenvs\\machinelearningcontentanalytics-p8ywvyxg\\lib\\site-packages\\sklearn\\preprocessing\\_encoders.py\u001b[0m in \u001b[0;36mfit_transform\u001b[1;34m(self, X, y)\u001b[0m\n\u001b[0;32m    441\u001b[0m         \"\"\"\n\u001b[0;32m    442\u001b[0m         \u001b[0mself\u001b[0m\u001b[1;33m.\u001b[0m\u001b[0m_validate_keywords\u001b[0m\u001b[1;33m(\u001b[0m\u001b[1;33m)\u001b[0m\u001b[1;33m\u001b[0m\u001b[1;33m\u001b[0m\u001b[0m\n\u001b[1;32m--> 443\u001b[1;33m         \u001b[1;32mreturn\u001b[0m \u001b[0msuper\u001b[0m\u001b[1;33m(\u001b[0m\u001b[1;33m)\u001b[0m\u001b[1;33m.\u001b[0m\u001b[0mfit_transform\u001b[0m\u001b[1;33m(\u001b[0m\u001b[0mX\u001b[0m\u001b[1;33m,\u001b[0m \u001b[0my\u001b[0m\u001b[1;33m)\u001b[0m\u001b[1;33m\u001b[0m\u001b[1;33m\u001b[0m\u001b[0m\n\u001b[0m\u001b[0;32m    444\u001b[0m \u001b[1;33m\u001b[0m\u001b[0m\n\u001b[0;32m    445\u001b[0m     \u001b[1;32mdef\u001b[0m \u001b[0mtransform\u001b[0m\u001b[1;33m(\u001b[0m\u001b[0mself\u001b[0m\u001b[1;33m,\u001b[0m \u001b[0mX\u001b[0m\u001b[1;33m)\u001b[0m\u001b[1;33m:\u001b[0m\u001b[1;33m\u001b[0m\u001b[1;33m\u001b[0m\u001b[0m\n",
      "\u001b[1;32mc:\\users\\giorg\\.virtualenvs\\machinelearningcontentanalytics-p8ywvyxg\\lib\\site-packages\\sklearn\\base.py\u001b[0m in \u001b[0;36mfit_transform\u001b[1;34m(self, X, y, **fit_params)\u001b[0m\n\u001b[0;32m    697\u001b[0m         \u001b[1;32mif\u001b[0m \u001b[0my\u001b[0m \u001b[1;32mis\u001b[0m \u001b[1;32mNone\u001b[0m\u001b[1;33m:\u001b[0m\u001b[1;33m\u001b[0m\u001b[1;33m\u001b[0m\u001b[0m\n\u001b[0;32m    698\u001b[0m             \u001b[1;31m# fit method of arity 1 (unsupervised transformation)\u001b[0m\u001b[1;33m\u001b[0m\u001b[1;33m\u001b[0m\u001b[1;33m\u001b[0m\u001b[0m\n\u001b[1;32m--> 699\u001b[1;33m             \u001b[1;32mreturn\u001b[0m \u001b[0mself\u001b[0m\u001b[1;33m.\u001b[0m\u001b[0mfit\u001b[0m\u001b[1;33m(\u001b[0m\u001b[0mX\u001b[0m\u001b[1;33m,\u001b[0m \u001b[1;33m**\u001b[0m\u001b[0mfit_params\u001b[0m\u001b[1;33m)\u001b[0m\u001b[1;33m.\u001b[0m\u001b[0mtransform\u001b[0m\u001b[1;33m(\u001b[0m\u001b[0mX\u001b[0m\u001b[1;33m)\u001b[0m\u001b[1;33m\u001b[0m\u001b[1;33m\u001b[0m\u001b[0m\n\u001b[0m\u001b[0;32m    700\u001b[0m         \u001b[1;32melse\u001b[0m\u001b[1;33m:\u001b[0m\u001b[1;33m\u001b[0m\u001b[1;33m\u001b[0m\u001b[0m\n\u001b[0;32m    701\u001b[0m             \u001b[1;31m# fit method of arity 2 (supervised transformation)\u001b[0m\u001b[1;33m\u001b[0m\u001b[1;33m\u001b[0m\u001b[1;33m\u001b[0m\u001b[0m\n",
      "\u001b[1;32mc:\\users\\giorg\\.virtualenvs\\machinelearningcontentanalytics-p8ywvyxg\\lib\\site-packages\\sklearn\\preprocessing\\_encoders.py\u001b[0m in \u001b[0;36mfit\u001b[1;34m(self, X, y)\u001b[0m\n\u001b[0;32m    416\u001b[0m         \u001b[0mself\u001b[0m\u001b[1;33m.\u001b[0m\u001b[0m_validate_keywords\u001b[0m\u001b[1;33m(\u001b[0m\u001b[1;33m)\u001b[0m\u001b[1;33m\u001b[0m\u001b[1;33m\u001b[0m\u001b[0m\n\u001b[0;32m    417\u001b[0m         self._fit(X, handle_unknown=self.handle_unknown,\n\u001b[1;32m--> 418\u001b[1;33m                   force_all_finite='allow-nan')\n\u001b[0m\u001b[0;32m    419\u001b[0m         \u001b[0mself\u001b[0m\u001b[1;33m.\u001b[0m\u001b[0mdrop_idx_\u001b[0m \u001b[1;33m=\u001b[0m \u001b[0mself\u001b[0m\u001b[1;33m.\u001b[0m\u001b[0m_compute_drop_idx\u001b[0m\u001b[1;33m(\u001b[0m\u001b[1;33m)\u001b[0m\u001b[1;33m\u001b[0m\u001b[1;33m\u001b[0m\u001b[0m\n\u001b[0;32m    420\u001b[0m         \u001b[1;32mreturn\u001b[0m \u001b[0mself\u001b[0m\u001b[1;33m\u001b[0m\u001b[1;33m\u001b[0m\u001b[0m\n",
      "\u001b[1;32mc:\\users\\giorg\\.virtualenvs\\machinelearningcontentanalytics-p8ywvyxg\\lib\\site-packages\\sklearn\\preprocessing\\_encoders.py\u001b[0m in \u001b[0;36m_fit\u001b[1;34m(self, X, handle_unknown, force_all_finite)\u001b[0m\n\u001b[0;32m     76\u001b[0m     \u001b[1;32mdef\u001b[0m \u001b[0m_fit\u001b[0m\u001b[1;33m(\u001b[0m\u001b[0mself\u001b[0m\u001b[1;33m,\u001b[0m \u001b[0mX\u001b[0m\u001b[1;33m,\u001b[0m \u001b[0mhandle_unknown\u001b[0m\u001b[1;33m=\u001b[0m\u001b[1;34m'error'\u001b[0m\u001b[1;33m,\u001b[0m \u001b[0mforce_all_finite\u001b[0m\u001b[1;33m=\u001b[0m\u001b[1;32mTrue\u001b[0m\u001b[1;33m)\u001b[0m\u001b[1;33m:\u001b[0m\u001b[1;33m\u001b[0m\u001b[1;33m\u001b[0m\u001b[0m\n\u001b[0;32m     77\u001b[0m         X_list, n_samples, n_features = self._check_X(\n\u001b[1;32m---> 78\u001b[1;33m             X, force_all_finite=force_all_finite)\n\u001b[0m\u001b[0;32m     79\u001b[0m \u001b[1;33m\u001b[0m\u001b[0m\n\u001b[0;32m     80\u001b[0m         \u001b[1;32mif\u001b[0m \u001b[0mself\u001b[0m\u001b[1;33m.\u001b[0m\u001b[0mcategories\u001b[0m \u001b[1;33m!=\u001b[0m \u001b[1;34m'auto'\u001b[0m\u001b[1;33m:\u001b[0m\u001b[1;33m\u001b[0m\u001b[1;33m\u001b[0m\u001b[0m\n",
      "\u001b[1;32mc:\\users\\giorg\\.virtualenvs\\machinelearningcontentanalytics-p8ywvyxg\\lib\\site-packages\\sklearn\\preprocessing\\_encoders.py\u001b[0m in \u001b[0;36m_check_X\u001b[1;34m(self, X, force_all_finite)\u001b[0m\n\u001b[0;32m     43\u001b[0m             \u001b[1;31m# if not a dataframe, do normal check_array validation\u001b[0m\u001b[1;33m\u001b[0m\u001b[1;33m\u001b[0m\u001b[1;33m\u001b[0m\u001b[0m\n\u001b[0;32m     44\u001b[0m             X_temp = check_array(X, dtype=None,\n\u001b[1;32m---> 45\u001b[1;33m                                  force_all_finite=force_all_finite)\n\u001b[0m\u001b[0;32m     46\u001b[0m             if (not hasattr(X, 'dtype')\n\u001b[0;32m     47\u001b[0m                     and np.issubdtype(X_temp.dtype, np.str_)):\n",
      "\u001b[1;32mc:\\users\\giorg\\.virtualenvs\\machinelearningcontentanalytics-p8ywvyxg\\lib\\site-packages\\sklearn\\utils\\validation.py\u001b[0m in \u001b[0;36minner_f\u001b[1;34m(*args, **kwargs)\u001b[0m\n\u001b[0;32m     61\u001b[0m             \u001b[0mextra_args\u001b[0m \u001b[1;33m=\u001b[0m \u001b[0mlen\u001b[0m\u001b[1;33m(\u001b[0m\u001b[0margs\u001b[0m\u001b[1;33m)\u001b[0m \u001b[1;33m-\u001b[0m \u001b[0mlen\u001b[0m\u001b[1;33m(\u001b[0m\u001b[0mall_args\u001b[0m\u001b[1;33m)\u001b[0m\u001b[1;33m\u001b[0m\u001b[1;33m\u001b[0m\u001b[0m\n\u001b[0;32m     62\u001b[0m             \u001b[1;32mif\u001b[0m \u001b[0mextra_args\u001b[0m \u001b[1;33m<=\u001b[0m \u001b[1;36m0\u001b[0m\u001b[1;33m:\u001b[0m\u001b[1;33m\u001b[0m\u001b[1;33m\u001b[0m\u001b[0m\n\u001b[1;32m---> 63\u001b[1;33m                 \u001b[1;32mreturn\u001b[0m \u001b[0mf\u001b[0m\u001b[1;33m(\u001b[0m\u001b[1;33m*\u001b[0m\u001b[0margs\u001b[0m\u001b[1;33m,\u001b[0m \u001b[1;33m**\u001b[0m\u001b[0mkwargs\u001b[0m\u001b[1;33m)\u001b[0m\u001b[1;33m\u001b[0m\u001b[1;33m\u001b[0m\u001b[0m\n\u001b[0m\u001b[0;32m     64\u001b[0m \u001b[1;33m\u001b[0m\u001b[0m\n\u001b[0;32m     65\u001b[0m             \u001b[1;31m# extra_args > 0\u001b[0m\u001b[1;33m\u001b[0m\u001b[1;33m\u001b[0m\u001b[1;33m\u001b[0m\u001b[0m\n",
      "\u001b[1;32mc:\\users\\giorg\\.virtualenvs\\machinelearningcontentanalytics-p8ywvyxg\\lib\\site-packages\\sklearn\\utils\\validation.py\u001b[0m in \u001b[0;36mcheck_array\u001b[1;34m(array, accept_sparse, accept_large_sparse, dtype, order, copy, force_all_finite, ensure_2d, allow_nd, ensure_min_samples, ensure_min_features, estimator)\u001b[0m\n\u001b[0;32m    639\u001b[0m                     \u001b[1;34m\"Reshape your data either using array.reshape(-1, 1) if \"\u001b[0m\u001b[1;33m\u001b[0m\u001b[1;33m\u001b[0m\u001b[0m\n\u001b[0;32m    640\u001b[0m                     \u001b[1;34m\"your data has a single feature or array.reshape(1, -1) \"\u001b[0m\u001b[1;33m\u001b[0m\u001b[1;33m\u001b[0m\u001b[0m\n\u001b[1;32m--> 641\u001b[1;33m                     \"if it contains a single sample.\".format(array))\n\u001b[0m\u001b[0;32m    642\u001b[0m \u001b[1;33m\u001b[0m\u001b[0m\n\u001b[0;32m    643\u001b[0m         \u001b[1;31m# make sure we actually converted to numeric:\u001b[0m\u001b[1;33m\u001b[0m\u001b[1;33m\u001b[0m\u001b[1;33m\u001b[0m\u001b[0m\n",
      "\u001b[1;31mValueError\u001b[0m: Expected 2D array, got 1D array instead:\narray=['Ανδρέας Κάλβος' 'Γιώργος Σαραντάρης' 'Πάνος Φαλάρας' ... 'Παραδοσιακό'\n 'Παραδοσιακό' 'Ηλίας Φιλίππου'].\nReshape your data either using array.reshape(-1, 1) if your data has a single feature or array.reshape(1, -1) if it contains a single sample."
     ]
    }
   ],
   "source": [
    "# the following fit_transform will cause a ValueError, because it takes as input\n",
    "# only one column\n",
    "\n",
    "# ValueError: Expected 2D array, got 1D array instead:\n",
    "# Reshape your data either using array.reshape(-1, 1) if your data has a single feature\n",
    "# or array.reshape(1, -1) if it contains a single sample.\n",
    "\n",
    "y_enc.fit_transform(y_train.values)"
   ]
  },
  {
   "cell_type": "code",
   "execution_count": 26,
   "metadata": {},
   "outputs": [
    {
     "data": {
      "text/plain": [
       "array([[1., 0., 0., ..., 0., 0., 0.],\n",
       "       [0., 0., 0., ..., 0., 0., 0.],\n",
       "       [0., 0., 0., ..., 0., 0., 0.],\n",
       "       ...,\n",
       "       [0., 0., 0., ..., 0., 0., 0.],\n",
       "       [0., 0., 0., ..., 0., 0., 0.],\n",
       "       [0., 0., 0., ..., 0., 0., 0.]])"
      ]
     },
     "execution_count": 26,
     "metadata": {},
     "output_type": "execute_result"
    }
   ],
   "source": [
    "# At first we run fit_transform on the Training data\n",
    "y_train_enc = y_enc.fit_transform(y_train.values.reshape(-1, 1))\n",
    "y_train_enc"
   ]
  },
  {
   "cell_type": "code",
   "execution_count": 27,
   "metadata": {},
   "outputs": [],
   "source": [
    "# Then we use the fitted One-hot-Encoder to transform the rest of the data\n",
    "y_val_enc = y_enc.transform(y_val.values.reshape(-1, 1))\n",
    "\n",
    "y_test_enc = y_enc.transform(y_test.values.reshape(-1, 1))"
   ]
  },
  {
   "cell_type": "code",
   "execution_count": 28,
   "metadata": {},
   "outputs": [
    {
     "name": "stdout",
     "output_type": "stream",
     "text": [
      "y_train shape: (4216, 20)\n",
      "y_val shape: (1054, 20)\n",
      "y_test shape: (931, 20)\n"
     ]
    }
   ],
   "source": [
    "print(f'y_train shape: {y_train_enc.shape}')\n",
    "print(f'y_val shape: {y_val_enc.shape}')\n",
    "print(f'y_test shape: {y_test_enc.shape}')"
   ]
  },
  {
   "cell_type": "code",
   "execution_count": 29,
   "metadata": {},
   "outputs": [
    {
     "data": {
      "text/plain": [
       "[array(['Ανδρέας Κάλβος', 'Αχιλλέας Παράσχος', 'Γεώργιος Σουρής',\n",
       "        'Γιάννης Τσίγκρας', 'Γιώργος Σαραντάρης', 'Ηλίας Φιλίππου',\n",
       "        'Θεόδωρος Γκλαβέρης', 'Ιωάννης Καρασούτσας',\n",
       "        'Κωνσταντίνος Καβάφης', 'Κώστας Βάρναλης', 'Κώστας Βίρβος',\n",
       "        'Μίλτος Σαχτούρης', 'Πάνος Φαλάρας', 'Παραδοσιακό', 'Πυθαγόρας',\n",
       "        'Τάκης Μουσαφίρης', 'Τάσος Λειβαδίτης', 'Τζούτζη Ματζουράνη',\n",
       "        'Τόλης Νικηφόρου', 'Χλόη Κουτσουμπέλη'], dtype=object)]"
      ]
     },
     "execution_count": 29,
     "metadata": {},
     "output_type": "execute_result"
    }
   ],
   "source": [
    "# The categories that we obtained by the Encoder\n",
    "y_enc.categories_"
   ]
  },
  {
   "cell_type": "code",
   "execution_count": 30,
   "metadata": {
    "scrolled": false
   },
   "outputs": [
    {
     "data": {
      "text/html": [
       "<div>\n",
       "<style scoped>\n",
       "    .dataframe tbody tr th:only-of-type {\n",
       "        vertical-align: middle;\n",
       "    }\n",
       "\n",
       "    .dataframe tbody tr th {\n",
       "        vertical-align: top;\n",
       "    }\n",
       "\n",
       "    .dataframe thead th {\n",
       "        text-align: right;\n",
       "    }\n",
       "</style>\n",
       "<table border=\"1\" class=\"dataframe\">\n",
       "  <thead>\n",
       "    <tr style=\"text-align: right;\">\n",
       "      <th></th>\n",
       "      <th>Ανδρέας Κάλβος</th>\n",
       "      <th>Αχιλλέας Παράσχος</th>\n",
       "      <th>Γεώργιος Σουρής</th>\n",
       "      <th>Γιάννης Τσίγκρας</th>\n",
       "      <th>Γιώργος Σαραντάρης</th>\n",
       "      <th>Ηλίας Φιλίππου</th>\n",
       "      <th>Θεόδωρος Γκλαβέρης</th>\n",
       "      <th>Ιωάννης Καρασούτσας</th>\n",
       "      <th>Κωνσταντίνος Καβάφης</th>\n",
       "      <th>Κώστας Βάρναλης</th>\n",
       "      <th>Κώστας Βίρβος</th>\n",
       "      <th>Μίλτος Σαχτούρης</th>\n",
       "      <th>Πάνος Φαλάρας</th>\n",
       "      <th>Παραδοσιακό</th>\n",
       "      <th>Πυθαγόρας</th>\n",
       "      <th>Τάκης Μουσαφίρης</th>\n",
       "      <th>Τάσος Λειβαδίτης</th>\n",
       "      <th>Τζούτζη Ματζουράνη</th>\n",
       "      <th>Τόλης Νικηφόρου</th>\n",
       "      <th>Χλόη Κουτσουμπέλη</th>\n",
       "    </tr>\n",
       "  </thead>\n",
       "  <tbody>\n",
       "    <tr>\n",
       "      <th>0</th>\n",
       "      <td>1.0</td>\n",
       "      <td>0.0</td>\n",
       "      <td>0.0</td>\n",
       "      <td>0.0</td>\n",
       "      <td>0.0</td>\n",
       "      <td>0.0</td>\n",
       "      <td>0.0</td>\n",
       "      <td>0.0</td>\n",
       "      <td>0.0</td>\n",
       "      <td>0.0</td>\n",
       "      <td>0.0</td>\n",
       "      <td>0.0</td>\n",
       "      <td>0.0</td>\n",
       "      <td>0.0</td>\n",
       "      <td>0.0</td>\n",
       "      <td>0.0</td>\n",
       "      <td>0.0</td>\n",
       "      <td>0.0</td>\n",
       "      <td>0.0</td>\n",
       "      <td>0.0</td>\n",
       "    </tr>\n",
       "    <tr>\n",
       "      <th>1</th>\n",
       "      <td>0.0</td>\n",
       "      <td>0.0</td>\n",
       "      <td>0.0</td>\n",
       "      <td>0.0</td>\n",
       "      <td>1.0</td>\n",
       "      <td>0.0</td>\n",
       "      <td>0.0</td>\n",
       "      <td>0.0</td>\n",
       "      <td>0.0</td>\n",
       "      <td>0.0</td>\n",
       "      <td>0.0</td>\n",
       "      <td>0.0</td>\n",
       "      <td>0.0</td>\n",
       "      <td>0.0</td>\n",
       "      <td>0.0</td>\n",
       "      <td>0.0</td>\n",
       "      <td>0.0</td>\n",
       "      <td>0.0</td>\n",
       "      <td>0.0</td>\n",
       "      <td>0.0</td>\n",
       "    </tr>\n",
       "    <tr>\n",
       "      <th>2</th>\n",
       "      <td>0.0</td>\n",
       "      <td>0.0</td>\n",
       "      <td>0.0</td>\n",
       "      <td>0.0</td>\n",
       "      <td>0.0</td>\n",
       "      <td>0.0</td>\n",
       "      <td>0.0</td>\n",
       "      <td>0.0</td>\n",
       "      <td>0.0</td>\n",
       "      <td>0.0</td>\n",
       "      <td>0.0</td>\n",
       "      <td>0.0</td>\n",
       "      <td>1.0</td>\n",
       "      <td>0.0</td>\n",
       "      <td>0.0</td>\n",
       "      <td>0.0</td>\n",
       "      <td>0.0</td>\n",
       "      <td>0.0</td>\n",
       "      <td>0.0</td>\n",
       "      <td>0.0</td>\n",
       "    </tr>\n",
       "    <tr>\n",
       "      <th>3</th>\n",
       "      <td>0.0</td>\n",
       "      <td>0.0</td>\n",
       "      <td>0.0</td>\n",
       "      <td>0.0</td>\n",
       "      <td>0.0</td>\n",
       "      <td>0.0</td>\n",
       "      <td>0.0</td>\n",
       "      <td>0.0</td>\n",
       "      <td>0.0</td>\n",
       "      <td>0.0</td>\n",
       "      <td>0.0</td>\n",
       "      <td>0.0</td>\n",
       "      <td>0.0</td>\n",
       "      <td>0.0</td>\n",
       "      <td>0.0</td>\n",
       "      <td>0.0</td>\n",
       "      <td>0.0</td>\n",
       "      <td>0.0</td>\n",
       "      <td>0.0</td>\n",
       "      <td>1.0</td>\n",
       "    </tr>\n",
       "    <tr>\n",
       "      <th>4</th>\n",
       "      <td>0.0</td>\n",
       "      <td>0.0</td>\n",
       "      <td>0.0</td>\n",
       "      <td>0.0</td>\n",
       "      <td>0.0</td>\n",
       "      <td>0.0</td>\n",
       "      <td>0.0</td>\n",
       "      <td>0.0</td>\n",
       "      <td>0.0</td>\n",
       "      <td>0.0</td>\n",
       "      <td>0.0</td>\n",
       "      <td>0.0</td>\n",
       "      <td>0.0</td>\n",
       "      <td>0.0</td>\n",
       "      <td>0.0</td>\n",
       "      <td>0.0</td>\n",
       "      <td>0.0</td>\n",
       "      <td>1.0</td>\n",
       "      <td>0.0</td>\n",
       "      <td>0.0</td>\n",
       "    </tr>\n",
       "    <tr>\n",
       "      <th>5</th>\n",
       "      <td>0.0</td>\n",
       "      <td>0.0</td>\n",
       "      <td>0.0</td>\n",
       "      <td>0.0</td>\n",
       "      <td>0.0</td>\n",
       "      <td>0.0</td>\n",
       "      <td>0.0</td>\n",
       "      <td>0.0</td>\n",
       "      <td>0.0</td>\n",
       "      <td>0.0</td>\n",
       "      <td>0.0</td>\n",
       "      <td>0.0</td>\n",
       "      <td>1.0</td>\n",
       "      <td>0.0</td>\n",
       "      <td>0.0</td>\n",
       "      <td>0.0</td>\n",
       "      <td>0.0</td>\n",
       "      <td>0.0</td>\n",
       "      <td>0.0</td>\n",
       "      <td>0.0</td>\n",
       "    </tr>\n",
       "    <tr>\n",
       "      <th>6</th>\n",
       "      <td>0.0</td>\n",
       "      <td>0.0</td>\n",
       "      <td>0.0</td>\n",
       "      <td>0.0</td>\n",
       "      <td>0.0</td>\n",
       "      <td>0.0</td>\n",
       "      <td>0.0</td>\n",
       "      <td>1.0</td>\n",
       "      <td>0.0</td>\n",
       "      <td>0.0</td>\n",
       "      <td>0.0</td>\n",
       "      <td>0.0</td>\n",
       "      <td>0.0</td>\n",
       "      <td>0.0</td>\n",
       "      <td>0.0</td>\n",
       "      <td>0.0</td>\n",
       "      <td>0.0</td>\n",
       "      <td>0.0</td>\n",
       "      <td>0.0</td>\n",
       "      <td>0.0</td>\n",
       "    </tr>\n",
       "    <tr>\n",
       "      <th>7</th>\n",
       "      <td>0.0</td>\n",
       "      <td>0.0</td>\n",
       "      <td>0.0</td>\n",
       "      <td>0.0</td>\n",
       "      <td>0.0</td>\n",
       "      <td>0.0</td>\n",
       "      <td>1.0</td>\n",
       "      <td>0.0</td>\n",
       "      <td>0.0</td>\n",
       "      <td>0.0</td>\n",
       "      <td>0.0</td>\n",
       "      <td>0.0</td>\n",
       "      <td>0.0</td>\n",
       "      <td>0.0</td>\n",
       "      <td>0.0</td>\n",
       "      <td>0.0</td>\n",
       "      <td>0.0</td>\n",
       "      <td>0.0</td>\n",
       "      <td>0.0</td>\n",
       "      <td>0.0</td>\n",
       "    </tr>\n",
       "    <tr>\n",
       "      <th>8</th>\n",
       "      <td>0.0</td>\n",
       "      <td>0.0</td>\n",
       "      <td>0.0</td>\n",
       "      <td>0.0</td>\n",
       "      <td>0.0</td>\n",
       "      <td>0.0</td>\n",
       "      <td>0.0</td>\n",
       "      <td>0.0</td>\n",
       "      <td>0.0</td>\n",
       "      <td>0.0</td>\n",
       "      <td>0.0</td>\n",
       "      <td>0.0</td>\n",
       "      <td>0.0</td>\n",
       "      <td>0.0</td>\n",
       "      <td>0.0</td>\n",
       "      <td>0.0</td>\n",
       "      <td>0.0</td>\n",
       "      <td>0.0</td>\n",
       "      <td>1.0</td>\n",
       "      <td>0.0</td>\n",
       "    </tr>\n",
       "    <tr>\n",
       "      <th>9</th>\n",
       "      <td>0.0</td>\n",
       "      <td>0.0</td>\n",
       "      <td>0.0</td>\n",
       "      <td>0.0</td>\n",
       "      <td>0.0</td>\n",
       "      <td>0.0</td>\n",
       "      <td>1.0</td>\n",
       "      <td>0.0</td>\n",
       "      <td>0.0</td>\n",
       "      <td>0.0</td>\n",
       "      <td>0.0</td>\n",
       "      <td>0.0</td>\n",
       "      <td>0.0</td>\n",
       "      <td>0.0</td>\n",
       "      <td>0.0</td>\n",
       "      <td>0.0</td>\n",
       "      <td>0.0</td>\n",
       "      <td>0.0</td>\n",
       "      <td>0.0</td>\n",
       "      <td>0.0</td>\n",
       "    </tr>\n",
       "  </tbody>\n",
       "</table>\n",
       "</div>"
      ],
      "text/plain": [
       "   Ανδρέας Κάλβος  Αχιλλέας Παράσχος  Γεώργιος Σουρής  Γιάννης Τσίγκρας  \\\n",
       "0             1.0                0.0              0.0               0.0   \n",
       "1             0.0                0.0              0.0               0.0   \n",
       "2             0.0                0.0              0.0               0.0   \n",
       "3             0.0                0.0              0.0               0.0   \n",
       "4             0.0                0.0              0.0               0.0   \n",
       "5             0.0                0.0              0.0               0.0   \n",
       "6             0.0                0.0              0.0               0.0   \n",
       "7             0.0                0.0              0.0               0.0   \n",
       "8             0.0                0.0              0.0               0.0   \n",
       "9             0.0                0.0              0.0               0.0   \n",
       "\n",
       "   Γιώργος Σαραντάρης  Ηλίας Φιλίππου  Θεόδωρος Γκλαβέρης  \\\n",
       "0                 0.0             0.0                 0.0   \n",
       "1                 1.0             0.0                 0.0   \n",
       "2                 0.0             0.0                 0.0   \n",
       "3                 0.0             0.0                 0.0   \n",
       "4                 0.0             0.0                 0.0   \n",
       "5                 0.0             0.0                 0.0   \n",
       "6                 0.0             0.0                 0.0   \n",
       "7                 0.0             0.0                 1.0   \n",
       "8                 0.0             0.0                 0.0   \n",
       "9                 0.0             0.0                 1.0   \n",
       "\n",
       "   Ιωάννης Καρασούτσας  Κωνσταντίνος Καβάφης  Κώστας Βάρναλης  Κώστας Βίρβος  \\\n",
       "0                  0.0                   0.0              0.0            0.0   \n",
       "1                  0.0                   0.0              0.0            0.0   \n",
       "2                  0.0                   0.0              0.0            0.0   \n",
       "3                  0.0                   0.0              0.0            0.0   \n",
       "4                  0.0                   0.0              0.0            0.0   \n",
       "5                  0.0                   0.0              0.0            0.0   \n",
       "6                  1.0                   0.0              0.0            0.0   \n",
       "7                  0.0                   0.0              0.0            0.0   \n",
       "8                  0.0                   0.0              0.0            0.0   \n",
       "9                  0.0                   0.0              0.0            0.0   \n",
       "\n",
       "   Μίλτος Σαχτούρης  Πάνος Φαλάρας  Παραδοσιακό  Πυθαγόρας  Τάκης Μουσαφίρης  \\\n",
       "0               0.0            0.0          0.0        0.0               0.0   \n",
       "1               0.0            0.0          0.0        0.0               0.0   \n",
       "2               0.0            1.0          0.0        0.0               0.0   \n",
       "3               0.0            0.0          0.0        0.0               0.0   \n",
       "4               0.0            0.0          0.0        0.0               0.0   \n",
       "5               0.0            1.0          0.0        0.0               0.0   \n",
       "6               0.0            0.0          0.0        0.0               0.0   \n",
       "7               0.0            0.0          0.0        0.0               0.0   \n",
       "8               0.0            0.0          0.0        0.0               0.0   \n",
       "9               0.0            0.0          0.0        0.0               0.0   \n",
       "\n",
       "   Τάσος Λειβαδίτης  Τζούτζη Ματζουράνη  Τόλης Νικηφόρου  Χλόη Κουτσουμπέλη  \n",
       "0               0.0                 0.0              0.0                0.0  \n",
       "1               0.0                 0.0              0.0                0.0  \n",
       "2               0.0                 0.0              0.0                0.0  \n",
       "3               0.0                 0.0              0.0                1.0  \n",
       "4               0.0                 1.0              0.0                0.0  \n",
       "5               0.0                 0.0              0.0                0.0  \n",
       "6               0.0                 0.0              0.0                0.0  \n",
       "7               0.0                 0.0              0.0                0.0  \n",
       "8               0.0                 0.0              1.0                0.0  \n",
       "9               0.0                 0.0              0.0                0.0  "
      ]
     },
     "execution_count": 30,
     "metadata": {},
     "output_type": "execute_result"
    }
   ],
   "source": [
    "# What the aforementioned code did:\n",
    "temp = pd.DataFrame(y_train_enc)\n",
    "temp.columns = list(y_enc.categories_[0])\n",
    "temp.head(10)"
   ]
  },
  {
   "cell_type": "code",
   "execution_count": 31,
   "metadata": {},
   "outputs": [],
   "source": [
    "def highlight_ones(s):\n",
    "    '''\n",
    "    highlight the number 1 in a Series yellow.\n",
    "    '''\n",
    "    is_max = s == 1\n",
    "    return ['background-color: yellow' if v else '' for v in is_max]"
   ]
  },
  {
   "cell_type": "code",
   "execution_count": 32,
   "metadata": {},
   "outputs": [
    {
     "data": {
      "text/html": [
       "<style  type=\"text/css\" >\n",
       "#T_464ac_row0_col0,#T_464ac_row1_col4,#T_464ac_row2_col12,#T_464ac_row3_col19,#T_464ac_row4_col17,#T_464ac_row5_col12,#T_464ac_row6_col7,#T_464ac_row7_col6,#T_464ac_row8_col18,#T_464ac_row9_col6{\n",
       "            background-color:  yellow;\n",
       "        }</style><table id=\"T_464ac_\" ><thead>    <tr>        <th class=\"blank level0\" ></th>        <th class=\"col_heading level0 col0\" >Ανδρέας Κάλβος</th>        <th class=\"col_heading level0 col1\" >Αχιλλέας Παράσχος</th>        <th class=\"col_heading level0 col2\" >Γεώργιος Σουρής</th>        <th class=\"col_heading level0 col3\" >Γιάννης Τσίγκρας</th>        <th class=\"col_heading level0 col4\" >Γιώργος Σαραντάρης</th>        <th class=\"col_heading level0 col5\" >Ηλίας Φιλίππου</th>        <th class=\"col_heading level0 col6\" >Θεόδωρος Γκλαβέρης</th>        <th class=\"col_heading level0 col7\" >Ιωάννης Καρασούτσας</th>        <th class=\"col_heading level0 col8\" >Κωνσταντίνος Καβάφης</th>        <th class=\"col_heading level0 col9\" >Κώστας Βάρναλης</th>        <th class=\"col_heading level0 col10\" >Κώστας Βίρβος</th>        <th class=\"col_heading level0 col11\" >Μίλτος Σαχτούρης</th>        <th class=\"col_heading level0 col12\" >Πάνος Φαλάρας</th>        <th class=\"col_heading level0 col13\" >Παραδοσιακό</th>        <th class=\"col_heading level0 col14\" >Πυθαγόρας</th>        <th class=\"col_heading level0 col15\" >Τάκης Μουσαφίρης</th>        <th class=\"col_heading level0 col16\" >Τάσος Λειβαδίτης</th>        <th class=\"col_heading level0 col17\" >Τζούτζη Ματζουράνη</th>        <th class=\"col_heading level0 col18\" >Τόλης Νικηφόρου</th>        <th class=\"col_heading level0 col19\" >Χλόη Κουτσουμπέλη</th>    </tr></thead><tbody>\n",
       "                <tr>\n",
       "                        <th id=\"T_464ac_level0_row0\" class=\"row_heading level0 row0\" >0</th>\n",
       "                        <td id=\"T_464ac_row0_col0\" class=\"data row0 col0\" >1.000000</td>\n",
       "                        <td id=\"T_464ac_row0_col1\" class=\"data row0 col1\" >0.000000</td>\n",
       "                        <td id=\"T_464ac_row0_col2\" class=\"data row0 col2\" >0.000000</td>\n",
       "                        <td id=\"T_464ac_row0_col3\" class=\"data row0 col3\" >0.000000</td>\n",
       "                        <td id=\"T_464ac_row0_col4\" class=\"data row0 col4\" >0.000000</td>\n",
       "                        <td id=\"T_464ac_row0_col5\" class=\"data row0 col5\" >0.000000</td>\n",
       "                        <td id=\"T_464ac_row0_col6\" class=\"data row0 col6\" >0.000000</td>\n",
       "                        <td id=\"T_464ac_row0_col7\" class=\"data row0 col7\" >0.000000</td>\n",
       "                        <td id=\"T_464ac_row0_col8\" class=\"data row0 col8\" >0.000000</td>\n",
       "                        <td id=\"T_464ac_row0_col9\" class=\"data row0 col9\" >0.000000</td>\n",
       "                        <td id=\"T_464ac_row0_col10\" class=\"data row0 col10\" >0.000000</td>\n",
       "                        <td id=\"T_464ac_row0_col11\" class=\"data row0 col11\" >0.000000</td>\n",
       "                        <td id=\"T_464ac_row0_col12\" class=\"data row0 col12\" >0.000000</td>\n",
       "                        <td id=\"T_464ac_row0_col13\" class=\"data row0 col13\" >0.000000</td>\n",
       "                        <td id=\"T_464ac_row0_col14\" class=\"data row0 col14\" >0.000000</td>\n",
       "                        <td id=\"T_464ac_row0_col15\" class=\"data row0 col15\" >0.000000</td>\n",
       "                        <td id=\"T_464ac_row0_col16\" class=\"data row0 col16\" >0.000000</td>\n",
       "                        <td id=\"T_464ac_row0_col17\" class=\"data row0 col17\" >0.000000</td>\n",
       "                        <td id=\"T_464ac_row0_col18\" class=\"data row0 col18\" >0.000000</td>\n",
       "                        <td id=\"T_464ac_row0_col19\" class=\"data row0 col19\" >0.000000</td>\n",
       "            </tr>\n",
       "            <tr>\n",
       "                        <th id=\"T_464ac_level0_row1\" class=\"row_heading level0 row1\" >1</th>\n",
       "                        <td id=\"T_464ac_row1_col0\" class=\"data row1 col0\" >0.000000</td>\n",
       "                        <td id=\"T_464ac_row1_col1\" class=\"data row1 col1\" >0.000000</td>\n",
       "                        <td id=\"T_464ac_row1_col2\" class=\"data row1 col2\" >0.000000</td>\n",
       "                        <td id=\"T_464ac_row1_col3\" class=\"data row1 col3\" >0.000000</td>\n",
       "                        <td id=\"T_464ac_row1_col4\" class=\"data row1 col4\" >1.000000</td>\n",
       "                        <td id=\"T_464ac_row1_col5\" class=\"data row1 col5\" >0.000000</td>\n",
       "                        <td id=\"T_464ac_row1_col6\" class=\"data row1 col6\" >0.000000</td>\n",
       "                        <td id=\"T_464ac_row1_col7\" class=\"data row1 col7\" >0.000000</td>\n",
       "                        <td id=\"T_464ac_row1_col8\" class=\"data row1 col8\" >0.000000</td>\n",
       "                        <td id=\"T_464ac_row1_col9\" class=\"data row1 col9\" >0.000000</td>\n",
       "                        <td id=\"T_464ac_row1_col10\" class=\"data row1 col10\" >0.000000</td>\n",
       "                        <td id=\"T_464ac_row1_col11\" class=\"data row1 col11\" >0.000000</td>\n",
       "                        <td id=\"T_464ac_row1_col12\" class=\"data row1 col12\" >0.000000</td>\n",
       "                        <td id=\"T_464ac_row1_col13\" class=\"data row1 col13\" >0.000000</td>\n",
       "                        <td id=\"T_464ac_row1_col14\" class=\"data row1 col14\" >0.000000</td>\n",
       "                        <td id=\"T_464ac_row1_col15\" class=\"data row1 col15\" >0.000000</td>\n",
       "                        <td id=\"T_464ac_row1_col16\" class=\"data row1 col16\" >0.000000</td>\n",
       "                        <td id=\"T_464ac_row1_col17\" class=\"data row1 col17\" >0.000000</td>\n",
       "                        <td id=\"T_464ac_row1_col18\" class=\"data row1 col18\" >0.000000</td>\n",
       "                        <td id=\"T_464ac_row1_col19\" class=\"data row1 col19\" >0.000000</td>\n",
       "            </tr>\n",
       "            <tr>\n",
       "                        <th id=\"T_464ac_level0_row2\" class=\"row_heading level0 row2\" >2</th>\n",
       "                        <td id=\"T_464ac_row2_col0\" class=\"data row2 col0\" >0.000000</td>\n",
       "                        <td id=\"T_464ac_row2_col1\" class=\"data row2 col1\" >0.000000</td>\n",
       "                        <td id=\"T_464ac_row2_col2\" class=\"data row2 col2\" >0.000000</td>\n",
       "                        <td id=\"T_464ac_row2_col3\" class=\"data row2 col3\" >0.000000</td>\n",
       "                        <td id=\"T_464ac_row2_col4\" class=\"data row2 col4\" >0.000000</td>\n",
       "                        <td id=\"T_464ac_row2_col5\" class=\"data row2 col5\" >0.000000</td>\n",
       "                        <td id=\"T_464ac_row2_col6\" class=\"data row2 col6\" >0.000000</td>\n",
       "                        <td id=\"T_464ac_row2_col7\" class=\"data row2 col7\" >0.000000</td>\n",
       "                        <td id=\"T_464ac_row2_col8\" class=\"data row2 col8\" >0.000000</td>\n",
       "                        <td id=\"T_464ac_row2_col9\" class=\"data row2 col9\" >0.000000</td>\n",
       "                        <td id=\"T_464ac_row2_col10\" class=\"data row2 col10\" >0.000000</td>\n",
       "                        <td id=\"T_464ac_row2_col11\" class=\"data row2 col11\" >0.000000</td>\n",
       "                        <td id=\"T_464ac_row2_col12\" class=\"data row2 col12\" >1.000000</td>\n",
       "                        <td id=\"T_464ac_row2_col13\" class=\"data row2 col13\" >0.000000</td>\n",
       "                        <td id=\"T_464ac_row2_col14\" class=\"data row2 col14\" >0.000000</td>\n",
       "                        <td id=\"T_464ac_row2_col15\" class=\"data row2 col15\" >0.000000</td>\n",
       "                        <td id=\"T_464ac_row2_col16\" class=\"data row2 col16\" >0.000000</td>\n",
       "                        <td id=\"T_464ac_row2_col17\" class=\"data row2 col17\" >0.000000</td>\n",
       "                        <td id=\"T_464ac_row2_col18\" class=\"data row2 col18\" >0.000000</td>\n",
       "                        <td id=\"T_464ac_row2_col19\" class=\"data row2 col19\" >0.000000</td>\n",
       "            </tr>\n",
       "            <tr>\n",
       "                        <th id=\"T_464ac_level0_row3\" class=\"row_heading level0 row3\" >3</th>\n",
       "                        <td id=\"T_464ac_row3_col0\" class=\"data row3 col0\" >0.000000</td>\n",
       "                        <td id=\"T_464ac_row3_col1\" class=\"data row3 col1\" >0.000000</td>\n",
       "                        <td id=\"T_464ac_row3_col2\" class=\"data row3 col2\" >0.000000</td>\n",
       "                        <td id=\"T_464ac_row3_col3\" class=\"data row3 col3\" >0.000000</td>\n",
       "                        <td id=\"T_464ac_row3_col4\" class=\"data row3 col4\" >0.000000</td>\n",
       "                        <td id=\"T_464ac_row3_col5\" class=\"data row3 col5\" >0.000000</td>\n",
       "                        <td id=\"T_464ac_row3_col6\" class=\"data row3 col6\" >0.000000</td>\n",
       "                        <td id=\"T_464ac_row3_col7\" class=\"data row3 col7\" >0.000000</td>\n",
       "                        <td id=\"T_464ac_row3_col8\" class=\"data row3 col8\" >0.000000</td>\n",
       "                        <td id=\"T_464ac_row3_col9\" class=\"data row3 col9\" >0.000000</td>\n",
       "                        <td id=\"T_464ac_row3_col10\" class=\"data row3 col10\" >0.000000</td>\n",
       "                        <td id=\"T_464ac_row3_col11\" class=\"data row3 col11\" >0.000000</td>\n",
       "                        <td id=\"T_464ac_row3_col12\" class=\"data row3 col12\" >0.000000</td>\n",
       "                        <td id=\"T_464ac_row3_col13\" class=\"data row3 col13\" >0.000000</td>\n",
       "                        <td id=\"T_464ac_row3_col14\" class=\"data row3 col14\" >0.000000</td>\n",
       "                        <td id=\"T_464ac_row3_col15\" class=\"data row3 col15\" >0.000000</td>\n",
       "                        <td id=\"T_464ac_row3_col16\" class=\"data row3 col16\" >0.000000</td>\n",
       "                        <td id=\"T_464ac_row3_col17\" class=\"data row3 col17\" >0.000000</td>\n",
       "                        <td id=\"T_464ac_row3_col18\" class=\"data row3 col18\" >0.000000</td>\n",
       "                        <td id=\"T_464ac_row3_col19\" class=\"data row3 col19\" >1.000000</td>\n",
       "            </tr>\n",
       "            <tr>\n",
       "                        <th id=\"T_464ac_level0_row4\" class=\"row_heading level0 row4\" >4</th>\n",
       "                        <td id=\"T_464ac_row4_col0\" class=\"data row4 col0\" >0.000000</td>\n",
       "                        <td id=\"T_464ac_row4_col1\" class=\"data row4 col1\" >0.000000</td>\n",
       "                        <td id=\"T_464ac_row4_col2\" class=\"data row4 col2\" >0.000000</td>\n",
       "                        <td id=\"T_464ac_row4_col3\" class=\"data row4 col3\" >0.000000</td>\n",
       "                        <td id=\"T_464ac_row4_col4\" class=\"data row4 col4\" >0.000000</td>\n",
       "                        <td id=\"T_464ac_row4_col5\" class=\"data row4 col5\" >0.000000</td>\n",
       "                        <td id=\"T_464ac_row4_col6\" class=\"data row4 col6\" >0.000000</td>\n",
       "                        <td id=\"T_464ac_row4_col7\" class=\"data row4 col7\" >0.000000</td>\n",
       "                        <td id=\"T_464ac_row4_col8\" class=\"data row4 col8\" >0.000000</td>\n",
       "                        <td id=\"T_464ac_row4_col9\" class=\"data row4 col9\" >0.000000</td>\n",
       "                        <td id=\"T_464ac_row4_col10\" class=\"data row4 col10\" >0.000000</td>\n",
       "                        <td id=\"T_464ac_row4_col11\" class=\"data row4 col11\" >0.000000</td>\n",
       "                        <td id=\"T_464ac_row4_col12\" class=\"data row4 col12\" >0.000000</td>\n",
       "                        <td id=\"T_464ac_row4_col13\" class=\"data row4 col13\" >0.000000</td>\n",
       "                        <td id=\"T_464ac_row4_col14\" class=\"data row4 col14\" >0.000000</td>\n",
       "                        <td id=\"T_464ac_row4_col15\" class=\"data row4 col15\" >0.000000</td>\n",
       "                        <td id=\"T_464ac_row4_col16\" class=\"data row4 col16\" >0.000000</td>\n",
       "                        <td id=\"T_464ac_row4_col17\" class=\"data row4 col17\" >1.000000</td>\n",
       "                        <td id=\"T_464ac_row4_col18\" class=\"data row4 col18\" >0.000000</td>\n",
       "                        <td id=\"T_464ac_row4_col19\" class=\"data row4 col19\" >0.000000</td>\n",
       "            </tr>\n",
       "            <tr>\n",
       "                        <th id=\"T_464ac_level0_row5\" class=\"row_heading level0 row5\" >5</th>\n",
       "                        <td id=\"T_464ac_row5_col0\" class=\"data row5 col0\" >0.000000</td>\n",
       "                        <td id=\"T_464ac_row5_col1\" class=\"data row5 col1\" >0.000000</td>\n",
       "                        <td id=\"T_464ac_row5_col2\" class=\"data row5 col2\" >0.000000</td>\n",
       "                        <td id=\"T_464ac_row5_col3\" class=\"data row5 col3\" >0.000000</td>\n",
       "                        <td id=\"T_464ac_row5_col4\" class=\"data row5 col4\" >0.000000</td>\n",
       "                        <td id=\"T_464ac_row5_col5\" class=\"data row5 col5\" >0.000000</td>\n",
       "                        <td id=\"T_464ac_row5_col6\" class=\"data row5 col6\" >0.000000</td>\n",
       "                        <td id=\"T_464ac_row5_col7\" class=\"data row5 col7\" >0.000000</td>\n",
       "                        <td id=\"T_464ac_row5_col8\" class=\"data row5 col8\" >0.000000</td>\n",
       "                        <td id=\"T_464ac_row5_col9\" class=\"data row5 col9\" >0.000000</td>\n",
       "                        <td id=\"T_464ac_row5_col10\" class=\"data row5 col10\" >0.000000</td>\n",
       "                        <td id=\"T_464ac_row5_col11\" class=\"data row5 col11\" >0.000000</td>\n",
       "                        <td id=\"T_464ac_row5_col12\" class=\"data row5 col12\" >1.000000</td>\n",
       "                        <td id=\"T_464ac_row5_col13\" class=\"data row5 col13\" >0.000000</td>\n",
       "                        <td id=\"T_464ac_row5_col14\" class=\"data row5 col14\" >0.000000</td>\n",
       "                        <td id=\"T_464ac_row5_col15\" class=\"data row5 col15\" >0.000000</td>\n",
       "                        <td id=\"T_464ac_row5_col16\" class=\"data row5 col16\" >0.000000</td>\n",
       "                        <td id=\"T_464ac_row5_col17\" class=\"data row5 col17\" >0.000000</td>\n",
       "                        <td id=\"T_464ac_row5_col18\" class=\"data row5 col18\" >0.000000</td>\n",
       "                        <td id=\"T_464ac_row5_col19\" class=\"data row5 col19\" >0.000000</td>\n",
       "            </tr>\n",
       "            <tr>\n",
       "                        <th id=\"T_464ac_level0_row6\" class=\"row_heading level0 row6\" >6</th>\n",
       "                        <td id=\"T_464ac_row6_col0\" class=\"data row6 col0\" >0.000000</td>\n",
       "                        <td id=\"T_464ac_row6_col1\" class=\"data row6 col1\" >0.000000</td>\n",
       "                        <td id=\"T_464ac_row6_col2\" class=\"data row6 col2\" >0.000000</td>\n",
       "                        <td id=\"T_464ac_row6_col3\" class=\"data row6 col3\" >0.000000</td>\n",
       "                        <td id=\"T_464ac_row6_col4\" class=\"data row6 col4\" >0.000000</td>\n",
       "                        <td id=\"T_464ac_row6_col5\" class=\"data row6 col5\" >0.000000</td>\n",
       "                        <td id=\"T_464ac_row6_col6\" class=\"data row6 col6\" >0.000000</td>\n",
       "                        <td id=\"T_464ac_row6_col7\" class=\"data row6 col7\" >1.000000</td>\n",
       "                        <td id=\"T_464ac_row6_col8\" class=\"data row6 col8\" >0.000000</td>\n",
       "                        <td id=\"T_464ac_row6_col9\" class=\"data row6 col9\" >0.000000</td>\n",
       "                        <td id=\"T_464ac_row6_col10\" class=\"data row6 col10\" >0.000000</td>\n",
       "                        <td id=\"T_464ac_row6_col11\" class=\"data row6 col11\" >0.000000</td>\n",
       "                        <td id=\"T_464ac_row6_col12\" class=\"data row6 col12\" >0.000000</td>\n",
       "                        <td id=\"T_464ac_row6_col13\" class=\"data row6 col13\" >0.000000</td>\n",
       "                        <td id=\"T_464ac_row6_col14\" class=\"data row6 col14\" >0.000000</td>\n",
       "                        <td id=\"T_464ac_row6_col15\" class=\"data row6 col15\" >0.000000</td>\n",
       "                        <td id=\"T_464ac_row6_col16\" class=\"data row6 col16\" >0.000000</td>\n",
       "                        <td id=\"T_464ac_row6_col17\" class=\"data row6 col17\" >0.000000</td>\n",
       "                        <td id=\"T_464ac_row6_col18\" class=\"data row6 col18\" >0.000000</td>\n",
       "                        <td id=\"T_464ac_row6_col19\" class=\"data row6 col19\" >0.000000</td>\n",
       "            </tr>\n",
       "            <tr>\n",
       "                        <th id=\"T_464ac_level0_row7\" class=\"row_heading level0 row7\" >7</th>\n",
       "                        <td id=\"T_464ac_row7_col0\" class=\"data row7 col0\" >0.000000</td>\n",
       "                        <td id=\"T_464ac_row7_col1\" class=\"data row7 col1\" >0.000000</td>\n",
       "                        <td id=\"T_464ac_row7_col2\" class=\"data row7 col2\" >0.000000</td>\n",
       "                        <td id=\"T_464ac_row7_col3\" class=\"data row7 col3\" >0.000000</td>\n",
       "                        <td id=\"T_464ac_row7_col4\" class=\"data row7 col4\" >0.000000</td>\n",
       "                        <td id=\"T_464ac_row7_col5\" class=\"data row7 col5\" >0.000000</td>\n",
       "                        <td id=\"T_464ac_row7_col6\" class=\"data row7 col6\" >1.000000</td>\n",
       "                        <td id=\"T_464ac_row7_col7\" class=\"data row7 col7\" >0.000000</td>\n",
       "                        <td id=\"T_464ac_row7_col8\" class=\"data row7 col8\" >0.000000</td>\n",
       "                        <td id=\"T_464ac_row7_col9\" class=\"data row7 col9\" >0.000000</td>\n",
       "                        <td id=\"T_464ac_row7_col10\" class=\"data row7 col10\" >0.000000</td>\n",
       "                        <td id=\"T_464ac_row7_col11\" class=\"data row7 col11\" >0.000000</td>\n",
       "                        <td id=\"T_464ac_row7_col12\" class=\"data row7 col12\" >0.000000</td>\n",
       "                        <td id=\"T_464ac_row7_col13\" class=\"data row7 col13\" >0.000000</td>\n",
       "                        <td id=\"T_464ac_row7_col14\" class=\"data row7 col14\" >0.000000</td>\n",
       "                        <td id=\"T_464ac_row7_col15\" class=\"data row7 col15\" >0.000000</td>\n",
       "                        <td id=\"T_464ac_row7_col16\" class=\"data row7 col16\" >0.000000</td>\n",
       "                        <td id=\"T_464ac_row7_col17\" class=\"data row7 col17\" >0.000000</td>\n",
       "                        <td id=\"T_464ac_row7_col18\" class=\"data row7 col18\" >0.000000</td>\n",
       "                        <td id=\"T_464ac_row7_col19\" class=\"data row7 col19\" >0.000000</td>\n",
       "            </tr>\n",
       "            <tr>\n",
       "                        <th id=\"T_464ac_level0_row8\" class=\"row_heading level0 row8\" >8</th>\n",
       "                        <td id=\"T_464ac_row8_col0\" class=\"data row8 col0\" >0.000000</td>\n",
       "                        <td id=\"T_464ac_row8_col1\" class=\"data row8 col1\" >0.000000</td>\n",
       "                        <td id=\"T_464ac_row8_col2\" class=\"data row8 col2\" >0.000000</td>\n",
       "                        <td id=\"T_464ac_row8_col3\" class=\"data row8 col3\" >0.000000</td>\n",
       "                        <td id=\"T_464ac_row8_col4\" class=\"data row8 col4\" >0.000000</td>\n",
       "                        <td id=\"T_464ac_row8_col5\" class=\"data row8 col5\" >0.000000</td>\n",
       "                        <td id=\"T_464ac_row8_col6\" class=\"data row8 col6\" >0.000000</td>\n",
       "                        <td id=\"T_464ac_row8_col7\" class=\"data row8 col7\" >0.000000</td>\n",
       "                        <td id=\"T_464ac_row8_col8\" class=\"data row8 col8\" >0.000000</td>\n",
       "                        <td id=\"T_464ac_row8_col9\" class=\"data row8 col9\" >0.000000</td>\n",
       "                        <td id=\"T_464ac_row8_col10\" class=\"data row8 col10\" >0.000000</td>\n",
       "                        <td id=\"T_464ac_row8_col11\" class=\"data row8 col11\" >0.000000</td>\n",
       "                        <td id=\"T_464ac_row8_col12\" class=\"data row8 col12\" >0.000000</td>\n",
       "                        <td id=\"T_464ac_row8_col13\" class=\"data row8 col13\" >0.000000</td>\n",
       "                        <td id=\"T_464ac_row8_col14\" class=\"data row8 col14\" >0.000000</td>\n",
       "                        <td id=\"T_464ac_row8_col15\" class=\"data row8 col15\" >0.000000</td>\n",
       "                        <td id=\"T_464ac_row8_col16\" class=\"data row8 col16\" >0.000000</td>\n",
       "                        <td id=\"T_464ac_row8_col17\" class=\"data row8 col17\" >0.000000</td>\n",
       "                        <td id=\"T_464ac_row8_col18\" class=\"data row8 col18\" >1.000000</td>\n",
       "                        <td id=\"T_464ac_row8_col19\" class=\"data row8 col19\" >0.000000</td>\n",
       "            </tr>\n",
       "            <tr>\n",
       "                        <th id=\"T_464ac_level0_row9\" class=\"row_heading level0 row9\" >9</th>\n",
       "                        <td id=\"T_464ac_row9_col0\" class=\"data row9 col0\" >0.000000</td>\n",
       "                        <td id=\"T_464ac_row9_col1\" class=\"data row9 col1\" >0.000000</td>\n",
       "                        <td id=\"T_464ac_row9_col2\" class=\"data row9 col2\" >0.000000</td>\n",
       "                        <td id=\"T_464ac_row9_col3\" class=\"data row9 col3\" >0.000000</td>\n",
       "                        <td id=\"T_464ac_row9_col4\" class=\"data row9 col4\" >0.000000</td>\n",
       "                        <td id=\"T_464ac_row9_col5\" class=\"data row9 col5\" >0.000000</td>\n",
       "                        <td id=\"T_464ac_row9_col6\" class=\"data row9 col6\" >1.000000</td>\n",
       "                        <td id=\"T_464ac_row9_col7\" class=\"data row9 col7\" >0.000000</td>\n",
       "                        <td id=\"T_464ac_row9_col8\" class=\"data row9 col8\" >0.000000</td>\n",
       "                        <td id=\"T_464ac_row9_col9\" class=\"data row9 col9\" >0.000000</td>\n",
       "                        <td id=\"T_464ac_row9_col10\" class=\"data row9 col10\" >0.000000</td>\n",
       "                        <td id=\"T_464ac_row9_col11\" class=\"data row9 col11\" >0.000000</td>\n",
       "                        <td id=\"T_464ac_row9_col12\" class=\"data row9 col12\" >0.000000</td>\n",
       "                        <td id=\"T_464ac_row9_col13\" class=\"data row9 col13\" >0.000000</td>\n",
       "                        <td id=\"T_464ac_row9_col14\" class=\"data row9 col14\" >0.000000</td>\n",
       "                        <td id=\"T_464ac_row9_col15\" class=\"data row9 col15\" >0.000000</td>\n",
       "                        <td id=\"T_464ac_row9_col16\" class=\"data row9 col16\" >0.000000</td>\n",
       "                        <td id=\"T_464ac_row9_col17\" class=\"data row9 col17\" >0.000000</td>\n",
       "                        <td id=\"T_464ac_row9_col18\" class=\"data row9 col18\" >0.000000</td>\n",
       "                        <td id=\"T_464ac_row9_col19\" class=\"data row9 col19\" >0.000000</td>\n",
       "            </tr>\n",
       "    </tbody></table>"
      ],
      "text/plain": [
       "<pandas.io.formats.style.Styler at 0x1bae75ae288>"
      ]
     },
     "execution_count": 32,
     "metadata": {},
     "output_type": "execute_result"
    }
   ],
   "source": [
    "temp.head(10).style.apply(highlight_ones)"
   ]
  },
  {
   "cell_type": "code",
   "execution_count": 33,
   "metadata": {},
   "outputs": [
    {
     "data": {
      "text/plain": [
       "Ανδρέας Κάλβος          298.0\n",
       "Αχιλλέας Παράσχος       184.0\n",
       "Γεώργιος Σουρής         149.0\n",
       "Γιάννης Τσίγκρας        226.0\n",
       "Γιώργος Σαραντάρης      206.0\n",
       "Ηλίας Φιλίππου          270.0\n",
       "Θεόδωρος Γκλαβέρης      201.0\n",
       "Ιωάννης Καρασούτσας     151.0\n",
       "Κωνσταντίνος Καβάφης    170.0\n",
       "Κώστας Βάρναλης         161.0\n",
       "dtype: float64"
      ]
     },
     "execution_count": 33,
     "metadata": {},
     "output_type": "execute_result"
    }
   ],
   "source": [
    "temp.sum(axis=0).head(10)"
   ]
  },
  {
   "cell_type": "code",
   "execution_count": 34,
   "metadata": {
    "scrolled": false
   },
   "outputs": [
    {
     "data": {
      "text/plain": [
       "2819    1.0\n",
       "3499    1.0\n",
       "1722    1.0\n",
       "734     1.0\n",
       "1840    1.0\n",
       "2335    1.0\n",
       "2615    1.0\n",
       "1181    1.0\n",
       "3367    1.0\n",
       "622     1.0\n",
       "dtype: float64"
      ]
     },
     "execution_count": 34,
     "metadata": {},
     "output_type": "execute_result"
    }
   ],
   "source": [
    "temp.sum(axis=1).sample(10)"
   ]
  },
  {
   "cell_type": "code",
   "execution_count": 35,
   "metadata": {},
   "outputs": [],
   "source": [
    "# deleting the variable (just for demonstration purposes)\n",
    "del temp"
   ]
  },
  {
   "cell_type": "markdown",
   "metadata": {},
   "source": [
    "## Handling Text\n",
    "\n",
    "### Bag of Words Approach (BoW)\n",
    "\n",
    "More info [here](https://en.wikipedia.org/wiki/Bag-of-words_model)"
   ]
  },
  {
   "cell_type": "code",
   "execution_count": 36,
   "metadata": {},
   "outputs": [],
   "source": [
    "from sklearn.feature_extraction.text import CountVectorizer, TfidfVectorizer"
   ]
  },
  {
   "cell_type": "code",
   "execution_count": 37,
   "metadata": {},
   "outputs": [
    {
     "data": {
      "text/plain": [
       "['This is a sentence this',\n",
       " 'This is a larger sentence',\n",
       " 'Another sentence with words']"
      ]
     },
     "execution_count": 37,
     "metadata": {},
     "output_type": "execute_result"
    }
   ],
   "source": [
    "### Bag of Words (BoW) Approach\n",
    "\n",
    "sample_sentences = [\n",
    "    'This is a sentence this',\n",
    "    'This is a larger sentence',\n",
    "    'Another sentence with words'\n",
    "]\n",
    "sample_sentences"
   ]
  },
  {
   "cell_type": "code",
   "execution_count": 38,
   "metadata": {},
   "outputs": [
    {
     "data": {
      "text/plain": [
       "CountVectorizer()"
      ]
     },
     "execution_count": 38,
     "metadata": {},
     "output_type": "execute_result"
    }
   ],
   "source": [
    "sample_vect = CountVectorizer()\n",
    "\n",
    "sample_vect.fit(sample_sentences)"
   ]
  },
  {
   "cell_type": "code",
   "execution_count": 39,
   "metadata": {},
   "outputs": [
    {
     "data": {
      "text/plain": [
       "<3x7 sparse matrix of type '<class 'numpy.int64'>'\n",
       "\twith 11 stored elements in Compressed Sparse Row format>"
      ]
     },
     "execution_count": 39,
     "metadata": {},
     "output_type": "execute_result"
    }
   ],
   "source": [
    "sample_sents_bow = sample_vect.transform(sample_sentences)\n",
    "# creates a sparse matrix\n",
    "sample_sents_bow"
   ]
  },
  {
   "cell_type": "code",
   "execution_count": 40,
   "metadata": {},
   "outputs": [
    {
     "data": {
      "text/plain": [
       "array([[0, 1, 0, 1, 2, 0, 0],\n",
       "       [0, 1, 1, 1, 1, 0, 0],\n",
       "       [1, 0, 0, 1, 0, 1, 1]], dtype=int64)"
      ]
     },
     "execution_count": 40,
     "metadata": {},
     "output_type": "execute_result"
    }
   ],
   "source": [
    "sample_sents_bow.toarray()"
   ]
  },
  {
   "cell_type": "code",
   "execution_count": 41,
   "metadata": {},
   "outputs": [
    {
     "data": {
      "text/plain": [
       "{'this': 4,\n",
       " 'is': 1,\n",
       " 'sentence': 3,\n",
       " 'larger': 2,\n",
       " 'another': 0,\n",
       " 'with': 5,\n",
       " 'words': 6}"
      ]
     },
     "execution_count": 41,
     "metadata": {},
     "output_type": "execute_result"
    }
   ],
   "source": [
    "sample_vect.vocabulary_"
   ]
  },
  {
   "cell_type": "markdown",
   "metadata": {},
   "source": [
    "#### Converting the sparse matrix into dense and visualize the BoW approach"
   ]
  },
  {
   "cell_type": "code",
   "execution_count": 42,
   "metadata": {},
   "outputs": [
    {
     "data": {
      "text/html": [
       "<style  type=\"text/css\" >\n",
       "#T_2f742_row0_col1,#T_2f742_row0_col3,#T_2f742_row1_col1,#T_2f742_row1_col2,#T_2f742_row1_col3,#T_2f742_row1_col4,#T_2f742_row2_col0,#T_2f742_row2_col3,#T_2f742_row2_col5,#T_2f742_row2_col6{\n",
       "            background-color:  yellow;\n",
       "        }</style><table id=\"T_2f742_\" ><thead>    <tr>        <th class=\"blank level0\" ></th>        <th class=\"col_heading level0 col0\" >another</th>        <th class=\"col_heading level0 col1\" >is</th>        <th class=\"col_heading level0 col2\" >larger</th>        <th class=\"col_heading level0 col3\" >sentence</th>        <th class=\"col_heading level0 col4\" >this</th>        <th class=\"col_heading level0 col5\" >with</th>        <th class=\"col_heading level0 col6\" >words</th>        <th class=\"col_heading level0 col7\" >Original Sentence</th>    </tr></thead><tbody>\n",
       "                <tr>\n",
       "                        <th id=\"T_2f742_level0_row0\" class=\"row_heading level0 row0\" >0</th>\n",
       "                        <td id=\"T_2f742_row0_col0\" class=\"data row0 col0\" >0</td>\n",
       "                        <td id=\"T_2f742_row0_col1\" class=\"data row0 col1\" >1</td>\n",
       "                        <td id=\"T_2f742_row0_col2\" class=\"data row0 col2\" >0</td>\n",
       "                        <td id=\"T_2f742_row0_col3\" class=\"data row0 col3\" >1</td>\n",
       "                        <td id=\"T_2f742_row0_col4\" class=\"data row0 col4\" >2</td>\n",
       "                        <td id=\"T_2f742_row0_col5\" class=\"data row0 col5\" >0</td>\n",
       "                        <td id=\"T_2f742_row0_col6\" class=\"data row0 col6\" >0</td>\n",
       "                        <td id=\"T_2f742_row0_col7\" class=\"data row0 col7\" >This is a sentence this</td>\n",
       "            </tr>\n",
       "            <tr>\n",
       "                        <th id=\"T_2f742_level0_row1\" class=\"row_heading level0 row1\" >1</th>\n",
       "                        <td id=\"T_2f742_row1_col0\" class=\"data row1 col0\" >0</td>\n",
       "                        <td id=\"T_2f742_row1_col1\" class=\"data row1 col1\" >1</td>\n",
       "                        <td id=\"T_2f742_row1_col2\" class=\"data row1 col2\" >1</td>\n",
       "                        <td id=\"T_2f742_row1_col3\" class=\"data row1 col3\" >1</td>\n",
       "                        <td id=\"T_2f742_row1_col4\" class=\"data row1 col4\" >1</td>\n",
       "                        <td id=\"T_2f742_row1_col5\" class=\"data row1 col5\" >0</td>\n",
       "                        <td id=\"T_2f742_row1_col6\" class=\"data row1 col6\" >0</td>\n",
       "                        <td id=\"T_2f742_row1_col7\" class=\"data row1 col7\" >This is a larger sentence</td>\n",
       "            </tr>\n",
       "            <tr>\n",
       "                        <th id=\"T_2f742_level0_row2\" class=\"row_heading level0 row2\" >2</th>\n",
       "                        <td id=\"T_2f742_row2_col0\" class=\"data row2 col0\" >1</td>\n",
       "                        <td id=\"T_2f742_row2_col1\" class=\"data row2 col1\" >0</td>\n",
       "                        <td id=\"T_2f742_row2_col2\" class=\"data row2 col2\" >0</td>\n",
       "                        <td id=\"T_2f742_row2_col3\" class=\"data row2 col3\" >1</td>\n",
       "                        <td id=\"T_2f742_row2_col4\" class=\"data row2 col4\" >0</td>\n",
       "                        <td id=\"T_2f742_row2_col5\" class=\"data row2 col5\" >1</td>\n",
       "                        <td id=\"T_2f742_row2_col6\" class=\"data row2 col6\" >1</td>\n",
       "                        <td id=\"T_2f742_row2_col7\" class=\"data row2 col7\" >Another sentence with words</td>\n",
       "            </tr>\n",
       "    </tbody></table>"
      ],
      "text/plain": [
       "<pandas.io.formats.style.Styler at 0x1bae76b7d48>"
      ]
     },
     "execution_count": 42,
     "metadata": {},
     "output_type": "execute_result"
    }
   ],
   "source": [
    "bow_df = pd.DataFrame(sample_sents_bow.todense())\n",
    "bow_df.columns = sorted(sample_vect.vocabulary_)\n",
    "bow_df['Original Sentence'] = sample_sentences\n",
    "bow_df.style.apply(highlight_ones)"
   ]
  },
  {
   "cell_type": "code",
   "execution_count": 43,
   "metadata": {},
   "outputs": [],
   "source": [
    "# Performing some very basic tokenization to extract STOPWORDS"
   ]
  },
  {
   "cell_type": "code",
   "execution_count": 44,
   "metadata": {},
   "outputs": [
    {
     "data": {
      "text/plain": [
       "0    ήρθε πάλι στον περαία, \\r\\nτο γρι γρι με την π...\n",
       "1    θά `μαι παρών όσο θα ζεις και θα υπάρχεις\\r\\nμ...\n",
       "2    το σπίτι αγάπη μύρισε\\r\\nκι η καμαρούλα μας στ...\n",
       "3    μες στο τρόλεϊ που μπήκα\\r\\nμπήκε και μια πιτσ...\n",
       "4    πού ’ν’ αυτά τα σπίτια, \\r\\nπου ’χαν τις αυλές...\n",
       "Name: lyrics, dtype: object"
      ]
     },
     "execution_count": 44,
     "metadata": {},
     "output_type": "execute_result"
    }
   ],
   "source": [
    "# converting all lyrics to lowercase and replacing the \".\" with \" \"\n",
    "lyrics = df['lyrics'].str.lower().str.replace('.', ' ', regex=False)\n",
    "lyrics.head()"
   ]
  },
  {
   "cell_type": "code",
   "execution_count": 45,
   "metadata": {},
   "outputs": [
    {
     "name": "stdout",
     "output_type": "stream",
     "text": [
      "ήρθε πάλι στον περαία, \r\n",
      "το γρι γρι με την παρέα\r\n",
      "φορτωμένο φρέσκα ψάρια\r\n",
      "μουγκριά και καλαμάρια \n",
      "\r\n",
      "το `χουν το γρι γρι ψαράδες\r\n",
      "παλληκάρια χουβαρντάδες\r\n",
      "μόλις ξεπουλάνε πάνε\r\n",
      "στην ταβέρνα και γλεντάνε \n",
      "\r\n",
      "πίνουν όμορφα χορεύουν\r\n",
      "κι από τα βιολιά γυρεύουν\r\n",
      "να χορέψουν τσιφτετέλι\r\n",
      "αμάν, αμάν, αμάν, γιαλελέλι \n",
      "\r\n",
      "αχ, γιάλα!\r\n",
      "γιαλελέλι, μ’ γιάλα! θά `μαι παρών όσο θα ζεις και θα υπάρχεις\r\n",
      "μεσ’το μυαλό και στην καρδιά σου εμένα θάχεις\r\n",
      "κι’όσο θα φεύγεις μακριά απ ’το παρελθόν\r\n",
      "θά `μαι παρών\n",
      "\r\n",
      "δεν είμαι γράμμα να με σκίσεις\r\n",
      "δεν είμαι πόρτα να με κλείσεις\r\n",
      "δεν είμαι ρούχο να μ’αλλάξεις\r\n",
      "δεν είμαι δρόμος που σε άλλον πια θα πας\r\n",
      "εγώ είμαι αυτός που αγαπάς\n",
      "\r\n",
      "θά `μαι παρών και στη ζωή και στα όνειρα σου\r\n",
      "θά `μαι μια πίκρα στα καινούρια τα φιλιά σου\r\n",
      "κάνε το βήμα σου και θα το δεις λοιπόν\r\n",
      "θά `μαι παρών το σπίτι αγάπη μύρισε\r\n",
      "κι η καμαρούλα μας στοργή\r\n",
      "ο χρόνος πίσω γύρισε\r\n",
      "απόψε θά `μαστε μαζί\n",
      "\r\n",
      "για να πατήσεις τα σκαλιά μου\r\n",
      "δάκρυ τα πέρασα κι’ασβέστη\r\n",
      "κεράκια καιν τα δάχτυλα μου\r\n",
      "η καρδιά μου \n"
     ]
    }
   ],
   "source": [
    "# A pandas Series is also an iterable. So we can handle it like a List.\n",
    "# Concatenating all songs into one text.\n",
    "corpora = \" \".join(lyrics)\n",
    "\n",
    "print(corpora[:1000])"
   ]
  },
  {
   "cell_type": "markdown",
   "metadata": {},
   "source": [
    "#### We will now split the unified text into tokens, in order to count them and find the most frequent.\n",
    "#### Usually the most frequent tokens in a text are Stop Words"
   ]
  },
  {
   "cell_type": "code",
   "execution_count": 46,
   "metadata": {
    "scrolled": true
   },
   "outputs": [
    {
     "data": {
      "text/plain": [
       "[('να', 175510),\n",
       " ('και', 170696),\n",
       " ('το', 132346),\n",
       " ('μου', 128088),\n",
       " ('τα', 94802),\n",
       " ('κι', 92970),\n",
       " ('με', 92667),\n",
       " ('που', 82785),\n",
       " ('σου', 80282),\n",
       " ('θα', 77094),\n",
       " ('η', 68229),\n",
       " ('σε', 58753),\n",
       " ('δεν', 58387),\n",
       " ('την', 53585),\n",
       " ('για', 51652),\n",
       " ('στο', 44060),\n",
       " ('του', 43302),\n",
       " ('ο', 39447),\n",
       " ('τη', 37277),\n",
       " ('μια', 35935)]"
      ]
     },
     "execution_count": 46,
     "metadata": {},
     "output_type": "execute_result"
    }
   ],
   "source": [
    "top_words = Counter(corpora.split()).most_common()\n",
    "top_words[:20]"
   ]
  },
  {
   "cell_type": "code",
   "execution_count": 47,
   "metadata": {
    "scrolled": true
   },
   "outputs": [
    {
     "name": "stdout",
     "output_type": "stream",
     "text": [
      "['ένα', 'έτσι', 'έχει', 'έχεις', 'έχω', 'ήταν', 'αγάπη', 'αγαπώ', 'ακόμα', 'αν', 'από', 'απ’', 'ας', 'αυτή', 'αυτό', 'για', 'γιατί', 'δε', 'δεν', 'δυο', 'είμαι', 'είναι', 'είσαι', 'εγώ', 'εδώ', 'εσύ', 'ζωή', 'η', 'θέλω', 'θα', 'κάθε', 'κάτι', 'και', 'καρδιά', 'καὶ', 'κι', 'λες', 'μάτια', 'μέρα', 'μέσα', 'μα', 'μαζί', 'μας', 'με', 'μες', 'μη', 'μην', 'μια', 'μου', 'μου,', 'μόνο', 'μ’', 'να', 'νύχτα', 'ν’', 'ο', 'οι', 'ούτε', 'πάλι', 'πάντα', 'πες', 'πια', 'πιο', 'ποτέ', 'που', 'πως', 'πώς', 'σένα', 'σαν', 'σε', 'σου', 'σου,', 'στα', 'στη', 'στην', 'στις', 'στο', 'στον', 'σ’', 'τα', 'τη', 'την', 'της', 'τι', 'τις', 'το', 'τον', 'του', 'τους', 'των', 'τώρα', 'τ’', 'φως', 'χωρίς', 'ψυχή', 'όλα', 'όμως', 'όπως', 'όταν', 'ότι']\n"
     ]
    }
   ],
   "source": [
    "# Printing the top 100 most common words in order to pick those that we want to \n",
    "# include in our Stop Words List. \n",
    "print(sorted([i[0].lower() for i in top_words[:100]]))"
   ]
  },
  {
   "cell_type": "code",
   "execution_count": 48,
   "metadata": {},
   "outputs": [],
   "source": [
    "# Creating our custom Greek Stop Words List.\n",
    "el_stop = [\n",
    "    'αν', 'απ', 'απο', 'ας', 'για', 'γιατι', 'δε', 'δεν', 'εγω', 'ειναι', 'ενα',\n",
    "    'εσυ', 'ετσι', 'εχει', 'η', 'η', 'ηταν', 'θα', 'και', 'και', 'κι', 'μα', 'μας',\n",
    "    'με', 'μες', 'μη', 'μην', 'μια', 'μου', 'μου', 'μου,', 'μ’', 'ν', 'να', 'ο',\n",
    "    'οι', 'ομως', 'οπως', 'οταν', 'οτι', 'πια', 'πιο', 'που', 'πως', 'πως', 'σ',\n",
    "    'σαν', 'σε', 'σου', 'σου', 'σου', 'στα', 'στη', 'στην', 'στις', 'στο', 'στον',\n",
    "    'τ', 'τα', 'τη', 'την', 'της', 'τι', 'τις', 'το', 'τον', 'του', 'τους', 'των'\n",
    "]"
   ]
  },
  {
   "cell_type": "code",
   "execution_count": 49,
   "metadata": {},
   "outputs": [],
   "source": [
    "# Now that we know how to use the CountVectorizer, we will apply the same\n",
    "# transformation to the Lyrics."
   ]
  },
  {
   "cell_type": "code",
   "execution_count": 50,
   "metadata": {},
   "outputs": [],
   "source": [
    "# Total Number of Words to use for vectorization. \n",
    "# The vectorizer will keep the K most common tokens (words-characters)\n",
    "max_words = 3000"
   ]
  },
  {
   "cell_type": "code",
   "execution_count": 51,
   "metadata": {},
   "outputs": [
    {
     "data": {
      "text/plain": [
       "CountVectorizer(max_features=3000,\n",
       "                stop_words=['αν', 'απ', 'απο', 'ας', 'για', 'γιατι', 'δε',\n",
       "                            'δεν', 'εγω', 'ειναι', 'ενα', 'εσυ', 'ετσι', 'εχει',\n",
       "                            'η', 'η', 'ηταν', 'θα', 'και', 'και', 'κι', 'μα',\n",
       "                            'μας', 'με', 'μες', 'μη', 'μην', 'μια', 'μου',\n",
       "                            'μου', ...],\n",
       "                strip_accents='unicode')"
      ]
     },
     "execution_count": 51,
     "metadata": {},
     "output_type": "execute_result"
    }
   ],
   "source": [
    "# This vectorizer will give the number of appearances of each word\n",
    "counter_vectorizer = CountVectorizer(\n",
    "    encoding='utf-8',\n",
    "    strip_accents='unicode',\n",
    "    lowercase=True,\n",
    "    stop_words=el_stop,\n",
    "    ngram_range=(1, 1), # unigrams\n",
    "    max_features=max_words,\n",
    "    binary=False # binary output or full counts. \n",
    ")\n",
    "counter_vectorizer"
   ]
  },
  {
   "cell_type": "code",
   "execution_count": 52,
   "metadata": {},
   "outputs": [
    {
     "data": {
      "text/plain": [
       "CountVectorizer(binary=True, max_features=3000,\n",
       "                stop_words=['αν', 'απ', 'απο', 'ας', 'για', 'γιατι', 'δε',\n",
       "                            'δεν', 'εγω', 'ειναι', 'ενα', 'εσυ', 'ετσι', 'εχει',\n",
       "                            'η', 'η', 'ηταν', 'θα', 'και', 'και', 'κι', 'μα',\n",
       "                            'μας', 'με', 'μες', 'μη', 'μην', 'μια', 'μου',\n",
       "                            'μου', ...],\n",
       "                strip_accents='unicode')"
      ]
     },
     "execution_count": 52,
     "metadata": {},
     "output_type": "execute_result"
    }
   ],
   "source": [
    "# This vectorizer will give return 0 or 1 based on the appearence of each word\n",
    "binary_vectorizer = CountVectorizer(\n",
    "    encoding='utf-8',\n",
    "    strip_accents='unicode',\n",
    "    lowercase=True,\n",
    "    stop_words=el_stop,\n",
    "    ngram_range=(1, 1), # unigrams\n",
    "    max_features=max_words,\n",
    "    binary=True # binary output or full counts. \n",
    "    )\n",
    "binary_vectorizer"
   ]
  },
  {
   "cell_type": "code",
   "execution_count": 53,
   "metadata": {},
   "outputs": [
    {
     "data": {
      "text/plain": [
       "2333    Τι εἶπον!.. διασκορπίσατε\\r\\nἄνεμοι τοὺς δυσφή...\n",
       "4577    Η γυναίκα σαν όνειρο από σάρκα\\r\\nθλίβει την π...\n",
       "1896    Ποτέ σου μέχρι τώρα ίσως δεν το σκέφτηκες\\r\\nτ...\n",
       "5543    Γνωρίζει πια πως\\r\\nδεν είναι οι ανόητες Σειρή...\n",
       "5936    Μόνο το τέλος \\r\\nδεν τελειώνει ποτέ.\\r\\nΚι’ α...\n",
       "                              ...                        \n",
       "451     Μιλάς και εσύ πως κουράστηκες πια\\r\\nΚαι θέλει...\n",
       "603     Λες πως δε σου λείπω ούτε μια νύχτα\\r\\nσαν να ...\n",
       "1176    Περιβόλι μ’ οργωμένο, μαργαριταροσπαρμένο.\\r\\n...\n",
       "1177    Μες στης νύχτας τη σιγαλιά\\r\\nθα βγω με μαντολ...\n",
       "1742    Ένα ποτήρι αδειανό \\r\\nστο ίδιο το τραπέζι\\r\\n...\n",
       "Name: lyrics, Length: 4216, dtype: object"
      ]
     },
     "execution_count": 53,
     "metadata": {},
     "output_type": "execute_result"
    }
   ],
   "source": [
    "X_train"
   ]
  },
  {
   "cell_type": "markdown",
   "metadata": {},
   "source": [
    "Fitting the CountVectorizer **ONLY ON THE TRAINING DATASET**"
   ]
  },
  {
   "cell_type": "code",
   "execution_count": 54,
   "metadata": {},
   "outputs": [],
   "source": [
    "# fitting the CountVectorizer in the training data\n",
    "X_train_enc = counter_vectorizer.fit_transform(X_train)"
   ]
  },
  {
   "cell_type": "code",
   "execution_count": 55,
   "metadata": {},
   "outputs": [
    {
     "data": {
      "text/plain": [
       "(4216, 3000)"
      ]
     },
     "execution_count": 55,
     "metadata": {},
     "output_type": "execute_result"
    }
   ],
   "source": [
    "X_train_enc.shape"
   ]
  },
  {
   "cell_type": "code",
   "execution_count": 56,
   "metadata": {},
   "outputs": [],
   "source": [
    "# Using the FITTED CountVectorizer we transform the Validation and Test Sets\n",
    "X_val_enc = counter_vectorizer.transform(X_val)\n",
    "X_test_enc = counter_vectorizer.transform(X_test)"
   ]
  },
  {
   "cell_type": "code",
   "execution_count": 57,
   "metadata": {},
   "outputs": [
    {
     "name": "stdout",
     "output_type": "stream",
     "text": [
      "X_train encoded shape: (4216, 3000)\n",
      "X_val encoded shape: (1054, 3000)\n",
      "X_test encoded shape: (931, 3000)\n"
     ]
    }
   ],
   "source": [
    "print(f'X_train encoded shape: {X_train_enc.shape}')\n",
    "print(f'X_val encoded shape: {X_val_enc.shape}')\n",
    "print(f'X_test encoded shape: {X_test_enc.shape}')"
   ]
  },
  {
   "cell_type": "code",
   "execution_count": 58,
   "metadata": {},
   "outputs": [
    {
     "data": {
      "text/plain": [
       "<4216x3000 sparse matrix of type '<class 'numpy.int64'>'\n",
       "\twith 109561 stored elements in Compressed Sparse Row format>"
      ]
     },
     "execution_count": 58,
     "metadata": {},
     "output_type": "execute_result"
    }
   ],
   "source": [
    "X_train_enc"
   ]
  },
  {
   "cell_type": "code",
   "execution_count": 59,
   "metadata": {
    "scrolled": true
   },
   "outputs": [
    {
     "data": {
      "text/plain": [
       "matrix([[0, 0, 0, ..., 0, 0, 0]], dtype=int64)"
      ]
     },
     "execution_count": 59,
     "metadata": {},
     "output_type": "execute_result"
    }
   ],
   "source": [
    "X_train_enc[0].todense()"
   ]
  },
  {
   "cell_type": "markdown",
   "metadata": {},
   "source": [
    "### Extract-Transform-Load (ETL) Recap\n",
    "\n",
    "#### Objective: Based on the Lyrics of a song we try to infer it's Lyricist\n",
    "\n",
    "##### Pipeline\n",
    "* Load dataset\n",
    "* Extract top lyricists\n",
    "* Filter dataset to contain only the lyricists that we want use\n",
    "* Split the *raw* dataset into **X (lyrics)** and **y (lyricists)**\n",
    "* Split **X** and **y** into **Train | Validation | Test** sets using **stratification** \n",
    "* Extract/Create **Greek Stop Words** list\n",
    "* Create a **CountVectorizer** Object\n",
    "* Fit the CountVectorizer on the **Train** Dataset\n",
    "* Transform **Train, Validation and Test** sets to Bag of Words vectors\n",
    "* Tranform the **y labels (lyricists) into One-Hot Matrix**"
   ]
  },
  {
   "cell_type": "markdown",
   "metadata": {},
   "source": [
    "### Model Build and Fit"
   ]
  },
  {
   "cell_type": "code",
   "execution_count": 60,
   "metadata": {},
   "outputs": [],
   "source": [
    "# Model Imports"
   ]
  },
  {
   "cell_type": "code",
   "execution_count": 61,
   "metadata": {},
   "outputs": [],
   "source": [
    "# !pip install pydot\n",
    "# !pip install graphviz\n",
    "from tensorflow.keras.models import Sequential\n",
    "from tensorflow.keras.layers import Dense, Dropout, Activation\n",
    "from tensorflow.keras import metrics\n",
    "from tensorflow.keras.utils import plot_model\n",
    "import pydot"
   ]
  },
  {
   "cell_type": "code",
   "execution_count": 62,
   "metadata": {},
   "outputs": [
    {
     "data": {
      "text/plain": [
       "[array(['Ανδρέας Κάλβος', 'Αχιλλέας Παράσχος', 'Γεώργιος Σουρής',\n",
       "        'Γιάννης Τσίγκρας', 'Γιώργος Σαραντάρης', 'Ηλίας Φιλίππου',\n",
       "        'Θεόδωρος Γκλαβέρης', 'Ιωάννης Καρασούτσας',\n",
       "        'Κωνσταντίνος Καβάφης', 'Κώστας Βάρναλης', 'Κώστας Βίρβος',\n",
       "        'Μίλτος Σαχτούρης', 'Πάνος Φαλάρας', 'Παραδοσιακό', 'Πυθαγόρας',\n",
       "        'Τάκης Μουσαφίρης', 'Τάσος Λειβαδίτης', 'Τζούτζη Ματζουράνη',\n",
       "        'Τόλης Νικηφόρου', 'Χλόη Κουτσουμπέλη'], dtype=object)]"
      ]
     },
     "execution_count": 62,
     "metadata": {},
     "output_type": "execute_result"
    }
   ],
   "source": [
    "y_enc.categories_"
   ]
  },
  {
   "cell_type": "code",
   "execution_count": 63,
   "metadata": {},
   "outputs": [
    {
     "name": "stdout",
     "output_type": "stream",
     "text": [
      "Number of Classes (lyricists): 20\n"
     ]
    }
   ],
   "source": [
    "# Some parameters that we will use:\n",
    "\n",
    "# Number of Classes for the Y labels (number of lyricists)\n",
    "nb_classes = len(y_enc.categories_[0])\n",
    "\n",
    "print('Number of Classes (lyricists): {}'.format(nb_classes))\n",
    "\n",
    "# Number of Epochs that we will train our Feed Forward Network\n",
    "nb_epoch = 30\n",
    "\n",
    "# The batch_size of the data that  will be fed to the Model when training\n",
    "batch_size = 32 \n",
    "\n",
    "# Dropout Rate of the Dropout Layer (how many neurons to shutdown each time)\n",
    "dropout_rate = 0.4"
   ]
  },
  {
   "cell_type": "markdown",
   "metadata": {},
   "source": [
    "##### Model Setup"
   ]
  },
  {
   "cell_type": "code",
   "execution_count": 64,
   "metadata": {
    "scrolled": false
   },
   "outputs": [
    {
     "name": "stdout",
     "output_type": "stream",
     "text": [
      "Building model...\n",
      "\n",
      "Model: \"sequential\"\n",
      "_________________________________________________________________\n",
      "Layer (type)                 Output Shape              Param #   \n",
      "=================================================================\n",
      "dense (Dense)                (None, 512)               1536512   \n",
      "_________________________________________________________________\n",
      "activation (Activation)      (None, 512)               0         \n",
      "_________________________________________________________________\n",
      "dropout (Dropout)            (None, 512)               0         \n",
      "_________________________________________________________________\n",
      "dense_1 (Dense)              (None, 512)               262656    \n",
      "_________________________________________________________________\n",
      "activation_1 (Activation)    (None, 512)               0         \n",
      "_________________________________________________________________\n",
      "dropout_1 (Dropout)          (None, 512)               0         \n",
      "_________________________________________________________________\n",
      "dense_2 (Dense)              (None, 20)                10260     \n",
      "_________________________________________________________________\n",
      "activation_2 (Activation)    (None, 20)                0         \n",
      "=================================================================\n",
      "Total params: 1,809,428\n",
      "Trainable params: 1,809,428\n",
      "Non-trainable params: 0\n",
      "_________________________________________________________________\n",
      "None\n"
     ]
    }
   ],
   "source": [
    "print('Building model...', end='\\n\\n')\n",
    "\n",
    "# The model that we will create is a sequential model meaning that\n",
    "# each layer that we add per line will use as input the output of the \n",
    "# former layer added to the model\n",
    "\n",
    "# define an empty sequential structure \n",
    "model = Sequential()\n",
    "\n",
    "# add a dense layer (MLP)\n",
    "model.add(Dense(512, input_shape=(max_words,)))\n",
    "\n",
    "# use a relu activation on MLP's outputs\n",
    "model.add(Activation('relu'))\n",
    "\n",
    "# use a dropout layer with with 40% of inputs dropped\n",
    "model.add(Dropout(dropout_rate))\n",
    "\n",
    "# add a dense layer (MLP)\n",
    "model.add(Dense(512))\n",
    "\n",
    "# use a relu activation on MLP's outputs\n",
    "model.add(Activation('relu'))\n",
    "\n",
    "# use a dropout layer with with 20% of inputs droped\n",
    "model.add(Dropout(dropout_rate))\n",
    "\n",
    "# add a dense layer (MLP) \n",
    "model.add(Dense(nb_classes))\n",
    "\n",
    "# use a softmax activation on 2nd MLP's outputs\n",
    "model.add(Activation('softmax'))\n",
    "\n",
    "# we have defined the structure of the model\n",
    "\n",
    "# print model layers' info\n",
    "print(model.summary())"
   ]
  },
  {
   "cell_type": "code",
   "execution_count": 65,
   "metadata": {
    "scrolled": false
   },
   "outputs": [],
   "source": [
    "# # pip install pydot\n",
    "# # \n",
    "# plot_model(model,\n",
    "#            to_file='model_plot.png',\n",
    "#            show_shapes=True,\n",
    "#            show_layer_names=True)"
   ]
  },
  {
   "cell_type": "markdown",
   "metadata": {},
   "source": [
    "#### Compiling the model"
   ]
  },
  {
   "cell_type": "code",
   "execution_count": 66,
   "metadata": {},
   "outputs": [],
   "source": [
    "# We compile the model using categorical crossentropy as a loss function \n",
    "# The reason is that we want to predict the lyricist among many lyricists\n",
    "\n",
    "# and Adam as an optimizer (is more robust thatn Gradient Descent Optimizer)\n",
    "# As a metric we can use \"accuracy\"\n",
    "model.compile(\n",
    "    loss='categorical_crossentropy',\n",
    "    optimizer='adam',\n",
    "    metrics=['accuracy'],\n",
    ")\n",
    "# we have compiled a model and it is ready to be trained"
   ]
  },
  {
   "cell_type": "code",
   "execution_count": 67,
   "metadata": {},
   "outputs": [
    {
     "name": "stdout",
     "output_type": "stream",
     "text": [
      "Ideally we want to find the Global Minimum of a surface like the following\n"
     ]
    },
    {
     "data": {
      "text/html": [
       "<img src=\"https://blog.algorithmia.com/wp-content/uploads/2018/04/word-image-4.png\"/>"
      ],
      "text/plain": [
       "<IPython.core.display.Image object>"
      ]
     },
     "execution_count": 67,
     "metadata": {},
     "output_type": "execute_result"
    }
   ],
   "source": [
    "print('Ideally we want to find the Global Minimum of a surface like the following')\n",
    "Image(url='https://blog.algorithmia.com/wp-content/uploads/2018/04/word-image-4.png')"
   ]
  },
  {
   "cell_type": "code",
   "execution_count": 68,
   "metadata": {},
   "outputs": [
    {
     "data": {
      "text/plain": [
       "<4216x3000 sparse matrix of type '<class 'numpy.int64'>'\n",
       "\twith 109561 stored elements in Compressed Sparse Row format>"
      ]
     },
     "execution_count": 68,
     "metadata": {},
     "output_type": "execute_result"
    }
   ],
   "source": [
    "X_train_enc"
   ]
  },
  {
   "cell_type": "markdown",
   "metadata": {},
   "source": [
    "### Fitting (training) our Feed Forward Network Model"
   ]
  },
  {
   "cell_type": "code",
   "execution_count": 69,
   "metadata": {
    "scrolled": false
   },
   "outputs": [
    {
     "name": "stdout",
     "output_type": "stream",
     "text": [
      "Epoch 1/30\n",
      "132/132 - 2s - loss: 2.2808 - accuracy: 0.3309 - val_loss: 1.4667 - val_accuracy: 0.6091\n",
      "Epoch 2/30\n",
      "132/132 - 1s - loss: 0.8985 - accuracy: 0.7533 - val_loss: 1.0189 - val_accuracy: 0.7040\n",
      "Epoch 3/30\n",
      "132/132 - 1s - loss: 0.3150 - accuracy: 0.9213 - val_loss: 1.0251 - val_accuracy: 0.7201\n",
      "Epoch 4/30\n",
      "132/132 - 1s - loss: 0.1323 - accuracy: 0.9701 - val_loss: 1.0888 - val_accuracy: 0.7182\n",
      "Epoch 5/30\n",
      "132/132 - 1s - loss: 0.0694 - accuracy: 0.9874 - val_loss: 1.1938 - val_accuracy: 0.7021\n",
      "Epoch 6/30\n",
      "132/132 - 1s - loss: 0.0460 - accuracy: 0.9896 - val_loss: 1.2217 - val_accuracy: 0.7144\n",
      "Epoch 7/30\n",
      "132/132 - 0s - loss: 0.0368 - accuracy: 0.9924 - val_loss: 1.4219 - val_accuracy: 0.6793\n",
      "Epoch 8/30\n",
      "132/132 - 1s - loss: 0.0265 - accuracy: 0.9948 - val_loss: 1.3944 - val_accuracy: 0.6945\n",
      "Epoch 9/30\n",
      "132/132 - 1s - loss: 0.0174 - accuracy: 0.9964 - val_loss: 1.4399 - val_accuracy: 0.7002\n",
      "Epoch 10/30\n",
      "132/132 - 1s - loss: 0.0197 - accuracy: 0.9950 - val_loss: 1.4981 - val_accuracy: 0.6945\n",
      "Epoch 11/30\n",
      "132/132 - 1s - loss: 0.0122 - accuracy: 0.9983 - val_loss: 1.5742 - val_accuracy: 0.6973\n",
      "Epoch 12/30\n",
      "132/132 - 1s - loss: 0.0092 - accuracy: 0.9988 - val_loss: 1.6264 - val_accuracy: 0.6879\n",
      "Epoch 13/30\n",
      "132/132 - 1s - loss: 0.0109 - accuracy: 0.9986 - val_loss: 1.6101 - val_accuracy: 0.7002\n",
      "Epoch 14/30\n",
      "132/132 - 1s - loss: 0.0104 - accuracy: 0.9979 - val_loss: 1.6367 - val_accuracy: 0.6935\n",
      "Epoch 15/30\n",
      "132/132 - 1s - loss: 0.0147 - accuracy: 0.9960 - val_loss: 1.8237 - val_accuracy: 0.6831\n",
      "Epoch 16/30\n",
      "132/132 - 1s - loss: 0.0182 - accuracy: 0.9953 - val_loss: 1.7949 - val_accuracy: 0.6935\n",
      "Epoch 17/30\n",
      "132/132 - 1s - loss: 0.0289 - accuracy: 0.9953 - val_loss: 1.8087 - val_accuracy: 0.6831\n",
      "Epoch 18/30\n",
      "132/132 - 1s - loss: 0.0115 - accuracy: 0.9969 - val_loss: 1.8887 - val_accuracy: 0.6727\n",
      "Epoch 19/30\n",
      "132/132 - 1s - loss: 0.0108 - accuracy: 0.9969 - val_loss: 2.0151 - val_accuracy: 0.6831\n",
      "Epoch 20/30\n",
      "132/132 - 1s - loss: 0.0089 - accuracy: 0.9969 - val_loss: 1.9536 - val_accuracy: 0.6774\n",
      "Epoch 21/30\n",
      "132/132 - 1s - loss: 0.0038 - accuracy: 0.9998 - val_loss: 1.9585 - val_accuracy: 0.6765\n",
      "Epoch 22/30\n",
      "132/132 - 1s - loss: 0.0079 - accuracy: 0.9986 - val_loss: 2.0550 - val_accuracy: 0.6651\n",
      "Epoch 23/30\n",
      "132/132 - 0s - loss: 0.0057 - accuracy: 0.9986 - val_loss: 2.0315 - val_accuracy: 0.6717\n",
      "Epoch 24/30\n",
      "132/132 - 1s - loss: 0.0051 - accuracy: 0.9981 - val_loss: 2.0141 - val_accuracy: 0.6727\n",
      "Epoch 25/30\n",
      "132/132 - 1s - loss: 0.0027 - accuracy: 0.9995 - val_loss: 2.0135 - val_accuracy: 0.6727\n",
      "Epoch 26/30\n",
      "132/132 - 1s - loss: 0.0057 - accuracy: 0.9981 - val_loss: 2.1426 - val_accuracy: 0.6755\n",
      "Epoch 27/30\n",
      "132/132 - 1s - loss: 0.0089 - accuracy: 0.9983 - val_loss: 2.1634 - val_accuracy: 0.6546\n",
      "Epoch 28/30\n",
      "132/132 - 1s - loss: 0.0025 - accuracy: 0.9995 - val_loss: 2.1358 - val_accuracy: 0.6793\n",
      "Epoch 29/30\n",
      "132/132 - 1s - loss: 0.0113 - accuracy: 0.9962 - val_loss: 2.2935 - val_accuracy: 0.6632\n",
      "Epoch 30/30\n",
      "132/132 - 1s - loss: 0.0154 - accuracy: 0.9967 - val_loss: 2.2283 - val_accuracy: 0.6632\n"
     ]
    }
   ],
   "source": [
    "# We train (fit our data to) our model\n",
    "history = model.fit(\n",
    "    x=X_train_enc.todense(),           # features (as dense inputs)\n",
    "    y=y_train_enc,           # labels\n",
    "    batch_size=batch_size,   # define batch size\n",
    "    epochs=nb_epoch,         # number of epochs\n",
    "    verbose=2,               # the most extended verbosity level\n",
    "    validation_data=(       \n",
    "    X_val_enc.todense(),               # the validation split that we did before\n",
    "    y_val_enc)\n",
    ")"
   ]
  },
  {
   "cell_type": "code",
   "execution_count": 70,
   "metadata": {
    "code_folding": [
     0
    ]
   },
   "outputs": [],
   "source": [
    "def plot_keras_history(history):\n",
    "    \"\"\"\n",
    "    \n",
    "    :param history: \n",
    "    :return: \n",
    "    \"\"\"\n",
    "    # the history object gives the metrics keys. \n",
    "    # we will store the metrics keys that are from the training sesion.\n",
    "    metrics_names = [key for key in history.history.keys() if not key.startswith('val_')]\n",
    "\n",
    "    for i, metric in enumerate(metrics_names):\n",
    "        \n",
    "        # getting the training values\n",
    "        metric_train_values = history.history.get(metric, [])\n",
    "        \n",
    "        # getting the validation values\n",
    "        metric_val_values = history.history.get(\"val_{}\".format(metric), [])\n",
    "\n",
    "        # As loss always exists as a metric we use it to find the \n",
    "        epochs = range(1, len(metric_train_values) + 1)\n",
    "        \n",
    "        # leaving extra spaces to allign with the validation text\n",
    "        training_text = \"   Training {}: {:.5f}\".format(metric,\n",
    "                                                        metric_train_values[-1])\n",
    "\n",
    "        # metric\n",
    "        plt.figure(i, figsize=(12, 6))\n",
    "\n",
    "        plt.plot(epochs,\n",
    "                 metric_train_values,\n",
    "                 'b',\n",
    "                 label=training_text)\n",
    "        \n",
    "        # if we validation metric exists, then plot that as well\n",
    "        if metric_val_values:\n",
    "            validation_text = \"Validation {}: {:.5f}\".format(metric,\n",
    "                                                             metric_val_values[-1])\n",
    "\n",
    "            plt.plot(epochs,\n",
    "                     metric_val_values,\n",
    "                     'g',\n",
    "                     label=validation_text)\n",
    "        \n",
    "        # add title, xlabel, ylabe, and legend\n",
    "        plt.title('Model Metric: {}'.format(metric))\n",
    "        plt.xlabel('Epochs')\n",
    "        plt.ylabel(metric.title())\n",
    "        plt.legend()\n",
    "\n",
    "    plt.show()"
   ]
  },
  {
   "cell_type": "code",
   "execution_count": 71,
   "metadata": {},
   "outputs": [
    {
     "data": {
      "image/png": "[encoded data removed]",
      "text/plain": [
       "<Figure size 864x432 with 1 Axes>"
      ]
     },
     "metadata": {
      "needs_background": "light"
     },
     "output_type": "display_data"
    },
    {
     "data": {
      "image/png": "[encoded data removed]",
      "text/plain": [
       "<Figure size 864x432 with 1 Axes>"
      ]
     },
     "metadata": {
      "needs_background": "light"
     },
     "output_type": "display_data"
    }
   ],
   "source": [
    "plot_keras_history(history)"
   ]
  },
  {
   "cell_type": "markdown",
   "metadata": {},
   "source": [
    "### Model Evaluation"
   ]
  },
  {
   "cell_type": "code",
   "execution_count": 72,
   "metadata": {},
   "outputs": [
    {
     "name": "stdout",
     "output_type": "stream",
     "text": [
      "30/30 - 0s - loss: 2.0993 - accuracy: 0.6799\n"
     ]
    }
   ],
   "source": [
    "# evaluate and store on score variable on the TEST DATASET\n",
    "score = model.evaluate(\n",
    "    X_test_enc.todense(),    # features\n",
    "    y_test_enc,              # labels\n",
    "    batch_size=batch_size,   # batch size\n",
    "    verbose=2                # the most extended verbose\n",
    ")"
   ]
  },
  {
   "cell_type": "code",
   "execution_count": 73,
   "metadata": {},
   "outputs": [
    {
     "name": "stdout",
     "output_type": "stream",
     "text": [
      "\n",
      "Test categorical_crossentropy: 2.0992817878723145\n",
      "\n",
      "Test accuracy: 67.991 %\n"
     ]
    }
   ],
   "source": [
    "print('\\nTest categorical_crossentropy: {}'.format(score[0]))\n",
    "print('\\nTest accuracy: {:.3f} %'.format(score[1]*100))"
   ]
  },
  {
   "cell_type": "markdown",
   "metadata": {},
   "source": [
    "### Model Prediction "
   ]
  },
  {
   "cell_type": "code",
   "execution_count": 74,
   "metadata": {},
   "outputs": [
    {
     "data": {
      "text/plain": [
       "array([[8.7447888e-01, 2.5995660e-06, 1.5547872e-08, ..., 1.9239887e-09,\n",
       "        2.5203304e-08, 6.6958407e-08],\n",
       "       [1.2149444e-06, 1.4337246e-07, 2.6198748e-07, ..., 3.8303202e-05,\n",
       "        5.5055605e-04, 4.8907916e-04],\n",
       "       [2.0482362e-32, 4.7741699e-13, 3.6400096e-19, ..., 1.9454197e-15,\n",
       "        3.8612662e-13, 1.1237385e-15],\n",
       "       ...,\n",
       "       [2.5444720e-07, 7.1082003e-12, 1.4268355e-10, ..., 8.4291185e-11,\n",
       "        1.7390081e-12, 1.5576786e-11],\n",
       "       [2.4511980e-19, 8.6504477e-11, 2.1050038e-11, ..., 9.9518168e-08,\n",
       "        1.7635439e-10, 4.0671069e-12],\n",
       "       [1.6343693e-19, 5.8130980e-03, 2.3346550e-03, ..., 6.0000217e-05,\n",
       "        2.3210439e-04, 3.8556234e-09]], dtype=float32)"
      ]
     },
     "execution_count": 74,
     "metadata": {},
     "output_type": "execute_result"
    }
   ],
   "source": [
    "# Use to yield probability distribution over the categories\n",
    "y_test_pred_probs = model.predict(X_test_enc)\n",
    "y_test_pred_probs"
   ]
  },
  {
   "cell_type": "code",
   "execution_count": 75,
   "metadata": {},
   "outputs": [
    {
     "data": {
      "text/plain": [
       "(931, 20)"
      ]
     },
     "execution_count": 75,
     "metadata": {},
     "output_type": "execute_result"
    }
   ],
   "source": [
    "y_test_pred_probs.shape"
   ]
  },
  {
   "cell_type": "code",
   "execution_count": 76,
   "metadata": {
    "scrolled": true
   },
   "outputs": [
    {
     "data": {
      "text/plain": [
       "array([ 0,  4,  6, 18, 13, 13, 13, 13, 14,  5, 13, 12, 16, 10,  0,  9, 17,\n",
       "       17, 19, 18,  2,  2,  9,  5,  4, 11,  5,  3,  1, 17, 13,  5, 16,  1,\n",
       "       19,  6, 17,  3, 12, 10, 15, 17, 13, 16, 12,  3, 15,  0, 11,  3],\n",
       "      dtype=int64)"
      ]
     },
     "execution_count": 76,
     "metadata": {},
     "output_type": "execute_result"
    }
   ],
   "source": [
    "# Use to yield the predicted classes.\n",
    "# Depicts which class (number) is \n",
    "\n",
    "# y_test_preds = model.predict_classes(X_test_enc)\n",
    "\n",
    "y_test_preds = np.argmax(model.predict(X_test_enc), axis=-1)\n",
    "\n",
    "y_test_preds[:50]"
   ]
  },
  {
   "cell_type": "code",
   "execution_count": 77,
   "metadata": {},
   "outputs": [],
   "source": [
    "# custom prediction function \n",
    "def get_one_hot_predictions(pred_probs):\n",
    "    \"\"\"\n",
    "    \"\"\"\n",
    "    max_probs = np.max(pred_probs, axis=1)\n",
    "    \n",
    "    # reshaping to (len_of_predicts, 1)\n",
    "    max_probs = max_probs.reshape(max_probs.shape[0], 1)\n",
    "\n",
    "    return np.equal(pred_probs, max_probs).astype(float)"
   ]
  },
  {
   "cell_type": "code",
   "execution_count": 78,
   "metadata": {
    "scrolled": true
   },
   "outputs": [
    {
     "data": {
      "text/plain": [
       "array([[1., 0., 0., ..., 0., 0., 0.],\n",
       "       [0., 0., 0., ..., 0., 0., 0.],\n",
       "       [0., 0., 0., ..., 0., 0., 0.],\n",
       "       ...,\n",
       "       [0., 0., 0., ..., 0., 0., 0.],\n",
       "       [0., 0., 0., ..., 0., 0., 0.],\n",
       "       [0., 0., 0., ..., 0., 0., 0.]])"
      ]
     },
     "execution_count": 78,
     "metadata": {},
     "output_type": "execute_result"
    }
   ],
   "source": [
    "y_test_pred = get_one_hot_predictions(y_test_pred_probs)\n",
    "y_test_pred\n",
    "\n",
    "# check that each line has only one 1. \n",
    "# y_test_pred.sum(axis=1)"
   ]
  },
  {
   "cell_type": "code",
   "execution_count": 79,
   "metadata": {},
   "outputs": [
    {
     "data": {
      "text/plain": [
       "array(['Ανδρέας Κάλβος', 'Γιώργος Σαραντάρης', 'Θεόδωρος Γκλαβέρης',\n",
       "       'Τόλης Νικηφόρου', 'Παραδοσιακό', 'Παραδοσιακό', 'Παραδοσιακό',\n",
       "       'Παραδοσιακό', 'Πυθαγόρας', 'Ηλίας Φιλίππου', 'Παραδοσιακό',\n",
       "       'Πάνος Φαλάρας', 'Τάσος Λειβαδίτης', 'Κώστας Βίρβος',\n",
       "       'Ανδρέας Κάλβος', 'Κώστας Βάρναλης', 'Τζούτζη Ματζουράνη',\n",
       "       'Τζούτζη Ματζουράνη', 'Χλόη Κουτσουμπέλη', 'Τόλης Νικηφόρου'],\n",
       "      dtype=object)"
      ]
     },
     "execution_count": 79,
     "metadata": {},
     "output_type": "execute_result"
    }
   ],
   "source": [
    "# Now, we will use the fitted One Hot Encoder to Inverse Tranform the ouput\n",
    "y_test_pred_lyricists = y_enc.inverse_transform(y_test_pred).flatten()\n",
    "y_test_pred_lyricists[:20]"
   ]
  },
  {
   "cell_type": "code",
   "execution_count": 80,
   "metadata": {},
   "outputs": [],
   "source": [
    "# More Evaluation Metrics\n",
    "from sklearn.metrics import confusion_matrix, classification_report"
   ]
  },
  {
   "cell_type": "code",
   "execution_count": 81,
   "metadata": {},
   "outputs": [
    {
     "data": {
      "text/plain": [
       "array([[ 61,   0,   0,   0,   1,   0,   0,   4,   0,   0,   0,   0,   0,\n",
       "          0,   0,   0,   0,   0,   0,   0],\n",
       "       [  3,  30,   0,   0,   1,   0,   0,   3,   2,   1,   0,   0,   0,\n",
       "          1,   0,   0,   0,   0,   0,   0],\n",
       "       [  2,   0,  23,   0,   1,   0,   0,   1,   3,   1,   0,   0,   0,\n",
       "          1,   0,   0,   1,   0,   0,   0],\n",
       "       [  1,   0,   0,  37,   2,   0,   0,   0,   0,   1,   0,   2,   0,\n",
       "          0,   0,   0,   2,   1,   2,   2],\n",
       "       [  1,   0,   1,   1,  31,   0,   0,   0,   0,   1,   1,   0,   0,\n",
       "          1,   0,   1,   4,   2,   1,   0],\n",
       "       [  0,   0,   0,   1,   0,  42,   0,   0,   0,   0,   0,   0,   8,\n",
       "          1,   4,   2,   1,   1,   0,   0],\n",
       "       [  0,   0,   0,   1,   1,   0,  41,   0,   0,   0,   0,   0,   0,\n",
       "          0,   0,   0,   0,   0,   1,   0],\n",
       "       [  8,   0,   2,   0,   0,   0,   0,  23,   0,   0,   0,   0,   0,\n",
       "          0,   0,   0,   0,   0,   0,   0],\n",
       "       [  1,   1,   1,   0,   0,   0,   0,   4,  30,   0,   0,   0,   0,\n",
       "          0,   0,   0,   0,   1,   0,   0],\n",
       "       [  3,   1,   1,   2,   1,   2,   0,   0,   0,  18,   0,   1,   0,\n",
       "          1,   0,   3,   1,   0,   0,   1],\n",
       "       [  0,   1,   1,   0,   0,   6,   0,   0,   0,   0,  10,   0,   1,\n",
       "          5,   3,   5,   1,   1,   0,   0],\n",
       "       [  3,   1,   0,   4,   2,   0,   0,   0,   0,   0,   0,  22,   0,\n",
       "          1,   0,   1,   1,   0,   1,   3],\n",
       "       [  0,   0,   0,   0,   0,  12,   0,   0,   0,   0,   0,   0,  12,\n",
       "          1,   2,   2,   0,   0,   1,   1],\n",
       "       [  7,   1,   1,   1,   3,   1,   0,   0,   0,   0,   2,   1,   0,\n",
       "        120,   5,   3,   1,   0,   1,   1],\n",
       "       [  0,   0,   1,   0,   1,   5,   0,   0,   0,   0,   3,   1,   2,\n",
       "          6,  19,   3,   1,   1,   0,   0],\n",
       "       [  1,   0,   0,   0,   0,   2,   0,   0,   0,   0,   4,   1,   5,\n",
       "          2,   2,  18,   3,   2,   0,   0],\n",
       "       [  4,   0,   0,   3,   1,   0,   0,   0,   0,   0,   1,   1,   0,\n",
       "          1,   0,   1,  28,   1,   1,   0],\n",
       "       [  0,   1,   0,   1,   2,   1,   0,   0,   1,   0,   0,   2,   1,\n",
       "          0,   0,   2,   1,  18,   1,   0],\n",
       "       [  1,   1,   0,   1,   1,   0,   0,   0,   0,   0,   1,   1,   0,\n",
       "          0,   0,   0,   2,   1,  28,   1],\n",
       "       [  2,   0,   0,   3,   2,   1,   0,   0,   1,   0,   0,   2,   0,\n",
       "          0,   0,   0,   4,   2,   1,  22]], dtype=int64)"
      ]
     },
     "execution_count": 81,
     "metadata": {},
     "output_type": "execute_result"
    }
   ],
   "source": [
    "conf_mat = confusion_matrix(y_true=y_test,\n",
    "                            y_pred=y_test_pred_lyricists)\n",
    "conf_mat"
   ]
  },
  {
   "cell_type": "code",
   "execution_count": 82,
   "metadata": {
    "scrolled": false
   },
   "outputs": [
    {
     "data": {
      "text/html": [
       "<div>\n",
       "<style scoped>\n",
       "    .dataframe tbody tr th:only-of-type {\n",
       "        vertical-align: middle;\n",
       "    }\n",
       "\n",
       "    .dataframe tbody tr th {\n",
       "        vertical-align: top;\n",
       "    }\n",
       "\n",
       "    .dataframe thead tr th {\n",
       "        text-align: left;\n",
       "    }\n",
       "</style>\n",
       "<table border=\"1\" class=\"dataframe\">\n",
       "  <thead>\n",
       "    <tr>\n",
       "      <th></th>\n",
       "      <th>Ανδρέας Κάλβος</th>\n",
       "      <th>Αχιλλέας Παράσχος</th>\n",
       "      <th>Γεώργιος Σουρής</th>\n",
       "      <th>Γιάννης Τσίγκρας</th>\n",
       "      <th>Γιώργος Σαραντάρης</th>\n",
       "      <th>Ηλίας Φιλίππου</th>\n",
       "      <th>Θεόδωρος Γκλαβέρης</th>\n",
       "      <th>Ιωάννης Καρασούτσας</th>\n",
       "      <th>Κωνσταντίνος Καβάφης</th>\n",
       "      <th>Κώστας Βάρναλης</th>\n",
       "      <th>Κώστας Βίρβος</th>\n",
       "      <th>Μίλτος Σαχτούρης</th>\n",
       "      <th>Πάνος Φαλάρας</th>\n",
       "      <th>Παραδοσιακό</th>\n",
       "      <th>Πυθαγόρας</th>\n",
       "      <th>Τάκης Μουσαφίρης</th>\n",
       "      <th>Τάσος Λειβαδίτης</th>\n",
       "      <th>Τζούτζη Ματζουράνη</th>\n",
       "      <th>Τόλης Νικηφόρου</th>\n",
       "      <th>Χλόη Κουτσουμπέλη</th>\n",
       "    </tr>\n",
       "  </thead>\n",
       "  <tbody>\n",
       "    <tr>\n",
       "      <th>Ανδρέας Κάλβος</th>\n",
       "      <td>61</td>\n",
       "      <td>0</td>\n",
       "      <td>0</td>\n",
       "      <td>0</td>\n",
       "      <td>1</td>\n",
       "      <td>0</td>\n",
       "      <td>0</td>\n",
       "      <td>4</td>\n",
       "      <td>0</td>\n",
       "      <td>0</td>\n",
       "      <td>0</td>\n",
       "      <td>0</td>\n",
       "      <td>0</td>\n",
       "      <td>0</td>\n",
       "      <td>0</td>\n",
       "      <td>0</td>\n",
       "      <td>0</td>\n",
       "      <td>0</td>\n",
       "      <td>0</td>\n",
       "      <td>0</td>\n",
       "    </tr>\n",
       "    <tr>\n",
       "      <th>Αχιλλέας Παράσχος</th>\n",
       "      <td>3</td>\n",
       "      <td>30</td>\n",
       "      <td>0</td>\n",
       "      <td>0</td>\n",
       "      <td>1</td>\n",
       "      <td>0</td>\n",
       "      <td>0</td>\n",
       "      <td>3</td>\n",
       "      <td>2</td>\n",
       "      <td>1</td>\n",
       "      <td>0</td>\n",
       "      <td>0</td>\n",
       "      <td>0</td>\n",
       "      <td>1</td>\n",
       "      <td>0</td>\n",
       "      <td>0</td>\n",
       "      <td>0</td>\n",
       "      <td>0</td>\n",
       "      <td>0</td>\n",
       "      <td>0</td>\n",
       "    </tr>\n",
       "    <tr>\n",
       "      <th>Γεώργιος Σουρής</th>\n",
       "      <td>2</td>\n",
       "      <td>0</td>\n",
       "      <td>23</td>\n",
       "      <td>0</td>\n",
       "      <td>1</td>\n",
       "      <td>0</td>\n",
       "      <td>0</td>\n",
       "      <td>1</td>\n",
       "      <td>3</td>\n",
       "      <td>1</td>\n",
       "      <td>0</td>\n",
       "      <td>0</td>\n",
       "      <td>0</td>\n",
       "      <td>1</td>\n",
       "      <td>0</td>\n",
       "      <td>0</td>\n",
       "      <td>1</td>\n",
       "      <td>0</td>\n",
       "      <td>0</td>\n",
       "      <td>0</td>\n",
       "    </tr>\n",
       "    <tr>\n",
       "      <th>Γιάννης Τσίγκρας</th>\n",
       "      <td>1</td>\n",
       "      <td>0</td>\n",
       "      <td>0</td>\n",
       "      <td>37</td>\n",
       "      <td>2</td>\n",
       "      <td>0</td>\n",
       "      <td>0</td>\n",
       "      <td>0</td>\n",
       "      <td>0</td>\n",
       "      <td>1</td>\n",
       "      <td>0</td>\n",
       "      <td>2</td>\n",
       "      <td>0</td>\n",
       "      <td>0</td>\n",
       "      <td>0</td>\n",
       "      <td>0</td>\n",
       "      <td>2</td>\n",
       "      <td>1</td>\n",
       "      <td>2</td>\n",
       "      <td>2</td>\n",
       "    </tr>\n",
       "    <tr>\n",
       "      <th>Γιώργος Σαραντάρης</th>\n",
       "      <td>1</td>\n",
       "      <td>0</td>\n",
       "      <td>1</td>\n",
       "      <td>1</td>\n",
       "      <td>31</td>\n",
       "      <td>0</td>\n",
       "      <td>0</td>\n",
       "      <td>0</td>\n",
       "      <td>0</td>\n",
       "      <td>1</td>\n",
       "      <td>1</td>\n",
       "      <td>0</td>\n",
       "      <td>0</td>\n",
       "      <td>1</td>\n",
       "      <td>0</td>\n",
       "      <td>1</td>\n",
       "      <td>4</td>\n",
       "      <td>2</td>\n",
       "      <td>1</td>\n",
       "      <td>0</td>\n",
       "    </tr>\n",
       "    <tr>\n",
       "      <th>Ηλίας Φιλίππου</th>\n",
       "      <td>0</td>\n",
       "      <td>0</td>\n",
       "      <td>0</td>\n",
       "      <td>1</td>\n",
       "      <td>0</td>\n",
       "      <td>42</td>\n",
       "      <td>0</td>\n",
       "      <td>0</td>\n",
       "      <td>0</td>\n",
       "      <td>0</td>\n",
       "      <td>0</td>\n",
       "      <td>0</td>\n",
       "      <td>8</td>\n",
       "      <td>1</td>\n",
       "      <td>4</td>\n",
       "      <td>2</td>\n",
       "      <td>1</td>\n",
       "      <td>1</td>\n",
       "      <td>0</td>\n",
       "      <td>0</td>\n",
       "    </tr>\n",
       "    <tr>\n",
       "      <th>Θεόδωρος Γκλαβέρης</th>\n",
       "      <td>0</td>\n",
       "      <td>0</td>\n",
       "      <td>0</td>\n",
       "      <td>1</td>\n",
       "      <td>1</td>\n",
       "      <td>0</td>\n",
       "      <td>41</td>\n",
       "      <td>0</td>\n",
       "      <td>0</td>\n",
       "      <td>0</td>\n",
       "      <td>0</td>\n",
       "      <td>0</td>\n",
       "      <td>0</td>\n",
       "      <td>0</td>\n",
       "      <td>0</td>\n",
       "      <td>0</td>\n",
       "      <td>0</td>\n",
       "      <td>0</td>\n",
       "      <td>1</td>\n",
       "      <td>0</td>\n",
       "    </tr>\n",
       "    <tr>\n",
       "      <th>Ιωάννης Καρασούτσας</th>\n",
       "      <td>8</td>\n",
       "      <td>0</td>\n",
       "      <td>2</td>\n",
       "      <td>0</td>\n",
       "      <td>0</td>\n",
       "      <td>0</td>\n",
       "      <td>0</td>\n",
       "      <td>23</td>\n",
       "      <td>0</td>\n",
       "      <td>0</td>\n",
       "      <td>0</td>\n",
       "      <td>0</td>\n",
       "      <td>0</td>\n",
       "      <td>0</td>\n",
       "      <td>0</td>\n",
       "      <td>0</td>\n",
       "      <td>0</td>\n",
       "      <td>0</td>\n",
       "      <td>0</td>\n",
       "      <td>0</td>\n",
       "    </tr>\n",
       "    <tr>\n",
       "      <th>Κωνσταντίνος Καβάφης</th>\n",
       "      <td>1</td>\n",
       "      <td>1</td>\n",
       "      <td>1</td>\n",
       "      <td>0</td>\n",
       "      <td>0</td>\n",
       "      <td>0</td>\n",
       "      <td>0</td>\n",
       "      <td>4</td>\n",
       "      <td>30</td>\n",
       "      <td>0</td>\n",
       "      <td>0</td>\n",
       "      <td>0</td>\n",
       "      <td>0</td>\n",
       "      <td>0</td>\n",
       "      <td>0</td>\n",
       "      <td>0</td>\n",
       "      <td>0</td>\n",
       "      <td>1</td>\n",
       "      <td>0</td>\n",
       "      <td>0</td>\n",
       "    </tr>\n",
       "    <tr>\n",
       "      <th>Κώστας Βάρναλης</th>\n",
       "      <td>3</td>\n",
       "      <td>1</td>\n",
       "      <td>1</td>\n",
       "      <td>2</td>\n",
       "      <td>1</td>\n",
       "      <td>2</td>\n",
       "      <td>0</td>\n",
       "      <td>0</td>\n",
       "      <td>0</td>\n",
       "      <td>18</td>\n",
       "      <td>0</td>\n",
       "      <td>1</td>\n",
       "      <td>0</td>\n",
       "      <td>1</td>\n",
       "      <td>0</td>\n",
       "      <td>3</td>\n",
       "      <td>1</td>\n",
       "      <td>0</td>\n",
       "      <td>0</td>\n",
       "      <td>1</td>\n",
       "    </tr>\n",
       "    <tr>\n",
       "      <th>Κώστας Βίρβος</th>\n",
       "      <td>0</td>\n",
       "      <td>1</td>\n",
       "      <td>1</td>\n",
       "      <td>0</td>\n",
       "      <td>0</td>\n",
       "      <td>6</td>\n",
       "      <td>0</td>\n",
       "      <td>0</td>\n",
       "      <td>0</td>\n",
       "      <td>0</td>\n",
       "      <td>10</td>\n",
       "      <td>0</td>\n",
       "      <td>1</td>\n",
       "      <td>5</td>\n",
       "      <td>3</td>\n",
       "      <td>5</td>\n",
       "      <td>1</td>\n",
       "      <td>1</td>\n",
       "      <td>0</td>\n",
       "      <td>0</td>\n",
       "    </tr>\n",
       "    <tr>\n",
       "      <th>Μίλτος Σαχτούρης</th>\n",
       "      <td>3</td>\n",
       "      <td>1</td>\n",
       "      <td>0</td>\n",
       "      <td>4</td>\n",
       "      <td>2</td>\n",
       "      <td>0</td>\n",
       "      <td>0</td>\n",
       "      <td>0</td>\n",
       "      <td>0</td>\n",
       "      <td>0</td>\n",
       "      <td>0</td>\n",
       "      <td>22</td>\n",
       "      <td>0</td>\n",
       "      <td>1</td>\n",
       "      <td>0</td>\n",
       "      <td>1</td>\n",
       "      <td>1</td>\n",
       "      <td>0</td>\n",
       "      <td>1</td>\n",
       "      <td>3</td>\n",
       "    </tr>\n",
       "    <tr>\n",
       "      <th>Πάνος Φαλάρας</th>\n",
       "      <td>0</td>\n",
       "      <td>0</td>\n",
       "      <td>0</td>\n",
       "      <td>0</td>\n",
       "      <td>0</td>\n",
       "      <td>12</td>\n",
       "      <td>0</td>\n",
       "      <td>0</td>\n",
       "      <td>0</td>\n",
       "      <td>0</td>\n",
       "      <td>0</td>\n",
       "      <td>0</td>\n",
       "      <td>12</td>\n",
       "      <td>1</td>\n",
       "      <td>2</td>\n",
       "      <td>2</td>\n",
       "      <td>0</td>\n",
       "      <td>0</td>\n",
       "      <td>1</td>\n",
       "      <td>1</td>\n",
       "    </tr>\n",
       "    <tr>\n",
       "      <th>Παραδοσιακό</th>\n",
       "      <td>7</td>\n",
       "      <td>1</td>\n",
       "      <td>1</td>\n",
       "      <td>1</td>\n",
       "      <td>3</td>\n",
       "      <td>1</td>\n",
       "      <td>0</td>\n",
       "      <td>0</td>\n",
       "      <td>0</td>\n",
       "      <td>0</td>\n",
       "      <td>2</td>\n",
       "      <td>1</td>\n",
       "      <td>0</td>\n",
       "      <td>120</td>\n",
       "      <td>5</td>\n",
       "      <td>3</td>\n",
       "      <td>1</td>\n",
       "      <td>0</td>\n",
       "      <td>1</td>\n",
       "      <td>1</td>\n",
       "    </tr>\n",
       "    <tr>\n",
       "      <th>Πυθαγόρας</th>\n",
       "      <td>0</td>\n",
       "      <td>0</td>\n",
       "      <td>1</td>\n",
       "      <td>0</td>\n",
       "      <td>1</td>\n",
       "      <td>5</td>\n",
       "      <td>0</td>\n",
       "      <td>0</td>\n",
       "      <td>0</td>\n",
       "      <td>0</td>\n",
       "      <td>3</td>\n",
       "      <td>1</td>\n",
       "      <td>2</td>\n",
       "      <td>6</td>\n",
       "      <td>19</td>\n",
       "      <td>3</td>\n",
       "      <td>1</td>\n",
       "      <td>1</td>\n",
       "      <td>0</td>\n",
       "      <td>0</td>\n",
       "    </tr>\n",
       "    <tr>\n",
       "      <th>Τάκης Μουσαφίρης</th>\n",
       "      <td>1</td>\n",
       "      <td>0</td>\n",
       "      <td>0</td>\n",
       "      <td>0</td>\n",
       "      <td>0</td>\n",
       "      <td>2</td>\n",
       "      <td>0</td>\n",
       "      <td>0</td>\n",
       "      <td>0</td>\n",
       "      <td>0</td>\n",
       "      <td>4</td>\n",
       "      <td>1</td>\n",
       "      <td>5</td>\n",
       "      <td>2</td>\n",
       "      <td>2</td>\n",
       "      <td>18</td>\n",
       "      <td>3</td>\n",
       "      <td>2</td>\n",
       "      <td>0</td>\n",
       "      <td>0</td>\n",
       "    </tr>\n",
       "    <tr>\n",
       "      <th>Τάσος Λειβαδίτης</th>\n",
       "      <td>4</td>\n",
       "      <td>0</td>\n",
       "      <td>0</td>\n",
       "      <td>3</td>\n",
       "      <td>1</td>\n",
       "      <td>0</td>\n",
       "      <td>0</td>\n",
       "      <td>0</td>\n",
       "      <td>0</td>\n",
       "      <td>0</td>\n",
       "      <td>1</td>\n",
       "      <td>1</td>\n",
       "      <td>0</td>\n",
       "      <td>1</td>\n",
       "      <td>0</td>\n",
       "      <td>1</td>\n",
       "      <td>28</td>\n",
       "      <td>1</td>\n",
       "      <td>1</td>\n",
       "      <td>0</td>\n",
       "    </tr>\n",
       "    <tr>\n",
       "      <th>Τζούτζη Ματζουράνη</th>\n",
       "      <td>0</td>\n",
       "      <td>1</td>\n",
       "      <td>0</td>\n",
       "      <td>1</td>\n",
       "      <td>2</td>\n",
       "      <td>1</td>\n",
       "      <td>0</td>\n",
       "      <td>0</td>\n",
       "      <td>1</td>\n",
       "      <td>0</td>\n",
       "      <td>0</td>\n",
       "      <td>2</td>\n",
       "      <td>1</td>\n",
       "      <td>0</td>\n",
       "      <td>0</td>\n",
       "      <td>2</td>\n",
       "      <td>1</td>\n",
       "      <td>18</td>\n",
       "      <td>1</td>\n",
       "      <td>0</td>\n",
       "    </tr>\n",
       "    <tr>\n",
       "      <th>Τόλης Νικηφόρου</th>\n",
       "      <td>1</td>\n",
       "      <td>1</td>\n",
       "      <td>0</td>\n",
       "      <td>1</td>\n",
       "      <td>1</td>\n",
       "      <td>0</td>\n",
       "      <td>0</td>\n",
       "      <td>0</td>\n",
       "      <td>0</td>\n",
       "      <td>0</td>\n",
       "      <td>1</td>\n",
       "      <td>1</td>\n",
       "      <td>0</td>\n",
       "      <td>0</td>\n",
       "      <td>0</td>\n",
       "      <td>0</td>\n",
       "      <td>2</td>\n",
       "      <td>1</td>\n",
       "      <td>28</td>\n",
       "      <td>1</td>\n",
       "    </tr>\n",
       "    <tr>\n",
       "      <th>Χλόη Κουτσουμπέλη</th>\n",
       "      <td>2</td>\n",
       "      <td>0</td>\n",
       "      <td>0</td>\n",
       "      <td>3</td>\n",
       "      <td>2</td>\n",
       "      <td>1</td>\n",
       "      <td>0</td>\n",
       "      <td>0</td>\n",
       "      <td>1</td>\n",
       "      <td>0</td>\n",
       "      <td>0</td>\n",
       "      <td>2</td>\n",
       "      <td>0</td>\n",
       "      <td>0</td>\n",
       "      <td>0</td>\n",
       "      <td>0</td>\n",
       "      <td>4</td>\n",
       "      <td>2</td>\n",
       "      <td>1</td>\n",
       "      <td>22</td>\n",
       "    </tr>\n",
       "  </tbody>\n",
       "</table>\n",
       "</div>"
      ],
      "text/plain": [
       "                     Ανδρέας Κάλβος Αχιλλέας Παράσχος Γεώργιος Σουρής  \\\n",
       "Ανδρέας Κάλβος                   61                 0               0   \n",
       "Αχιλλέας Παράσχος                 3                30               0   \n",
       "Γεώργιος Σουρής                   2                 0              23   \n",
       "Γιάννης Τσίγκρας                  1                 0               0   \n",
       "Γιώργος Σαραντάρης                1                 0               1   \n",
       "Ηλίας Φιλίππου                    0                 0               0   \n",
       "Θεόδωρος Γκλαβέρης                0                 0               0   \n",
       "Ιωάννης Καρασούτσας               8                 0               2   \n",
       "Κωνσταντίνος Καβάφης              1                 1               1   \n",
       "Κώστας Βάρναλης                   3                 1               1   \n",
       "Κώστας Βίρβος                     0                 1               1   \n",
       "Μίλτος Σαχτούρης                  3                 1               0   \n",
       "Πάνος Φαλάρας                     0                 0               0   \n",
       "Παραδοσιακό                       7                 1               1   \n",
       "Πυθαγόρας                         0                 0               1   \n",
       "Τάκης Μουσαφίρης                  1                 0               0   \n",
       "Τάσος Λειβαδίτης                  4                 0               0   \n",
       "Τζούτζη Ματζουράνη                0                 1               0   \n",
       "Τόλης Νικηφόρου                   1                 1               0   \n",
       "Χλόη Κουτσουμπέλη                 2                 0               0   \n",
       "\n",
       "                     Γιάννης Τσίγκρας Γιώργος Σαραντάρης Ηλίας Φιλίππου  \\\n",
       "Ανδρέας Κάλβος                      0                  1              0   \n",
       "Αχιλλέας Παράσχος                   0                  1              0   \n",
       "Γεώργιος Σουρής                     0                  1              0   \n",
       "Γιάννης Τσίγκρας                   37                  2              0   \n",
       "Γιώργος Σαραντάρης                  1                 31              0   \n",
       "Ηλίας Φιλίππου                      1                  0             42   \n",
       "Θεόδωρος Γκλαβέρης                  1                  1              0   \n",
       "Ιωάννης Καρασούτσας                 0                  0              0   \n",
       "Κωνσταντίνος Καβάφης                0                  0              0   \n",
       "Κώστας Βάρναλης                     2                  1              2   \n",
       "Κώστας Βίρβος                       0                  0              6   \n",
       "Μίλτος Σαχτούρης                    4                  2              0   \n",
       "Πάνος Φαλάρας                       0                  0             12   \n",
       "Παραδοσιακό                         1                  3              1   \n",
       "Πυθαγόρας                           0                  1              5   \n",
       "Τάκης Μουσαφίρης                    0                  0              2   \n",
       "Τάσος Λειβαδίτης                    3                  1              0   \n",
       "Τζούτζη Ματζουράνη                  1                  2              1   \n",
       "Τόλης Νικηφόρου                     1                  1              0   \n",
       "Χλόη Κουτσουμπέλη                   3                  2              1   \n",
       "\n",
       "                     Θεόδωρος Γκλαβέρης Ιωάννης Καρασούτσας  \\\n",
       "Ανδρέας Κάλβος                        0                   4   \n",
       "Αχιλλέας Παράσχος                     0                   3   \n",
       "Γεώργιος Σουρής                       0                   1   \n",
       "Γιάννης Τσίγκρας                      0                   0   \n",
       "Γιώργος Σαραντάρης                    0                   0   \n",
       "Ηλίας Φιλίππου                        0                   0   \n",
       "Θεόδωρος Γκλαβέρης                   41                   0   \n",
       "Ιωάννης Καρασούτσας                   0                  23   \n",
       "Κωνσταντίνος Καβάφης                  0                   4   \n",
       "Κώστας Βάρναλης                       0                   0   \n",
       "Κώστας Βίρβος                         0                   0   \n",
       "Μίλτος Σαχτούρης                      0                   0   \n",
       "Πάνος Φαλάρας                         0                   0   \n",
       "Παραδοσιακό                           0                   0   \n",
       "Πυθαγόρας                             0                   0   \n",
       "Τάκης Μουσαφίρης                      0                   0   \n",
       "Τάσος Λειβαδίτης                      0                   0   \n",
       "Τζούτζη Ματζουράνη                    0                   0   \n",
       "Τόλης Νικηφόρου                       0                   0   \n",
       "Χλόη Κουτσουμπέλη                     0                   0   \n",
       "\n",
       "                     Κωνσταντίνος Καβάφης Κώστας Βάρναλης Κώστας Βίρβος  \\\n",
       "Ανδρέας Κάλβος                          0               0             0   \n",
       "Αχιλλέας Παράσχος                       2               1             0   \n",
       "Γεώργιος Σουρής                         3               1             0   \n",
       "Γιάννης Τσίγκρας                        0               1             0   \n",
       "Γιώργος Σαραντάρης                      0               1             1   \n",
       "Ηλίας Φιλίππου                          0               0             0   \n",
       "Θεόδωρος Γκλαβέρης                      0               0             0   \n",
       "Ιωάννης Καρασούτσας                     0               0             0   \n",
       "Κωνσταντίνος Καβάφης                   30               0             0   \n",
       "Κώστας Βάρναλης                         0              18             0   \n",
       "Κώστας Βίρβος                           0               0            10   \n",
       "Μίλτος Σαχτούρης                        0               0             0   \n",
       "Πάνος Φαλάρας                           0               0             0   \n",
       "Παραδοσιακό                             0               0             2   \n",
       "Πυθαγόρας                               0               0             3   \n",
       "Τάκης Μουσαφίρης                        0               0             4   \n",
       "Τάσος Λειβαδίτης                        0               0             1   \n",
       "Τζούτζη Ματζουράνη                      1               0             0   \n",
       "Τόλης Νικηφόρου                         0               0             1   \n",
       "Χλόη Κουτσουμπέλη                       1               0             0   \n",
       "\n",
       "                     Μίλτος Σαχτούρης Πάνος Φαλάρας Παραδοσιακό Πυθαγόρας  \\\n",
       "Ανδρέας Κάλβος                      0             0           0         0   \n",
       "Αχιλλέας Παράσχος                   0             0           1         0   \n",
       "Γεώργιος Σουρής                     0             0           1         0   \n",
       "Γιάννης Τσίγκρας                    2             0           0         0   \n",
       "Γιώργος Σαραντάρης                  0             0           1         0   \n",
       "Ηλίας Φιλίππου                      0             8           1         4   \n",
       "Θεόδωρος Γκλαβέρης                  0             0           0         0   \n",
       "Ιωάννης Καρασούτσας                 0             0           0         0   \n",
       "Κωνσταντίνος Καβάφης                0             0           0         0   \n",
       "Κώστας Βάρναλης                     1             0           1         0   \n",
       "Κώστας Βίρβος                       0             1           5         3   \n",
       "Μίλτος Σαχτούρης                   22             0           1         0   \n",
       "Πάνος Φαλάρας                       0            12           1         2   \n",
       "Παραδοσιακό                         1             0         120         5   \n",
       "Πυθαγόρας                           1             2           6        19   \n",
       "Τάκης Μουσαφίρης                    1             5           2         2   \n",
       "Τάσος Λειβαδίτης                    1             0           1         0   \n",
       "Τζούτζη Ματζουράνη                  2             1           0         0   \n",
       "Τόλης Νικηφόρου                     1             0           0         0   \n",
       "Χλόη Κουτσουμπέλη                   2             0           0         0   \n",
       "\n",
       "                     Τάκης Μουσαφίρης Τάσος Λειβαδίτης Τζούτζη Ματζουράνη  \\\n",
       "Ανδρέας Κάλβος                      0                0                  0   \n",
       "Αχιλλέας Παράσχος                   0                0                  0   \n",
       "Γεώργιος Σουρής                     0                1                  0   \n",
       "Γιάννης Τσίγκρας                    0                2                  1   \n",
       "Γιώργος Σαραντάρης                  1                4                  2   \n",
       "Ηλίας Φιλίππου                      2                1                  1   \n",
       "Θεόδωρος Γκλαβέρης                  0                0                  0   \n",
       "Ιωάννης Καρασούτσας                 0                0                  0   \n",
       "Κωνσταντίνος Καβάφης                0                0                  1   \n",
       "Κώστας Βάρναλης                     3                1                  0   \n",
       "Κώστας Βίρβος                       5                1                  1   \n",
       "Μίλτος Σαχτούρης                    1                1                  0   \n",
       "Πάνος Φαλάρας                       2                0                  0   \n",
       "Παραδοσιακό                         3                1                  0   \n",
       "Πυθαγόρας                           3                1                  1   \n",
       "Τάκης Μουσαφίρης                   18                3                  2   \n",
       "Τάσος Λειβαδίτης                    1               28                  1   \n",
       "Τζούτζη Ματζουράνη                  2                1                 18   \n",
       "Τόλης Νικηφόρου                     0                2                  1   \n",
       "Χλόη Κουτσουμπέλη                   0                4                  2   \n",
       "\n",
       "                     Τόλης Νικηφόρου Χλόη Κουτσουμπέλη  \n",
       "Ανδρέας Κάλβος                     0                 0  \n",
       "Αχιλλέας Παράσχος                  0                 0  \n",
       "Γεώργιος Σουρής                    0                 0  \n",
       "Γιάννης Τσίγκρας                   2                 2  \n",
       "Γιώργος Σαραντάρης                 1                 0  \n",
       "Ηλίας Φιλίππου                     0                 0  \n",
       "Θεόδωρος Γκλαβέρης                 1                 0  \n",
       "Ιωάννης Καρασούτσας                0                 0  \n",
       "Κωνσταντίνος Καβάφης               0                 0  \n",
       "Κώστας Βάρναλης                    0                 1  \n",
       "Κώστας Βίρβος                      0                 0  \n",
       "Μίλτος Σαχτούρης                   1                 3  \n",
       "Πάνος Φαλάρας                      1                 1  \n",
       "Παραδοσιακό                        1                 1  \n",
       "Πυθαγόρας                          0                 0  \n",
       "Τάκης Μουσαφίρης                   0                 0  \n",
       "Τάσος Λειβαδίτης                   1                 0  \n",
       "Τζούτζη Ματζουράνη                 1                 0  \n",
       "Τόλης Νικηφόρου                   28                 1  \n",
       "Χλόη Κουτσουμπέλη                  1                22  "
      ]
     },
     "execution_count": 82,
     "metadata": {},
     "output_type": "execute_result"
    }
   ],
   "source": [
    "# a bit prettier\n",
    "pd.DataFrame(conf_mat,\n",
    "             columns = y_enc.categories_,\n",
    "             index=y_enc.categories_)"
   ]
  },
  {
   "cell_type": "code",
   "execution_count": 83,
   "metadata": {
    "scrolled": false
   },
   "outputs": [
    {
     "name": "stdout",
     "output_type": "stream",
     "text": [
      "                      precision    recall  f1-score   support\n",
      "\n",
      "      Ανδρέας Κάλβος       0.62      0.92      0.74        66\n",
      "   Αχιλλέας Παράσχος       0.81      0.73      0.77        41\n",
      "     Γεώργιος Σουρής       0.74      0.70      0.72        33\n",
      "    Γιάννης Τσίγκρας       0.67      0.74      0.70        50\n",
      "  Γιώργος Σαραντάρης       0.62      0.69      0.65        45\n",
      "      Ηλίας Φιλίππου       0.58      0.70      0.64        60\n",
      "  Θεόδωρος Γκλαβέρης       1.00      0.93      0.96        44\n",
      " Ιωάννης Καρασούτσας       0.66      0.70      0.68        33\n",
      "Κωνσταντίνος Καβάφης       0.81      0.79      0.80        38\n",
      "     Κώστας Βάρναλης       0.82      0.51      0.63        35\n",
      "       Κώστας Βίρβος       0.45      0.29      0.36        34\n",
      "    Μίλτος Σαχτούρης       0.65      0.56      0.60        39\n",
      "       Πάνος Φαλάρας       0.41      0.39      0.40        31\n",
      "         Παραδοσιακό       0.85      0.81      0.83       148\n",
      "           Πυθαγόρας       0.54      0.44      0.49        43\n",
      "    Τάκης Μουσαφίρης       0.44      0.45      0.44        40\n",
      "    Τάσος Λειβαδίτης       0.55      0.67      0.60        42\n",
      "  Τζούτζη Ματζουράνη       0.58      0.58      0.58        31\n",
      "     Τόλης Νικηφόρου       0.74      0.74      0.74        38\n",
      "   Χλόη Κουτσουμπέλη       0.71      0.55      0.62        40\n",
      "\n",
      "            accuracy                           0.68       931\n",
      "           macro avg       0.66      0.64      0.65       931\n",
      "        weighted avg       0.69      0.68      0.68       931\n",
      "\n"
     ]
    }
   ],
   "source": [
    "print(classification_report(y_true=y_test,\n",
    "                            y_pred=y_test_pred_lyricists))"
   ]
  },
  {
   "cell_type": "code",
   "execution_count": 84,
   "metadata": {
    "code_folding": [],
    "scrolled": false
   },
   "outputs": [
    {
     "name": "stdout",
     "output_type": "stream",
     "text": [
      "(1, 3000)\n",
      "\n",
      "Probabilities\n",
      "\n",
      "[[0.0000000e+00 8.7261987e-24 7.9707208e-20 9.7504527e-26 4.1497340e-23\n",
      "  9.9999082e-01 1.7146839e-15 2.3399044e-25 3.6367646e-22 1.7943083e-23\n",
      "  1.3268708e-16 4.0004788e-26 9.2045429e-06 7.5743944e-18 6.1377935e-18\n",
      "  3.7829961e-13 1.0583989e-15 2.0695912e-14 8.9093921e-14 3.7439031e-21]]\n",
      "\n",
      "Probabilities One Hot Vector\n",
      "\n",
      "[[0. 0. 0. 0. 0. 1. 0. 0. 0. 0. 0. 0. 0. 0. 0. 0. 0. 0. 0. 0.]]\n",
      "\n",
      "Lyricist Prediction:\n",
      "\n",
      "Ηλίας Φιλίππου\n"
     ]
    }
   ],
   "source": [
    "# Predicting a single song\n",
    "\n",
    "input_lyrics = \"\"\"\n",
    "Είναι στιγμές που δεν ανέχομαι, \n",
    "να είσαι το λάθος μου, πάθος μου\n",
    "και αφορμές ψάχνεις και χάνεσαι.\n",
    "Μα τι αισθάνεσαι πια.\n",
    "\n",
    "Όνειρα και σώματα δίχως πια ονόματα\n",
    "έγιναν ασήμαντα της ψυχής τα σύμπαντα.\n",
    "Άλλο δε μου πάει να `μαι εδώ στο ίδιο έργο\n",
    "παίρνω την καρδιά μου και άντε γεια, σου λέω φεύγω.\n",
    "Τώρα είναι αργά, πολύ αργά να κάνω πίσω\n",
    "θέλω επιτέλους μια φορά κι εγώ να ζήσω.\n",
    "\n",
    "Είναι στιγμές που νιώθω μέσα μου, \n",
    "άδειο το σώμα μου, σώμα μου.\n",
    "Όσες φορές δίπλα σου έμεινα\n",
    "ύστερα ξέμεινα πια.\n",
    "\n",
    "Όνειρα και σώματα δίχως πια ονόματα\n",
    "έγιναν ασήμαντα της ψυχής τα σύμπαντα.\n",
    "Άλλο δε μου πάει να `μαι εδώ στο ίδιο έργο\n",
    "παίρνω την καρδιά μου και άντε γεια, σου λέω φεύγω.\n",
    "Τώρα είναι αργά, πολύ αργά να κάνω πίσω\n",
    "θέλω επιτέλους μια φορά κι εγώ να ζήσω.\n",
    "\n",
    "Άλλο δε μου πάει να `μαι εδώ\n",
    "παίρνω την καρδιά μου και άντε γεια.\n",
    "Τώρα είναι αργά, πολύ αργά\n",
    "θέλω επιτέλους μια φορά.\n",
    "\n",
    "Άλλο δε μου πάει να `μαι εδώ στο ίδιο έργο\n",
    "παίρνω την καρδιά μου και άντε γεια, σου λέω φεύγω, \n",
    "Τώρα είναι αργά, πολύ αργά να κάνω πίσω\n",
    "θέλω επιτέλους μια φορά κι εγώ να ζήσω.\n",
    "\"\"\"\n",
    "\n",
    "# vectorizing Song with Count Vectorizer\n",
    "lyrics_vect = counter_vectorizer.transform([input_lyrics])\n",
    "\n",
    "print(lyrics_vect.shape, end='\\n\\n')\n",
    "\n",
    "lyrics_pred = model.predict(lyrics_vect)\n",
    "\n",
    "print('Probabilities', end='\\n\\n')\n",
    "print(lyrics_pred, end='\\n\\n')\n",
    "\n",
    "lyrics_pred_hot = get_one_hot_predictions(lyrics_pred)\n",
    "\n",
    "print('Probabilities One Hot Vector', end='\\n\\n')\n",
    "print(lyrics_pred_hot, end='\\n\\n')\n",
    "\n",
    "print('Lyricist Prediction:', end='\\n\\n')\n",
    "print(y_enc.inverse_transform(lyrics_pred_hot)[0][0])"
   ]
  },
  {
   "cell_type": "code",
   "execution_count": 85,
   "metadata": {},
   "outputs": [
    {
     "data": {
      "text/html": [
       "<img src=\"https://www.skipprichard.com/wp-content/uploads/2016/10/bigstock-Question-Mark-114454214-583x437.jpg\"/>"
      ],
      "text/plain": [
       "<IPython.core.display.Image object>"
      ]
     },
     "execution_count": 85,
     "metadata": {},
     "output_type": "execute_result"
    }
   ],
   "source": [
    "Image(url= \"https://www.skipprichard.com/wp-content/uploads/2016/10/bigstock-Question-Mark-114454214-583x437.jpg\")"
   ]
  }
 ],
 "metadata": {
  "kernelspec": {
   "display_name": "Python 3",
   "language": "python",
   "name": "python3"
  },
  "language_info": {
   "codemirror_mode": {
    "name": "ipython",
    "version": 3
   },
   "file_extension": ".py",
   "mimetype": "text/x-python",
   "name": "python",
   "nbconvert_exporter": "python",
   "pygments_lexer": "ipython3",
   "version": "3.7.9"
  },
  "toc": {
   "base_numbering": 1,
   "nav_menu": {},
   "number_sections": true,
   "sideBar": true,
   "skip_h1_title": false,
   "title_cell": "Table of Contents",
   "title_sidebar": "Contents",
   "toc_cell": false,
   "toc_position": {},
   "toc_section_display": "block",
   "toc_window_display": false
  }
 },
 "nbformat": 4,
 "nbformat_minor": 2
}
