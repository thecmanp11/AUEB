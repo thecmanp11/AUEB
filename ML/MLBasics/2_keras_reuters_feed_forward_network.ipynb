{
 "cells": [
  {
   "cell_type": "markdown",
   "metadata": {},
   "source": [
    "# Big Data Content Analytics - AUEB\n",
    "\n",
    "## Introduction to Feed Forward Networks \n",
    "\n",
    "* Lab Assistant: George Perakis\n",
    "* Email: gperakis[at]aeub.gr "
   ]
  },
  {
   "cell_type": "markdown",
   "metadata": {},
   "source": [
    "### Importing Modules"
   ]
  },
  {
   "cell_type": "code",
   "execution_count": 1,
   "metadata": {},
   "outputs": [],
   "source": [
    "# The first time you run the project be sure to uncomment and run the installation\n",
    "# of the following tensorflow version\n",
    "\n",
    "# !pip install tensorflow"
   ]
  },
  {
   "cell_type": "code",
   "execution_count": 2,
   "metadata": {},
   "outputs": [],
   "source": [
    "'''\n",
    "Trains and evaluate a simple Feed Forwad Network\n",
    "on the Reuters newswire topic classification task.\n",
    "'''\n",
    "\n",
    "from __future__ import print_function\n",
    "import numpy as np\n",
    "\n",
    "np.random.seed(1337)  # for reproducibility\n",
    "\n",
    "from tensorflow.keras.datasets import reuters\n",
    "\n",
    "from tensorflow.keras.models import Sequential\n",
    "from tensorflow.keras.layers import Dense, Dropout, Activation\n",
    "from tensorflow.keras.utils import to_categorical\n",
    "from tensorflow.keras.preprocessing.text import Tokenizer\n",
    "\n",
    "from tensorflow.keras import metrics\n",
    "\n",
    "from pprint import pprint\n",
    "\n",
    "import matplotlib.pyplot as plt\n",
    "from IPython.display import Image\n",
    "from IPython.core.display import HTML \n",
    "\n",
    "%matplotlib inline\n"
   ]
  },
  {
   "cell_type": "markdown",
   "metadata": {},
   "source": [
    "### ETL Process (extract - transform - load)"
   ]
  },
  {
   "cell_type": "code",
   "execution_count": 3,
   "metadata": {},
   "outputs": [],
   "source": [
    "# https://s3.amazonaws.com/text-datasets/reuters.npz\n",
    "# Dataset of 11,228 newswires from Reuters, labeled over 46 topics.\n",
    "# As with the IMDB dataset, each wire is encoded as a sequence of word indexes (same conventions)."
   ]
  },
  {
   "cell_type": "code",
   "execution_count": 33,
   "metadata": {},
   "outputs": [
    {
     "name": "stdout",
     "output_type": "stream",
     "text": [
      "Loading data...\n",
      "[1, 2, 2, 8, 43, 10, 447, 5, 25, 207, 270, 5, 2, 111, 16, 369, 186, 90, 67, 7, 89, 5, 19, 102, 6, 19, 124, 15, 90, 67, 84, 22, 482, 26, 7, 48, 4, 49, 8, 864, 39, 209, 154, 6, 151, 6, 83, 11, 15, 22, 155, 11, 15, 7, 48, 9, 2, 1005, 504, 6, 258, 6, 272, 11, 15, 22, 134, 44, 11, 15, 16, 8, 197, 1245, 90, 67, 52, 29, 209, 30, 32, 132, 6, 109, 15, 17, 12]\n",
      "\n",
      "[1, 4, 1378, 2, 9, 697, 2, 111, 8, 25, 109, 29, 2, 11, 150, 244, 364, 33, 30, 30, 1398, 333, 6, 2, 159, 9, 1084, 363, 13, 2, 71, 9, 2, 71, 117, 4, 225, 78, 206, 10, 9, 1214, 8, 4, 270, 5, 2, 7, 748, 48, 9, 2, 7, 207, 1451, 966, 1864, 793, 97, 133, 336, 7, 4, 493, 98, 273, 104, 284, 25, 39, 338, 22, 905, 220, 2, 644, 59, 20, 6, 119, 61, 11, 15, 58, 579, 26, 10, 67, 7, 4, 738, 98, 43, 88, 333, 722, 12, 20, 6, 19, 746, 35, 15, 10, 9, 1214, 855, 129, 783, 21, 4, 2, 244, 364, 51, 16, 299, 452, 16, 515, 4, 99, 29, 5, 4, 364, 281, 48, 10, 9, 1214, 23, 644, 47, 20, 324, 27, 56, 2, 2, 5, 192, 510, 17, 12]\n"
     ]
    }
   ],
   "source": [
    "# define the vocabulary\n",
    "max_words = 2000\n",
    "\n",
    "print('Loading data...')\n",
    "\n",
    "# load the features and splitting in train - test (validation)\n",
    "\n",
    "(X_train, y_train), (X_test, y_test) = reuters.load_data(num_words=max_words, test_split=0.2)\n",
    "\n",
    "print(X_train[0])\n",
    "print()\n",
    "print(X_test[0])"
   ]
  },
  {
   "cell_type": "code",
   "execution_count": 5,
   "metadata": {},
   "outputs": [
    {
     "name": "stdout",
     "output_type": "stream",
     "text": [
      "Row 1, Number of tokens: 87\n",
      "Row 2, Number of tokens: 56\n",
      "Row 3, Number of tokens: 139\n",
      "Row 4, Number of tokens: 224\n",
      "Row 5, Number of tokens: 101\n",
      "Row 6, Number of tokens: 116\n",
      "Row 7, Number of tokens: 100\n",
      "Row 8, Number of tokens: 100\n",
      "Row 9, Number of tokens: 82\n",
      "Row 10, Number of tokens: 106\n"
     ]
    }
   ],
   "source": [
    "for i, row in enumerate(X_train[:10]):\n",
    "    print('Row {}, Number of tokens: {}'.format(i+1, len(row)))"
   ]
  },
  {
   "cell_type": "code",
   "execution_count": 6,
   "metadata": {},
   "outputs": [
    {
     "name": "stdout",
     "output_type": "stream",
     "text": [
      "8982 train sequences\n",
      "2246 test sequences\n",
      "\n",
      "Classes: \n",
      "[0, 1, 2, 3, 4, 5, 6, 7, 8, 9, 10, 11, 12, 13, 14, 15, 16, 17, 18, 19, 20, 21, 22, 23, 24, 25, 26, 27, 28, 29, 30, 31, 32, 33, 34, 35, 36, 37, 38, 39, 40, 41, 42, 43, 44, 45]\n",
      "46 classes\n"
     ]
    }
   ],
   "source": [
    "# When we say newswires we mean press release feeds or press release \n",
    "# distribution services\n",
    "print(len(X_train), 'train sequences')\n",
    "print(len(X_test), 'test sequences', end='\\n\\n')\n",
    "\n",
    "print('Classes: ')\n",
    "print(sorted(set(y_train)))\n",
    "\n",
    "# print the number of total distinct classes\n",
    "nb_classes = np.max(y_train) + 1\n",
    "\n",
    "print(nb_classes, 'classes')"
   ]
  },
  {
   "cell_type": "markdown",
   "metadata": {},
   "source": [
    "#### Convert Sequential Data (X) to One-Hot Vectors"
   ]
  },
  {
   "cell_type": "code",
   "execution_count": 7,
   "metadata": {},
   "outputs": [
    {
     "name": "stdout",
     "output_type": "stream",
     "text": [
      "Vectorizing sequence data...\n"
     ]
    }
   ],
   "source": [
    "print('Vectorizing sequence data...')\n",
    "\n",
    "tokenizer = Tokenizer(num_words=max_words)"
   ]
  },
  {
   "cell_type": "code",
   "execution_count": 8,
   "metadata": {},
   "outputs": [
    {
     "name": "stdout",
     "output_type": "stream",
     "text": [
      "X_train shape: (8982, 2000)\n",
      "X_train example:\n",
      "\n",
      "[0. 1. 1. ... 0. 0. 0.]\n"
     ]
    }
   ],
   "source": [
    "# Each feature set is a multi-hot vector  \n",
    "X_train = tokenizer.sequences_to_matrix(X_train, \n",
    "                                        mode='binary')\n",
    "\n",
    "print('X_train shape:', X_train.shape)\n",
    "print('X_train example:', end='\\n\\n')\n",
    "\n",
    "print(X_train[0])"
   ]
  },
  {
   "cell_type": "code",
   "execution_count": 9,
   "metadata": {
    "scrolled": true
   },
   "outputs": [
    {
     "name": "stdout",
     "output_type": "stream",
     "text": [
      "X_test shape: (2246, 2000)\n",
      "X_test example:\n",
      "\n",
      "[0. 1. 1. ... 0. 0. 0.]\n"
     ]
    }
   ],
   "source": [
    "X_test = tokenizer.sequences_to_matrix(X_test,\n",
    "                                       mode='binary')\n",
    "\n",
    "print('X_test shape:', X_test.shape)\n",
    "print('X_test example:', end='\\n\\n')\n",
    "\n",
    "print(X_test[0])"
   ]
  },
  {
   "cell_type": "markdown",
   "metadata": {
    "scrolled": true
   },
   "source": [
    "### Labels Encoding "
   ]
  },
  {
   "cell_type": "code",
   "execution_count": 10,
   "metadata": {},
   "outputs": [
    {
     "name": "stdout",
     "output_type": "stream",
     "text": [
      "Convert class vector to binary class matrix (for use with categorical_crossentropy)\n",
      "Y_train shape: (8982, 46)\n",
      "Y_test shape: (2246, 46)\n"
     ]
    }
   ],
   "source": [
    "print('Convert class vector to binary class matrix (for use with categorical_crossentropy)')\n",
    "\n",
    "# to_categorical() function converts the labels to one_hot_encoding\n",
    "Y_train = to_categorical(y_train, nb_classes)\n",
    "\n",
    "Y_test = to_categorical(y_test, nb_classes)\n",
    "\n",
    "print('Y_train shape:', Y_train.shape)\n",
    "\n",
    "print('Y_test shape:', Y_test.shape)"
   ]
  },
  {
   "cell_type": "code",
   "execution_count": 11,
   "metadata": {},
   "outputs": [
    {
     "data": {
      "text/plain": [
       "array([[0., 0., 0., ..., 0., 0., 0.],\n",
       "       [0., 0., 0., ..., 0., 0., 0.],\n",
       "       [0., 1., 0., ..., 0., 0., 0.],\n",
       "       ...,\n",
       "       [0., 0., 0., ..., 0., 0., 0.],\n",
       "       [0., 0., 0., ..., 0., 0., 0.],\n",
       "       [0., 0., 0., ..., 0., 0., 0.]], dtype=float32)"
      ]
     },
     "execution_count": 11,
     "metadata": {},
     "output_type": "execute_result"
    }
   ],
   "source": [
    "Y_test"
   ]
  },
  {
   "cell_type": "code",
   "execution_count": 12,
   "metadata": {},
   "outputs": [
    {
     "data": {
      "text/plain": [
       "array([1., 1., 1., ..., 1., 1., 1.], dtype=float32)"
      ]
     },
     "execution_count": 12,
     "metadata": {},
     "output_type": "execute_result"
    }
   ],
   "source": [
    "Y_test.sum(axis=1)"
   ]
  },
  {
   "cell_type": "markdown",
   "metadata": {},
   "source": [
    "### Model Build and Fit"
   ]
  },
  {
   "cell_type": "code",
   "execution_count": 13,
   "metadata": {},
   "outputs": [],
   "source": [
    "# Model Imports\n",
    "# !pip install pydot\n",
    "# !pip install graphviz\n",
    "from tensorflow.keras.utils import plot_model\n",
    "import pydot"
   ]
  },
  {
   "cell_type": "code",
   "execution_count": 14,
   "metadata": {},
   "outputs": [
    {
     "name": "stdout",
     "output_type": "stream",
     "text": [
      "Batch size: 32\n",
      "Number of Epochs: 20\n",
      "Number of Classes (Labels): 46\n"
     ]
    }
   ],
   "source": [
    "# Some parameters that we will use:\n",
    "\n",
    "# define the batch size\n",
    "batch_size = 32\n",
    "\n",
    "# define number of epochs\n",
    "nb_epoch = 20\n",
    "\n",
    "print('Batch size: {}'.format(batch_size))\n",
    "print('Number of Epochs: {}'.format(nb_epoch))\n",
    "print('Number of Classes (Labels): {}'.format(nb_classes))"
   ]
  },
  {
   "cell_type": "code",
   "execution_count": 15,
   "metadata": {},
   "outputs": [],
   "source": [
    "##### Model Setup"
   ]
  },
  {
   "cell_type": "code",
   "execution_count": 16,
   "metadata": {},
   "outputs": [
    {
     "name": "stdout",
     "output_type": "stream",
     "text": [
      "Building model...\n",
      "Model: \"sequential\"\n",
      "_________________________________________________________________\n",
      "Layer (type)                 Output Shape              Param #   \n",
      "=================================================================\n",
      "dense (Dense)                (None, 512)               1024512   \n",
      "_________________________________________________________________\n",
      "activation (Activation)      (None, 512)               0         \n",
      "_________________________________________________________________\n",
      "dense_1 (Dense)              (None, 46)                23598     \n",
      "_________________________________________________________________\n",
      "activation_1 (Activation)    (None, 46)                0         \n",
      "=================================================================\n",
      "Total params: 1,048,110\n",
      "Trainable params: 1,048,110\n",
      "Non-trainable params: 0\n",
      "_________________________________________________________________\n",
      "None\n"
     ]
    }
   ],
   "source": [
    "print('Building model...')\n",
    "# The model that we will use is a sequential model meaning that\n",
    "# each layer that we add per line will use as input the output of the \n",
    "# former layer added to the model\n",
    "\n",
    "# define an empty sequential structure \n",
    "model = Sequential()\n",
    "\n",
    "# add a dense layer (MLP)  (512 neurons)\n",
    "model.add(Dense(512, input_shape=(max_words,)))\n",
    "\n",
    "# use a relu activation on MLP's outputs\n",
    "model.add(Activation('relu'))\n",
    "\n",
    "# use a dropout layer with with 20% of inputs droped\n",
    "# model.add(Dropout(0.2))\n",
    "\n",
    "# add a dense layer (MLP) \n",
    "model.add(Dense(nb_classes))\n",
    "\n",
    "# use a softmax activation on 2nd MLP's outputs\n",
    "model.add(Activation('softmax'))\n",
    "# we have defined the structure of the model\n",
    "\n",
    "# print model layers' info\n",
    "print(model.summary())"
   ]
  },
  {
   "cell_type": "code",
   "execution_count": 17,
   "metadata": {
    "scrolled": false
   },
   "outputs": [],
   "source": [
    "# plot_model(model,\n",
    "#            to_file='reuters_model_plot.png',\n",
    "#            show_shapes=True,\n",
    "#            show_layer_names=True)"
   ]
  },
  {
   "cell_type": "markdown",
   "metadata": {},
   "source": [
    "#### Compiling the model"
   ]
  },
  {
   "cell_type": "code",
   "execution_count": 18,
   "metadata": {},
   "outputs": [],
   "source": [
    "# we compile the model \n",
    "# using categorical crossentropy as a loss function\n",
    "# and stochastic gradient descend as an optimizer\n",
    "# Finally we measure Mean Absolute Error and Accuracy metrics\n",
    "model.compile(\n",
    "    loss='categorical_crossentropy',\n",
    "    optimizer='sgd',\n",
    "    metrics=[\n",
    "        metrics.mae,\n",
    "        metrics.categorical_accuracy\n",
    "    ],\n",
    ")\n",
    "# we have compiled a model and it is ready to be trained"
   ]
  },
  {
   "cell_type": "code",
   "execution_count": 19,
   "metadata": {},
   "outputs": [
    {
     "name": "stdout",
     "output_type": "stream",
     "text": [
      "Ideally we want to find the Global Minimum of a surface like the following\n"
     ]
    },
    {
     "data": {
      "text/html": [
       "<img src=\"https://blog.algorithmia.com/wp-content/uploads/2018/04/word-image-4.png\"/>"
      ],
      "text/plain": [
       "<IPython.core.display.Image object>"
      ]
     },
     "execution_count": 19,
     "metadata": {},
     "output_type": "execute_result"
    }
   ],
   "source": [
    "print('Ideally we want to find the Global Minimum of a surface like the following')\n",
    "Image(url='https://blog.algorithmia.com/wp-content/uploads/2018/04/word-image-4.png')"
   ]
  },
  {
   "cell_type": "markdown",
   "metadata": {},
   "source": [
    "### Fitting (training) our Feed Forward Network Model"
   ]
  },
  {
   "cell_type": "code",
   "execution_count": 20,
   "metadata": {},
   "outputs": [
    {
     "name": "stdout",
     "output_type": "stream",
     "text": [
      "Epoch 1/20\n",
      "253/253 [==============================] - 2s 7ms/step - loss: 2.9539 - mean_absolute_error: 0.0383 - categorical_accuracy: 0.3692 - val_loss: 1.9415 - val_mean_absolute_error: 0.0287 - val_categorical_accuracy: 0.5206\n",
      "Epoch 2/20\n",
      "253/253 [==============================] - 1s 4ms/step - loss: 1.8098 - mean_absolute_error: 0.0267 - categorical_accuracy: 0.5575 - val_loss: 1.7161 - val_mean_absolute_error: 0.0251 - val_categorical_accuracy: 0.5918\n",
      "Epoch 3/20\n",
      "253/253 [==============================] - 1s 4ms/step - loss: 1.5564 - mean_absolute_error: 0.0233 - categorical_accuracy: 0.6302 - val_loss: 1.5910 - val_mean_absolute_error: 0.0233 - val_categorical_accuracy: 0.6429\n",
      "Epoch 4/20\n",
      "253/253 [==============================] - 1s 4ms/step - loss: 1.4436 - mean_absolute_error: 0.0217 - categorical_accuracy: 0.6679 - val_loss: 1.5037 - val_mean_absolute_error: 0.0220 - val_categorical_accuracy: 0.6696\n",
      "Epoch 5/20\n",
      "253/253 [==============================] - 1s 4ms/step - loss: 1.3803 - mean_absolute_error: 0.0207 - categorical_accuracy: 0.6866 - val_loss: 1.4356 - val_mean_absolute_error: 0.0210 - val_categorical_accuracy: 0.6863\n",
      "Epoch 6/20\n",
      "253/253 [==============================] - 1s 4ms/step - loss: 1.2749 - mean_absolute_error: 0.0195 - categorical_accuracy: 0.7171 - val_loss: 1.3794 - val_mean_absolute_error: 0.0203 - val_categorical_accuracy: 0.7008\n",
      "Epoch 7/20\n",
      "253/253 [==============================] - 1s 4ms/step - loss: 1.2132 - mean_absolute_error: 0.0188 - categorical_accuracy: 0.7295 - val_loss: 1.3371 - val_mean_absolute_error: 0.0199 - val_categorical_accuracy: 0.7141\n",
      "Epoch 8/20\n",
      "253/253 [==============================] - 1s 4ms/step - loss: 1.1427 - mean_absolute_error: 0.0180 - categorical_accuracy: 0.7492 - val_loss: 1.2996 - val_mean_absolute_error: 0.0193 - val_categorical_accuracy: 0.7297\n",
      "Epoch 9/20\n",
      "253/253 [==============================] - 1s 4ms/step - loss: 1.0824 - mean_absolute_error: 0.0173 - categorical_accuracy: 0.7614 - val_loss: 1.2704 - val_mean_absolute_error: 0.0188 - val_categorical_accuracy: 0.7330\n",
      "Epoch 10/20\n",
      "253/253 [==============================] - 1s 4ms/step - loss: 1.0423 - mean_absolute_error: 0.0166 - categorical_accuracy: 0.7711 - val_loss: 1.2417 - val_mean_absolute_error: 0.0184 - val_categorical_accuracy: 0.7353\n",
      "Epoch 11/20\n",
      "253/253 [==============================] - 1s 4ms/step - loss: 1.0419 - mean_absolute_error: 0.0166 - categorical_accuracy: 0.7719 - val_loss: 1.2197 - val_mean_absolute_error: 0.0180 - val_categorical_accuracy: 0.7353\n",
      "Epoch 12/20\n",
      "253/253 [==============================] - 1s 4ms/step - loss: 0.9625 - mean_absolute_error: 0.0157 - categorical_accuracy: 0.7903 - val_loss: 1.1971 - val_mean_absolute_error: 0.0177 - val_categorical_accuracy: 0.7464\n",
      "Epoch 13/20\n",
      "253/253 [==============================] - 1s 4ms/step - loss: 0.9423 - mean_absolute_error: 0.0155 - categorical_accuracy: 0.7921 - val_loss: 1.1772 - val_mean_absolute_error: 0.0176 - val_categorical_accuracy: 0.7442\n",
      "Epoch 14/20\n",
      "253/253 [==============================] - 1s 4ms/step - loss: 0.9147 - mean_absolute_error: 0.0153 - categorical_accuracy: 0.8000 - val_loss: 1.1581 - val_mean_absolute_error: 0.0173 - val_categorical_accuracy: 0.7508\n",
      "Epoch 15/20\n",
      "253/253 [==============================] - 1s 4ms/step - loss: 0.8896 - mean_absolute_error: 0.0149 - categorical_accuracy: 0.8043 - val_loss: 1.1414 - val_mean_absolute_error: 0.0171 - val_categorical_accuracy: 0.7564\n",
      "Epoch 16/20\n",
      "253/253 [==============================] - 1s 4ms/step - loss: 0.8497 - mean_absolute_error: 0.0144 - categorical_accuracy: 0.8104 - val_loss: 1.1257 - val_mean_absolute_error: 0.0169 - val_categorical_accuracy: 0.7608\n",
      "Epoch 17/20\n",
      "253/253 [==============================] - 1s 4ms/step - loss: 0.8443 - mean_absolute_error: 0.0144 - categorical_accuracy: 0.8126 - val_loss: 1.1162 - val_mean_absolute_error: 0.0168 - val_categorical_accuracy: 0.7620\n",
      "Epoch 18/20\n",
      "253/253 [==============================] - 1s 4ms/step - loss: 0.7933 - mean_absolute_error: 0.0137 - categorical_accuracy: 0.8238 - val_loss: 1.1021 - val_mean_absolute_error: 0.0166 - val_categorical_accuracy: 0.7631\n",
      "Epoch 19/20\n",
      "253/253 [==============================] - 1s 4ms/step - loss: 0.7615 - mean_absolute_error: 0.0134 - categorical_accuracy: 0.8285 - val_loss: 1.0914 - val_mean_absolute_error: 0.0165 - val_categorical_accuracy: 0.7608\n",
      "Epoch 20/20\n",
      "253/253 [==============================] - 1s 4ms/step - loss: 0.7329 - mean_absolute_error: 0.0130 - categorical_accuracy: 0.8347 - val_loss: 1.0757 - val_mean_absolute_error: 0.0164 - val_categorical_accuracy: 0.7597\n"
     ]
    }
   ],
   "source": [
    "# We train (fit our data to) our model\n",
    "history = model.fit(\n",
    "    X_train,                      # features\n",
    "    Y_train,                      # labels\n",
    "    epochs=nb_epoch,              # numbers of epochs\n",
    "    batch_size=batch_size,        # define batch size\n",
    "    verbose=1,                    # the most extended verbose\n",
    "    validation_split=0.1          # 90% for train and 10% for validation\n",
    ")"
   ]
  },
  {
   "cell_type": "code",
   "execution_count": 21,
   "metadata": {
    "scrolled": true
   },
   "outputs": [],
   "source": [
    "# uncomment if you want to see detailed history information of your training\n",
    "# pprint(history.history)"
   ]
  },
  {
   "cell_type": "code",
   "execution_count": 22,
   "metadata": {
    "code_folding": [
     0
    ]
   },
   "outputs": [],
   "source": [
    "def plot_keras_history(history):\n",
    "    \"\"\"\n",
    "    \n",
    "    :param history: \n",
    "    :return: \n",
    "    \"\"\"\n",
    "    # the history object gives the metrics keys. \n",
    "    # we will store the metrics keys that are from the training sesion.\n",
    "    metrics_names = [key for key in history.history.keys() if not key.startswith('val_')]\n",
    "\n",
    "    for i, metric in enumerate(metrics_names):\n",
    "        \n",
    "        # getting the training values\n",
    "        metric_train_values = history.history.get(metric, [])\n",
    "        \n",
    "        # getting the validation values\n",
    "        metric_val_values = history.history.get(\"val_{}\".format(metric), [])\n",
    "\n",
    "        # As loss always exists as a metric we use it to find the \n",
    "        epochs = range(1, len(metric_train_values) + 1)\n",
    "        \n",
    "        # leaving extra spaces to allign with the validation text\n",
    "        training_text = \"   Training {}: {:.5f}\".format(metric,\n",
    "                                                        metric_train_values[-1])\n",
    "\n",
    "        # metric\n",
    "        plt.figure(i, figsize=(12, 6))\n",
    "\n",
    "        plt.plot(epochs,\n",
    "                 metric_train_values,\n",
    "                 'b',\n",
    "                 label=training_text)\n",
    "        \n",
    "        # if we validation metric exists, then plot that as well\n",
    "        if metric_val_values:\n",
    "            validation_text = \"Validation {}: {:.5f}\".format(metric,\n",
    "                                                             metric_val_values[-1])\n",
    "\n",
    "            plt.plot(epochs,\n",
    "                     metric_val_values,\n",
    "                     'g',\n",
    "                     label=validation_text)\n",
    "        \n",
    "        # add title, xlabel, ylabe, and legend\n",
    "        plt.title('Model Metric: {}'.format(metric))\n",
    "        plt.xlabel('Epochs')\n",
    "        plt.ylabel(metric.title())\n",
    "        plt.legend()\n",
    "\n",
    "    plt.show()"
   ]
  },
  {
   "cell_type": "code",
   "execution_count": 23,
   "metadata": {
    "scrolled": false
   },
   "outputs": [
    {
     "data": {
      "image/png": "[encoded data removed]",
      "text/plain": [
       "<Figure size 864x432 with 1 Axes>"
      ]
     },
     "metadata": {
      "needs_background": "light"
     },
     "output_type": "display_data"
    },
    {
     "data": {
      "image/png": "[encoded data removed]",
      "text/plain": [
       "<Figure size 864x432 with 1 Axes>"
      ]
     },
     "metadata": {
      "needs_background": "light"
     },
     "output_type": "display_data"
    },
    {
     "data": {
      "image/png": "[encoded data removed]",
      "text/plain": [
       "<Figure size 864x432 with 1 Axes>"
      ]
     },
     "metadata": {
      "needs_background": "light"
     },
     "output_type": "display_data"
    }
   ],
   "source": [
    "plot_keras_history(history)"
   ]
  },
  {
   "cell_type": "markdown",
   "metadata": {},
   "source": [
    "### Model Evaluation"
   ]
  },
  {
   "cell_type": "code",
   "execution_count": 24,
   "metadata": {},
   "outputs": [
    {
     "name": "stdout",
     "output_type": "stream",
     "text": [
      "71/71 [==============================] - 0s 4ms/step - loss: 1.0243 - mean_absolute_error: 0.0157 - categorical_accuracy: 0.7649\n",
      "\n",
      "Test categorical_crossentropy: 1.0242841243743896\n",
      "\n",
      "Test mean_absolute_error: 0.015668313950300217\n",
      "\n",
      "Test accuracy: 76.492 %\n"
     ]
    }
   ],
   "source": [
    "# evaluate and store on score variable\n",
    "score = model.evaluate(\n",
    "    X_test,                  # features\n",
    "    Y_test,                  # labels\n",
    "    batch_size=batch_size,   # batch size\n",
    "    verbose=1                # the most extended verbose\n",
    ")\n",
    "\n",
    "# use to yield probability distribution over the categories\n",
    "# model.predict_proba(np.array([X_test[0]]))[0]\n",
    "\n",
    "# use to yield the predicted classes\n",
    "# model.predict_classes(np.array([X_test[0]]))[0] == y_test[0]\n",
    "\n",
    "print('\\nTest categorical_crossentropy:', score[0])\n",
    "print('\\nTest mean_absolute_error:', score[1])\n",
    "print('\\nTest accuracy: {:.3f} %'.format(score[2]*100))"
   ]
  },
  {
   "cell_type": "code",
   "execution_count": 25,
   "metadata": {},
   "outputs": [],
   "source": [
    "### Trial of a deeper network"
   ]
  },
  {
   "cell_type": "code",
   "execution_count": 26,
   "metadata": {},
   "outputs": [
    {
     "name": "stdout",
     "output_type": "stream",
     "text": [
      "Building model...\n",
      "Model: \"sequential_1\"\n",
      "_________________________________________________________________\n",
      "Layer (type)                 Output Shape              Param #   \n",
      "=================================================================\n",
      "dense_2 (Dense)              (None, 512)               1024512   \n",
      "_________________________________________________________________\n",
      "activation_2 (Activation)    (None, 512)               0         \n",
      "_________________________________________________________________\n",
      "dropout (Dropout)            (None, 512)               0         \n",
      "_________________________________________________________________\n",
      "dense_3 (Dense)              (None, 512)               262656    \n",
      "_________________________________________________________________\n",
      "activation_3 (Activation)    (None, 512)               0         \n",
      "_________________________________________________________________\n",
      "dropout_1 (Dropout)          (None, 512)               0         \n",
      "_________________________________________________________________\n",
      "dense_4 (Dense)              (None, 512)               262656    \n",
      "_________________________________________________________________\n",
      "activation_4 (Activation)    (None, 512)               0         \n",
      "_________________________________________________________________\n",
      "dropout_2 (Dropout)          (None, 512)               0         \n",
      "_________________________________________________________________\n",
      "dense_5 (Dense)              (None, 46)                23598     \n",
      "_________________________________________________________________\n",
      "activation_5 (Activation)    (None, 46)                0         \n",
      "=================================================================\n",
      "Total params: 1,573,422\n",
      "Trainable params: 1,573,422\n",
      "Non-trainable params: 0\n",
      "_________________________________________________________________\n",
      "None\n"
     ]
    }
   ],
   "source": [
    "print('Building model...')\n",
    "# The model that we will use is a sequential model meaning that\n",
    "# each layer that we add per line will use as input the output of the \n",
    "# former layer added to the model\n",
    "\n",
    "dropout_rate = 0.4\n",
    "\n",
    "# define an empty sequential structure \n",
    "model2 = Sequential()\n",
    "\n",
    "# add a dense layer (MLP)  (512 neurons)\n",
    "model2.add(Dense(512, input_shape=(max_words,)))\n",
    "\n",
    "# use a relu activation on MLP's outputs\n",
    "model2.add(Activation('relu'))\n",
    "\n",
    "# use a dropout layer with with 40% of inputs droped\n",
    "model2.add(Dropout(dropout_rate))\n",
    "\n",
    "# add a dense layer (MLP)  (512 neurons)\n",
    "model2.add(Dense(512, input_shape=(max_words,)))\n",
    "\n",
    "# use a relu activation on MLP's outputs\n",
    "model2.add(Activation('relu'))\n",
    "\n",
    "# use a dropout layer with with 40% of inputs droped\n",
    "model2.add(Dropout(dropout_rate))\n",
    "\n",
    "# add a dense layer (MLP)  (512 neurons)\n",
    "model2.add(Dense(512, input_shape=(max_words,)))\n",
    "\n",
    "# use a relu activation on MLP's outputs\n",
    "model2.add(Activation('relu'))\n",
    "\n",
    "# use a dropout layer with with 40% of inputs droped\n",
    "model2.add(Dropout(dropout_rate))\n",
    "\n",
    "# add a dense layer (MLP) \n",
    "model2.add(Dense(nb_classes))\n",
    "\n",
    "# use a softmax activation on 2nd MLP's outputs\n",
    "model2.add(Activation('softmax'))\n",
    "# we have defined the structure of the model\n",
    "\n",
    "# print model layers' info\n",
    "print(model2.summary())"
   ]
  },
  {
   "cell_type": "code",
   "execution_count": 27,
   "metadata": {},
   "outputs": [],
   "source": [
    "# plot_model(model2,\n",
    "#            to_file='reuters_deeper_model_plot.png',\n",
    "#            show_shapes=True,\n",
    "#            show_layer_names=True)"
   ]
  },
  {
   "cell_type": "code",
   "execution_count": 28,
   "metadata": {},
   "outputs": [],
   "source": [
    "# we compile the model \n",
    "# using categorical crossentropy as a loss function\n",
    "# and stochastic gradient descend as an optimizer\n",
    "# Finally we measure Mean Absolute Error and Accuracy metrics\n",
    "model2.compile(\n",
    "    loss='categorical_crossentropy',\n",
    "    optimizer='adam',\n",
    "    metrics=['categorical_accuracy'],\n",
    ")\n",
    "# we have compiled a model and it is ready to be trained"
   ]
  },
  {
   "cell_type": "code",
   "execution_count": 29,
   "metadata": {},
   "outputs": [
    {
     "name": "stdout",
     "output_type": "stream",
     "text": [
      "Epoch 1/20\n",
      "253/253 [==============================] - 2s 7ms/step - loss: 1.9207 - categorical_accuracy: 0.5398 - val_loss: 1.1916 - val_categorical_accuracy: 0.7275\n",
      "Epoch 2/20\n",
      "253/253 [==============================] - 1s 6ms/step - loss: 0.9794 - categorical_accuracy: 0.7677 - val_loss: 1.0371 - val_categorical_accuracy: 0.7709\n",
      "Epoch 3/20\n",
      "253/253 [==============================] - 1s 6ms/step - loss: 0.7444 - categorical_accuracy: 0.8195 - val_loss: 0.9857 - val_categorical_accuracy: 0.7853\n",
      "Epoch 4/20\n",
      "253/253 [==============================] - 1s 6ms/step - loss: 0.5445 - categorical_accuracy: 0.8614 - val_loss: 1.0027 - val_categorical_accuracy: 0.7853\n",
      "Epoch 5/20\n",
      "253/253 [==============================] - 1s 6ms/step - loss: 0.4486 - categorical_accuracy: 0.8897 - val_loss: 1.0141 - val_categorical_accuracy: 0.7875\n",
      "Epoch 6/20\n",
      "253/253 [==============================] - 1s 6ms/step - loss: 0.3736 - categorical_accuracy: 0.9052 - val_loss: 1.0589 - val_categorical_accuracy: 0.7864\n",
      "Epoch 7/20\n",
      "253/253 [==============================] - 1s 5ms/step - loss: 0.3184 - categorical_accuracy: 0.9211 - val_loss: 1.2023 - val_categorical_accuracy: 0.7831\n",
      "Epoch 8/20\n",
      "253/253 [==============================] - 1s 6ms/step - loss: 0.2657 - categorical_accuracy: 0.9284 - val_loss: 1.1516 - val_categorical_accuracy: 0.7931\n",
      "Epoch 9/20\n",
      "253/253 [==============================] - 1s 6ms/step - loss: 0.2516 - categorical_accuracy: 0.9332 - val_loss: 1.1802 - val_categorical_accuracy: 0.7998\n",
      "Epoch 10/20\n",
      "253/253 [==============================] - 1s 6ms/step - loss: 0.2115 - categorical_accuracy: 0.9414 - val_loss: 1.2589 - val_categorical_accuracy: 0.7998\n",
      "Epoch 11/20\n",
      "253/253 [==============================] - 1s 6ms/step - loss: 0.2011 - categorical_accuracy: 0.9455 - val_loss: 1.2870 - val_categorical_accuracy: 0.7798\n",
      "Epoch 12/20\n",
      "253/253 [==============================] - 1s 6ms/step - loss: 0.1900 - categorical_accuracy: 0.9475 - val_loss: 1.2650 - val_categorical_accuracy: 0.7887\n",
      "Epoch 13/20\n",
      "253/253 [==============================] - 1s 6ms/step - loss: 0.1734 - categorical_accuracy: 0.9493 - val_loss: 1.4059 - val_categorical_accuracy: 0.7898\n",
      "Epoch 14/20\n",
      "253/253 [==============================] - 1s 6ms/step - loss: 0.1484 - categorical_accuracy: 0.9543 - val_loss: 1.4173 - val_categorical_accuracy: 0.7853\n",
      "Epoch 15/20\n",
      "253/253 [==============================] - 1s 5ms/step - loss: 0.1530 - categorical_accuracy: 0.9540 - val_loss: 1.4370 - val_categorical_accuracy: 0.7820\n",
      "Epoch 16/20\n",
      "253/253 [==============================] - 2s 6ms/step - loss: 0.1327 - categorical_accuracy: 0.9581 - val_loss: 1.4171 - val_categorical_accuracy: 0.7887\n",
      "Epoch 17/20\n",
      "253/253 [==============================] - 1s 6ms/step - loss: 0.1594 - categorical_accuracy: 0.9548 - val_loss: 1.5403 - val_categorical_accuracy: 0.7887\n",
      "Epoch 18/20\n",
      "253/253 [==============================] - 1s 6ms/step - loss: 0.1365 - categorical_accuracy: 0.9571 - val_loss: 1.4536 - val_categorical_accuracy: 0.7887\n",
      "Epoch 19/20\n",
      "253/253 [==============================] - 1s 6ms/step - loss: 0.1390 - categorical_accuracy: 0.9559 - val_loss: 1.5652 - val_categorical_accuracy: 0.7998\n",
      "Epoch 20/20\n",
      "253/253 [==============================] - 1s 6ms/step - loss: 0.1399 - categorical_accuracy: 0.9585 - val_loss: 1.5841 - val_categorical_accuracy: 0.7864\n"
     ]
    }
   ],
   "source": [
    "# We train (fit our data to) our model\n",
    "history = model2.fit(\n",
    "    X_train,                      # features\n",
    "    Y_train,                      # labels\n",
    "    epochs=nb_epoch,              # numbers of epochs\n",
    "    batch_size=batch_size,        # define batch size\n",
    "    verbose=1,                    # the most extended verbose\n",
    "    validation_split=0.1          # 90% for train and 10% for validation\n",
    ")"
   ]
  },
  {
   "cell_type": "code",
   "execution_count": 30,
   "metadata": {},
   "outputs": [
    {
     "data": {
      "image/png": "[encoded data removed]",
      "text/plain": [
       "<Figure size 864x432 with 1 Axes>"
      ]
     },
     "metadata": {
      "needs_background": "light"
     },
     "output_type": "display_data"
    },
    {
     "data": {
      "image/png": "[encoded data removed]",
      "text/plain": [
       "<Figure size 864x432 with 1 Axes>"
      ]
     },
     "metadata": {
      "needs_background": "light"
     },
     "output_type": "display_data"
    }
   ],
   "source": [
    "plot_keras_history(history)"
   ]
  },
  {
   "cell_type": "code",
   "execution_count": 31,
   "metadata": {},
   "outputs": [
    {
     "name": "stdout",
     "output_type": "stream",
     "text": [
      "71/71 [==============================] - 0s 3ms/step - loss: 1.5957 - categorical_accuracy: 0.7907\n",
      "\n",
      "Test categorical_crossentropy: 1.5956940650939941\n",
      "\n",
      "Test accuracy: 79.074 %\n"
     ]
    }
   ],
   "source": [
    "# evaluate and store on score variable\n",
    "score2 = model2.evaluate(\n",
    "    X_test,                  # features\n",
    "    Y_test,                  # labels\n",
    "    batch_size=batch_size,   # batch size\n",
    "    verbose=1                # the most extended verbose\n",
    ")\n",
    "\n",
    "# use to yield probability distribution over the categories\n",
    "# model.predict_proba(np.array([X_test[0]]))[0]\n",
    "\n",
    "# use to yield the predicted classes\n",
    "# model.predict_classes(np.array([X_test[0]]))[0] == y_test[0]\n",
    "\n",
    "print('\\nTest categorical_crossentropy:', score2[0])\n",
    "print('\\nTest accuracy: {:.3f} %'.format(score2[1]*100))"
   ]
  },
  {
   "cell_type": "code",
   "execution_count": 32,
   "metadata": {},
   "outputs": [
    {
     "data": {
      "text/html": [
       "<img src=\"https://www.skipprichard.com/wp-content/uploads/2016/10/bigstock-Question-Mark-114454214-583x437.jpg\"/>"
      ],
      "text/plain": [
       "<IPython.core.display.Image object>"
      ]
     },
     "execution_count": 32,
     "metadata": {},
     "output_type": "execute_result"
    }
   ],
   "source": [
    "Image(url= \"https://www.skipprichard.com/wp-content/uploads/2016/10/bigstock-Question-Mark-114454214-583x437.jpg\")"
   ]
  }
 ],
 "metadata": {
  "kernelspec": {
   "display_name": "Python 3",
   "language": "python",
   "name": "python3"
  },
  "language_info": {
   "codemirror_mode": {
    "name": "ipython",
    "version": 3
   },
   "file_extension": ".py",
   "mimetype": "text/x-python",
   "name": "python",
   "nbconvert_exporter": "python",
   "pygments_lexer": "ipython3",
   "version": "3.7.9"
  },
  "toc": {
   "base_numbering": 1,
   "nav_menu": {},
   "number_sections": true,
   "sideBar": true,
   "skip_h1_title": false,
   "title_cell": "Table of Contents",
   "title_sidebar": "Contents",
   "toc_cell": false,
   "toc_position": {},
   "toc_section_display": "block",
   "toc_window_display": false
  }
 },
 "nbformat": 4,
 "nbformat_minor": 2
}
