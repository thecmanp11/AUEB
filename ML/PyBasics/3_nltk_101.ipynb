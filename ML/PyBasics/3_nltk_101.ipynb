{
 "cells": [
  {
   "cell_type": "markdown",
   "metadata": {
    "colab_type": "text",
    "id": "mNSz2TfqfmvL"
   },
   "source": [
    "## Handling strings and Introduction to NTLK library"
   ]
  },
  {
   "cell_type": "code",
   "execution_count": 1,
   "metadata": {
    "colab": {
     "base_uri": "https://localhost:8080/",
     "height": 85
    },
    "colab_type": "code",
    "id": "vFBGViF1gWDB",
    "outputId": "5d08fab3-89dd-42b1-b585-08e43b1f07d0"
   },
   "outputs": [
    {
     "name": "stdout",
     "output_type": "stream",
     "text": [
      " This is a random text about John and Eva. John and Eva are awesome.  \n"
     ]
    }
   ],
   "source": [
    "text = ' This is a random text about John and Eva. John and Eva are awesome.  '\n",
    "\n",
    "print(text)"
   ]
  },
  {
   "cell_type": "code",
   "execution_count": 2,
   "metadata": {
    "colab": {
     "base_uri": "https://localhost:8080/",
     "height": 85
    },
    "colab_type": "code",
    "id": "vFBGViF1gWDB",
    "outputId": "5d08fab3-89dd-42b1-b585-08e43b1f07d0"
   },
   "outputs": [
    {
     "name": "stdout",
     "output_type": "stream",
     "text": [
      " this is a random text about john and eva. john and eva are awesome.  \n"
     ]
    }
   ],
   "source": [
    "print(text.lower())"
   ]
  },
  {
   "cell_type": "code",
   "execution_count": 3,
   "metadata": {
    "colab": {
     "base_uri": "https://localhost:8080/",
     "height": 85
    },
    "colab_type": "code",
    "id": "vFBGViF1gWDB",
    "outputId": "5d08fab3-89dd-42b1-b585-08e43b1f07d0"
   },
   "outputs": [
    {
     "name": "stdout",
     "output_type": "stream",
     "text": [
      " THIS IS A RANDOM TEXT ABOUT JOHN AND EVA. JOHN AND EVA ARE AWESOME.  \n"
     ]
    }
   ],
   "source": [
    "print(text.upper())"
   ]
  },
  {
   "cell_type": "code",
   "execution_count": 4,
   "metadata": {
    "colab": {
     "base_uri": "https://localhost:8080/",
     "height": 85
    },
    "colab_type": "code",
    "id": "vFBGViF1gWDB",
    "outputId": "5d08fab3-89dd-42b1-b585-08e43b1f07d0"
   },
   "outputs": [
    {
     "name": "stdout",
     "output_type": "stream",
     "text": [
      " This Is A Random Text About John And Eva. John And Eva Are Awesome.  \n"
     ]
    }
   ],
   "source": [
    "print(text.title())"
   ]
  },
  {
   "cell_type": "code",
   "execution_count": 5,
   "metadata": {},
   "outputs": [
    {
     "name": "stdout",
     "output_type": "stream",
     "text": [
      "This is a random text about John and Eva. John and Eva are awesome.\n"
     ]
    }
   ],
   "source": [
    "print(text.strip())"
   ]
  },
  {
   "cell_type": "code",
   "execution_count": 6,
   "metadata": {
    "colab": {
     "base_uri": "https://localhost:8080/",
     "height": 190
    },
    "colab_type": "code",
    "id": "lEZdgYyliR_z",
    "outputId": "475839ec-e5f6-4211-cf89-5f7067ac1cab"
   },
   "outputs": [
    {
     "name": "stdout",
     "output_type": "stream",
     "text": [
      " This is a random text about John and Maria. John and Maria are awesome.  \n"
     ]
    }
   ],
   "source": [
    "print(text.replace('Eva', 'Maria'))"
   ]
  },
  {
   "cell_type": "code",
   "execution_count": 7,
   "metadata": {
    "colab": {
     "base_uri": "https://localhost:8080/",
     "height": 190
    },
    "colab_type": "code",
    "id": "lEZdgYyliR_z",
    "outputId": "475839ec-e5f6-4211-cf89-5f7067ac1cab"
   },
   "outputs": [
    {
     "name": "stdout",
     "output_type": "stream",
     "text": [
      " This is a random text about George and Maria. George and Maria are awesome.  \n"
     ]
    }
   ],
   "source": [
    "print(text.replace('Eva', 'Maria').replace('John', 'George'))"
   ]
  },
  {
   "cell_type": "code",
   "execution_count": 8,
   "metadata": {
    "colab": {
     "base_uri": "https://localhost:8080/",
     "height": 190
    },
    "colab_type": "code",
    "id": "lEZdgYyliR_z",
    "outputId": "475839ec-e5f6-4211-cf89-5f7067ac1cab"
   },
   "outputs": [
    {
     "name": "stdout",
     "output_type": "stream",
     "text": [
      "[' ', 'T', 'h', 'i', 's', ' ', 'i', 's', ' ', 'a', ' ', 'r', 'a', 'n', 'd', 'o', 'm', ' ', 't', 'e', 'x', 't', ' ', 'a', 'b', 'o', 'u', 't', ' ', 'J', 'o', 'h', 'n', ' ', 'a', 'n', 'd', ' ', 'E', 'v', 'a', '.', ' ', 'J', 'o', 'h', 'n', ' ', 'a', 'n', 'd', ' ', 'E', 'v', 'a', ' ', 'a', 'r', 'e', ' ', 'a', 'w', 'e', 's', 'o', 'm', 'e', '.', ' ', ' ']\n"
     ]
    }
   ],
   "source": [
    "chars = list(text)\n",
    "print(chars)"
   ]
  },
  {
   "cell_type": "code",
   "execution_count": 9,
   "metadata": {},
   "outputs": [
    {
     "name": "stdout",
     "output_type": "stream",
     "text": [
      "{'w', 'J', '.', 'u', 's', 'T', 'h', 'o', 'd', 'a', 'm', 'e', 'E', 'i', 't', 'r', ' ', 'b', 'x', 'v', 'n'}\n"
     ]
    }
   ],
   "source": [
    "unique_chars = set(chars)\n",
    "print(unique_chars)"
   ]
  },
  {
   "cell_type": "code",
   "execution_count": 10,
   "metadata": {},
   "outputs": [
    {
     "name": "stdout",
     "output_type": "stream",
     "text": [
      "Number of characters: 70\n",
      "Number of unique characters: 21\n"
     ]
    }
   ],
   "source": [
    "print(f\"Number of characters: {len(chars)}\")\n",
    "print(f\"Number of unique characters: {len(unique_chars)}\")"
   ]
  },
  {
   "cell_type": "code",
   "execution_count": 11,
   "metadata": {
    "colab": {
     "base_uri": "https://localhost:8080/",
     "height": 190
    },
    "colab_type": "code",
    "id": "lEZdgYyliR_z",
    "outputId": "475839ec-e5f6-4211-cf89-5f7067ac1cab"
   },
   "outputs": [
    {
     "name": "stdout",
     "output_type": "stream",
     "text": [
      "['', 'This', 'is', 'a', 'random', 'text', 'about', 'John', 'and', 'Eva.', 'John', 'and', 'Eva', 'are', 'awesome.', '', '']\n"
     ]
    }
   ],
   "source": [
    "tokens = text.split(' ')\n",
    "print(tokens)"
   ]
  },
  {
   "cell_type": "code",
   "execution_count": 12,
   "metadata": {
    "colab": {
     "base_uri": "https://localhost:8080/",
     "height": 190
    },
    "colab_type": "code",
    "id": "lEZdgYyliR_z",
    "outputId": "475839ec-e5f6-4211-cf89-5f7067ac1cab"
   },
   "outputs": [
    {
     "data": {
      "text/plain": [
       "{'',\n",
       " 'Eva',\n",
       " 'Eva.',\n",
       " 'John',\n",
       " 'This',\n",
       " 'a',\n",
       " 'about',\n",
       " 'and',\n",
       " 'are',\n",
       " 'awesome.',\n",
       " 'is',\n",
       " 'random',\n",
       " 'text'}"
      ]
     },
     "execution_count": 12,
     "metadata": {},
     "output_type": "execute_result"
    }
   ],
   "source": [
    "unique_tokens = set(tokens)\n",
    "unique_tokens"
   ]
  },
  {
   "cell_type": "code",
   "execution_count": 13,
   "metadata": {
    "colab": {
     "base_uri": "https://localhost:8080/",
     "height": 190
    },
    "colab_type": "code",
    "id": "lEZdgYyliR_z",
    "outputId": "475839ec-e5f6-4211-cf89-5f7067ac1cab"
   },
   "outputs": [
    {
     "name": "stdout",
     "output_type": "stream",
     "text": [
      "Number of tokens: 17\n",
      "Number of unique tokens: 13\n"
     ]
    }
   ],
   "source": [
    "print(f\"Number of tokens: {len(tokens)}\")\n",
    "print(f\"Number of unique tokens: {len(unique_tokens)}\")"
   ]
  },
  {
   "cell_type": "code",
   "execution_count": 14,
   "metadata": {
    "colab": {
     "base_uri": "https://localhost:8080/",
     "height": 170
    },
    "colab_type": "code",
    "id": "4h9qsB5kmH_N",
    "outputId": "2224c6c6-ffd4-473f-96f5-974e32328b60"
   },
   "outputs": [
    {
     "name": "stdout",
     "output_type": "stream",
     "text": [
      " This is a\n"
     ]
    }
   ],
   "source": [
    "# Slicing text\n",
    "print(text[:10]) # first 10 characters"
   ]
  },
  {
   "cell_type": "code",
   "execution_count": 15,
   "metadata": {
    "colab": {
     "base_uri": "https://localhost:8080/",
     "height": 170
    },
    "colab_type": "code",
    "id": "4h9qsB5kmH_N",
    "outputId": "2224c6c6-ffd4-473f-96f5-974e32328b60"
   },
   "outputs": [
    {
     "name": "stdout",
     "output_type": "stream",
     "text": [
      " rand\n"
     ]
    }
   ],
   "source": [
    "print(text[10:15])"
   ]
  },
  {
   "cell_type": "code",
   "execution_count": 16,
   "metadata": {
    "colab": {
     "base_uri": "https://localhost:8080/",
     "height": 170
    },
    "colab_type": "code",
    "id": "4h9qsB5kmH_N",
    "outputId": "2224c6c6-ffd4-473f-96f5-974e32328b60"
   },
   "outputs": [
    {
     "name": "stdout",
     "output_type": "stream",
     "text": [
      " This is a random text about John and Eva. John and Eva are awesome.  \n",
      "\n",
      "True\n",
      "False\n"
     ]
    }
   ],
   "source": [
    "print(text, end='\\n\\n')\n",
    "# 'in' operator.\n",
    "print('John' in text)\n",
    "print('Maria' in text)"
   ]
  },
  {
   "cell_type": "code",
   "execution_count": 17,
   "metadata": {
    "colab": {
     "base_uri": "https://localhost:8080/",
     "height": 170
    },
    "colab_type": "code",
    "id": "4h9qsB5kmH_N",
    "outputId": "2224c6c6-ffd4-473f-96f5-974e32328b60"
   },
   "outputs": [
    {
     "name": "stdout",
     "output_type": "stream",
     "text": [
      "False\n",
      "True\n"
     ]
    }
   ],
   "source": [
    "print('John' not in text)\n",
    "print('Maria' not in text)"
   ]
  },
  {
   "cell_type": "code",
   "execution_count": 18,
   "metadata": {
    "colab": {
     "base_uri": "https://localhost:8080/",
     "height": 170
    },
    "colab_type": "code",
    "id": "4h9qsB5kmH_N",
    "outputId": "2224c6c6-ffd4-473f-96f5-974e32328b60"
   },
   "outputs": [
    {
     "data": {
      "text/plain": [
       "'  .emosewa era avE dna nhoJ .avE dna nhoJ tuoba txet modnar a si sihT '"
      ]
     },
     "execution_count": 18,
     "metadata": {},
     "output_type": "execute_result"
    }
   ],
   "source": [
    "# Reverse of a string\n",
    "text[::-1]"
   ]
  },
  {
   "cell_type": "markdown",
   "metadata": {
    "colab_type": "text",
    "id": "VzdDJi_4oKhV"
   },
   "source": [
    "**NLTK (natural language toolkit)**"
   ]
  },
  {
   "cell_type": "code",
   "execution_count": 19,
   "metadata": {
    "colab": {
     "base_uri": "https://localhost:8080/",
     "height": 34
    },
    "colab_type": "code",
    "id": "VDdCHS4pfeGy",
    "outputId": "64dc2754-35a1-4868-8e29-a94b0ba6fd28"
   },
   "outputs": [
    {
     "data": {
      "text/plain": [
       "'3.5'"
      ]
     },
     "execution_count": 19,
     "metadata": {},
     "output_type": "execute_result"
    }
   ],
   "source": [
    "import nltk\n",
    "from pprint import pprint\n",
    "\n",
    "# nltk.download('all')\n",
    "\n",
    "nltk.__version__"
   ]
  },
  {
   "cell_type": "code",
   "execution_count": 20,
   "metadata": {
    "colab": {
     "base_uri": "https://localhost:8080/",
     "height": 190
    },
    "colab_type": "code",
    "id": "Q5bppiJIfeG-",
    "outputId": "d5a3b66a-090a-46d3-9335-f018f3eb61e8"
   },
   "outputs": [
    {
     "name": "stdout",
     "output_type": "stream",
     "text": [
      "The Athens University of Economics and Business (AUEB) was originally founded in 1920 under the name of Athens School of Commercial Studies\n",
      "\n",
      "It was renamed in 1926 as the Athens School of Economics and Business, a name that was retained until 1989 when it assumed its present name, the Athens University of Economics and Business\n",
      "\n",
      "It is the third oldest university in Greece and the oldest in the fields of economics and business\n",
      "\n",
      "Up to 1955 the school offered only one degree in the general area of economics and commerce\n",
      "\n",
      "In 1955 it started two separate programs leading to two separate degrees: one in economics and the other in business administration\n",
      "\n",
      "In 1984 the school was divided into three departments, namely the Department of Economics, the Department of Business Administration and the Department of Statistics and Informatics\n",
      "\n",
      "In 1989, the university expanded to six departments\n",
      "\n",
      "From 1999 onwards, the university developed even further and nowadays it includes eight academic departments, offering eight undergraduate degrees, 28 master's degrees and an equivalent number of doctoral programs\n",
      "\n",
      "\n",
      "\n"
     ]
    }
   ],
   "source": [
    "text = 'The Athens University of Economics and Business (AUEB) was originally founded in \\\n",
    "1920 under the name of Athens School of Commercial Studies.\\\n",
    "It was renamed in 1926 as the Athens School of Economics and Business, \\\n",
    "a name that was retained until 1989 when it assumed its present name, \\\n",
    "the Athens University of Economics and Business.It is the third oldest \\\n",
    "university in Greece and the oldest in the fields of economics and business. \\\n",
    "Up to 1955 the school offered only one degree in the general area of economics and \\\n",
    "commerce. In 1955 it started two separate programs leading to two separate degrees: \\\n",
    "one in economics and the other in business administration. In 1984 the school was \\\n",
    "divided into three departments, namely the Department of Economics, the Department of \\\n",
    "Business Administration and the Department of Statistics and Informatics.In 1989, the \\\n",
    "university expanded to six departments. From 1999 onwards, the university developed \\\n",
    "even further and nowadays it includes eight academic departments, offering eight \\\n",
    "undergraduate degrees, 28 master\\'s degrees and an equivalent number of doctoral programs.'\n",
    "\n",
    "for line in text.split('.'):\n",
    "    \n",
    "    print(line.strip())\n",
    "    print()"
   ]
  },
  {
   "cell_type": "code",
   "execution_count": 21,
   "metadata": {
    "colab": {
     "base_uri": "https://localhost:8080/",
     "height": 306
    },
    "colab_type": "code",
    "id": "8vVqmTVpfeHE",
    "outputId": "538440c5-753c-4512-b1ea-d427c1c708a3"
   },
   "outputs": [
    {
     "name": "stdout",
     "output_type": "stream",
     "text": [
      "The Athens University of Economics and Business (AUEB) was originally founded in 1920 under the name of Athens School of Commercial Studies.It was renamed in 1926 as the Athens School of Economics and Business, a name that was retained until 1989 when it assumed its present name, the Athens University of Economics and Business.It is the third oldest university in Greece and the oldest in the fields of economics and business.\n",
      "\n",
      "Up to 1955 the school offered only one degree in the general area of economics and commerce.\n",
      "\n",
      "In 1955 it started two separate programs leading to two separate degrees: one in economics and the other in business administration.\n",
      "\n",
      "In 1984 the school was divided into three departments, namely the Department of Economics, the Department of Business Administration and the Department of Statistics and Informatics.In 1989, the university expanded to six departments.\n",
      "\n",
      "From 1999 onwards, the university developed even further and nowadays it includes eight academic departments, offering eight undergraduate degrees, 28 master's degrees and an equivalent number of doctoral programs.\n",
      "\n"
     ]
    }
   ],
   "source": [
    "'''\n",
    "Sentence tokenization\n",
    "'''\n",
    "# The first time run the following line\n",
    "# nltk.download('punkt')\n",
    "\n",
    "from nltk import sent_tokenize\n",
    "\n",
    "sentences = sent_tokenize(text)\n",
    "\n",
    "for sentence in sentences:\n",
    "    print(sentence)\n",
    "    print()"
   ]
  },
  {
   "cell_type": "code",
   "execution_count": 22,
   "metadata": {
    "colab": {
     "base_uri": "https://localhost:8080/",
     "height": 3196
    },
    "colab_type": "code",
    "id": "5YHE8Cm7feHM",
    "outputId": "c99316b1-e130-4b04-f748-b0fa29fde448"
   },
   "outputs": [
    {
     "name": "stdout",
     "output_type": "stream",
     "text": [
      "['The', 'Athens', 'University', 'of', 'Economics', 'and', 'Business', '(', 'AUEB', ')', 'was', 'originally', 'founded', 'in', '1920', 'under', 'the', 'name', 'of', 'Athens', 'School', 'of', 'Commercial', 'Studies.It', 'was', 'renamed', 'in', '1926', 'as', 'the', 'Athens', 'School', 'of', 'Economics', 'and', 'Business', ',', 'a', 'name', 'that', 'was', 'retained', 'until', '1989', 'when', 'it', 'assumed', 'its', 'present', 'name', ',', 'the', 'Athens', 'University', 'of', 'Economics', 'and', 'Business.It', 'is', 'the', 'third', 'oldest', 'university', 'in', 'Greece', 'and', 'the', 'oldest', 'in', 'the', 'fields', 'of', 'economics', 'and', 'business', '.', 'Up', 'to', '1955', 'the', 'school', 'offered', 'only', 'one', 'degree', 'in', 'the', 'general', 'area', 'of', 'economics', 'and', 'commerce', '.', 'In', '1955', 'it', 'started', 'two', 'separate', 'programs', 'leading', 'to', 'two', 'separate', 'degrees', ':', 'one', 'in', 'economics', 'and', 'the', 'other', 'in', 'business', 'administration', '.', 'In', '1984', 'the', 'school', 'was', 'divided', 'into', 'three', 'departments', ',', 'namely', 'the', 'Department', 'of', 'Economics', ',', 'the', 'Department', 'of', 'Business', 'Administration', 'and', 'the', 'Department', 'of', 'Statistics', 'and', 'Informatics.In', '1989', ',', 'the', 'university', 'expanded', 'to', 'six', 'departments', '.', 'From', '1999', 'onwards', ',', 'the', 'university', 'developed', 'even', 'further', 'and', 'nowadays', 'it', 'includes', 'eight', 'academic', 'departments', ',', 'offering', 'eight', 'undergraduate', 'degrees', ',', '28', 'master', \"'s\", 'degrees', 'and', 'an', 'equivalent', 'number', 'of', 'doctoral', 'programs', '.']\n"
     ]
    }
   ],
   "source": [
    "'''\n",
    "word tokenization\n",
    "'''\n",
    "\n",
    "from nltk import word_tokenize\n",
    "\n",
    "tokens = word_tokenize(text)\n",
    "\n",
    "print(tokens)"
   ]
  },
  {
   "cell_type": "code",
   "execution_count": 23,
   "metadata": {
    "colab": {
     "base_uri": "https://localhost:8080/",
     "height": 187
    },
    "colab_type": "code",
    "id": "fnPe6E13feHR",
    "outputId": "78323ad5-280e-4b62-8d02-6a4ef17b9b4a"
   },
   "outputs": [
    {
     "name": "stdout",
     "output_type": "stream",
     "text": [
      "[('the', 15),\n",
      " ('of', 11),\n",
      " ('and', 11),\n",
      " (',', 8),\n",
      " ('in', 7),\n",
      " ('.', 5),\n",
      " ('Athens', 4),\n",
      " ('Economics', 4),\n",
      " ('was', 4),\n",
      " ('Business', 3)]\n"
     ]
    }
   ],
   "source": [
    "'''\n",
    "Counting words\n",
    "'''\n",
    "from collections import Counter\n",
    "\n",
    "count = Counter(tokens)\n",
    "\n",
    "pprint(count.most_common(10))\n",
    "\n",
    "# or you may use \n",
    "# count = nltk.FreqDist(tokens)"
   ]
  },
  {
   "cell_type": "code",
   "execution_count": 24,
   "metadata": {
    "colab": {
     "base_uri": "https://localhost:8080/",
     "height": 187
    },
    "colab_type": "code",
    "id": "bSXPJSFOfeHW",
    "outputId": "71650d8f-7d90-43d6-cbbe-5164fe832877"
   },
   "outputs": [
    {
     "name": "stdout",
     "output_type": "stream",
     "text": [
      "[(',', 8),\n",
      " ('.', 5),\n",
      " ('Athens', 4),\n",
      " ('Economics', 4),\n",
      " ('Business', 3),\n",
      " ('name', 3),\n",
      " ('university', 3),\n",
      " ('economics', 3),\n",
      " ('degrees', 3),\n",
      " ('departments', 3)]\n"
     ]
    }
   ],
   "source": [
    "'''\n",
    "Removing stopwords\n",
    "'''\n",
    "# nltk.download(u'stopwords')\n",
    "\n",
    "from nltk.corpus import stopwords\n",
    "# there are also some english stopwords in the Scikit-learn package.\n",
    "en_stop = stopwords.words('english')\n",
    "\n",
    "# you can add your own words to the stopwords list. \n",
    "\n",
    "filtered = [w for w in tokens if not w in en_stop]\n",
    "\n",
    "count = Counter(filtered)\n",
    "\n",
    "pprint(count.most_common(10))"
   ]
  },
  {
   "cell_type": "code",
   "execution_count": 25,
   "metadata": {
    "colab": {
     "base_uri": "https://localhost:8080/",
     "height": 408
    },
    "colab_type": "code",
    "id": "srHoejZvfeHZ",
    "outputId": "f576df22-e3b0-4b58-8e25-57237c5dbc4f"
   },
   "outputs": [
    {
     "name": "stdout",
     "output_type": "stream",
     "text": [
      "First 10 Bi-grams\n",
      "[('The', 'Athens'),\n",
      " ('Athens', 'University'),\n",
      " ('University', 'of'),\n",
      " ('of', 'Economics'),\n",
      " ('Economics', 'and'),\n",
      " ('and', 'Business'),\n",
      " ('Business', '('),\n",
      " ('(', 'AUEB'),\n",
      " ('AUEB', ')'),\n",
      " (')', 'was')]\n",
      "------------------------------\n",
      "First 10 Tri-grams\n",
      "[('The', 'Athens', 'University'),\n",
      " ('Athens', 'University', 'of'),\n",
      " ('University', 'of', 'Economics'),\n",
      " ('of', 'Economics', 'and'),\n",
      " ('Economics', 'and', 'Business'),\n",
      " ('and', 'Business', '('),\n",
      " ('Business', '(', 'AUEB'),\n",
      " ('(', 'AUEB', ')'),\n",
      " ('AUEB', ')', 'was'),\n",
      " (')', 'was', 'originally')]\n"
     ]
    }
   ],
   "source": [
    "'''\n",
    "Creating ngrams \n",
    "https://en.wikipedia.org/wiki/N-gram\n",
    "'''\n",
    "\n",
    "from nltk.util import ngrams\n",
    "\n",
    "bigrams = [ gram for gram in ngrams(tokens, 2) ]\n",
    "\n",
    "trigrams = [ gram for gram in ngrams(tokens, 3) ]\n",
    "\n",
    "print('First 10 Bi-grams')\n",
    "pprint(bigrams[:10])\n",
    "\n",
    "print(30 * '-')\n",
    "\n",
    "print('First 10 Tri-grams')\n",
    "pprint(trigrams[:10])"
   ]
  },
  {
   "cell_type": "code",
   "execution_count": 26,
   "metadata": {
    "colab": {},
    "colab_type": "code",
    "id": "O511ToU2feHd"
   },
   "outputs": [
    {
     "name": "stdout",
     "output_type": "stream",
     "text": [
      "['The', 'Athens', 'University', 'of', 'Economics', 'and', 'Business', 'AUEB', 'was', 'originally', 'founded', 'in', '1920', 'under', 'the', 'name', 'of', 'Athens', 'School', 'of', 'Commercial', 'Studies', 'It', 'was', 'renamed', 'in', '1926', 'as', 'the', 'Athens', 'School', 'of', 'Economics', 'and', 'Business', 'a', 'name', 'that', 'was', 'retained', 'until', '1989', 'when', 'it', 'assumed', 'its', 'present', 'name', 'the', 'Athens', 'University', 'of', 'Economics', 'and', 'Business', 'It', 'is', 'the', 'third', 'oldest', 'university', 'in', 'Greece', 'and', 'the', 'oldest', 'in', 'the', 'fields', 'of', 'economics', 'and', 'business', 'Up', 'to', '1955', 'the', 'school', 'offered', 'only', 'one', 'degree', 'in', 'the', 'general', 'area', 'of', 'economics', 'and', 'commerce', 'In', '1955', 'it', 'started', 'two', 'separate', 'programs', 'leading', 'to', 'two', 'separate', 'degrees', 'one', 'in', 'economics', 'and', 'the', 'other', 'in', 'business', 'administration', 'In', '1984', 'the', 'school', 'was', 'divided', 'into', 'three', 'departments', 'namely', 'the', 'Department', 'of', 'Economics', 'the', 'Department', 'of', 'Business', 'Administration', 'and', 'the', 'Department', 'of', 'Statistics', 'and', 'Informatics', 'In', '1989', 'the', 'university', 'expanded', 'to', 'six', 'departments', 'From', '1999', 'onwards', 'the', 'university', 'developed', 'even', 'further', 'and', 'nowadays', 'it', 'includes', 'eight', 'academic', 'departments', 'offering', 'eight', 'undergraduate', 'degrees', '28', 'master', 's', 'degrees', 'and', 'an', 'equivalent', 'number', 'of', 'doctoral', 'programs']\n"
     ]
    }
   ],
   "source": [
    "'''\n",
    "Tokenization using a regex\n",
    "'''\n",
    "from nltk.tokenize import RegexpTokenizer\n",
    "\n",
    "tokenizer = RegexpTokenizer(r'\\w+')\n",
    "\n",
    "tokens2 = tokenizer.tokenize(text)\n",
    "\n",
    "print(tokens2)"
   ]
  },
  {
   "cell_type": "code",
   "execution_count": 27,
   "metadata": {
    "colab": {
     "base_uri": "https://localhost:8080/",
     "height": 3196
    },
    "colab_type": "code",
    "id": "Z1daWsTQfeHi",
    "outputId": "a5bec5fa-c531-4eb3-a635-cf60e5eaf7f1"
   },
   "outputs": [
    {
     "name": "stdout",
     "output_type": "stream",
     "text": [
      "[('The', 'DT'),\n",
      " ('Athens', 'NNP'),\n",
      " ('University', 'NNP'),\n",
      " ('of', 'IN'),\n",
      " ('Economics', 'NNP'),\n",
      " ('and', 'CC'),\n",
      " ('Business', 'NNP'),\n",
      " ('(', '('),\n",
      " ('AUEB', 'NNP'),\n",
      " (')', ')'),\n",
      " ('was', 'VBD'),\n",
      " ('originally', 'RB'),\n",
      " ('founded', 'VBN'),\n",
      " ('in', 'IN'),\n",
      " ('1920', 'CD'),\n",
      " ('under', 'IN'),\n",
      " ('the', 'DT'),\n",
      " ('name', 'NN'),\n",
      " ('of', 'IN'),\n",
      " ('Athens', 'NNP'),\n",
      " ('School', 'NNP'),\n",
      " ('of', 'IN'),\n",
      " ('Commercial', 'NNP'),\n",
      " ('Studies.It', 'NNP'),\n",
      " ('was', 'VBD'),\n",
      " ('renamed', 'VBN'),\n",
      " ('in', 'IN'),\n",
      " ('1926', 'CD'),\n",
      " ('as', 'IN'),\n",
      " ('the', 'DT'),\n",
      " ('Athens', 'NNP'),\n",
      " ('School', 'NNP'),\n",
      " ('of', 'IN'),\n",
      " ('Economics', 'NNP'),\n",
      " ('and', 'CC'),\n",
      " ('Business', 'NNP'),\n",
      " (',', ','),\n",
      " ('a', 'DT'),\n",
      " ('name', 'NN'),\n",
      " ('that', 'WDT'),\n",
      " ('was', 'VBD'),\n",
      " ('retained', 'VBN'),\n",
      " ('until', 'IN'),\n",
      " ('1989', 'CD'),\n",
      " ('when', 'WRB'),\n",
      " ('it', 'PRP'),\n",
      " ('assumed', 'VBD'),\n",
      " ('its', 'PRP$'),\n",
      " ('present', 'JJ'),\n",
      " ('name', 'NN'),\n",
      " (',', ','),\n",
      " ('the', 'DT'),\n",
      " ('Athens', 'NNP'),\n",
      " ('University', 'NNP'),\n",
      " ('of', 'IN'),\n",
      " ('Economics', 'NNP'),\n",
      " ('and', 'CC'),\n",
      " ('Business.It', 'NNP'),\n",
      " ('is', 'VBZ'),\n",
      " ('the', 'DT'),\n",
      " ('third', 'JJ'),\n",
      " ('oldest', 'JJS'),\n",
      " ('university', 'NN'),\n",
      " ('in', 'IN'),\n",
      " ('Greece', 'NNP'),\n",
      " ('and', 'CC'),\n",
      " ('the', 'DT'),\n",
      " ('oldest', 'JJS'),\n",
      " ('in', 'IN'),\n",
      " ('the', 'DT'),\n",
      " ('fields', 'NNS'),\n",
      " ('of', 'IN'),\n",
      " ('economics', 'NNS'),\n",
      " ('and', 'CC'),\n",
      " ('business', 'NN'),\n",
      " ('.', '.'),\n",
      " ('Up', 'IN'),\n",
      " ('to', 'TO'),\n",
      " ('1955', 'CD'),\n",
      " ('the', 'DT'),\n",
      " ('school', 'NN'),\n",
      " ('offered', 'VBD'),\n",
      " ('only', 'RB'),\n",
      " ('one', 'CD'),\n",
      " ('degree', 'NN'),\n",
      " ('in', 'IN'),\n",
      " ('the', 'DT'),\n",
      " ('general', 'JJ'),\n",
      " ('area', 'NN'),\n",
      " ('of', 'IN'),\n",
      " ('economics', 'NNS'),\n",
      " ('and', 'CC'),\n",
      " ('commerce', 'NN'),\n",
      " ('.', '.'),\n",
      " ('In', 'IN'),\n",
      " ('1955', 'CD'),\n",
      " ('it', 'PRP'),\n",
      " ('started', 'VBD'),\n",
      " ('two', 'CD'),\n",
      " ('separate', 'JJ'),\n",
      " ('programs', 'NNS'),\n",
      " ('leading', 'VBG'),\n",
      " ('to', 'TO'),\n",
      " ('two', 'CD'),\n",
      " ('separate', 'JJ'),\n",
      " ('degrees', 'NNS'),\n",
      " (':', ':'),\n",
      " ('one', 'CD'),\n",
      " ('in', 'IN'),\n",
      " ('economics', 'NNS'),\n",
      " ('and', 'CC'),\n",
      " ('the', 'DT'),\n",
      " ('other', 'JJ'),\n",
      " ('in', 'IN'),\n",
      " ('business', 'NN'),\n",
      " ('administration', 'NN'),\n",
      " ('.', '.'),\n",
      " ('In', 'IN'),\n",
      " ('1984', 'CD'),\n",
      " ('the', 'DT'),\n",
      " ('school', 'NN'),\n",
      " ('was', 'VBD'),\n",
      " ('divided', 'VBN'),\n",
      " ('into', 'IN'),\n",
      " ('three', 'CD'),\n",
      " ('departments', 'NNS'),\n",
      " (',', ','),\n",
      " ('namely', 'RB'),\n",
      " ('the', 'DT'),\n",
      " ('Department', 'NNP'),\n",
      " ('of', 'IN'),\n",
      " ('Economics', 'NNP'),\n",
      " (',', ','),\n",
      " ('the', 'DT'),\n",
      " ('Department', 'NNP'),\n",
      " ('of', 'IN'),\n",
      " ('Business', 'NNP'),\n",
      " ('Administration', 'NNP'),\n",
      " ('and', 'CC'),\n",
      " ('the', 'DT'),\n",
      " ('Department', 'NNP'),\n",
      " ('of', 'IN'),\n",
      " ('Statistics', 'NNPS'),\n",
      " ('and', 'CC'),\n",
      " ('Informatics.In', 'NNP'),\n",
      " ('1989', 'CD'),\n",
      " (',', ','),\n",
      " ('the', 'DT'),\n",
      " ('university', 'NN'),\n",
      " ('expanded', 'VBD'),\n",
      " ('to', 'TO'),\n",
      " ('six', 'CD'),\n",
      " ('departments', 'NNS'),\n",
      " ('.', '.'),\n",
      " ('From', 'IN'),\n",
      " ('1999', 'CD'),\n",
      " ('onwards', 'NNS'),\n",
      " (',', ','),\n",
      " ('the', 'DT'),\n",
      " ('university', 'NN'),\n",
      " ('developed', 'VBD'),\n",
      " ('even', 'RB'),\n",
      " ('further', 'RBR'),\n",
      " ('and', 'CC'),\n",
      " ('nowadays', 'VBZ'),\n",
      " ('it', 'PRP'),\n",
      " ('includes', 'VBZ'),\n",
      " ('eight', 'CD'),\n",
      " ('academic', 'JJ'),\n",
      " ('departments', 'NNS'),\n",
      " (',', ','),\n",
      " ('offering', 'VBG'),\n",
      " ('eight', 'CD'),\n",
      " ('undergraduate', 'JJ'),\n",
      " ('degrees', 'NNS'),\n",
      " (',', ','),\n",
      " ('28', 'CD'),\n",
      " ('master', 'NN'),\n",
      " (\"'s\", 'POS'),\n",
      " ('degrees', 'NNS'),\n",
      " ('and', 'CC'),\n",
      " ('an', 'DT'),\n",
      " ('equivalent', 'JJ'),\n",
      " ('number', 'NN'),\n",
      " ('of', 'IN'),\n",
      " ('doctoral', 'JJ'),\n",
      " ('programs', 'NNS'),\n",
      " ('.', '.')]\n",
      "DT: determiner\n",
      "    all an another any both del each either every half la many much nary\n",
      "    neither no some such that the them these this those\n"
     ]
    }
   ],
   "source": [
    "'''\n",
    "POS tagging (part-of-speech tagging)\n",
    "'''\n",
    "\n",
    "# nltk.download('averaged_perceptron_tagger')\n",
    "\n",
    "from nltk import pos_tag\n",
    "\n",
    "pos_tags = pos_tag(tokens)\n",
    "\n",
    "pprint(pos_tags)\n",
    "\n",
    "# Check for a specific POS tag \n",
    "nltk.help.upenn_tagset('DT')\n",
    "\n",
    "# Checkout what these tagsets are:\n",
    "# nltk.download('tagsets')\n",
    "\n",
    "# nltk.help.upenn_tagset()\n",
    "\n",
    "# nltk.help.upenn_tagset('CC')\n",
    "\n",
    "# Tagging in batches\n",
    "# nltk.batch_pos_tag([['this', 'is', 'batch', 'tag', 'test'], ['nltk', 'is', 'text', 'analysis', 'tool']])\n"
   ]
  },
  {
   "cell_type": "code",
   "execution_count": 28,
   "metadata": {
    "colab": {
     "base_uri": "https://localhost:8080/",
     "height": 3196
    },
    "colab_type": "code",
    "id": "9gtkwUhMfeHo",
    "outputId": "23d2a6e3-4295-4e8a-8f9b-bc6a3d04bce2"
   },
   "outputs": [
    {
     "name": "stdout",
     "output_type": "stream",
     "text": [
      "['the',\n",
      " 'athen',\n",
      " 'univers',\n",
      " 'of',\n",
      " 'econom',\n",
      " 'and',\n",
      " 'busi',\n",
      " '(',\n",
      " 'aueb',\n",
      " ')',\n",
      " 'wa',\n",
      " 'origin',\n",
      " 'found',\n",
      " 'in',\n",
      " '1920',\n",
      " 'under',\n",
      " 'the',\n",
      " 'name',\n",
      " 'of',\n",
      " 'athen',\n",
      " 'school',\n",
      " 'of',\n",
      " 'commerci',\n",
      " 'studies.it',\n",
      " 'wa',\n",
      " 'renam',\n",
      " 'in',\n",
      " '1926',\n",
      " 'as',\n",
      " 'the',\n",
      " 'athen',\n",
      " 'school',\n",
      " 'of',\n",
      " 'econom',\n",
      " 'and',\n",
      " 'busi',\n",
      " ',',\n",
      " 'a',\n",
      " 'name',\n",
      " 'that',\n",
      " 'wa',\n",
      " 'retain',\n",
      " 'until',\n",
      " '1989',\n",
      " 'when',\n",
      " 'it',\n",
      " 'assum',\n",
      " 'it',\n",
      " 'present',\n",
      " 'name',\n",
      " ',',\n",
      " 'the',\n",
      " 'athen',\n",
      " 'univers',\n",
      " 'of',\n",
      " 'econom',\n",
      " 'and',\n",
      " 'business.it',\n",
      " 'is',\n",
      " 'the',\n",
      " 'third',\n",
      " 'oldest',\n",
      " 'univers',\n",
      " 'in',\n",
      " 'greec',\n",
      " 'and',\n",
      " 'the',\n",
      " 'oldest',\n",
      " 'in',\n",
      " 'the',\n",
      " 'field',\n",
      " 'of',\n",
      " 'econom',\n",
      " 'and',\n",
      " 'busi',\n",
      " '.',\n",
      " 'Up',\n",
      " 'to',\n",
      " '1955',\n",
      " 'the',\n",
      " 'school',\n",
      " 'offer',\n",
      " 'onli',\n",
      " 'one',\n",
      " 'degre',\n",
      " 'in',\n",
      " 'the',\n",
      " 'gener',\n",
      " 'area',\n",
      " 'of',\n",
      " 'econom',\n",
      " 'and',\n",
      " 'commerc',\n",
      " '.',\n",
      " 'In',\n",
      " '1955',\n",
      " 'it',\n",
      " 'start',\n",
      " 'two',\n",
      " 'separ',\n",
      " 'program',\n",
      " 'lead',\n",
      " 'to',\n",
      " 'two',\n",
      " 'separ',\n",
      " 'degre',\n",
      " ':',\n",
      " 'one',\n",
      " 'in',\n",
      " 'econom',\n",
      " 'and',\n",
      " 'the',\n",
      " 'other',\n",
      " 'in',\n",
      " 'busi',\n",
      " 'administr',\n",
      " '.',\n",
      " 'In',\n",
      " '1984',\n",
      " 'the',\n",
      " 'school',\n",
      " 'wa',\n",
      " 'divid',\n",
      " 'into',\n",
      " 'three',\n",
      " 'depart',\n",
      " ',',\n",
      " 'name',\n",
      " 'the',\n",
      " 'depart',\n",
      " 'of',\n",
      " 'econom',\n",
      " ',',\n",
      " 'the',\n",
      " 'depart',\n",
      " 'of',\n",
      " 'busi',\n",
      " 'administr',\n",
      " 'and',\n",
      " 'the',\n",
      " 'depart',\n",
      " 'of',\n",
      " 'statist',\n",
      " 'and',\n",
      " 'informatics.in',\n",
      " '1989',\n",
      " ',',\n",
      " 'the',\n",
      " 'univers',\n",
      " 'expand',\n",
      " 'to',\n",
      " 'six',\n",
      " 'depart',\n",
      " '.',\n",
      " 'from',\n",
      " '1999',\n",
      " 'onward',\n",
      " ',',\n",
      " 'the',\n",
      " 'univers',\n",
      " 'develop',\n",
      " 'even',\n",
      " 'further',\n",
      " 'and',\n",
      " 'nowaday',\n",
      " 'it',\n",
      " 'includ',\n",
      " 'eight',\n",
      " 'academ',\n",
      " 'depart',\n",
      " ',',\n",
      " 'offer',\n",
      " 'eight',\n",
      " 'undergradu',\n",
      " 'degre',\n",
      " ',',\n",
      " '28',\n",
      " 'master',\n",
      " \"'s\",\n",
      " 'degre',\n",
      " 'and',\n",
      " 'an',\n",
      " 'equival',\n",
      " 'number',\n",
      " 'of',\n",
      " 'doctor',\n",
      " 'program',\n",
      " '.']\n"
     ]
    }
   ],
   "source": [
    "'''\n",
    "Stemming\n",
    "'''\n",
    "\n",
    "# many different stemmers. \n",
    "from nltk.stem import StemmerI, RegexpStemmer, LancasterStemmer, ISRIStemmer, PorterStemmer, SnowballStemmer, RSLPStemmer\n",
    "\n",
    "#stemmer = LancasterStemmer()\n",
    "#stemmer = SnowballStemmer('english')\n",
    "\n",
    "stemmer = PorterStemmer()\n",
    "stems = [stemmer.stem(token) for token in tokens ]\n",
    "pprint(stems)\n",
    "\n",
    "# More info about stemming (and lemmatization)\n",
    "# https://nlp.stanford.edu/IR-book/html/htmledition/stemming-and-lemmatization-1.html"
   ]
  },
  {
   "cell_type": "code",
   "execution_count": 29,
   "metadata": {
    "colab": {
     "base_uri": "https://localhost:8080/",
     "height": 85
    },
    "colab_type": "code",
    "id": "aIjPL_UQfeHr",
    "outputId": "978301f6-cbb8-4ecc-f638-1cc07c54d6e0"
   },
   "outputs": [
    {
     "name": "stdout",
     "output_type": "stream",
     "text": [
      "are\n",
      "is\n",
      "is\n",
      "be\n"
     ]
    }
   ],
   "source": [
    "'''\n",
    "Lemmatization\n",
    "'''\n",
    "# nltk.download('wordnet')\n",
    "\n",
    "from nltk.stem import  WordNetLemmatizer\n",
    "\n",
    "lemmatizer = WordNetLemmatizer()\n",
    "\n",
    "print(lemmatizer.lemmatize('are'))\n",
    "\n",
    "print(lemmatizer.lemmatize('is'))\n",
    "\n",
    "print(lemmatizer.lemmatize('is', pos='n'))\n",
    "\n",
    "print(lemmatizer.lemmatize('is', pos='v'))"
   ]
  },
  {
   "cell_type": "code",
   "execution_count": 30,
   "metadata": {
    "colab": {
     "base_uri": "https://localhost:8080/",
     "height": 463
    },
    "colab_type": "code",
    "id": "VJ9VhNpMfeHu",
    "outputId": "0f43284c-45d2-4940-a9bb-c03858366bed"
   },
   "outputs": [
    {
     "name": "stdout",
     "output_type": "stream",
     "text": [
      "[('Mark', 'PERSON'),\n",
      " ('Zuckerberg', 'PERSON'),\n",
      " ('is', 'O'),\n",
      " ('studying', 'O'),\n",
      " ('at', 'O'),\n",
      " ('Harvard', 'ORGANIZATION'),\n",
      " ('University', 'ORGANIZATION'),\n",
      " ('in', 'O'),\n",
      " ('Massachusetts', 'LOCATION')]\n"
     ]
    }
   ],
   "source": [
    "# NER tagging: Named Entity Recognition\n",
    "\n",
    "from nltk.tag import StanfordNERTagger\n",
    "import os\n",
    "\n",
    "#  http://www.nltk.org/api/nltk.tag.html#module-nltk.tag.stanford\n",
    "# https://nlp.stanford.edu/software/CRF-NER.html#Download\n",
    "\n",
    "\n",
    "gs_path = os.path.join(os.getcwd(),\n",
    "                       'stanford-ner-4.0.0',\n",
    "                       'classifiers',\n",
    "                       'english.muc.7class.distsim.crf.ser.gz')\n",
    "\n",
    "jar_path = os.path.join(os.getcwd(),\n",
    "                        'stanford-ner-4.0.0',\n",
    "                        'stanford-ner.jar')\n",
    "\n",
    "st = StanfordNERTagger(gs_path,\n",
    "                       jar_path,\n",
    "                       encoding='utf-8')\n",
    "\n",
    "\n",
    "sentence = 'Mark Zuckerberg is studying at Harvard University in Massachusetts'\n",
    "\n",
    "classified_text = st.tag(sentence.split()) \n",
    "\n",
    "pprint(classified_text)"
   ]
  },
  {
   "cell_type": "code",
   "execution_count": 31,
   "metadata": {
    "colab": {
     "base_uri": "https://localhost:8080/",
     "height": 494
    },
    "colab_type": "code",
    "id": "NqOWilfifeHx",
    "outputId": "cb5914f7-8942-49f8-9d87-ecef1b6ebb3b"
   },
   "outputs": [
    {
     "name": "stdout",
     "output_type": "stream",
     "text": [
      "(S\n",
      "  (PERSON Mark/NNP)\n",
      "  (ORGANIZATION Zuckerberg/NNP)\n",
      "  is/VBZ\n",
      "  studying/VBG\n",
      "  at/IN\n",
      "  (ORGANIZATION Harvard/NNP University/NNP)\n",
      "  in/IN\n",
      "  (GPE Massachusetts/NNP))\n"
     ]
    }
   ],
   "source": [
    "# sentence = \"At eight o'clock on Thursday morning Arthur didn't feel very good.\"\n",
    "# sentence = 'Rami Eid is studying at Stony Brook University in NY'\n",
    "\n",
    "# nltk.download('maxent_treebank_pos_tagger')\n",
    "# nltk.download('averaged_perceptron_tagger')\n",
    "# nltk.download('maxent_ne_chunker')\n",
    "# nltk.download('words')\n",
    "\n",
    "tokens = nltk.word_tokenize(sentence)\n",
    "\n",
    "tagged = nltk.pos_tag(tokens)\n",
    "\n",
    "entities = nltk.chunk.ne_chunk(tagged)\n",
    "\n",
    "print(entities)\n",
    "\n",
    "entities.draw()"
   ]
  },
  {
   "cell_type": "code",
   "execution_count": 32,
   "metadata": {
    "colab": {},
    "colab_type": "code",
    "id": "HYFzw8KQfeH2",
    "outputId": "b9856dc5-f907-491c-eb67-847cf94cf359"
   },
   "outputs": [
    {
     "data": {
      "image/png": "[encoded data removed]",
      "text/plain": [
       "<IPython.core.display.Image object>"
      ]
     },
     "metadata": {},
     "output_type": "display_data"
    }
   ],
   "source": [
    "# In linux: sudo apt-get install imagemagick\n",
    "import os\n",
    "from IPython.display import Image, display\n",
    "from nltk.draw import TreeWidget\n",
    "from nltk.draw.util import CanvasFrame\n",
    "\n",
    "\n",
    "def jupyter_draw_nltk_tree(tree):\n",
    "    \"\"\"\n",
    "    This function draws an nltk Tree within jupyter notebook\n",
    "    \"\"\"\n",
    "    \n",
    "    cf = CanvasFrame()\n",
    "    tc = TreeWidget(cf.canvas(), tree)\n",
    "    \n",
    "    tc['node_font'] = 'arial 13 bold'\n",
    "    tc['leaf_font'] = 'arial 14'\n",
    "    tc['node_color'] = '#005990'\n",
    "    tc['leaf_color'] = '#3F8F57'\n",
    "    tc['line_color'] = '#175252'\n",
    "    \n",
    "    cf.add_widget(tc, 10, 10)\n",
    "    \n",
    "    ps_path = 'tmp_tree_output.ps'\n",
    "    \n",
    "    png_path = 'tmp_tree_output.png'\n",
    "\n",
    "    cf.print_to_file(ps_path)\n",
    "    \n",
    "    cf.destroy()\n",
    "\n",
    "    os.system(f\"\"\"convert {ps_path} {png_path}\"\"\")\n",
    "    \n",
    "    display(Image(filename=png_path))\n",
    "    \n",
    "    os.system(f'rm {ps_path} {png_path}')\n",
    "\n",
    "jupyter_draw_nltk_tree(entities)"
   ]
  },
  {
   "cell_type": "code",
   "execution_count": 33,
   "metadata": {
    "colab": {},
    "colab_type": "code",
    "id": "H87lov1VfeH8",
    "outputId": "af95241b-781f-474b-9245-09752fce5caa"
   },
   "outputs": [],
   "source": [
    "# or run as a rest api\n",
    "# https://nlp.stanford.edu/software/pos-tagger-faq.html"
   ]
  },
  {
   "cell_type": "code",
   "execution_count": 34,
   "metadata": {
    "colab": {},
    "colab_type": "code",
    "id": "W5EuB7WTfeH_"
   },
   "outputs": [],
   "source": [
    "from nltk.tag.perceptron import PerceptronTagger\n",
    "\n",
    "tagger = PerceptronTagger()\n",
    "\n",
    "tokens = nltk.word_tokenize(sentence)\n",
    "\n",
    "tagged = tagger.tag(tokens)\n",
    "\n",
    "entities = nltk.chunk.ne_chunk(tagged)\n",
    "\n",
    "entities.draw()"
   ]
  },
  {
   "cell_type": "code",
   "execution_count": 35,
   "metadata": {
    "colab": {},
    "colab_type": "code",
    "id": "PddV7pqjfeIB"
   },
   "outputs": [],
   "source": [
    "# dir(nltk.chunk.named_entity)\n",
    "# print tagger.classes"
   ]
  },
  {
   "cell_type": "code",
   "execution_count": 36,
   "metadata": {
    "colab": {},
    "colab_type": "code",
    "id": "gaXX30sZfeIE",
    "outputId": "bfce18e4-8386-4acc-b6da-26e05327979e"
   },
   "outputs": [],
   "source": [
    "import nltk\n",
    "from nltk import word_tokenize\n",
    "from nltk.tag.perceptron import PerceptronTagger\n",
    "\n",
    "tagger = PerceptronTagger()\n",
    "\n",
    "tokens = nltk.word_tokenize(sentence)\n",
    "\n",
    "tagged_sent = nltk.pos_tag(tokens)\n",
    "\n",
    "chunked_sentences = nltk.ne_chunk_sents([tagged_sent],\n",
    "                                        binary=True)\n",
    "\n",
    "def extract_entity_names(t):\n",
    "    \"\"\"\n",
    "    This function extracts entity names\n",
    "    \"\"\"\n",
    "    entity_names = []\n",
    "    \n",
    "    if hasattr(t, 'label') and t.label:\n",
    "        \n",
    "        if t.label() == 'NE':\n",
    "            entity_names.append(' '.join([child[0] for child in t]))\n",
    "            \n",
    "        else:\n",
    "            for child in t:\n",
    "                entity_names.extend(extract_entity_names(child))\n",
    "                \n",
    "    return entity_names"
   ]
  },
  {
   "cell_type": "code",
   "execution_count": 37,
   "metadata": {
    "colab": {},
    "colab_type": "code",
    "id": "gaXX30sZfeIE",
    "outputId": "bfce18e4-8386-4acc-b6da-26e05327979e"
   },
   "outputs": [
    {
     "name": "stdout",
     "output_type": "stream",
     "text": [
      "['Mark Zuckerberg', 'Harvard University', 'Massachusetts']\n"
     ]
    }
   ],
   "source": [
    "entities = []\n",
    "\n",
    "for tree in chunked_sentences:\n",
    "    entities.extend(extract_entity_names(tree))\n",
    "\n",
    "pprint(entities)"
   ]
  },
  {
   "cell_type": "code",
   "execution_count": 38,
   "metadata": {
    "colab": {},
    "colab_type": "code",
    "id": "gaXX30sZfeIE",
    "outputId": "bfce18e4-8386-4acc-b6da-26e05327979e"
   },
   "outputs": [
    {
     "name": "stdout",
     "output_type": "stream",
     "text": [
      "PERSON Mark\n",
      "ORGANIZATION Zuckerberg\n",
      "ORGANIZATION Harvard University\n",
      "GPE Massachusetts\n"
     ]
    }
   ],
   "source": [
    "for sent in nltk.sent_tokenize(sentence):\n",
    "    \n",
    "    chunks = nltk.ne_chunk(nltk.pos_tag(nltk.word_tokenize(sent)))\n",
    "    \n",
    "    for chunk in chunks:\n",
    "        \n",
    "        if hasattr(chunk, 'label'):\n",
    "            \n",
    "            print(chunk.label(), ' '.join(c[0] for c in chunk))"
   ]
  },
  {
   "cell_type": "code",
   "execution_count": 39,
   "metadata": {
    "colab": {},
    "colab_type": "code",
    "id": "jgdpJtNVfeII"
   },
   "outputs": [],
   "source": [
    "# Usefull Links\n",
    "# http://nlpforhackers.io/named-entity-extraction/\n",
    "# https://www.packtpub.com/mapt/book/application_development/9781849513609/5/ch05lvl1sec56/extracting-named-entities\n",
    "# http://nlpforhackers.io/"
   ]
  }
 ],
 "metadata": {
  "colab": {
   "collapsed_sections": [],
   "name": "nltk_101.ipynb",
   "provenance": [],
   "version": "0.3.2"
  },
  "kernelspec": {
   "display_name": "Python 3",
   "language": "python",
   "name": "python3"
  },
  "language_info": {
   "codemirror_mode": {
    "name": "ipython",
    "version": 3
   },
   "file_extension": ".py",
   "mimetype": "text/x-python",
   "name": "python",
   "nbconvert_exporter": "python",
   "pygments_lexer": "ipython3",
   "version": "3.7.3"
  }
 },
 "nbformat": 4,
 "nbformat_minor": 1
}
