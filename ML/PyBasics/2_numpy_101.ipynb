{
 "cells": [
  {
   "cell_type": "markdown",
   "metadata": {
    "colab_type": "text",
    "id": "tJrzzYxoWT6j"
   },
   "source": [
    "## Introduction to Numpy\n",
    "\n",
    "[Numpy  Package URL](https://www.numpy.org/)"
   ]
  },
  {
   "cell_type": "code",
   "execution_count": 1,
   "metadata": {
    "colab": {
     "base_uri": "https://localhost:8080/",
     "height": 34
    },
    "colab_type": "code",
    "executionInfo": {
     "elapsed": 1374,
     "status": "ok",
     "timestamp": 1557354951681,
     "user": {
      "displayName": "George Perakis",
      "photoUrl": "https://lh6.googleusercontent.com/-z8wE9GEJtS0/AAAAAAAAAAI/AAAAAAAAHyQ/ATH_dJrCwok/s64/photo.jpg",
      "userId": "05726012581152193594"
     },
     "user_tz": -180
    },
    "id": "PPAAanesWRww",
    "outputId": "57610c89-91f7-4e02-9d63-dec571b8e57e"
   },
   "outputs": [
    {
     "data": {
      "text/plain": [
       "'1.16.2'"
      ]
     },
     "execution_count": 1,
     "metadata": {},
     "output_type": "execute_result"
    }
   ],
   "source": [
    "import numpy as np\n",
    "\n",
    "np.__version__"
   ]
  },
  {
   "cell_type": "code",
   "execution_count": 2,
   "metadata": {},
   "outputs": [
    {
     "name": "stdout",
     "output_type": "stream",
     "text": [
      "Shape: (6,)\n"
     ]
    },
    {
     "data": {
      "text/plain": [
       "array([1, 2, 3, 4, 5, 6])"
      ]
     },
     "execution_count": 2,
     "metadata": {},
     "output_type": "execute_result"
    }
   ],
   "source": [
    "# one dimensional array\n",
    "A = np.array([1,2,3,4,5,6])\n",
    "\n",
    "print('Shape:' , A.shape)\n",
    "A"
   ]
  },
  {
   "cell_type": "code",
   "execution_count": 3,
   "metadata": {
    "colab": {
     "base_uri": "https://localhost:8080/",
     "height": 85
    },
    "colab_type": "code",
    "executionInfo": {
     "elapsed": 1333,
     "status": "ok",
     "timestamp": 1557354951684,
     "user": {
      "displayName": "George Perakis",
      "photoUrl": "https://lh6.googleusercontent.com/-z8wE9GEJtS0/AAAAAAAAAAI/AAAAAAAAHyQ/ATH_dJrCwok/s64/photo.jpg",
      "userId": "05726012581152193594"
     },
     "user_tz": -180
    },
    "id": "0GD8LpfVWetV",
    "outputId": "ed244551-c556-496d-8b32-d3c630dbf4f0"
   },
   "outputs": [
    {
     "name": "stdout",
     "output_type": "stream",
     "text": [
      "---------------\n",
      "Shape: (2, 3)\n"
     ]
    }
   ],
   "source": [
    "# two dimensional array\n",
    "A = np.array([[1, 2, 3], \n",
    "              [4, 5, 6]])\n",
    "# [[1 2 3]\n",
    "# [4 5 6]]\n",
    "\n",
    "print(15 * '-')\n",
    "print('Shape:' , A.shape)"
   ]
  },
  {
   "cell_type": "code",
   "execution_count": 4,
   "metadata": {
    "colab": {
     "base_uri": "https://localhost:8080/",
     "height": 85
    },
    "colab_type": "code",
    "executionInfo": {
     "elapsed": 1249,
     "status": "ok",
     "timestamp": 1557354951685,
     "user": {
      "displayName": "George Perakis",
      "photoUrl": "https://lh6.googleusercontent.com/-z8wE9GEJtS0/AAAAAAAAAAI/AAAAAAAAHyQ/ATH_dJrCwok/s64/photo.jpg",
      "userId": "05726012581152193594"
     },
     "user_tz": -180
    },
    "id": "VYaaA8qiWz0l",
    "outputId": "80e0091f-d7c8-44e3-f8f7-2c716ffc4300"
   },
   "outputs": [
    {
     "name": "stdout",
     "output_type": "stream",
     "text": [
      "[1. 2. 3.]\n",
      "--------------------\n",
      "Shape: (3,)\n",
      "Type:  <class 'numpy.ndarray'>\n"
     ]
    }
   ],
   "source": [
    "# We can define the type of the inputs\n",
    "Af = np.array([1, 2, 3], float)\n",
    "print(Af)\n",
    "\n",
    "print(20 * '-')\n",
    "print('Shape:' , Af.shape)\n",
    "# n-dimensional array\n",
    "print('Type: ', type(Af))"
   ]
  },
  {
   "cell_type": "code",
   "execution_count": 5,
   "metadata": {
    "colab": {
     "base_uri": "https://localhost:8080/",
     "height": 34
    },
    "colab_type": "code",
    "executionInfo": {
     "elapsed": 2241,
     "status": "ok",
     "timestamp": 1557354952709,
     "user": {
      "displayName": "George Perakis",
      "photoUrl": "https://lh6.googleusercontent.com/-z8wE9GEJtS0/AAAAAAAAAAI/AAAAAAAAHyQ/ATH_dJrCwok/s64/photo.jpg",
      "userId": "05726012581152193594"
     },
     "user_tz": -180
    },
    "id": "LtLetpKFXZYO",
    "outputId": "2f46bffa-3ac6-4071-8bff-43b43dd32541"
   },
   "outputs": [
    {
     "name": "stdout",
     "output_type": "stream",
     "text": [
      "[0.  0.2 0.4 0.6 0.8]\n"
     ]
    }
   ],
   "source": [
    "# same as python's range() function but can step with decimal steps.\n",
    "A = np.arange(0, 1, 0.2)\n",
    "print(A)"
   ]
  },
  {
   "cell_type": "code",
   "execution_count": 6,
   "metadata": {
    "colab": {
     "base_uri": "https://localhost:8080/",
     "height": 68
    },
    "colab_type": "code",
    "executionInfo": {
     "elapsed": 2222,
     "status": "ok",
     "timestamp": 1557354952713,
     "user": {
      "displayName": "George Perakis",
      "photoUrl": "https://lh6.googleusercontent.com/-z8wE9GEJtS0/AAAAAAAAAAI/AAAAAAAAHyQ/ATH_dJrCwok/s64/photo.jpg",
      "userId": "05726012581152193594"
     },
     "user_tz": -180
    },
    "id": "T_1tL-RCXzM5",
    "outputId": "60e107b7-5b07-4137-b327-bc52b5435494"
   },
   "outputs": [
    {
     "data": {
      "text/plain": [
       "array([0.        , 2.0943951 , 4.1887902 , 6.28318531])"
      ]
     },
     "execution_count": 6,
     "metadata": {},
     "output_type": "execute_result"
    }
   ],
   "source": [
    "# Returns evenly spaced numbers over a specified interval.\n",
    "A = np.linspace(0, 2*np.pi, 4)\n",
    "A"
   ]
  },
  {
   "cell_type": "code",
   "execution_count": 7,
   "metadata": {
    "colab": {
     "base_uri": "https://localhost:8080/",
     "height": 68
    },
    "colab_type": "code",
    "executionInfo": {
     "elapsed": 2222,
     "status": "ok",
     "timestamp": 1557354952713,
     "user": {
      "displayName": "George Perakis",
      "photoUrl": "https://lh6.googleusercontent.com/-z8wE9GEJtS0/AAAAAAAAAAI/AAAAAAAAHyQ/ATH_dJrCwok/s64/photo.jpg",
      "userId": "05726012581152193594"
     },
     "user_tz": -180
    },
    "id": "T_1tL-RCXzM5",
    "outputId": "60e107b7-5b07-4137-b327-bc52b5435494"
   },
   "outputs": [
    {
     "name": "stdout",
     "output_type": "stream",
     "text": [
      "[ 0.  1.  2.  3.  4.  5.  6.  7.  8.  9. 10.]\n"
     ]
    }
   ],
   "source": [
    "A = np.linspace(0, 10, 11)\n",
    "print(A)"
   ]
  },
  {
   "cell_type": "code",
   "execution_count": 8,
   "metadata": {
    "colab": {
     "base_uri": "https://localhost:8080/",
     "height": 51
    },
    "colab_type": "code",
    "executionInfo": {
     "elapsed": 2203,
     "status": "ok",
     "timestamp": 1557354952719,
     "user": {
      "displayName": "George Perakis",
      "photoUrl": "https://lh6.googleusercontent.com/-z8wE9GEJtS0/AAAAAAAAAAI/AAAAAAAAHyQ/ATH_dJrCwok/s64/photo.jpg",
      "userId": "05726012581152193594"
     },
     "user_tz": -180
    },
    "id": "JFA9_KNDXZcz",
    "outputId": "0904db0b-6abf-4901-b726-c3ffb83b2ce0"
   },
   "outputs": [
    {
     "name": "stdout",
     "output_type": "stream",
     "text": [
      "[[0.97155402 0.00251794 0.52749002]\n",
      " [0.84381631 0.90805612 0.45090075]\n",
      " [0.51139596 0.78150565 0.23331658]\n",
      " [0.96793581 0.18992466 0.88199579]\n",
      " [0.98697518 0.39145938 0.61350173]]\n"
     ]
    }
   ],
   "source": [
    "# Create random numpy array of shape (5,3)\n",
    "A = np.random.random((5,3))\n",
    "print(A)"
   ]
  },
  {
   "cell_type": "code",
   "execution_count": 9,
   "metadata": {
    "colab": {
     "base_uri": "https://localhost:8080/",
     "height": 119
    },
    "colab_type": "code",
    "executionInfo": {
     "elapsed": 2159,
     "status": "ok",
     "timestamp": 1557354952722,
     "user": {
      "displayName": "George Perakis",
      "photoUrl": "https://lh6.googleusercontent.com/-z8wE9GEJtS0/AAAAAAAAAAI/AAAAAAAAHyQ/ATH_dJrCwok/s64/photo.jpg",
      "userId": "05726012581152193594"
     },
     "user_tz": -180
    },
    "id": "SBccB0xgXZg4",
    "outputId": "e2f124f9-00e3-4859-a537-2aa2b3b1fea9"
   },
   "outputs": [
    {
     "name": "stdout",
     "output_type": "stream",
     "text": [
      "[[ 0.33185317  1.33334683]\n",
      " [-1.9716702   1.29816099]\n",
      " [-3.01137847 -1.0624715 ]\n",
      " [-0.28547386 -3.77979271]\n",
      " [-2.87242108 -1.45688769]]\n"
     ]
    }
   ],
   "source": [
    "# Create an array of shape (5,2) by sampling from a Normal distribution \n",
    "# of location (center) 0.0 and scale=2.0\n",
    "a = np.random.normal(loc=0.0,\n",
    "                     scale=2.0,\n",
    "                     size=(5,2))\n",
    "print(a)"
   ]
  },
  {
   "cell_type": "code",
   "execution_count": 10,
   "metadata": {
    "colab": {
     "base_uri": "https://localhost:8080/",
     "height": 119
    },
    "colab_type": "code",
    "executionInfo": {
     "elapsed": 2159,
     "status": "ok",
     "timestamp": 1557354952722,
     "user": {
      "displayName": "George Perakis",
      "photoUrl": "https://lh6.googleusercontent.com/-z8wE9GEJtS0/AAAAAAAAAAI/AAAAAAAAHyQ/ATH_dJrCwok/s64/photo.jpg",
      "userId": "05726012581152193594"
     },
     "user_tz": -180
    },
    "id": "SBccB0xgXZg4",
    "outputId": "e2f124f9-00e3-4859-a537-2aa2b3b1fea9"
   },
   "outputs": [
    {
     "name": "stdout",
     "output_type": "stream",
     "text": [
      "[[-1.00627625  0.01611422 -1.27958915]\n",
      " [ 2.093143   -0.72575604  0.91178314]\n",
      " [ 1.12854796  0.35078976 -0.87010563]\n",
      " [ 0.36337001  0.26484708 -0.47122556]\n",
      " [ 1.0995113  -0.00790629 -0.71979182]]\n"
     ]
    }
   ],
   "source": [
    "# Create an array of shape (5, 3) by sampling from a Normal distribution of location=0.0 and scale=1.0\n",
    "a = np.random.normal(loc=0.0,\n",
    "                     scale=1.0,\n",
    "                     size=(5,3))\n",
    "print(a)"
   ]
  },
  {
   "cell_type": "code",
   "execution_count": 11,
   "metadata": {
    "colab": {
     "base_uri": "https://localhost:8080/",
     "height": 170
    },
    "colab_type": "code",
    "executionInfo": {
     "elapsed": 2116,
     "status": "ok",
     "timestamp": 1557354952728,
     "user": {
      "displayName": "George Perakis",
      "photoUrl": "https://lh6.googleusercontent.com/-z8wE9GEJtS0/AAAAAAAAAAI/AAAAAAAAHyQ/ATH_dJrCwok/s64/photo.jpg",
      "userId": "05726012581152193594"
     },
     "user_tz": -180
    },
    "id": "QyT-5_3JWRxC",
    "outputId": "15da75f9-765d-4e2e-c7e5-a0c4dd18f734"
   },
   "outputs": [],
   "source": [
    "# Saving a numpy array as a txt file\n",
    "np.savetxt(\"a_out.txt\", a)"
   ]
  },
  {
   "cell_type": "code",
   "execution_count": 12,
   "metadata": {
    "colab": {
     "base_uri": "https://localhost:8080/",
     "height": 170
    },
    "colab_type": "code",
    "executionInfo": {
     "elapsed": 2116,
     "status": "ok",
     "timestamp": 1557354952728,
     "user": {
      "displayName": "George Perakis",
      "photoUrl": "https://lh6.googleusercontent.com/-z8wE9GEJtS0/AAAAAAAAAAI/AAAAAAAAHyQ/ATH_dJrCwok/s64/photo.jpg",
      "userId": "05726012581152193594"
     },
     "user_tz": -180
    },
    "id": "QyT-5_3JWRxC",
    "outputId": "15da75f9-765d-4e2e-c7e5-a0c4dd18f734"
   },
   "outputs": [],
   "source": [
    "# Saving a numpy array as a .csv file\n",
    "a.tofile('foo.csv',\n",
    "         sep=',',\n",
    "         format='%10.5f')"
   ]
  },
  {
   "cell_type": "code",
   "execution_count": 13,
   "metadata": {
    "colab": {
     "base_uri": "https://localhost:8080/",
     "height": 170
    },
    "colab_type": "code",
    "executionInfo": {
     "elapsed": 2116,
     "status": "ok",
     "timestamp": 1557354952728,
     "user": {
      "displayName": "George Perakis",
      "photoUrl": "https://lh6.googleusercontent.com/-z8wE9GEJtS0/AAAAAAAAAAI/AAAAAAAAHyQ/ATH_dJrCwok/s64/photo.jpg",
      "userId": "05726012581152193594"
     },
     "user_tz": -180
    },
    "id": "QyT-5_3JWRxC",
    "outputId": "15da75f9-765d-4e2e-c7e5-a0c4dd18f734"
   },
   "outputs": [],
   "source": [
    "# Second way to save an array as a .csv file.\n",
    "np.savetxt(\"foo.csv\", a, delimiter=\",\")"
   ]
  },
  {
   "cell_type": "code",
   "execution_count": 14,
   "metadata": {
    "colab": {
     "base_uri": "https://localhost:8080/",
     "height": 170
    },
    "colab_type": "code",
    "executionInfo": {
     "elapsed": 2116,
     "status": "ok",
     "timestamp": 1557354952728,
     "user": {
      "displayName": "George Perakis",
      "photoUrl": "https://lh6.googleusercontent.com/-z8wE9GEJtS0/AAAAAAAAAAI/AAAAAAAAHyQ/ATH_dJrCwok/s64/photo.jpg",
      "userId": "05726012581152193594"
     },
     "user_tz": -180
    },
    "id": "QyT-5_3JWRxC",
    "outputId": "15da75f9-765d-4e2e-c7e5-a0c4dd18f734"
   },
   "outputs": [
    {
     "name": "stdout",
     "output_type": "stream",
     "text": [
      "[[-1.00627625  0.01611422 -1.27958915]\n",
      " [ 2.093143   -0.72575604  0.91178314]\n",
      " [ 1.12854796  0.35078976 -0.87010563]\n",
      " [ 0.36337001  0.26484708 -0.47122556]\n",
      " [ 1.0995113  -0.00790629 -0.71979182]]\n",
      "\n",
      "<class 'numpy.ndarray'>\n"
     ]
    }
   ],
   "source": [
    "b = np.loadtxt(\"a_out.txt\")\n",
    "print(b, end='\\n\\n')\n",
    "print(type(b))"
   ]
  },
  {
   "cell_type": "code",
   "execution_count": 15,
   "metadata": {
    "colab": {
     "base_uri": "https://localhost:8080/",
     "height": 170
    },
    "colab_type": "code",
    "executionInfo": {
     "elapsed": 2116,
     "status": "ok",
     "timestamp": 1557354952728,
     "user": {
      "displayName": "George Perakis",
      "photoUrl": "https://lh6.googleusercontent.com/-z8wE9GEJtS0/AAAAAAAAAAI/AAAAAAAAHyQ/ATH_dJrCwok/s64/photo.jpg",
      "userId": "05726012581152193594"
     },
     "user_tz": -180
    },
    "id": "QyT-5_3JWRxC",
    "outputId": "15da75f9-765d-4e2e-c7e5-a0c4dd18f734"
   },
   "outputs": [
    {
     "name": "stdout",
     "output_type": "stream",
     "text": [
      "[[-1.00627625  0.01611422 -1.27958915]\n",
      " [ 2.093143   -0.72575604  0.91178314]\n",
      " [ 1.12854796  0.35078976 -0.87010563]\n",
      " [ 0.36337001  0.26484708 -0.47122556]\n",
      " [ 1.0995113  -0.00790629 -0.71979182]]\n",
      "<class 'numpy.ndarray'>\n"
     ]
    }
   ],
   "source": [
    "b = np.loadtxt(\"foo.csv\", delimiter=',')\n",
    "print(b)\n",
    "print(type(b))"
   ]
  },
  {
   "cell_type": "code",
   "execution_count": 16,
   "metadata": {
    "colab": {
     "base_uri": "https://localhost:8080/",
     "height": 612
    },
    "colab_type": "code",
    "executionInfo": {
     "elapsed": 2080,
     "status": "ok",
     "timestamp": 1557354952731,
     "user": {
      "displayName": "George Perakis",
      "photoUrl": "https://lh6.googleusercontent.com/-z8wE9GEJtS0/AAAAAAAAAAI/AAAAAAAAHyQ/ATH_dJrCwok/s64/photo.jpg",
      "userId": "05726012581152193594"
     },
     "user_tz": -180
    },
    "id": "0renl9FIWRxI",
    "outputId": "78d3d74a-f545-4b4c-be6d-79eee73e8976"
   },
   "outputs": [
    {
     "name": "stdout",
     "output_type": "stream",
     "text": [
      "[[1. 0. 0. 0.]\n",
      " [0. 1. 0. 0.]\n",
      " [0. 0. 1. 0.]\n",
      " [0. 0. 0. 1.]]\n"
     ]
    }
   ],
   "source": [
    "A = np.eye(4, k=0, dtype=float)\n",
    "print(A)"
   ]
  },
  {
   "cell_type": "code",
   "execution_count": 17,
   "metadata": {
    "colab": {
     "base_uri": "https://localhost:8080/",
     "height": 612
    },
    "colab_type": "code",
    "executionInfo": {
     "elapsed": 2080,
     "status": "ok",
     "timestamp": 1557354952731,
     "user": {
      "displayName": "George Perakis",
      "photoUrl": "https://lh6.googleusercontent.com/-z8wE9GEJtS0/AAAAAAAAAAI/AAAAAAAAHyQ/ATH_dJrCwok/s64/photo.jpg",
      "userId": "05726012581152193594"
     },
     "user_tz": -180
    },
    "id": "0renl9FIWRxI",
    "outputId": "78d3d74a-f545-4b4c-be6d-79eee73e8976"
   },
   "outputs": [
    {
     "name": "stdout",
     "output_type": "stream",
     "text": [
      "[[0. 1. 0. 0.]\n",
      " [0. 0. 1. 0.]\n",
      " [0. 0. 0. 1.]\n",
      " [0. 0. 0. 0.]]\n"
     ]
    }
   ],
   "source": [
    "A = np.eye(4, k=1, dtype=float)\n",
    "print(A)"
   ]
  },
  {
   "cell_type": "code",
   "execution_count": 18,
   "metadata": {
    "colab": {
     "base_uri": "https://localhost:8080/",
     "height": 612
    },
    "colab_type": "code",
    "executionInfo": {
     "elapsed": 2080,
     "status": "ok",
     "timestamp": 1557354952731,
     "user": {
      "displayName": "George Perakis",
      "photoUrl": "https://lh6.googleusercontent.com/-z8wE9GEJtS0/AAAAAAAAAAI/AAAAAAAAHyQ/ATH_dJrCwok/s64/photo.jpg",
      "userId": "05726012581152193594"
     },
     "user_tz": -180
    },
    "id": "0renl9FIWRxI",
    "outputId": "78d3d74a-f545-4b4c-be6d-79eee73e8976"
   },
   "outputs": [
    {
     "name": "stdout",
     "output_type": "stream",
     "text": [
      "[[0. 0. 0. 0.]\n",
      " [1. 0. 0. 0.]\n",
      " [0. 1. 0. 0.]\n",
      " [0. 0. 1. 0.]]\n"
     ]
    }
   ],
   "source": [
    "A = np.eye(4, k=-1, dtype=float)\n",
    "print(A)"
   ]
  },
  {
   "cell_type": "code",
   "execution_count": 19,
   "metadata": {
    "colab": {
     "base_uri": "https://localhost:8080/",
     "height": 612
    },
    "colab_type": "code",
    "executionInfo": {
     "elapsed": 2080,
     "status": "ok",
     "timestamp": 1557354952731,
     "user": {
      "displayName": "George Perakis",
      "photoUrl": "https://lh6.googleusercontent.com/-z8wE9GEJtS0/AAAAAAAAAAI/AAAAAAAAHyQ/ATH_dJrCwok/s64/photo.jpg",
      "userId": "05726012581152193594"
     },
     "user_tz": -180
    },
    "id": "0renl9FIWRxI",
    "outputId": "78d3d74a-f545-4b4c-be6d-79eee73e8976"
   },
   "outputs": [
    {
     "name": "stdout",
     "output_type": "stream",
     "text": [
      "[[0. 0. 0. 0.]\n",
      " [0. 0. 0. 0.]\n",
      " [0. 0. 0. 0.]\n",
      " [0. 0. 0. 0.]]\n"
     ]
    }
   ],
   "source": [
    "A = np.zeros([4,4])\n",
    "print(A)"
   ]
  },
  {
   "cell_type": "code",
   "execution_count": 20,
   "metadata": {
    "colab": {
     "base_uri": "https://localhost:8080/",
     "height": 612
    },
    "colab_type": "code",
    "executionInfo": {
     "elapsed": 2080,
     "status": "ok",
     "timestamp": 1557354952731,
     "user": {
      "displayName": "George Perakis",
      "photoUrl": "https://lh6.googleusercontent.com/-z8wE9GEJtS0/AAAAAAAAAAI/AAAAAAAAHyQ/ATH_dJrCwok/s64/photo.jpg",
      "userId": "05726012581152193594"
     },
     "user_tz": -180
    },
    "id": "0renl9FIWRxI",
    "outputId": "78d3d74a-f545-4b4c-be6d-79eee73e8976"
   },
   "outputs": [
    {
     "name": "stdout",
     "output_type": "stream",
     "text": [
      "[[1. 1. 1. 1.]\n",
      " [1. 1. 1. 1.]\n",
      " [1. 1. 1. 1.]\n",
      " [1. 1. 1. 1.]]\n"
     ]
    }
   ],
   "source": [
    "A = np.ones([4,4])\n",
    "print(A)"
   ]
  },
  {
   "cell_type": "code",
   "execution_count": 21,
   "metadata": {
    "colab": {
     "base_uri": "https://localhost:8080/",
     "height": 612
    },
    "colab_type": "code",
    "executionInfo": {
     "elapsed": 2080,
     "status": "ok",
     "timestamp": 1557354952731,
     "user": {
      "displayName": "George Perakis",
      "photoUrl": "https://lh6.googleusercontent.com/-z8wE9GEJtS0/AAAAAAAAAAI/AAAAAAAAHyQ/ATH_dJrCwok/s64/photo.jpg",
      "userId": "05726012581152193594"
     },
     "user_tz": -180
    },
    "id": "0renl9FIWRxI",
    "outputId": "78d3d74a-f545-4b4c-be6d-79eee73e8976"
   },
   "outputs": [
    {
     "name": "stdout",
     "output_type": "stream",
     "text": [
      "[[0 0 0 0]\n",
      " [0 1 0 0]\n",
      " [0 0 2 0]\n",
      " [0 0 0 3]]\n"
     ]
    }
   ],
   "source": [
    "A = np.diag(range(4))\n",
    "print(A)"
   ]
  },
  {
   "cell_type": "code",
   "execution_count": 22,
   "metadata": {
    "colab": {
     "base_uri": "https://localhost:8080/",
     "height": 612
    },
    "colab_type": "code",
    "executionInfo": {
     "elapsed": 2080,
     "status": "ok",
     "timestamp": 1557354952731,
     "user": {
      "displayName": "George Perakis",
      "photoUrl": "https://lh6.googleusercontent.com/-z8wE9GEJtS0/AAAAAAAAAAI/AAAAAAAAHyQ/ATH_dJrCwok/s64/photo.jpg",
      "userId": "05726012581152193594"
     },
     "user_tz": -180
    },
    "id": "0renl9FIWRxI",
    "outputId": "78d3d74a-f545-4b4c-be6d-79eee73e8976"
   },
   "outputs": [
    {
     "name": "stdout",
     "output_type": "stream",
     "text": [
      "[[1. 1. 1. 1.]\n",
      " [1. 1. 1. 1.]\n",
      " [1. 1. 1. 1.]\n",
      " [1. 1. 1. 1.]]\n"
     ]
    }
   ],
   "source": [
    "A = np.empty((4, 4))\n",
    "print(A)"
   ]
  },
  {
   "cell_type": "code",
   "execution_count": 23,
   "metadata": {
    "colab": {
     "base_uri": "https://localhost:8080/",
     "height": 289
    },
    "colab_type": "code",
    "executionInfo": {
     "elapsed": 2032,
     "status": "ok",
     "timestamp": 1557354952734,
     "user": {
      "displayName": "George Perakis",
      "photoUrl": "https://lh6.googleusercontent.com/-z8wE9GEJtS0/AAAAAAAAAAI/AAAAAAAAHyQ/ATH_dJrCwok/s64/photo.jpg",
      "userId": "05726012581152193594"
     },
     "user_tz": -180
    },
    "id": "kPJvrUnFWRxO",
    "outputId": "061cbc96-7fad-4454-942f-c950aab23ed1"
   },
   "outputs": [
    {
     "name": "stdout",
     "output_type": "stream",
     "text": [
      "Unique elements of the arays\n",
      "[1 2 3]\n",
      "[1 2]\n"
     ]
    }
   ],
   "source": [
    "u = [1, 2, 3, 1]\n",
    "\n",
    "v = [1, 1, 1, 2]\n",
    "\n",
    "# unique elements of an array (as an array)\n",
    "print('Unique elements of the arays')\n",
    "print(np.unique(u))\n",
    "print(np.unique(v))"
   ]
  },
  {
   "cell_type": "code",
   "execution_count": 24,
   "metadata": {
    "colab": {
     "base_uri": "https://localhost:8080/",
     "height": 289
    },
    "colab_type": "code",
    "executionInfo": {
     "elapsed": 2032,
     "status": "ok",
     "timestamp": 1557354952734,
     "user": {
      "displayName": "George Perakis",
      "photoUrl": "https://lh6.googleusercontent.com/-z8wE9GEJtS0/AAAAAAAAAAI/AAAAAAAAHyQ/ATH_dJrCwok/s64/photo.jpg",
      "userId": "05726012581152193594"
     },
     "user_tz": -180
    },
    "id": "kPJvrUnFWRxO",
    "outputId": "061cbc96-7fad-4454-942f-c950aab23ed1"
   },
   "outputs": [
    {
     "name": "stdout",
     "output_type": "stream",
     "text": [
      "Inner product of 2 arrays\n",
      "8\n",
      "\n"
     ]
    }
   ],
   "source": [
    "# inner product of 2 arrays\n",
    "\n",
    "print('Inner product of 2 arrays')\n",
    "print(np.inner(u, v), end='\\n\\n')"
   ]
  },
  {
   "cell_type": "code",
   "execution_count": 25,
   "metadata": {
    "colab": {
     "base_uri": "https://localhost:8080/",
     "height": 289
    },
    "colab_type": "code",
    "executionInfo": {
     "elapsed": 2032,
     "status": "ok",
     "timestamp": 1557354952734,
     "user": {
      "displayName": "George Perakis",
      "photoUrl": "https://lh6.googleusercontent.com/-z8wE9GEJtS0/AAAAAAAAAAI/AAAAAAAAHyQ/ATH_dJrCwok/s64/photo.jpg",
      "userId": "05726012581152193594"
     },
     "user_tz": -180
    },
    "id": "kPJvrUnFWRxO",
    "outputId": "061cbc96-7fad-4454-942f-c950aab23ed1"
   },
   "outputs": [
    {
     "name": "stdout",
     "output_type": "stream",
     "text": [
      "Outer product of 2 arrays\n",
      "[[1 1 1 2]\n",
      " [2 2 2 4]\n",
      " [3 3 3 6]\n",
      " [1 1 1 2]]\n",
      "\n"
     ]
    }
   ],
   "source": [
    "# outer product of 2 arrays\n",
    "# https://en.wikipedia.org/wiki/Outer_product\n",
    "print('Outer product of 2 arrays')\n",
    "print(np.outer(u, v), end='\\n\\n')"
   ]
  },
  {
   "cell_type": "code",
   "execution_count": 26,
   "metadata": {
    "colab": {
     "base_uri": "https://localhost:8080/",
     "height": 289
    },
    "colab_type": "code",
    "executionInfo": {
     "elapsed": 2032,
     "status": "ok",
     "timestamp": 1557354952734,
     "user": {
      "displayName": "George Perakis",
      "photoUrl": "https://lh6.googleusercontent.com/-z8wE9GEJtS0/AAAAAAAAAAI/AAAAAAAAHyQ/ATH_dJrCwok/s64/photo.jpg",
      "userId": "05726012581152193594"
     },
     "user_tz": -180
    },
    "id": "kPJvrUnFWRxO",
    "outputId": "061cbc96-7fad-4454-942f-c950aab23ed1"
   },
   "outputs": [
    {
     "name": "stdout",
     "output_type": "stream",
     "text": [
      "Dot product of 2 arrays\n",
      "8\n",
      "\n"
     ]
    }
   ],
   "source": [
    "# Dot Product of 2 arrays\n",
    "print('Dot product of 2 arrays')\n",
    "print(np.dot(u, v), end='\\n\\n')"
   ]
  },
  {
   "cell_type": "code",
   "execution_count": 27,
   "metadata": {
    "colab": {
     "base_uri": "https://localhost:8080/",
     "height": 289
    },
    "colab_type": "code",
    "executionInfo": {
     "elapsed": 2032,
     "status": "ok",
     "timestamp": 1557354952734,
     "user": {
      "displayName": "George Perakis",
      "photoUrl": "https://lh6.googleusercontent.com/-z8wE9GEJtS0/AAAAAAAAAAI/AAAAAAAAHyQ/ATH_dJrCwok/s64/photo.jpg",
      "userId": "05726012581152193594"
     },
     "user_tz": -180
    },
    "id": "kPJvrUnFWRxO",
    "outputId": "061cbc96-7fad-4454-942f-c950aab23ed1"
   },
   "outputs": [],
   "source": [
    "# see https://www.tutorialspoint.com/numpy/numpy_tutorial.pdf"
   ]
  },
  {
   "cell_type": "code",
   "execution_count": 28,
   "metadata": {
    "colab": {
     "base_uri": "https://localhost:8080/",
     "height": 323
    },
    "colab_type": "code",
    "executionInfo": {
     "elapsed": 2012,
     "status": "ok",
     "timestamp": 1557354952737,
     "user": {
      "displayName": "George Perakis",
      "photoUrl": "https://lh6.googleusercontent.com/-z8wE9GEJtS0/AAAAAAAAAAI/AAAAAAAAHyQ/ATH_dJrCwok/s64/photo.jpg",
      "userId": "05726012581152193594"
     },
     "user_tz": -180
    },
    "id": "PB7b-8wTWRxV",
    "outputId": "abb3dcaa-ed5c-4ee8-92e0-ecf194c0ed8a"
   },
   "outputs": [
    {
     "name": "stdout",
     "output_type": "stream",
     "text": [
      "[1. 2. 3.]\n",
      "[5. 2. 6.]\n"
     ]
    }
   ],
   "source": [
    "# Numpy's basic operations\n",
    "\n",
    "a = np.array([1, 2, 3], float)\n",
    "b = np.array([5, 2, 6], float)\n",
    "print(a)\n",
    "print(b)"
   ]
  },
  {
   "cell_type": "code",
   "execution_count": 29,
   "metadata": {
    "colab": {
     "base_uri": "https://localhost:8080/",
     "height": 323
    },
    "colab_type": "code",
    "executionInfo": {
     "elapsed": 2012,
     "status": "ok",
     "timestamp": 1557354952737,
     "user": {
      "displayName": "George Perakis",
      "photoUrl": "https://lh6.googleusercontent.com/-z8wE9GEJtS0/AAAAAAAAAAI/AAAAAAAAHyQ/ATH_dJrCwok/s64/photo.jpg",
      "userId": "05726012581152193594"
     },
     "user_tz": -180
    },
    "id": "PB7b-8wTWRxV",
    "outputId": "abb3dcaa-ed5c-4ee8-92e0-ecf194c0ed8a"
   },
   "outputs": [
    {
     "name": "stdout",
     "output_type": "stream",
     "text": [
      "Sum\n",
      "[6. 4. 9.]\n"
     ]
    }
   ],
   "source": [
    "print('Sum')\n",
    "print(a + b)  # sum"
   ]
  },
  {
   "cell_type": "code",
   "execution_count": 30,
   "metadata": {
    "colab": {
     "base_uri": "https://localhost:8080/",
     "height": 323
    },
    "colab_type": "code",
    "executionInfo": {
     "elapsed": 2012,
     "status": "ok",
     "timestamp": 1557354952737,
     "user": {
      "displayName": "George Perakis",
      "photoUrl": "https://lh6.googleusercontent.com/-z8wE9GEJtS0/AAAAAAAAAAI/AAAAAAAAHyQ/ATH_dJrCwok/s64/photo.jpg",
      "userId": "05726012581152193594"
     },
     "user_tz": -180
    },
    "id": "PB7b-8wTWRxV",
    "outputId": "abb3dcaa-ed5c-4ee8-92e0-ecf194c0ed8a"
   },
   "outputs": [
    {
     "name": "stdout",
     "output_type": "stream",
     "text": [
      "Subtraction\n",
      "[-4.  0. -3.]\n"
     ]
    }
   ],
   "source": [
    "print('Subtraction')\n",
    "print(a - b) # element wise subtraction "
   ]
  },
  {
   "cell_type": "code",
   "execution_count": 31,
   "metadata": {
    "colab": {
     "base_uri": "https://localhost:8080/",
     "height": 323
    },
    "colab_type": "code",
    "executionInfo": {
     "elapsed": 2012,
     "status": "ok",
     "timestamp": 1557354952737,
     "user": {
      "displayName": "George Perakis",
      "photoUrl": "https://lh6.googleusercontent.com/-z8wE9GEJtS0/AAAAAAAAAAI/AAAAAAAAHyQ/ATH_dJrCwok/s64/photo.jpg",
      "userId": "05726012581152193594"
     },
     "user_tz": -180
    },
    "id": "PB7b-8wTWRxV",
    "outputId": "abb3dcaa-ed5c-4ee8-92e0-ecf194c0ed8a"
   },
   "outputs": [
    {
     "name": "stdout",
     "output_type": "stream",
     "text": [
      "Multiplication\n",
      "[ 5.  4. 18.]\n"
     ]
    }
   ],
   "source": [
    "print('Multiplication')\n",
    "print(a * b) # element wise multiplication"
   ]
  },
  {
   "cell_type": "code",
   "execution_count": 32,
   "metadata": {
    "colab": {
     "base_uri": "https://localhost:8080/",
     "height": 323
    },
    "colab_type": "code",
    "executionInfo": {
     "elapsed": 2012,
     "status": "ok",
     "timestamp": 1557354952737,
     "user": {
      "displayName": "George Perakis",
      "photoUrl": "https://lh6.googleusercontent.com/-z8wE9GEJtS0/AAAAAAAAAAI/AAAAAAAAHyQ/ATH_dJrCwok/s64/photo.jpg",
      "userId": "05726012581152193594"
     },
     "user_tz": -180
    },
    "id": "PB7b-8wTWRxV",
    "outputId": "abb3dcaa-ed5c-4ee8-92e0-ecf194c0ed8a"
   },
   "outputs": [
    {
     "name": "stdout",
     "output_type": "stream",
     "text": [
      "Division\n",
      "[5. 1. 2.]\n"
     ]
    }
   ],
   "source": [
    "print('Division')\n",
    "print(b / a) # element wise division"
   ]
  },
  {
   "cell_type": "code",
   "execution_count": 33,
   "metadata": {
    "colab": {
     "base_uri": "https://localhost:8080/",
     "height": 323
    },
    "colab_type": "code",
    "executionInfo": {
     "elapsed": 2012,
     "status": "ok",
     "timestamp": 1557354952737,
     "user": {
      "displayName": "George Perakis",
      "photoUrl": "https://lh6.googleusercontent.com/-z8wE9GEJtS0/AAAAAAAAAAI/AAAAAAAAHyQ/ATH_dJrCwok/s64/photo.jpg",
      "userId": "05726012581152193594"
     },
     "user_tz": -180
    },
    "id": "PB7b-8wTWRxV",
    "outputId": "abb3dcaa-ed5c-4ee8-92e0-ecf194c0ed8a"
   },
   "outputs": [
    {
     "name": "stdout",
     "output_type": "stream",
     "text": [
      "Modulo\n",
      "[1. 0. 3.]\n"
     ]
    }
   ],
   "source": [
    "print('Modulo')\n",
    "print(a % b) # element wise modulo "
   ]
  },
  {
   "cell_type": "code",
   "execution_count": 34,
   "metadata": {
    "colab": {
     "base_uri": "https://localhost:8080/",
     "height": 323
    },
    "colab_type": "code",
    "executionInfo": {
     "elapsed": 2012,
     "status": "ok",
     "timestamp": 1557354952737,
     "user": {
      "displayName": "George Perakis",
      "photoUrl": "https://lh6.googleusercontent.com/-z8wE9GEJtS0/AAAAAAAAAAI/AAAAAAAAHyQ/ATH_dJrCwok/s64/photo.jpg",
      "userId": "05726012581152193594"
     },
     "user_tz": -180
    },
    "id": "PB7b-8wTWRxV",
    "outputId": "abb3dcaa-ed5c-4ee8-92e0-ecf194c0ed8a"
   },
   "outputs": [
    {
     "name": "stdout",
     "output_type": "stream",
     "text": [
      "Power\n",
      "[  5.   4. 216.]\n"
     ]
    }
   ],
   "source": [
    "print('Power')\n",
    "print(b ** a)"
   ]
  },
  {
   "cell_type": "code",
   "execution_count": 35,
   "metadata": {
    "colab": {
     "base_uri": "https://localhost:8080/",
     "height": 221
    },
    "colab_type": "code",
    "executionInfo": {
     "elapsed": 1992,
     "status": "ok",
     "timestamp": 1557354952740,
     "user": {
      "displayName": "George Perakis",
      "photoUrl": "https://lh6.googleusercontent.com/-z8wE9GEJtS0/AAAAAAAAAAI/AAAAAAAAHyQ/ATH_dJrCwok/s64/photo.jpg",
      "userId": "05726012581152193594"
     },
     "user_tz": -180
    },
    "id": "8e0aqAnLWRxd",
    "outputId": "3b73cf88-300e-4ea1-edf5-68af5467786e"
   },
   "outputs": [
    {
     "data": {
      "text/plain": [
       "array([1.1, 2.7, 3.5])"
      ]
     },
     "execution_count": 35,
     "metadata": {},
     "output_type": "execute_result"
    }
   ],
   "source": [
    "a = np.array([1.1, 2.7, 3.5], float)\n",
    "a"
   ]
  },
  {
   "cell_type": "code",
   "execution_count": 36,
   "metadata": {
    "colab": {
     "base_uri": "https://localhost:8080/",
     "height": 221
    },
    "colab_type": "code",
    "executionInfo": {
     "elapsed": 1992,
     "status": "ok",
     "timestamp": 1557354952740,
     "user": {
      "displayName": "George Perakis",
      "photoUrl": "https://lh6.googleusercontent.com/-z8wE9GEJtS0/AAAAAAAAAAI/AAAAAAAAHyQ/ATH_dJrCwok/s64/photo.jpg",
      "userId": "05726012581152193594"
     },
     "user_tz": -180
    },
    "id": "8e0aqAnLWRxd",
    "outputId": "3b73cf88-300e-4ea1-edf5-68af5467786e"
   },
   "outputs": [
    {
     "name": "stdout",
     "output_type": "stream",
     "text": [
      "[1. 2. 3.]\n"
     ]
    }
   ],
   "source": [
    "# floor for each number\n",
    "print(np.floor(a))"
   ]
  },
  {
   "cell_type": "code",
   "execution_count": 37,
   "metadata": {
    "colab": {
     "base_uri": "https://localhost:8080/",
     "height": 221
    },
    "colab_type": "code",
    "executionInfo": {
     "elapsed": 1992,
     "status": "ok",
     "timestamp": 1557354952740,
     "user": {
      "displayName": "George Perakis",
      "photoUrl": "https://lh6.googleusercontent.com/-z8wE9GEJtS0/AAAAAAAAAAI/AAAAAAAAHyQ/ATH_dJrCwok/s64/photo.jpg",
      "userId": "05726012581152193594"
     },
     "user_tz": -180
    },
    "id": "8e0aqAnLWRxd",
    "outputId": "3b73cf88-300e-4ea1-edf5-68af5467786e"
   },
   "outputs": [
    {
     "name": "stdout",
     "output_type": "stream",
     "text": [
      "[2. 3. 4.]\n"
     ]
    }
   ],
   "source": [
    "# ceiling for each number\n",
    "print(np.ceil(a))"
   ]
  },
  {
   "cell_type": "code",
   "execution_count": 38,
   "metadata": {
    "colab": {
     "base_uri": "https://localhost:8080/",
     "height": 221
    },
    "colab_type": "code",
    "executionInfo": {
     "elapsed": 1992,
     "status": "ok",
     "timestamp": 1557354952740,
     "user": {
      "displayName": "George Perakis",
      "photoUrl": "https://lh6.googleusercontent.com/-z8wE9GEJtS0/AAAAAAAAAAI/AAAAAAAAHyQ/ATH_dJrCwok/s64/photo.jpg",
      "userId": "05726012581152193594"
     },
     "user_tz": -180
    },
    "id": "8e0aqAnLWRxd",
    "outputId": "3b73cf88-300e-4ea1-edf5-68af5467786e"
   },
   "outputs": [
    {
     "name": "stdout",
     "output_type": "stream",
     "text": [
      "[1. 3. 4.]\n"
     ]
    }
   ],
   "source": [
    "# Round elements of the array to the nearest integer.\n",
    "print(np.rint(a))"
   ]
  },
  {
   "cell_type": "code",
   "execution_count": 39,
   "metadata": {
    "colab": {
     "base_uri": "https://localhost:8080/",
     "height": 221
    },
    "colab_type": "code",
    "executionInfo": {
     "elapsed": 1992,
     "status": "ok",
     "timestamp": 1557354952740,
     "user": {
      "displayName": "George Perakis",
      "photoUrl": "https://lh6.googleusercontent.com/-z8wE9GEJtS0/AAAAAAAAAAI/AAAAAAAAHyQ/ATH_dJrCwok/s64/photo.jpg",
      "userId": "05726012581152193594"
     },
     "user_tz": -180
    },
    "id": "8e0aqAnLWRxd",
    "outputId": "3b73cf88-300e-4ea1-edf5-68af5467786e"
   },
   "outputs": [
    {
     "name": "stdout",
     "output_type": "stream",
     "text": [
      "7.300000000000001\n"
     ]
    }
   ],
   "source": [
    "# sum of all elements of the array. Same as: np.sum(a)\n",
    "print(a.sum())"
   ]
  },
  {
   "cell_type": "code",
   "execution_count": 40,
   "metadata": {
    "colab": {
     "base_uri": "https://localhost:8080/",
     "height": 221
    },
    "colab_type": "code",
    "executionInfo": {
     "elapsed": 1992,
     "status": "ok",
     "timestamp": 1557354952740,
     "user": {
      "displayName": "George Perakis",
      "photoUrl": "https://lh6.googleusercontent.com/-z8wE9GEJtS0/AAAAAAAAAAI/AAAAAAAAHyQ/ATH_dJrCwok/s64/photo.jpg",
      "userId": "05726012581152193594"
     },
     "user_tz": -180
    },
    "id": "8e0aqAnLWRxd",
    "outputId": "3b73cf88-300e-4ea1-edf5-68af5467786e"
   },
   "outputs": [
    {
     "name": "stdout",
     "output_type": "stream",
     "text": [
      "10.395000000000003\n"
     ]
    }
   ],
   "source": [
    "# Return the product of array elements over a given axis. Same as: np.prod(a)\n",
    "print(a.prod())"
   ]
  },
  {
   "cell_type": "code",
   "execution_count": 41,
   "metadata": {
    "colab": {
     "base_uri": "https://localhost:8080/",
     "height": 221
    },
    "colab_type": "code",
    "executionInfo": {
     "elapsed": 1992,
     "status": "ok",
     "timestamp": 1557354952740,
     "user": {
      "displayName": "George Perakis",
      "photoUrl": "https://lh6.googleusercontent.com/-z8wE9GEJtS0/AAAAAAAAAAI/AAAAAAAAHyQ/ATH_dJrCwok/s64/photo.jpg",
      "userId": "05726012581152193594"
     },
     "user_tz": -180
    },
    "id": "8e0aqAnLWRxd",
    "outputId": "3b73cf88-300e-4ea1-edf5-68af5467786e"
   },
   "outputs": [
    {
     "name": "stdout",
     "output_type": "stream",
     "text": [
      "2.4333333333333336\n"
     ]
    }
   ],
   "source": [
    "# Average of all elements of the array. Same as: np.mean(a)\n",
    "print(a.mean())"
   ]
  },
  {
   "cell_type": "code",
   "execution_count": 42,
   "metadata": {
    "colab": {
     "base_uri": "https://localhost:8080/",
     "height": 221
    },
    "colab_type": "code",
    "executionInfo": {
     "elapsed": 1992,
     "status": "ok",
     "timestamp": 1557354952740,
     "user": {
      "displayName": "George Perakis",
      "photoUrl": "https://lh6.googleusercontent.com/-z8wE9GEJtS0/AAAAAAAAAAI/AAAAAAAAHyQ/ATH_dJrCwok/s64/photo.jpg",
      "userId": "05726012581152193594"
     },
     "user_tz": -180
    },
    "id": "8e0aqAnLWRxd",
    "outputId": "3b73cf88-300e-4ea1-edf5-68af5467786e"
   },
   "outputs": [
    {
     "name": "stdout",
     "output_type": "stream",
     "text": [
      "0.9955555555555554\n"
     ]
    }
   ],
   "source": [
    "# Variance of all elements of the array. Same as: np.var(a)\n",
    "print(a.var())"
   ]
  },
  {
   "cell_type": "code",
   "execution_count": 43,
   "metadata": {
    "colab": {
     "base_uri": "https://localhost:8080/",
     "height": 221
    },
    "colab_type": "code",
    "executionInfo": {
     "elapsed": 1992,
     "status": "ok",
     "timestamp": 1557354952740,
     "user": {
      "displayName": "George Perakis",
      "photoUrl": "https://lh6.googleusercontent.com/-z8wE9GEJtS0/AAAAAAAAAAI/AAAAAAAAHyQ/ATH_dJrCwok/s64/photo.jpg",
      "userId": "05726012581152193594"
     },
     "user_tz": -180
    },
    "id": "8e0aqAnLWRxd",
    "outputId": "3b73cf88-300e-4ea1-edf5-68af5467786e"
   },
   "outputs": [
    {
     "name": "stdout",
     "output_type": "stream",
     "text": [
      "0.9977753031397176\n"
     ]
    }
   ],
   "source": [
    "# Standard Deviation of all elements of the array. Same as: np.std(a)\n",
    "print(a.std())"
   ]
  },
  {
   "cell_type": "code",
   "execution_count": 44,
   "metadata": {
    "colab": {
     "base_uri": "https://localhost:8080/",
     "height": 221
    },
    "colab_type": "code",
    "executionInfo": {
     "elapsed": 1992,
     "status": "ok",
     "timestamp": 1557354952740,
     "user": {
      "displayName": "George Perakis",
      "photoUrl": "https://lh6.googleusercontent.com/-z8wE9GEJtS0/AAAAAAAAAAI/AAAAAAAAHyQ/ATH_dJrCwok/s64/photo.jpg",
      "userId": "05726012581152193594"
     },
     "user_tz": -180
    },
    "id": "8e0aqAnLWRxd",
    "outputId": "3b73cf88-300e-4ea1-edf5-68af5467786e"
   },
   "outputs": [
    {
     "name": "stdout",
     "output_type": "stream",
     "text": [
      "1.1\n"
     ]
    }
   ],
   "source": [
    "# Min element of all elements of the array. Same as: np.min(a)\n",
    "print(a.min())"
   ]
  },
  {
   "cell_type": "code",
   "execution_count": 45,
   "metadata": {
    "colab": {
     "base_uri": "https://localhost:8080/",
     "height": 221
    },
    "colab_type": "code",
    "executionInfo": {
     "elapsed": 1992,
     "status": "ok",
     "timestamp": 1557354952740,
     "user": {
      "displayName": "George Perakis",
      "photoUrl": "https://lh6.googleusercontent.com/-z8wE9GEJtS0/AAAAAAAAAAI/AAAAAAAAHyQ/ATH_dJrCwok/s64/photo.jpg",
      "userId": "05726012581152193594"
     },
     "user_tz": -180
    },
    "id": "8e0aqAnLWRxd",
    "outputId": "3b73cf88-300e-4ea1-edf5-68af5467786e"
   },
   "outputs": [
    {
     "name": "stdout",
     "output_type": "stream",
     "text": [
      "3.5\n"
     ]
    }
   ],
   "source": [
    "# Max element of all elements of the array. Same as: np.max(a)\n",
    "print(a.max())"
   ]
  },
  {
   "cell_type": "code",
   "execution_count": 46,
   "metadata": {
    "colab": {
     "base_uri": "https://localhost:8080/",
     "height": 221
    },
    "colab_type": "code",
    "executionInfo": {
     "elapsed": 1992,
     "status": "ok",
     "timestamp": 1557354952740,
     "user": {
      "displayName": "George Perakis",
      "photoUrl": "https://lh6.googleusercontent.com/-z8wE9GEJtS0/AAAAAAAAAAI/AAAAAAAAHyQ/ATH_dJrCwok/s64/photo.jpg",
      "userId": "05726012581152193594"
     },
     "user_tz": -180
    },
    "id": "8e0aqAnLWRxd",
    "outputId": "3b73cf88-300e-4ea1-edf5-68af5467786e"
   },
   "outputs": [
    {
     "name": "stdout",
     "output_type": "stream",
     "text": [
      "[2.5 2.7 3. ]\n"
     ]
    }
   ],
   "source": [
    "# Given an interval, values outside the interval are clipped to the interval edges\n",
    "print(a.clip(2.5, 3)) # for more info, check here: https://www.geeksforgeeks.org/numpy-clip-in-python/"
   ]
  },
  {
   "cell_type": "code",
   "execution_count": 47,
   "metadata": {
    "colab": {
     "base_uri": "https://localhost:8080/",
     "height": 544
    },
    "colab_type": "code",
    "executionInfo": {
     "elapsed": 1959,
     "status": "ok",
     "timestamp": 1557354952744,
     "user": {
      "displayName": "George Perakis",
      "photoUrl": "https://lh6.googleusercontent.com/-z8wE9GEJtS0/AAAAAAAAAAI/AAAAAAAAHyQ/ATH_dJrCwok/s64/photo.jpg",
      "userId": "05726012581152193594"
     },
     "user_tz": -180
    },
    "id": "_KlVUvMnWRxn",
    "outputId": "e7a1a0d0-975f-4f11-a0f8-fd522b7c1324"
   },
   "outputs": [],
   "source": [
    "a = np.array([[1,2, 3],\n",
    "              [3,-1, 3],\n",
    "              [3,-4, 11]], float)\n",
    "\n",
    "b = np.array([[2, 4, 4], \n",
    "              [1, 3, 3],\n",
    "              [3,-2, 2]], float)"
   ]
  },
  {
   "cell_type": "code",
   "execution_count": 48,
   "metadata": {
    "colab": {
     "base_uri": "https://localhost:8080/",
     "height": 544
    },
    "colab_type": "code",
    "executionInfo": {
     "elapsed": 1959,
     "status": "ok",
     "timestamp": 1557354952744,
     "user": {
      "displayName": "George Perakis",
      "photoUrl": "https://lh6.googleusercontent.com/-z8wE9GEJtS0/AAAAAAAAAAI/AAAAAAAAHyQ/ATH_dJrCwok/s64/photo.jpg",
      "userId": "05726012581152193594"
     },
     "user_tz": -180
    },
    "id": "_KlVUvMnWRxn",
    "outputId": "e7a1a0d0-975f-4f11-a0f8-fd522b7c1324"
   },
   "outputs": [
    {
     "name": "stdout",
     "output_type": "stream",
     "text": [
      "Two numpy arrays: \n",
      "\n",
      "[[ 1.  2.  3.]\n",
      " [ 3. -1.  3.]\n",
      " [ 3. -4. 11.]]\n",
      "\n",
      "[[ 2.  4.  4.]\n",
      " [ 1.  3.  3.]\n",
      " [ 3. -2.  2.]]\n"
     ]
    }
   ],
   "source": [
    "print('Two numpy arrays: ', end='\\n\\n')\n",
    "print(a)\n",
    "\n",
    "print()\n",
    "\n",
    "print(b)"
   ]
  },
  {
   "cell_type": "code",
   "execution_count": 49,
   "metadata": {
    "colab": {
     "base_uri": "https://localhost:8080/",
     "height": 544
    },
    "colab_type": "code",
    "executionInfo": {
     "elapsed": 1959,
     "status": "ok",
     "timestamp": 1557354952744,
     "user": {
      "displayName": "George Perakis",
      "photoUrl": "https://lh6.googleusercontent.com/-z8wE9GEJtS0/AAAAAAAAAAI/AAAAAAAAHyQ/ATH_dJrCwok/s64/photo.jpg",
      "userId": "05726012581152193594"
     },
     "user_tz": -180
    },
    "id": "_KlVUvMnWRxn",
    "outputId": "e7a1a0d0-975f-4f11-a0f8-fd522b7c1324"
   },
   "outputs": [
    {
     "name": "stdout",
     "output_type": "stream",
     "text": [
      "Element wise Multiplication\n",
      "[[ 2.  8. 12.]\n",
      " [ 3. -3.  9.]\n",
      " [ 9.  8. 22.]]\n"
     ]
    }
   ],
   "source": [
    "print('Element wise Multiplication')\n",
    "print(a * b)"
   ]
  },
  {
   "cell_type": "code",
   "execution_count": 50,
   "metadata": {
    "colab": {
     "base_uri": "https://localhost:8080/",
     "height": 544
    },
    "colab_type": "code",
    "executionInfo": {
     "elapsed": 1959,
     "status": "ok",
     "timestamp": 1557354952744,
     "user": {
      "displayName": "George Perakis",
      "photoUrl": "https://lh6.googleusercontent.com/-z8wE9GEJtS0/AAAAAAAAAAI/AAAAAAAAHyQ/ATH_dJrCwok/s64/photo.jpg",
      "userId": "05726012581152193594"
     },
     "user_tz": -180
    },
    "id": "_KlVUvMnWRxn",
    "outputId": "e7a1a0d0-975f-4f11-a0f8-fd522b7c1324"
   },
   "outputs": [
    {
     "name": "stdout",
     "output_type": "stream",
     "text": [
      "Slicing Array A\n",
      "[[ 3. -1.  3.]]\n"
     ]
    }
   ],
   "source": [
    "print('Slicing Array A')\n",
    "print(a[1:2, :])  # 1:2 slices the rows. The \":\" means \"give me every value\""
   ]
  },
  {
   "cell_type": "code",
   "execution_count": 51,
   "metadata": {
    "colab": {
     "base_uri": "https://localhost:8080/",
     "height": 544
    },
    "colab_type": "code",
    "executionInfo": {
     "elapsed": 1959,
     "status": "ok",
     "timestamp": 1557354952744,
     "user": {
      "displayName": "George Perakis",
      "photoUrl": "https://lh6.googleusercontent.com/-z8wE9GEJtS0/AAAAAAAAAAI/AAAAAAAAHyQ/ATH_dJrCwok/s64/photo.jpg",
      "userId": "05726012581152193594"
     },
     "user_tz": -180
    },
    "id": "_KlVUvMnWRxn",
    "outputId": "e7a1a0d0-975f-4f11-a0f8-fd522b7c1324"
   },
   "outputs": [
    {
     "name": "stdout",
     "output_type": "stream",
     "text": [
      "Dot Product of two nd-arrays:\n",
      "[[ 13.   4.  16.]\n",
      " [ 14.   3.  15.]\n",
      " [ 35. -22.  22.]]\n"
     ]
    }
   ],
   "source": [
    "print('Dot Product of two nd-arrays:')\n",
    "print(np.dot(a, b))"
   ]
  },
  {
   "cell_type": "code",
   "execution_count": 52,
   "metadata": {
    "colab": {
     "base_uri": "https://localhost:8080/",
     "height": 544
    },
    "colab_type": "code",
    "executionInfo": {
     "elapsed": 1959,
     "status": "ok",
     "timestamp": 1557354952744,
     "user": {
      "displayName": "George Perakis",
      "photoUrl": "https://lh6.googleusercontent.com/-z8wE9GEJtS0/AAAAAAAAAAI/AAAAAAAAHyQ/ATH_dJrCwok/s64/photo.jpg",
      "userId": "05726012581152193594"
     },
     "user_tz": -180
    },
    "id": "_KlVUvMnWRxn",
    "outputId": "e7a1a0d0-975f-4f11-a0f8-fd522b7c1324"
   },
   "outputs": [
    {
     "name": "stdout",
     "output_type": "stream",
     "text": [
      "Maximum values of the dot product of the 2 nd-arrays for each column (for all rows)\n",
      "[35.  4. 22.]\n"
     ]
    }
   ],
   "source": [
    "print('Maximum values of the dot product of the 2 nd-arrays for each column (for all rows)')\n",
    "print(np.max(np.dot(a, b) , 0))"
   ]
  },
  {
   "cell_type": "code",
   "execution_count": 53,
   "metadata": {
    "colab": {
     "base_uri": "https://localhost:8080/",
     "height": 544
    },
    "colab_type": "code",
    "executionInfo": {
     "elapsed": 1959,
     "status": "ok",
     "timestamp": 1557354952744,
     "user": {
      "displayName": "George Perakis",
      "photoUrl": "https://lh6.googleusercontent.com/-z8wE9GEJtS0/AAAAAAAAAAI/AAAAAAAAHyQ/ATH_dJrCwok/s64/photo.jpg",
      "userId": "05726012581152193594"
     },
     "user_tz": -180
    },
    "id": "_KlVUvMnWRxn",
    "outputId": "e7a1a0d0-975f-4f11-a0f8-fd522b7c1324"
   },
   "outputs": [
    {
     "name": "stdout",
     "output_type": "stream",
     "text": [
      "Maximum values of the dot product of the 2 nd-arrays for each row (for all columns)\n",
      "[16. 15. 35.]\n"
     ]
    }
   ],
   "source": [
    "print('Maximum values of the dot product of the 2 nd-arrays for each row (for all columns)')\n",
    "print(np.max(np.dot(a, b) , 1))"
   ]
  },
  {
   "cell_type": "code",
   "execution_count": 54,
   "metadata": {
    "colab": {
     "base_uri": "https://localhost:8080/",
     "height": 544
    },
    "colab_type": "code",
    "executionInfo": {
     "elapsed": 1959,
     "status": "ok",
     "timestamp": 1557354952744,
     "user": {
      "displayName": "George Perakis",
      "photoUrl": "https://lh6.googleusercontent.com/-z8wE9GEJtS0/AAAAAAAAAAI/AAAAAAAAHyQ/ATH_dJrCwok/s64/photo.jpg",
      "userId": "05726012581152193594"
     },
     "user_tz": -180
    },
    "id": "_KlVUvMnWRxn",
    "outputId": "e7a1a0d0-975f-4f11-a0f8-fd522b7c1324"
   },
   "outputs": [
    {
     "name": "stdout",
     "output_type": "stream",
     "text": [
      "Maximum values of the dot product of the 2 nd-arrays in respect to the last dimension\n",
      "[16. 15. 35.]\n"
     ]
    }
   ],
   "source": [
    "print('Maximum values of the dot product of the 2 nd-arrays in respect to the last dimension')\n",
    "print(np.max(np.dot(a, b) , -1))"
   ]
  },
  {
   "cell_type": "code",
   "execution_count": 55,
   "metadata": {
    "colab": {},
    "colab_type": "code",
    "id": "UZk8_Mc-hMXf"
   },
   "outputs": [],
   "source": [
    "a = np.array([[1, 2, 3],\n",
    "              [3,-1, 3],\n",
    "              [3,-4, 11]], float)\n",
    "\n",
    "b = np.array([[2, 4, 4], \n",
    "              [1, 3, 3],\n",
    "              [3,-2, 2]], float)\n",
    "\n",
    "# Stacking arrays (concatenating)\n",
    "\n",
    "# Vertical stacking\n",
    "stacked_v = np.vstack([a,b])\n",
    "\n",
    "# Horizontal stacking\n",
    "stacked_h = np.hstack([a,b])"
   ]
  },
  {
   "cell_type": "code",
   "execution_count": 56,
   "metadata": {
    "colab": {
     "base_uri": "https://localhost:8080/",
     "height": 153
    },
    "colab_type": "code",
    "executionInfo": {
     "elapsed": 1922,
     "status": "ok",
     "timestamp": 1557354952760,
     "user": {
      "displayName": "George Perakis",
      "photoUrl": "https://lh6.googleusercontent.com/-z8wE9GEJtS0/AAAAAAAAAAI/AAAAAAAAHyQ/ATH_dJrCwok/s64/photo.jpg",
      "userId": "05726012581152193594"
     },
     "user_tz": -180
    },
    "id": "zUpOpq6ziCBK",
    "outputId": "57ffd4a2-48d5-42df-bfb5-144788d2ce85"
   },
   "outputs": [
    {
     "name": "stdout",
     "output_type": "stream",
     "text": [
      "[[ 1.  2.  3.]\n",
      " [ 3. -1.  3.]\n",
      " [ 3. -4. 11.]\n",
      " [ 2.  4.  4.]\n",
      " [ 1.  3.  3.]\n",
      " [ 3. -2.  2.]]\n",
      "\n",
      "(6, 3)\n"
     ]
    }
   ],
   "source": [
    "print(stacked_v, end='\\n\\n')\n",
    "print(stacked_v.shape)"
   ]
  },
  {
   "cell_type": "code",
   "execution_count": 57,
   "metadata": {
    "colab": {
     "base_uri": "https://localhost:8080/",
     "height": 102
    },
    "colab_type": "code",
    "executionInfo": {
     "elapsed": 1895,
     "status": "ok",
     "timestamp": 1557354952764,
     "user": {
      "displayName": "George Perakis",
      "photoUrl": "https://lh6.googleusercontent.com/-z8wE9GEJtS0/AAAAAAAAAAI/AAAAAAAAHyQ/ATH_dJrCwok/s64/photo.jpg",
      "userId": "05726012581152193594"
     },
     "user_tz": -180
    },
    "id": "mTZW-TAwiLi4",
    "outputId": "46fe5758-f540-49a6-e60c-66defe8b6405"
   },
   "outputs": [
    {
     "name": "stdout",
     "output_type": "stream",
     "text": [
      "[[ 1.  2.  3.  2.  4.  4.]\n",
      " [ 3. -1.  3.  1.  3.  3.]\n",
      " [ 3. -4. 11.  3. -2.  2.]]\n",
      "\n",
      "(3, 6)\n"
     ]
    }
   ],
   "source": [
    "print(stacked_h, end='\\n\\n')\n",
    "print(stacked_h.shape)"
   ]
  },
  {
   "cell_type": "code",
   "execution_count": 58,
   "metadata": {
    "colab": {},
    "colab_type": "code",
    "id": "5pgT7SDAiVhT"
   },
   "outputs": [
    {
     "name": "stdout",
     "output_type": "stream",
     "text": [
      "[[ 1.  2.  3.]\n",
      " [ 3. -1.  3.]\n",
      " [ 3. -4. 11.]\n",
      " [ 2.  4.  4.]\n",
      " [ 1.  3.  3.]\n",
      " [ 3. -2.  2.]]\n",
      "\n",
      "[[ 1.  2.  3.  3. -1.  3.  3. -4. 11.]\n",
      " [ 2.  4.  4.  1.  3.  3.  3. -2.  2.]]\n",
      "\n",
      "(2, 9)\n"
     ]
    }
   ],
   "source": [
    "# Reshaping arrays (the product of the dimensions must always match (before and after reshaping))\n",
    "a = stacked_v.reshape(2, 9)\n",
    "\n",
    "print(stacked_v, end='\\n\\n')\n",
    "\n",
    "print(a, end='\\n\\n')\n",
    "\n",
    "print(a.shape)"
   ]
  },
  {
   "cell_type": "code",
   "execution_count": 59,
   "metadata": {
    "colab": {},
    "colab_type": "code",
    "id": "5pgT7SDAiVhT"
   },
   "outputs": [
    {
     "name": "stdout",
     "output_type": "stream",
     "text": [
      "[[ 1.  2.  3.]\n",
      " [ 3. -1.  3.]\n",
      " [ 3. -4. 11.]\n",
      " [ 2.  4.  4.]\n",
      " [ 1.  3.  3.]\n",
      " [ 3. -2.  2.]]\n",
      "\n",
      "[[ 1.  2.  3.  3. -1.  3.  3. -4. 11.  2.  4.  4.  1.  3.  3.  3. -2.  2.]]\n",
      "\n",
      "(1, 18)\n"
     ]
    }
   ],
   "source": [
    "b = stacked_v.reshape(1, 18)\n",
    "\n",
    "print(stacked_v, end='\\n\\n')\n",
    "\n",
    "print(b, end='\\n\\n')\n",
    "print(b.shape)"
   ]
  },
  {
   "cell_type": "code",
   "execution_count": 60,
   "metadata": {
    "colab": {},
    "colab_type": "code",
    "id": "5pgT7SDAiVhT"
   },
   "outputs": [
    {
     "name": "stdout",
     "output_type": "stream",
     "text": [
      "[[ 1.  2.  3.]\n",
      " [ 3. -1.  3.]\n",
      " [ 3. -4. 11.]\n",
      " [ 2.  4.  4.]\n",
      " [ 1.  3.  3.]\n",
      " [ 3. -2.  2.]]\n",
      "\n",
      "[[ 1.]\n",
      " [ 2.]\n",
      " [ 3.]\n",
      " [ 3.]\n",
      " [-1.]\n",
      " [ 3.]\n",
      " [ 3.]\n",
      " [-4.]\n",
      " [11.]\n",
      " [ 2.]\n",
      " [ 4.]\n",
      " [ 4.]\n",
      " [ 1.]\n",
      " [ 3.]\n",
      " [ 3.]\n",
      " [ 3.]\n",
      " [-2.]\n",
      " [ 2.]]\n",
      "\n",
      "(18, 1)\n"
     ]
    }
   ],
   "source": [
    "c = stacked_v.reshape(18, 1)\n",
    "\n",
    "print(stacked_v, end='\\n\\n')\n",
    "\n",
    "print(c, end='\\n\\n')\n",
    "\n",
    "print(c.shape)"
   ]
  },
  {
   "cell_type": "code",
   "execution_count": 61,
   "metadata": {
    "colab": {},
    "colab_type": "code",
    "id": "5pgT7SDAiVhT"
   },
   "outputs": [
    {
     "name": "stdout",
     "output_type": "stream",
     "text": [
      "[[ 1.  2.  3.]\n",
      " [ 3. -1.  3.]\n",
      " [ 3. -4. 11.]\n",
      " [ 2.  4.  4.]\n",
      " [ 1.  3.  3.]\n",
      " [ 3. -2.  2.]]\n",
      "\n",
      "[[ 1.  2.  3.  3. -1.  3.  3. -4. 11.  2.  4.  4.  1.  3.  3.  3. -2.  2.]]\n",
      "\n",
      "(1, 18)\n"
     ]
    }
   ],
   "source": [
    "d = stacked_v.reshape(1, -1)\n",
    "\n",
    "print(stacked_v, end='\\n\\n')\n",
    "\n",
    "print(d, end='\\n\\n')\n",
    "print(d.shape)"
   ]
  },
  {
   "cell_type": "code",
   "execution_count": 62,
   "metadata": {
    "colab": {},
    "colab_type": "code",
    "id": "5pgT7SDAiVhT"
   },
   "outputs": [
    {
     "name": "stdout",
     "output_type": "stream",
     "text": [
      "[[ 1.]\n",
      " [ 2.]\n",
      " [ 3.]\n",
      " [ 3.]\n",
      " [-1.]\n",
      " [ 3.]\n",
      " [ 3.]\n",
      " [-4.]\n",
      " [11.]\n",
      " [ 2.]\n",
      " [ 4.]\n",
      " [ 4.]\n",
      " [ 1.]\n",
      " [ 3.]\n",
      " [ 3.]\n",
      " [ 3.]\n",
      " [-2.]\n",
      " [ 2.]]\n",
      "\n",
      "(18, 1)\n"
     ]
    }
   ],
   "source": [
    "e = stacked_v.reshape(-1, 1)\n",
    "\n",
    "print(e, end='\\n\\n')\n",
    "print(e.shape)"
   ]
  },
  {
   "cell_type": "code",
   "execution_count": 63,
   "metadata": {
    "colab": {
     "base_uri": "https://localhost:8080/",
     "height": 51
    },
    "colab_type": "code",
    "executionInfo": {
     "elapsed": 2304,
     "status": "ok",
     "timestamp": 1557354953326,
     "user": {
      "displayName": "George Perakis",
      "photoUrl": "https://lh6.googleusercontent.com/-z8wE9GEJtS0/AAAAAAAAAAI/AAAAAAAAHyQ/ATH_dJrCwok/s64/photo.jpg",
      "userId": "05726012581152193594"
     },
     "user_tz": -180
    },
    "id": "Tw9dXo5tjoZo",
    "outputId": "15a748bd-e438-405f-fd36-2d186d55c907"
   },
   "outputs": [
    {
     "data": {
      "text/plain": [
       "array([ 1.,  2.,  3.,  3., -1.,  3.,  3., -4., 11.,  2.,  4.,  4.,  1.,\n",
       "        3.,  3.,  3., -2.,  2.])"
      ]
     },
     "execution_count": 63,
     "metadata": {},
     "output_type": "execute_result"
    }
   ],
   "source": [
    "flat_array = np.ndarray.flatten(stacked_v)\n",
    "\n",
    "flat_array"
   ]
  },
  {
   "cell_type": "code",
   "execution_count": 64,
   "metadata": {
    "colab": {
     "base_uri": "https://localhost:8080/",
     "height": 34
    },
    "colab_type": "code",
    "executionInfo": {
     "elapsed": 2273,
     "status": "ok",
     "timestamp": 1557354953328,
     "user": {
      "displayName": "George Perakis",
      "photoUrl": "https://lh6.googleusercontent.com/-z8wE9GEJtS0/AAAAAAAAAAI/AAAAAAAAHyQ/ATH_dJrCwok/s64/photo.jpg",
      "userId": "05726012581152193594"
     },
     "user_tz": -180
    },
    "id": "BTH9V7EOkP3A",
    "outputId": "0ea556cd-0609-4139-c608-ec72d9698841"
   },
   "outputs": [
    {
     "data": {
      "text/plain": [
       "(18,)"
      ]
     },
     "execution_count": 64,
     "metadata": {},
     "output_type": "execute_result"
    }
   ],
   "source": [
    "# check the difference in shape\n",
    "flat_array.shape"
   ]
  },
  {
   "cell_type": "code",
   "execution_count": 65,
   "metadata": {
    "colab": {},
    "colab_type": "code",
    "id": "7yqj2m81kRaC"
   },
   "outputs": [],
   "source": [
    "# More about reshaping in this thread:\n",
    "# https://stackoverflow.com/questions/22053050/difference-between-numpy-array-shape-r-1-and-r"
   ]
  }
 ],
 "metadata": {
  "colab": {
   "collapsed_sections": [],
   "name": "numpy_101.ipynb",
   "provenance": [],
   "version": "0.3.2"
  },
  "kernelspec": {
   "display_name": "Python 3",
   "language": "python",
   "name": "python3"
  },
  "language_info": {
   "codemirror_mode": {
    "name": "ipython",
    "version": 3
   },
   "file_extension": ".py",
   "mimetype": "text/x-python",
   "name": "python",
   "nbconvert_exporter": "python",
   "pygments_lexer": "ipython3",
   "version": "3.7.3"
  }
 },
 "nbformat": 4,
 "nbformat_minor": 1
}
