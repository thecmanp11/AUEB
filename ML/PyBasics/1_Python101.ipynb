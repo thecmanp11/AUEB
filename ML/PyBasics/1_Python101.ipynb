{
 "cells": [
  {
   "cell_type": "markdown",
   "metadata": {},
   "source": [
    "\n",
    "# Machine Learning & Content Analytics - AUEB\n",
    "\n",
    "## Python 101\n"
   ]
  },
  {
   "cell_type": "markdown",
   "metadata": {},
   "source": [
    "* Lab Assistant: George Perakis\n",
    "* Email: gperakis[at]aeub.gr "
   ]
  },
  {
   "cell_type": "markdown",
   "metadata": {},
   "source": [
    "### Introduction to Python\n",
    "\n",
    "#### Let's get started"
   ]
  },
  {
   "cell_type": "markdown",
   "metadata": {},
   "source": [
    "![url](https://media1.tenor.com/images/3ccc0e15cbf9bee22c30701649065643/tenor.gif?itemid=3393582 \"url\")"
   ]
  },
  {
   "cell_type": "markdown",
   "metadata": {},
   "source": [
    "### Strings"
   ]
  },
  {
   "cell_type": "code",
   "execution_count": 1,
   "metadata": {
    "colab": {
     "base_uri": "https://localhost:8080/",
     "height": 187
    },
    "colab_type": "code",
    "executionInfo": {
     "elapsed": 2409,
     "status": "ok",
     "timestamp": 1557347920471,
     "user": {
      "displayName": "George Perakis",
      "photoUrl": "https://lh6.googleusercontent.com/-z8wE9GEJtS0/AAAAAAAAAAI/AAAAAAAAHyQ/ATH_dJrCwok/s64/photo.jpg",
      "userId": "05726012581152193594"
     },
     "user_tz": -180
    },
    "id": "7BGn4cOyxfO6",
    "outputId": "d6a1a548-d7a8-4bf7-beb8-cf96b2e99569"
   },
   "outputs": [
    {
     "data": {
      "text/plain": [
       "8"
      ]
     },
     "execution_count": 1,
     "metadata": {},
     "output_type": "execute_result"
    }
   ],
   "source": [
    "# number\n",
    "a=8\n",
    "a"
   ]
  },
  {
   "cell_type": "code",
   "execution_count": 2,
   "metadata": {
    "colab": {
     "base_uri": "https://localhost:8080/",
     "height": 187
    },
    "colab_type": "code",
    "executionInfo": {
     "elapsed": 2409,
     "status": "ok",
     "timestamp": 1557347920471,
     "user": {
      "displayName": "George Perakis",
      "photoUrl": "https://lh6.googleusercontent.com/-z8wE9GEJtS0/AAAAAAAAAAI/AAAAAAAAHyQ/ATH_dJrCwok/s64/photo.jpg",
      "userId": "05726012581152193594"
     },
     "user_tz": -180
    },
    "id": "7BGn4cOyxfO6",
    "outputId": "d6a1a548-d7a8-4bf7-beb8-cf96b2e99569"
   },
   "outputs": [
    {
     "data": {
      "text/plain": [
       "'hello'"
      ]
     },
     "execution_count": 2,
     "metadata": {},
     "output_type": "execute_result"
    }
   ],
   "source": [
    "# single quote string\n",
    "a='hello'\n",
    "a"
   ]
  },
  {
   "cell_type": "code",
   "execution_count": 3,
   "metadata": {
    "colab": {
     "base_uri": "https://localhost:8080/",
     "height": 187
    },
    "colab_type": "code",
    "executionInfo": {
     "elapsed": 2409,
     "status": "ok",
     "timestamp": 1557347920471,
     "user": {
      "displayName": "George Perakis",
      "photoUrl": "https://lh6.googleusercontent.com/-z8wE9GEJtS0/AAAAAAAAAAI/AAAAAAAAHyQ/ATH_dJrCwok/s64/photo.jpg",
      "userId": "05726012581152193594"
     },
     "user_tz": -180
    },
    "id": "7BGn4cOyxfO6",
    "outputId": "d6a1a548-d7a8-4bf7-beb8-cf96b2e99569"
   },
   "outputs": [
    {
     "data": {
      "text/plain": [
       "\"hel'lo\""
      ]
     },
     "execution_count": 3,
     "metadata": {},
     "output_type": "execute_result"
    }
   ],
   "source": [
    "# double quote string with a single quote inside\n",
    "a=\"hel'lo\"\n",
    "a"
   ]
  },
  {
   "cell_type": "code",
   "execution_count": 4,
   "metadata": {
    "colab": {
     "base_uri": "https://localhost:8080/",
     "height": 187
    },
    "colab_type": "code",
    "executionInfo": {
     "elapsed": 2409,
     "status": "ok",
     "timestamp": 1557347920471,
     "user": {
      "displayName": "George Perakis",
      "photoUrl": "https://lh6.googleusercontent.com/-z8wE9GEJtS0/AAAAAAAAAAI/AAAAAAAAHyQ/ATH_dJrCwok/s64/photo.jpg",
      "userId": "05726012581152193594"
     },
     "user_tz": -180
    },
    "id": "7BGn4cOyxfO6",
    "outputId": "d6a1a548-d7a8-4bf7-beb8-cf96b2e99569"
   },
   "outputs": [
    {
     "data": {
      "text/plain": [
       "'he\"llo'"
      ]
     },
     "execution_count": 4,
     "metadata": {},
     "output_type": "execute_result"
    }
   ],
   "source": [
    "# single quote stringwith a double quote inside\n",
    "a='he\"llo'\n",
    "a"
   ]
  },
  {
   "cell_type": "code",
   "execution_count": 5,
   "metadata": {
    "colab": {
     "base_uri": "https://localhost:8080/",
     "height": 187
    },
    "colab_type": "code",
    "executionInfo": {
     "elapsed": 2409,
     "status": "ok",
     "timestamp": 1557347920471,
     "user": {
      "displayName": "George Perakis",
      "photoUrl": "https://lh6.googleusercontent.com/-z8wE9GEJtS0/AAAAAAAAAAI/AAAAAAAAHyQ/ATH_dJrCwok/s64/photo.jpg",
      "userId": "05726012581152193594"
     },
     "user_tz": -180
    },
    "id": "7BGn4cOyxfO6",
    "outputId": "d6a1a548-d7a8-4bf7-beb8-cf96b2e99569"
   },
   "outputs": [
    {
     "name": "stdout",
     "output_type": "stream",
     "text": [
      "he\n",
      "llo\n"
     ]
    }
   ],
   "source": [
    "# we use the \"\\n\" to print in the next row \n",
    "a='he\\nllo'\n",
    "print(a)"
   ]
  },
  {
   "cell_type": "code",
   "execution_count": 6,
   "metadata": {},
   "outputs": [
    {
     "name": "stdout",
     "output_type": "stream",
     "text": [
      "<class 'str'>\n"
     ]
    }
   ],
   "source": [
    "print(type(a))"
   ]
  },
  {
   "cell_type": "code",
   "execution_count": 7,
   "metadata": {
    "colab": {
     "base_uri": "https://localhost:8080/",
     "height": 187
    },
    "colab_type": "code",
    "executionInfo": {
     "elapsed": 2409,
     "status": "ok",
     "timestamp": 1557347920471,
     "user": {
      "displayName": "George Perakis",
      "photoUrl": "https://lh6.googleusercontent.com/-z8wE9GEJtS0/AAAAAAAAAAI/AAAAAAAAHyQ/ATH_dJrCwok/s64/photo.jpg",
      "userId": "05726012581152193594"
     },
     "user_tz": -180
    },
    "id": "7BGn4cOyxfO6",
    "outputId": "d6a1a548-d7a8-4bf7-beb8-cf96b2e99569"
   },
   "outputs": [
    {
     "name": "stdout",
     "output_type": "stream",
     "text": [
      "\n",
      "abcdef\n",
      "\n"
     ]
    }
   ],
   "source": [
    "b='''\n",
    "abcdef\n",
    "'''\n",
    "print(b)"
   ]
  },
  {
   "cell_type": "code",
   "execution_count": 8,
   "metadata": {
    "colab": {},
    "colab_type": "code",
    "id": "lUEpAQCcxfPH"
   },
   "outputs": [],
   "source": [
    "# to delete variable and free the memory\n",
    "del(a)"
   ]
  },
  {
   "cell_type": "code",
   "execution_count": 9,
   "metadata": {},
   "outputs": [
    {
     "data": {
      "text/plain": [
       "True"
      ]
     },
     "execution_count": 9,
     "metadata": {},
     "output_type": "execute_result"
    }
   ],
   "source": [
    "# How to check if something is in a text\n",
    "\n",
    "s = 'This is a text'\n",
    "\n",
    "'is' in s"
   ]
  },
  {
   "cell_type": "code",
   "execution_count": 10,
   "metadata": {},
   "outputs": [
    {
     "data": {
      "text/plain": [
       "False"
      ]
     },
     "execution_count": 10,
     "metadata": {},
     "output_type": "execute_result"
    }
   ],
   "source": [
    "'random' in s"
   ]
  },
  {
   "cell_type": "markdown",
   "metadata": {},
   "source": [
    "### Lists"
   ]
  },
  {
   "cell_type": "code",
   "execution_count": 11,
   "metadata": {
    "colab": {
     "base_uri": "https://localhost:8080/",
     "height": 102
    },
    "colab_type": "code",
    "executionInfo": {
     "elapsed": 2353,
     "status": "ok",
     "timestamp": 1557347920485,
     "user": {
      "displayName": "George Perakis",
      "photoUrl": "https://lh6.googleusercontent.com/-z8wE9GEJtS0/AAAAAAAAAAI/AAAAAAAAHyQ/ATH_dJrCwok/s64/photo.jpg",
      "userId": "05726012581152193594"
     },
     "user_tz": -180
    },
    "id": "6NvPNChIxfPN",
    "outputId": "b78d9eed-cbde-4b7d-cebb-3614da7f8f77"
   },
   "outputs": [
    {
     "name": "stdout",
     "output_type": "stream",
     "text": [
      "[]\n",
      "[]\n",
      "True\n"
     ]
    }
   ],
   "source": [
    "# List definitions\n",
    "\n",
    "# Εmpty lists\n",
    "l1 = []\n",
    "l2 = list()\n",
    "\n",
    "print(l1)\n",
    "print(l2)\n",
    "print(l1==l2)"
   ]
  },
  {
   "cell_type": "code",
   "execution_count": 12,
   "metadata": {
    "colab": {
     "base_uri": "https://localhost:8080/",
     "height": 102
    },
    "colab_type": "code",
    "executionInfo": {
     "elapsed": 2353,
     "status": "ok",
     "timestamp": 1557347920485,
     "user": {
      "displayName": "George Perakis",
      "photoUrl": "https://lh6.googleusercontent.com/-z8wE9GEJtS0/AAAAAAAAAAI/AAAAAAAAHyQ/ATH_dJrCwok/s64/photo.jpg",
      "userId": "05726012581152193594"
     },
     "user_tz": -180
    },
    "id": "6NvPNChIxfPN",
    "outputId": "b78d9eed-cbde-4b7d-cebb-3614da7f8f77"
   },
   "outputs": [
    {
     "name": "stdout",
     "output_type": "stream",
     "text": [
      "[1, 2, 3, 4]\n",
      "4\n"
     ]
    }
   ],
   "source": [
    "# Lists with data\n",
    "\n",
    "l=[1, 2, 3, 4]\n",
    "print(l)\n",
    "\n",
    "# Length of list \n",
    "print(len(l))"
   ]
  },
  {
   "cell_type": "code",
   "execution_count": 13,
   "metadata": {
    "colab": {
     "base_uri": "https://localhost:8080/",
     "height": 34
    },
    "colab_type": "code",
    "executionInfo": {
     "elapsed": 2313,
     "status": "ok",
     "timestamp": 1557347920487,
     "user": {
      "displayName": "George Perakis",
      "photoUrl": "https://lh6.googleusercontent.com/-z8wE9GEJtS0/AAAAAAAAAAI/AAAAAAAAHyQ/ATH_dJrCwok/s64/photo.jpg",
      "userId": "05726012581152193594"
     },
     "user_tz": -180
    },
    "id": "LOlitaVaIN7a",
    "outputId": "eedac916-baf0-4dba-a8a8-053e55165485"
   },
   "outputs": [
    {
     "data": {
      "text/plain": [
       "['A', 'B', 'C', 'D', 'E', 'F', 'G']"
      ]
     },
     "execution_count": 13,
     "metadata": {},
     "output_type": "execute_result"
    }
   ],
   "source": [
    "# Create list using text\n",
    "list('ABCDEFG')"
   ]
  },
  {
   "cell_type": "code",
   "execution_count": 14,
   "metadata": {
    "colab": {
     "base_uri": "https://localhost:8080/",
     "height": 34
    },
    "colab_type": "code",
    "executionInfo": {
     "elapsed": 2283,
     "status": "ok",
     "timestamp": 1557347920488,
     "user": {
      "displayName": "George Perakis",
      "photoUrl": "https://lh6.googleusercontent.com/-z8wE9GEJtS0/AAAAAAAAAAI/AAAAAAAAHyQ/ATH_dJrCwok/s64/photo.jpg",
      "userId": "05726012581152193594"
     },
     "user_tz": -180
    },
    "id": "qQDUDybNxfPV",
    "outputId": "9f86af69-50ec-4acb-a959-18f81806fb62"
   },
   "outputs": [
    {
     "data": {
      "text/plain": [
       "[1, 'hello', 2, 3, 4, [2, 3], (3, '4'), {'33', 'A'}]"
      ]
     },
     "execution_count": 14,
     "metadata": {},
     "output_type": "execute_result"
    }
   ],
   "source": [
    "# A list can have any type of data (str, numbers, lists, tuples, dictionaries, etc)\n",
    "l= [1, 'hello', 2, 3, 4, [2, 3], (3,'4'), {'33','A'}]\n",
    "l"
   ]
  },
  {
   "cell_type": "markdown",
   "metadata": {},
   "source": [
    "#### Slicing"
   ]
  },
  {
   "cell_type": "code",
   "execution_count": 15,
   "metadata": {
    "colab": {
     "base_uri": "https://localhost:8080/",
     "height": 272
    },
    "colab_type": "code",
    "executionInfo": {
     "elapsed": 2255,
     "status": "ok",
     "timestamp": 1557347920490,
     "user": {
      "displayName": "George Perakis",
      "photoUrl": "https://lh6.googleusercontent.com/-z8wE9GEJtS0/AAAAAAAAAAI/AAAAAAAAHyQ/ATH_dJrCwok/s64/photo.jpg",
      "userId": "05726012581152193594"
     },
     "user_tz": -180
    },
    "id": "60xz2KaJxfPb",
    "outputId": "f939bf97-7b35-4091-b753-b66d00c941be"
   },
   "outputs": [
    {
     "name": "stdout",
     "output_type": "stream",
     "text": [
      "[1, 2, 3, 4, 5, 6, 7]\n"
     ]
    }
   ],
   "source": [
    "# Lists and slicing:\n",
    "\n",
    "l = [1, 2, 3, 4, 5, 6, 7]\n",
    "\n",
    "print(l)"
   ]
  },
  {
   "cell_type": "code",
   "execution_count": 16,
   "metadata": {
    "colab": {
     "base_uri": "https://localhost:8080/",
     "height": 272
    },
    "colab_type": "code",
    "executionInfo": {
     "elapsed": 2255,
     "status": "ok",
     "timestamp": 1557347920490,
     "user": {
      "displayName": "George Perakis",
      "photoUrl": "https://lh6.googleusercontent.com/-z8wE9GEJtS0/AAAAAAAAAAI/AAAAAAAAHyQ/ATH_dJrCwok/s64/photo.jpg",
      "userId": "05726012581152193594"
     },
     "user_tz": -180
    },
    "id": "60xz2KaJxfPb",
    "outputId": "f939bf97-7b35-4091-b753-b66d00c941be"
   },
   "outputs": [
    {
     "name": "stdout",
     "output_type": "stream",
     "text": [
      "[1, 2, 3, 4, 5, 6, 7]\n",
      "\n"
     ]
    }
   ],
   "source": [
    "# start from 0 index to 'length of list' index\n",
    "print(l[0:len(l)], end='\\n\\n')"
   ]
  },
  {
   "cell_type": "code",
   "execution_count": 17,
   "metadata": {
    "colab": {
     "base_uri": "https://localhost:8080/",
     "height": 272
    },
    "colab_type": "code",
    "executionInfo": {
     "elapsed": 2255,
     "status": "ok",
     "timestamp": 1557347920490,
     "user": {
      "displayName": "George Perakis",
      "photoUrl": "https://lh6.googleusercontent.com/-z8wE9GEJtS0/AAAAAAAAAAI/AAAAAAAAHyQ/ATH_dJrCwok/s64/photo.jpg",
      "userId": "05726012581152193594"
     },
     "user_tz": -180
    },
    "id": "60xz2KaJxfPb",
    "outputId": "f939bf97-7b35-4091-b753-b66d00c941be"
   },
   "outputs": [
    {
     "name": "stdout",
     "output_type": "stream",
     "text": [
      "[1, 2, 3, 4, 5, 6, 7]\n",
      "\n"
     ]
    }
   ],
   "source": [
    "# from 0 onwords\n",
    "print(l[0:], end='\\n\\n')"
   ]
  },
  {
   "cell_type": "code",
   "execution_count": 18,
   "metadata": {
    "colab": {
     "base_uri": "https://localhost:8080/",
     "height": 272
    },
    "colab_type": "code",
    "executionInfo": {
     "elapsed": 2255,
     "status": "ok",
     "timestamp": 1557347920490,
     "user": {
      "displayName": "George Perakis",
      "photoUrl": "https://lh6.googleusercontent.com/-z8wE9GEJtS0/AAAAAAAAAAI/AAAAAAAAHyQ/ATH_dJrCwok/s64/photo.jpg",
      "userId": "05726012581152193594"
     },
     "user_tz": -180
    },
    "id": "60xz2KaJxfPb",
    "outputId": "f939bf97-7b35-4091-b753-b66d00c941be"
   },
   "outputs": [
    {
     "name": "stdout",
     "output_type": "stream",
     "text": [
      "[2, 3, 4, 5, 6, 7]\n",
      "\n"
     ]
    }
   ],
   "source": [
    "# from 2nd element onwards\n",
    "print(l[1:], end='\\n\\n')"
   ]
  },
  {
   "cell_type": "code",
   "execution_count": 19,
   "metadata": {
    "colab": {
     "base_uri": "https://localhost:8080/",
     "height": 272
    },
    "colab_type": "code",
    "executionInfo": {
     "elapsed": 2255,
     "status": "ok",
     "timestamp": 1557347920490,
     "user": {
      "displayName": "George Perakis",
      "photoUrl": "https://lh6.googleusercontent.com/-z8wE9GEJtS0/AAAAAAAAAAI/AAAAAAAAHyQ/ATH_dJrCwok/s64/photo.jpg",
      "userId": "05726012581152193594"
     },
     "user_tz": -180
    },
    "id": "60xz2KaJxfPb",
    "outputId": "f939bf97-7b35-4091-b753-b66d00c941be"
   },
   "outputs": [
    {
     "name": "stdout",
     "output_type": "stream",
     "text": [
      "[1, 2, 3]\n",
      "\n"
     ]
    }
   ],
   "source": [
    "# up to the 3rd element of the list\n",
    "print(l[:3], end='\\n\\n')"
   ]
  },
  {
   "cell_type": "code",
   "execution_count": 20,
   "metadata": {
    "colab": {
     "base_uri": "https://localhost:8080/",
     "height": 272
    },
    "colab_type": "code",
    "executionInfo": {
     "elapsed": 2255,
     "status": "ok",
     "timestamp": 1557347920490,
     "user": {
      "displayName": "George Perakis",
      "photoUrl": "https://lh6.googleusercontent.com/-z8wE9GEJtS0/AAAAAAAAAAI/AAAAAAAAHyQ/ATH_dJrCwok/s64/photo.jpg",
      "userId": "05726012581152193594"
     },
     "user_tz": -180
    },
    "id": "60xz2KaJxfPb",
    "outputId": "f939bf97-7b35-4091-b753-b66d00c941be"
   },
   "outputs": [
    {
     "name": "stdout",
     "output_type": "stream",
     "text": [
      "[3, 4, 5, 6]\n",
      "\n"
     ]
    }
   ],
   "source": [
    "# from 3rd element up to last\n",
    "print(l[2:-1], end='\\n\\n')"
   ]
  },
  {
   "cell_type": "code",
   "execution_count": 21,
   "metadata": {
    "colab": {
     "base_uri": "https://localhost:8080/",
     "height": 272
    },
    "colab_type": "code",
    "executionInfo": {
     "elapsed": 2255,
     "status": "ok",
     "timestamp": 1557347920490,
     "user": {
      "displayName": "George Perakis",
      "photoUrl": "https://lh6.googleusercontent.com/-z8wE9GEJtS0/AAAAAAAAAAI/AAAAAAAAHyQ/ATH_dJrCwok/s64/photo.jpg",
      "userId": "05726012581152193594"
     },
     "user_tz": -180
    },
    "id": "60xz2KaJxfPb",
    "outputId": "f939bf97-7b35-4091-b753-b66d00c941be"
   },
   "outputs": [
    {
     "name": "stdout",
     "output_type": "stream",
     "text": [
      "[3, 4, 5]\n",
      "\n"
     ]
    }
   ],
   "source": [
    "# from 3rd element to second from the end element\n",
    "print(l[2:-2], end='\\n\\n')"
   ]
  },
  {
   "cell_type": "code",
   "execution_count": 22,
   "metadata": {
    "colab": {
     "base_uri": "https://localhost:8080/",
     "height": 272
    },
    "colab_type": "code",
    "executionInfo": {
     "elapsed": 2255,
     "status": "ok",
     "timestamp": 1557347920490,
     "user": {
      "displayName": "George Perakis",
      "photoUrl": "https://lh6.googleusercontent.com/-z8wE9GEJtS0/AAAAAAAAAAI/AAAAAAAAHyQ/ATH_dJrCwok/s64/photo.jpg",
      "userId": "05726012581152193594"
     },
     "user_tz": -180
    },
    "id": "60xz2KaJxfPb",
    "outputId": "f939bf97-7b35-4091-b753-b66d00c941be"
   },
   "outputs": [
    {
     "name": "stdout",
     "output_type": "stream",
     "text": [
      "[6]\n"
     ]
    }
   ],
   "source": [
    "print(l[-2:-1])"
   ]
  },
  {
   "cell_type": "code",
   "execution_count": 23,
   "metadata": {},
   "outputs": [
    {
     "name": "stdout",
     "output_type": "stream",
     "text": [
      "T\n",
      "h\n",
      "i\n",
      "s\n",
      " \n",
      "i\n",
      "s\n",
      " \n",
      "a\n",
      " \n",
      "s\n",
      "a\n",
      "m\n",
      "p\n",
      "l\n",
      "e\n",
      " \n",
      "t\n",
      "e\n",
      "x\n",
      "t\n"
     ]
    }
   ],
   "source": [
    "# loop over the characters of a text\n",
    "\n",
    "s = 'This is a sample text'\n",
    "\n",
    "for char in s:\n",
    "    print(char)"
   ]
  },
  {
   "cell_type": "markdown",
   "metadata": {},
   "source": [
    "#### Looping lists:"
   ]
  },
  {
   "cell_type": "code",
   "execution_count": 24,
   "metadata": {
    "colab": {
     "base_uri": "https://localhost:8080/",
     "height": 731
    },
    "colab_type": "code",
    "executionInfo": {
     "elapsed": 2206,
     "status": "ok",
     "timestamp": 1557347920491,
     "user": {
      "displayName": "George Perakis",
      "photoUrl": "https://lh6.googleusercontent.com/-z8wE9GEJtS0/AAAAAAAAAAI/AAAAAAAAHyQ/ATH_dJrCwok/s64/photo.jpg",
      "userId": "05726012581152193594"
     },
     "user_tz": -180
    },
    "id": "Ftdil_1zxfPh",
    "outputId": "5e3386a0-e876-4ed6-a6a3-6e59445c20ae"
   },
   "outputs": [
    {
     "name": "stdout",
     "output_type": "stream",
     "text": [
      "1 0\n",
      "1 1\n",
      "1 2\n",
      "1 3\n",
      "1 4\n",
      "hello 0\n",
      "hello 1\n",
      "hello 2\n",
      "hello 3\n",
      "hello 4\n",
      "2 0\n",
      "2 1\n",
      "2 2\n",
      "2 3\n",
      "2 4\n",
      "3 0\n",
      "3 1\n",
      "3 2\n",
      "3 3\n",
      "3 4\n",
      "4 0\n",
      "4 1\n",
      "4 2\n",
      "4 3\n",
      "4 4\n"
     ]
    }
   ],
   "source": [
    "l = [1, 'hello', 2, 3, 4]\n",
    "\n",
    "for item in l:\n",
    "    for i in range(5):\n",
    "        print(item, i)"
   ]
  },
  {
   "cell_type": "code",
   "execution_count": 25,
   "metadata": {
    "colab": {
     "base_uri": "https://localhost:8080/",
     "height": 731
    },
    "colab_type": "code",
    "executionInfo": {
     "elapsed": 2206,
     "status": "ok",
     "timestamp": 1557347920491,
     "user": {
      "displayName": "George Perakis",
      "photoUrl": "https://lh6.googleusercontent.com/-z8wE9GEJtS0/AAAAAAAAAAI/AAAAAAAAHyQ/ATH_dJrCwok/s64/photo.jpg",
      "userId": "05726012581152193594"
     },
     "user_tz": -180
    },
    "id": "Ftdil_1zxfPh",
    "outputId": "5e3386a0-e876-4ed6-a6a3-6e59445c20ae"
   },
   "outputs": [
    {
     "name": "stdout",
     "output_type": "stream",
     "text": [
      "1\n",
      "3\n",
      "5\n",
      "7\n",
      "9\n"
     ]
    }
   ],
   "source": [
    "# [1, 10) with a step of 2\n",
    "for item in range(1, 10, 2):\n",
    "    print(item)"
   ]
  },
  {
   "cell_type": "code",
   "execution_count": 26,
   "metadata": {
    "colab": {
     "base_uri": "https://localhost:8080/",
     "height": 731
    },
    "colab_type": "code",
    "executionInfo": {
     "elapsed": 2206,
     "status": "ok",
     "timestamp": 1557347920491,
     "user": {
      "displayName": "George Perakis",
      "photoUrl": "https://lh6.googleusercontent.com/-z8wE9GEJtS0/AAAAAAAAAAI/AAAAAAAAHyQ/ATH_dJrCwok/s64/photo.jpg",
      "userId": "05726012581152193594"
     },
     "user_tz": -180
    },
    "id": "Ftdil_1zxfPh",
    "outputId": "5e3386a0-e876-4ed6-a6a3-6e59445c20ae",
    "scrolled": true
   },
   "outputs": [
    {
     "name": "stdout",
     "output_type": "stream",
     "text": [
      "10\n",
      "8\n",
      "6\n",
      "4\n",
      "2\n"
     ]
    }
   ],
   "source": [
    "# [10, 0) with a step of -2\n",
    "for item in range(10, 0, -2):\n",
    "    print(item)"
   ]
  },
  {
   "cell_type": "code",
   "execution_count": 27,
   "metadata": {
    "colab": {
     "base_uri": "https://localhost:8080/",
     "height": 204
    },
    "colab_type": "code",
    "executionInfo": {
     "elapsed": 2178,
     "status": "ok",
     "timestamp": 1557347920494,
     "user": {
      "displayName": "George Perakis",
      "photoUrl": "https://lh6.googleusercontent.com/-z8wE9GEJtS0/AAAAAAAAAAI/AAAAAAAAHyQ/ATH_dJrCwok/s64/photo.jpg",
      "userId": "05726012581152193594"
     },
     "user_tz": -180
    },
    "id": "fYO7a_jV2DeP",
    "outputId": "1796f536-de58-4ea7-81d2-adacd0283f5f"
   },
   "outputs": [
    {
     "data": {
      "text/plain": [
       "['John', 'Mary', 'Peter', 'Niki', 'Duke']"
      ]
     },
     "execution_count": 27,
     "metadata": {},
     "output_type": "execute_result"
    }
   ],
   "source": [
    "items = ['John', 'Mary', 'Peter', 'Niki', 'Duke']\n",
    "items"
   ]
  },
  {
   "cell_type": "code",
   "execution_count": 28,
   "metadata": {
    "colab": {
     "base_uri": "https://localhost:8080/",
     "height": 204
    },
    "colab_type": "code",
    "executionInfo": {
     "elapsed": 2178,
     "status": "ok",
     "timestamp": 1557347920494,
     "user": {
      "displayName": "George Perakis",
      "photoUrl": "https://lh6.googleusercontent.com/-z8wE9GEJtS0/AAAAAAAAAAI/AAAAAAAAHyQ/ATH_dJrCwok/s64/photo.jpg",
      "userId": "05726012581152193594"
     },
     "user_tz": -180
    },
    "id": "fYO7a_jV2DeP",
    "outputId": "1796f536-de58-4ea7-81d2-adacd0283f5f"
   },
   "outputs": [
    {
     "name": "stdout",
     "output_type": "stream",
     "text": [
      "0 John\n",
      "1 Mary\n",
      "2 Peter\n",
      "3 Niki\n",
      "4 Duke\n"
     ]
    }
   ],
   "source": [
    "# 1 way to get the items and their indices\n",
    "for i in range(len(items)):\n",
    "    print(i, items[i])"
   ]
  },
  {
   "cell_type": "code",
   "execution_count": 29,
   "metadata": {
    "colab": {
     "base_uri": "https://localhost:8080/",
     "height": 204
    },
    "colab_type": "code",
    "executionInfo": {
     "elapsed": 2178,
     "status": "ok",
     "timestamp": 1557347920494,
     "user": {
      "displayName": "George Perakis",
      "photoUrl": "https://lh6.googleusercontent.com/-z8wE9GEJtS0/AAAAAAAAAAI/AAAAAAAAHyQ/ATH_dJrCwok/s64/photo.jpg",
      "userId": "05726012581152193594"
     },
     "user_tz": -180
    },
    "id": "fYO7a_jV2DeP",
    "outputId": "1796f536-de58-4ea7-81d2-adacd0283f5f"
   },
   "outputs": [
    {
     "name": "stdout",
     "output_type": "stream",
     "text": [
      "0 John\n",
      "1 Mary\n",
      "2 Peter\n",
      "3 Niki\n",
      "4 Duke\n"
     ]
    }
   ],
   "source": [
    "# second way (better/prettier) is to use the enumerate() function\n",
    "for i, item in enumerate(items):\n",
    "    print(i, item)"
   ]
  },
  {
   "cell_type": "code",
   "execution_count": 30,
   "metadata": {
    "colab": {
     "base_uri": "https://localhost:8080/",
     "height": 51
    },
    "colab_type": "code",
    "executionInfo": {
     "elapsed": 2148,
     "status": "ok",
     "timestamp": 1557347920496,
     "user": {
      "displayName": "George Perakis",
      "photoUrl": "https://lh6.googleusercontent.com/-z8wE9GEJtS0/AAAAAAAAAAI/AAAAAAAAHyQ/ATH_dJrCwok/s64/photo.jpg",
      "userId": "05726012581152193594"
     },
     "user_tz": -180
    },
    "id": "aNl-mfvL20F3",
    "outputId": "feab28d3-205e-4708-f102-9c34a3d8c1fe"
   },
   "outputs": [
    {
     "name": "stderr",
     "output_type": "stream",
     "text": [
      "100%|██████████| 5000000/5000000 [00:01<00:00, 3722463.84it/s]\n"
     ]
    }
   ],
   "source": [
    "# library that we can use to show a progress bar\n",
    "from tqdm import tqdm\n",
    "\n",
    "for item in tqdm(range(5_000_000)):\n",
    "    item"
   ]
  },
  {
   "cell_type": "code",
   "execution_count": 31,
   "metadata": {
    "colab": {
     "base_uri": "https://localhost:8080/",
     "height": 51
    },
    "colab_type": "code",
    "executionInfo": {
     "elapsed": 2148,
     "status": "ok",
     "timestamp": 1557347920496,
     "user": {
      "displayName": "George Perakis",
      "photoUrl": "https://lh6.googleusercontent.com/-z8wE9GEJtS0/AAAAAAAAAAI/AAAAAAAAHyQ/ATH_dJrCwok/s64/photo.jpg",
      "userId": "05726012581152193594"
     },
     "user_tz": -180
    },
    "id": "aNl-mfvL20F3",
    "outputId": "feab28d3-205e-4708-f102-9c34a3d8c1fe"
   },
   "outputs": [
    {
     "name": "stderr",
     "output_type": "stream",
     "text": [
      "Random Progress Bar: 100%|██████████| 5000000/5000000 [00:01<00:00, 3374217.89number/s]\n"
     ]
    }
   ],
   "source": [
    "for item in tqdm(range(5_000_000), \n",
    "                 desc='Random Progress Bar',\n",
    "                 unit='number'):\n",
    "    item"
   ]
  },
  {
   "cell_type": "code",
   "execution_count": 32,
   "metadata": {},
   "outputs": [
    {
     "name": "stdout",
     "output_type": "stream",
     "text": [
      "[0, 1, 2, 3]\n"
     ]
    },
    {
     "data": {
      "text/plain": [
       "[0, 1, 4, 9]"
      ]
     },
     "execution_count": 32,
     "metadata": {},
     "output_type": "execute_result"
    }
   ],
   "source": [
    "# List comprehension\n",
    "l = list(range(4))\n",
    "print(l)\n",
    "\n",
    "[i ** 2 for i in l]"
   ]
  },
  {
   "cell_type": "code",
   "execution_count": 33,
   "metadata": {
    "colab": {},
    "colab_type": "code",
    "id": "ShJM1ZPqxfPp"
   },
   "outputs": [
    {
     "name": "stdout",
     "output_type": "stream",
     "text": [
      "0\n",
      "1\n",
      "2\n",
      "3\n",
      "4\n"
     ]
    }
   ],
   "source": [
    "# A while loop is a control flow statement that allows code to be executed \n",
    "# repeatedly based on a given Boolean condition\n",
    "\n",
    "counter = 0\n",
    "\n",
    "while counter < 5:\n",
    "  \n",
    "    print(counter)\n",
    "    counter +=1"
   ]
  },
  {
   "cell_type": "code",
   "execution_count": 34,
   "metadata": {
    "colab": {
     "base_uri": "https://localhost:8080/",
     "height": 102
    },
    "colab_type": "code",
    "executionInfo": {
     "elapsed": 2118,
     "status": "ok",
     "timestamp": 1557347920505,
     "user": {
      "displayName": "George Perakis",
      "photoUrl": "https://lh6.googleusercontent.com/-z8wE9GEJtS0/AAAAAAAAAAI/AAAAAAAAHyQ/ATH_dJrCwok/s64/photo.jpg",
      "userId": "05726012581152193594"
     },
     "user_tz": -180
    },
    "id": "Tcd_GHyqxfPz",
    "outputId": "abca65d7-6903-413f-d6c1-2bc754f0abfb"
   },
   "outputs": [
    {
     "name": "stdout",
     "output_type": "stream",
     "text": [
      "0\n",
      "1\n",
      "2\n",
      "3\n"
     ]
    }
   ],
   "source": [
    "# single row prints\n",
    "for item in l : print(item)"
   ]
  },
  {
   "cell_type": "markdown",
   "metadata": {},
   "source": [
    "### Dictionaries"
   ]
  },
  {
   "cell_type": "code",
   "execution_count": 35,
   "metadata": {
    "colab": {
     "base_uri": "https://localhost:8080/",
     "height": 51
    },
    "colab_type": "code",
    "executionInfo": {
     "elapsed": 2087,
     "status": "ok",
     "timestamp": 1557347920508,
     "user": {
      "displayName": "George Perakis",
      "photoUrl": "https://lh6.googleusercontent.com/-z8wE9GEJtS0/AAAAAAAAAAI/AAAAAAAAHyQ/ATH_dJrCwok/s64/photo.jpg",
      "userId": "05726012581152193594"
     },
     "user_tz": -180
    },
    "id": "XwgD-Ee2xfP8",
    "outputId": "495b5c8e-60da-4596-d691-d3a31252b5f8"
   },
   "outputs": [
    {
     "name": "stdout",
     "output_type": "stream",
     "text": [
      "{} <class 'dict'>\n"
     ]
    }
   ],
   "source": [
    "# Initilization of a python dictionary (hash table)\n",
    "d = {}\n",
    "print(d, type(d))"
   ]
  },
  {
   "cell_type": "code",
   "execution_count": 36,
   "metadata": {
    "colab": {
     "base_uri": "https://localhost:8080/",
     "height": 51
    },
    "colab_type": "code",
    "executionInfo": {
     "elapsed": 2087,
     "status": "ok",
     "timestamp": 1557347920508,
     "user": {
      "displayName": "George Perakis",
      "photoUrl": "https://lh6.googleusercontent.com/-z8wE9GEJtS0/AAAAAAAAAAI/AAAAAAAAHyQ/ATH_dJrCwok/s64/photo.jpg",
      "userId": "05726012581152193594"
     },
     "user_tz": -180
    },
    "id": "XwgD-Ee2xfP8",
    "outputId": "495b5c8e-60da-4596-d691-d3a31252b5f8"
   },
   "outputs": [
    {
     "name": "stdout",
     "output_type": "stream",
     "text": [
      "{} <class 'dict'>\n"
     ]
    }
   ],
   "source": [
    "d=dict()\n",
    "print(d, type(d))"
   ]
  },
  {
   "cell_type": "code",
   "execution_count": 37,
   "metadata": {
    "colab": {
     "base_uri": "https://localhost:8080/",
     "height": 34
    },
    "colab_type": "code",
    "executionInfo": {
     "elapsed": 2058,
     "status": "ok",
     "timestamp": 1557347920514,
     "user": {
      "displayName": "George Perakis",
      "photoUrl": "https://lh6.googleusercontent.com/-z8wE9GEJtS0/AAAAAAAAAAI/AAAAAAAAHyQ/ATH_dJrCwok/s64/photo.jpg",
      "userId": "05726012581152193594"
     },
     "user_tz": -180
    },
    "id": "J05p5YN7xfQC",
    "outputId": "82f6c72a-592c-43ca-f2f0-ba98936458fc"
   },
   "outputs": [
    {
     "data": {
      "text/plain": [
       "{'Mary': 1, 'Jonh': 2, 'Peter': 3, 'Duke': 4}"
      ]
     },
     "execution_count": 37,
     "metadata": {},
     "output_type": "execute_result"
    }
   ],
   "source": [
    "d = {\n",
    "    'Mary': 1,\n",
    "    'Jonh': 2,\n",
    "    'Peter': 3,\n",
    "    'Duke': 4\n",
    "}\n",
    "\n",
    "d"
   ]
  },
  {
   "cell_type": "code",
   "execution_count": 38,
   "metadata": {
    "colab": {
     "base_uri": "https://localhost:8080/",
     "height": 425
    },
    "colab_type": "code",
    "executionInfo": {
     "elapsed": 2034,
     "status": "ok",
     "timestamp": 1557347920516,
     "user": {
      "displayName": "George Perakis",
      "photoUrl": "https://lh6.googleusercontent.com/-z8wE9GEJtS0/AAAAAAAAAAI/AAAAAAAAHyQ/ATH_dJrCwok/s64/photo.jpg",
      "userId": "05726012581152193594"
     },
     "user_tz": -180
    },
    "id": "RKIL9tcj48B0",
    "outputId": "dd7b879a-dc3c-4664-be96-05a77047ec0e"
   },
   "outputs": [
    {
     "name": "stdout",
     "output_type": "stream",
     "text": [
      "Mary\n",
      "Jonh\n",
      "Peter\n",
      "Duke\n"
     ]
    }
   ],
   "source": [
    "# Accessing elements  of a dictionary\n",
    "\n",
    "# accessing keys \n",
    "for key in d:\n",
    "    print(key)"
   ]
  },
  {
   "cell_type": "code",
   "execution_count": 39,
   "metadata": {
    "colab": {
     "base_uri": "https://localhost:8080/",
     "height": 425
    },
    "colab_type": "code",
    "executionInfo": {
     "elapsed": 2034,
     "status": "ok",
     "timestamp": 1557347920516,
     "user": {
      "displayName": "George Perakis",
      "photoUrl": "https://lh6.googleusercontent.com/-z8wE9GEJtS0/AAAAAAAAAAI/AAAAAAAAHyQ/ATH_dJrCwok/s64/photo.jpg",
      "userId": "05726012581152193594"
     },
     "user_tz": -180
    },
    "id": "RKIL9tcj48B0",
    "outputId": "dd7b879a-dc3c-4664-be96-05a77047ec0e"
   },
   "outputs": [
    {
     "name": "stdout",
     "output_type": "stream",
     "text": [
      "Mary 1\n",
      "Key: Mary,  Value: 1\n",
      "\n",
      "Jonh 2\n",
      "Key: Jonh,  Value: 2\n",
      "\n",
      "Peter 3\n",
      "Key: Peter,  Value: 3\n",
      "\n",
      "Duke 4\n",
      "Key: Duke,  Value: 4\n",
      "\n"
     ]
    }
   ],
   "source": [
    "# accesing the key and the value (1st way)\n",
    "for key in d:\n",
    "    \n",
    "    print(key, d[key])\n",
    "    \n",
    "    print(f\"Key: {key},  Value: {d[key]}\", end='\\n\\n')"
   ]
  },
  {
   "cell_type": "code",
   "execution_count": 40,
   "metadata": {
    "colab": {
     "base_uri": "https://localhost:8080/",
     "height": 425
    },
    "colab_type": "code",
    "executionInfo": {
     "elapsed": 2034,
     "status": "ok",
     "timestamp": 1557347920516,
     "user": {
      "displayName": "George Perakis",
      "photoUrl": "https://lh6.googleusercontent.com/-z8wE9GEJtS0/AAAAAAAAAAI/AAAAAAAAHyQ/ATH_dJrCwok/s64/photo.jpg",
      "userId": "05726012581152193594"
     },
     "user_tz": -180
    },
    "id": "RKIL9tcj48B0",
    "outputId": "dd7b879a-dc3c-4664-be96-05a77047ec0e"
   },
   "outputs": [
    {
     "name": "stdout",
     "output_type": "stream",
     "text": [
      "('Mary', 1)\n",
      "('Jonh', 2)\n",
      "('Peter', 3)\n",
      "('Duke', 4)\n"
     ]
    }
   ],
   "source": [
    "# d.items() returns a list of tuples containing the (key, value) pairs\n",
    "for tpl in d.items(): # (2nd way)\n",
    "    print(tpl)"
   ]
  },
  {
   "cell_type": "code",
   "execution_count": 41,
   "metadata": {
    "colab": {
     "base_uri": "https://localhost:8080/",
     "height": 425
    },
    "colab_type": "code",
    "executionInfo": {
     "elapsed": 2034,
     "status": "ok",
     "timestamp": 1557347920516,
     "user": {
      "displayName": "George Perakis",
      "photoUrl": "https://lh6.googleusercontent.com/-z8wE9GEJtS0/AAAAAAAAAAI/AAAAAAAAHyQ/ATH_dJrCwok/s64/photo.jpg",
      "userId": "05726012581152193594"
     },
     "user_tz": -180
    },
    "id": "RKIL9tcj48B0",
    "outputId": "dd7b879a-dc3c-4664-be96-05a77047ec0e"
   },
   "outputs": [
    {
     "name": "stdout",
     "output_type": "stream",
     "text": [
      "Name: Mary. Number:  1\n",
      "Name: Jonh. Number:  2\n",
      "Name: Peter. Number:  3\n",
      "Name: Duke. Number:  4\n",
      "------------------------------\n",
      "Name: Mary, Number: 1\n",
      "Name: Jonh, Number: 2\n",
      "Name: Peter, Number: 3\n",
      "Name: Duke, Number: 4\n"
     ]
    }
   ],
   "source": [
    "# one may access the key and value directly\n",
    "for name, number in d.items(): # (way 3)\n",
    "    \n",
    "    print('Name: ' + name + '. Number: ', + number)\n",
    "\n",
    "print(30 * '-')\n",
    "\n",
    "for name, number in d.items():\n",
    "    print('Name: {}, Number: {}'.format(name, number))"
   ]
  },
  {
   "cell_type": "code",
   "execution_count": 42,
   "metadata": {
    "colab": {
     "base_uri": "https://localhost:8080/",
     "height": 51
    },
    "colab_type": "code",
    "executionInfo": {
     "elapsed": 3791,
     "status": "ok",
     "timestamp": 1557347922299,
     "user": {
      "displayName": "George Perakis",
      "photoUrl": "https://lh6.googleusercontent.com/-z8wE9GEJtS0/AAAAAAAAAAI/AAAAAAAAHyQ/ATH_dJrCwok/s64/photo.jpg",
      "userId": "05726012581152193594"
     },
     "user_tz": -180
    },
    "id": "Is71uvZf579x",
    "outputId": "57895c4e-5b94-4b80-b3d3-940fa66c8a40"
   },
   "outputs": [
    {
     "name": "stdout",
     "output_type": "stream",
     "text": [
      "dict_keys(['Mary', 'Jonh', 'Peter', 'Duke'])\n",
      "dict_values([1, 2, 3, 4])\n"
     ]
    }
   ],
   "source": [
    "# Accessing the keys  of a dictionary\n",
    "print(d.keys())\n",
    "\n",
    "# Accessing the values  of a dictionary\n",
    "print(d.values())"
   ]
  },
  {
   "cell_type": "code",
   "execution_count": 43,
   "metadata": {
    "colab": {
     "base_uri": "https://localhost:8080/",
     "height": 34
    },
    "colab_type": "code",
    "executionInfo": {
     "elapsed": 3772,
     "status": "ok",
     "timestamp": 1557347922303,
     "user": {
      "displayName": "George Perakis",
      "photoUrl": "https://lh6.googleusercontent.com/-z8wE9GEJtS0/AAAAAAAAAAI/AAAAAAAAHyQ/ATH_dJrCwok/s64/photo.jpg",
      "userId": "05726012581152193594"
     },
     "user_tz": -180
    },
    "id": "gihWQERw6QRn",
    "outputId": "82194b09-926f-43bb-f19b-4f0a47af50c7"
   },
   "outputs": [
    {
     "data": {
      "text/plain": [
       "1"
      ]
     },
     "execution_count": 43,
     "metadata": {},
     "output_type": "execute_result"
    }
   ],
   "source": [
    "# accesing specific key\n",
    "d['Mary']"
   ]
  },
  {
   "cell_type": "code",
   "execution_count": 44,
   "metadata": {
    "colab": {
     "base_uri": "https://localhost:8080/",
     "height": 164
    },
    "colab_type": "code",
    "executionInfo": {
     "elapsed": 3928,
     "status": "error",
     "timestamp": 1557347922483,
     "user": {
      "displayName": "George Perakis",
      "photoUrl": "https://lh6.googleusercontent.com/-z8wE9GEJtS0/AAAAAAAAAAI/AAAAAAAAHyQ/ATH_dJrCwok/s64/photo.jpg",
      "userId": "05726012581152193594"
     },
     "user_tz": -180
    },
    "id": "i9Nulm5H6T1C",
    "outputId": "0e360404-e1b1-4090-a967-cc767011a6ef"
   },
   "outputs": [
    {
     "ename": "KeyError",
     "evalue": "'George'",
     "output_type": "error",
     "traceback": [
      "\u001b[0;31m---------------------------------------------------------------------------\u001b[0m",
      "\u001b[0;31mKeyError\u001b[0m                                  Traceback (most recent call last)",
      "\u001b[0;32m<ipython-input-44-5b7406707352>\u001b[0m in \u001b[0;36m<module>\u001b[0;34m\u001b[0m\n\u001b[1;32m      1\u001b[0m \u001b[0;31m# when the key is absent, python raises a KeyError.\u001b[0m\u001b[0;34m\u001b[0m\u001b[0;34m\u001b[0m\u001b[0;34m\u001b[0m\u001b[0m\n\u001b[0;32m----> 2\u001b[0;31m \u001b[0md\u001b[0m\u001b[0;34m[\u001b[0m\u001b[0;34m'George'\u001b[0m\u001b[0;34m]\u001b[0m\u001b[0;34m\u001b[0m\u001b[0;34m\u001b[0m\u001b[0m\n\u001b[0m",
      "\u001b[0;31mKeyError\u001b[0m: 'George'"
     ]
    }
   ],
   "source": [
    "# when the key is absent, python raises a KeyError.\n",
    "d['George']"
   ]
  },
  {
   "cell_type": "code",
   "execution_count": 45,
   "metadata": {},
   "outputs": [
    {
     "name": "stdout",
     "output_type": "stream",
     "text": [
      "George is not found\n"
     ]
    }
   ],
   "source": [
    "# One way to tackle that is to use a \"try - except\" clause as following:\n",
    "\n",
    "try: \n",
    "    print(d['George'])\n",
    "    \n",
    "except KeyError:\n",
    "    \n",
    "    print('George is not found')"
   ]
  },
  {
   "cell_type": "markdown",
   "metadata": {},
   "source": [
    "#### Get() function"
   ]
  },
  {
   "cell_type": "code",
   "execution_count": 46,
   "metadata": {
    "colab": {
     "base_uri": "https://localhost:8080/",
     "height": 102
    },
    "colab_type": "code",
    "executionInfo": {
     "elapsed": 552,
     "status": "ok",
     "timestamp": 1557347994550,
     "user": {
      "displayName": "George Perakis",
      "photoUrl": "https://lh6.googleusercontent.com/-z8wE9GEJtS0/AAAAAAAAAAI/AAAAAAAAHyQ/ATH_dJrCwok/s64/photo.jpg",
      "userId": "05726012581152193594"
     },
     "user_tz": -180
    },
    "id": "h7tXt-Pk6k2V",
    "outputId": "6174b01c-56c2-4680-bcc5-8aec05d334e6"
   },
   "outputs": [
    {
     "name": "stdout",
     "output_type": "stream",
     "text": [
      "None\n"
     ]
    }
   ],
   "source": [
    "# A better way to tackle missing keys is to use the 'get' function.\n",
    "\n",
    "print(d.get('George')) # if key not found, returns None"
   ]
  },
  {
   "cell_type": "code",
   "execution_count": 47,
   "metadata": {
    "colab": {
     "base_uri": "https://localhost:8080/",
     "height": 102
    },
    "colab_type": "code",
    "executionInfo": {
     "elapsed": 552,
     "status": "ok",
     "timestamp": 1557347994550,
     "user": {
      "displayName": "George Perakis",
      "photoUrl": "https://lh6.googleusercontent.com/-z8wE9GEJtS0/AAAAAAAAAAI/AAAAAAAAHyQ/ATH_dJrCwok/s64/photo.jpg",
      "userId": "05726012581152193594"
     },
     "user_tz": -180
    },
    "id": "h7tXt-Pk6k2V",
    "outputId": "6174b01c-56c2-4680-bcc5-8aec05d334e6"
   },
   "outputs": [
    {
     "name": "stdout",
     "output_type": "stream",
     "text": [
      "Does Not Exist\n"
     ]
    }
   ],
   "source": [
    "# But also you may return whatever you want.\n",
    "print(d.get('George', 'Does Not Exist'))"
   ]
  },
  {
   "cell_type": "code",
   "execution_count": 48,
   "metadata": {
    "colab": {
     "base_uri": "https://localhost:8080/",
     "height": 102
    },
    "colab_type": "code",
    "executionInfo": {
     "elapsed": 552,
     "status": "ok",
     "timestamp": 1557347994550,
     "user": {
      "displayName": "George Perakis",
      "photoUrl": "https://lh6.googleusercontent.com/-z8wE9GEJtS0/AAAAAAAAAAI/AAAAAAAAHyQ/ATH_dJrCwok/s64/photo.jpg",
      "userId": "05726012581152193594"
     },
     "user_tz": -180
    },
    "id": "h7tXt-Pk6k2V",
    "outputId": "6174b01c-56c2-4680-bcc5-8aec05d334e6"
   },
   "outputs": [
    {
     "name": "stdout",
     "output_type": "stream",
     "text": [
      "[]\n"
     ]
    }
   ],
   "source": [
    "print(d.get('George', []))"
   ]
  },
  {
   "cell_type": "code",
   "execution_count": 49,
   "metadata": {
    "colab": {
     "base_uri": "https://localhost:8080/",
     "height": 102
    },
    "colab_type": "code",
    "executionInfo": {
     "elapsed": 552,
     "status": "ok",
     "timestamp": 1557347994550,
     "user": {
      "displayName": "George Perakis",
      "photoUrl": "https://lh6.googleusercontent.com/-z8wE9GEJtS0/AAAAAAAAAAI/AAAAAAAAHyQ/ATH_dJrCwok/s64/photo.jpg",
      "userId": "05726012581152193594"
     },
     "user_tz": -180
    },
    "id": "h7tXt-Pk6k2V",
    "outputId": "6174b01c-56c2-4680-bcc5-8aec05d334e6"
   },
   "outputs": [
    {
     "name": "stdout",
     "output_type": "stream",
     "text": [
      "{}\n"
     ]
    }
   ],
   "source": [
    "print(d.get('George', {}))"
   ]
  },
  {
   "cell_type": "code",
   "execution_count": 50,
   "metadata": {
    "colab": {
     "base_uri": "https://localhost:8080/",
     "height": 102
    },
    "colab_type": "code",
    "executionInfo": {
     "elapsed": 552,
     "status": "ok",
     "timestamp": 1557347994550,
     "user": {
      "displayName": "George Perakis",
      "photoUrl": "https://lh6.googleusercontent.com/-z8wE9GEJtS0/AAAAAAAAAAI/AAAAAAAAHyQ/ATH_dJrCwok/s64/photo.jpg",
      "userId": "05726012581152193594"
     },
     "user_tz": -180
    },
    "id": "h7tXt-Pk6k2V",
    "outputId": "6174b01c-56c2-4680-bcc5-8aec05d334e6"
   },
   "outputs": [
    {
     "name": "stdout",
     "output_type": "stream",
     "text": [
      "10\n"
     ]
    }
   ],
   "source": [
    "print(d.get('George', 10))"
   ]
  },
  {
   "cell_type": "code",
   "execution_count": 51,
   "metadata": {
    "colab": {
     "base_uri": "https://localhost:8080/",
     "height": 102
    },
    "colab_type": "code",
    "executionInfo": {
     "elapsed": 552,
     "status": "ok",
     "timestamp": 1557347994550,
     "user": {
      "displayName": "George Perakis",
      "photoUrl": "https://lh6.googleusercontent.com/-z8wE9GEJtS0/AAAAAAAAAAI/AAAAAAAAHyQ/ATH_dJrCwok/s64/photo.jpg",
      "userId": "05726012581152193594"
     },
     "user_tz": -180
    },
    "id": "h7tXt-Pk6k2V",
    "outputId": "6174b01c-56c2-4680-bcc5-8aec05d334e6"
   },
   "outputs": [
    {
     "name": "stdout",
     "output_type": "stream",
     "text": [
      "[10, 20]\n"
     ]
    }
   ],
   "source": [
    "print(d.get('George', [10, 20]))"
   ]
  },
  {
   "cell_type": "code",
   "execution_count": 52,
   "metadata": {
    "colab": {
     "base_uri": "https://localhost:8080/",
     "height": 34
    },
    "colab_type": "code",
    "executionInfo": {
     "elapsed": 505,
     "status": "ok",
     "timestamp": 1557347995544,
     "user": {
      "displayName": "George Perakis",
      "photoUrl": "https://lh6.googleusercontent.com/-z8wE9GEJtS0/AAAAAAAAAAI/AAAAAAAAHyQ/ATH_dJrCwok/s64/photo.jpg",
      "userId": "05726012581152193594"
     },
     "user_tz": -180
    },
    "id": "z7FxTxHd7vIQ",
    "outputId": "5fa6ae58-cbde-4789-dc3b-46d625fa961d"
   },
   "outputs": [
    {
     "name": "stdout",
     "output_type": "stream",
     "text": [
      "{'Mary': 1, 'Jonh': 2, 'Peter': 3, 'Duke': 4}\n",
      "{'Duke': 4, 'Jonh': 2, 'Mary': 1, 'Peter': 3}\n"
     ]
    }
   ],
   "source": [
    "# pretty print library helps to print anything in a better way \n",
    "from pprint import pprint\n",
    "\n",
    "print(d)\n",
    "\n",
    "pprint(d, indent=10)"
   ]
  },
  {
   "cell_type": "code",
   "execution_count": 53,
   "metadata": {
    "colab": {
     "base_uri": "https://localhost:8080/",
     "height": 34
    },
    "colab_type": "code",
    "executionInfo": {
     "elapsed": 446,
     "status": "ok",
     "timestamp": 1557347996676,
     "user": {
      "displayName": "George Perakis",
      "photoUrl": "https://lh6.googleusercontent.com/-z8wE9GEJtS0/AAAAAAAAAAI/AAAAAAAAHyQ/ATH_dJrCwok/s64/photo.jpg",
      "userId": "05726012581152193594"
     },
     "user_tz": -180
    },
    "id": "4gfMpMGg7D8-",
    "outputId": "36424d53-1a19-47a7-ad66-ee23801aad3b"
   },
   "outputs": [
    {
     "data": {
      "text/plain": [
       "{'A': {'E': {'C'}}, 'D': {'E': {'F'}}, 'H': {}}"
      ]
     },
     "execution_count": 53,
     "metadata": {},
     "output_type": "execute_result"
    }
   ],
   "source": [
    "# dictionaries may have embedded dictionaries, lists, etc as well.\n",
    "d = {\n",
    "    'A': {'E': {'C'}},\n",
    "    'D': {'E': {'F'}},\n",
    "    'H': {}\n",
    "}\n",
    "\n",
    "d"
   ]
  },
  {
   "cell_type": "code",
   "execution_count": 54,
   "metadata": {
    "colab": {
     "base_uri": "https://localhost:8080/",
     "height": 51
    },
    "colab_type": "code",
    "executionInfo": {
     "elapsed": 454,
     "status": "ok",
     "timestamp": 1557347997793,
     "user": {
      "displayName": "George Perakis",
      "photoUrl": "https://lh6.googleusercontent.com/-z8wE9GEJtS0/AAAAAAAAAAI/AAAAAAAAHyQ/ATH_dJrCwok/s64/photo.jpg",
      "userId": "05726012581152193594"
     },
     "user_tz": -180
    },
    "id": "PZyLY9Ri7LG6",
    "outputId": "1592fa80-3394-4f9d-9279-187a1ad5268f"
   },
   "outputs": [
    {
     "name": "stdout",
     "output_type": "stream",
     "text": [
      "{'E': {'C'}}\n",
      "{'C'}\n"
     ]
    }
   ],
   "source": [
    "print(d['A'])\n",
    "print(d['A']['E'])"
   ]
  },
  {
   "cell_type": "code",
   "execution_count": 55,
   "metadata": {
    "colab": {
     "base_uri": "https://localhost:8080/",
     "height": 34
    },
    "colab_type": "code",
    "executionInfo": {
     "elapsed": 660,
     "status": "ok",
     "timestamp": 1557347999092,
     "user": {
      "displayName": "George Perakis",
      "photoUrl": "https://lh6.googleusercontent.com/-z8wE9GEJtS0/AAAAAAAAAAI/AAAAAAAAHyQ/ATH_dJrCwok/s64/photo.jpg",
      "userId": "05726012581152193594"
     },
     "user_tz": -180
    },
    "id": "pfB152F08VKd",
    "outputId": "e323f449-29d3-41c5-dccc-2b12a2c3ff0a"
   },
   "outputs": [
    {
     "ename": "KeyError",
     "evalue": "'E'",
     "output_type": "error",
     "traceback": [
      "\u001b[0;31m---------------------------------------------------------------------------\u001b[0m",
      "\u001b[0;31mKeyError\u001b[0m                                  Traceback (most recent call last)",
      "\u001b[0;32m<ipython-input-55-fb2184967242>\u001b[0m in \u001b[0;36m<module>\u001b[0;34m\u001b[0m\n\u001b[0;32m----> 1\u001b[0;31m \u001b[0mprint\u001b[0m\u001b[0;34m(\u001b[0m\u001b[0md\u001b[0m\u001b[0;34m[\u001b[0m\u001b[0;34m'H'\u001b[0m\u001b[0;34m]\u001b[0m\u001b[0;34m[\u001b[0m\u001b[0;34m'E'\u001b[0m\u001b[0;34m]\u001b[0m\u001b[0;34m)\u001b[0m\u001b[0;34m\u001b[0m\u001b[0;34m\u001b[0m\u001b[0m\n\u001b[0m",
      "\u001b[0;31mKeyError\u001b[0m: 'E'"
     ]
    }
   ],
   "source": [
    "print(d['H']['E'])"
   ]
  },
  {
   "cell_type": "code",
   "execution_count": 56,
   "metadata": {
    "colab": {
     "base_uri": "https://localhost:8080/",
     "height": 68
    },
    "colab_type": "code",
    "executionInfo": {
     "elapsed": 586,
     "status": "ok",
     "timestamp": 1557347999905,
     "user": {
      "displayName": "George Perakis",
      "photoUrl": "https://lh6.googleusercontent.com/-z8wE9GEJtS0/AAAAAAAAAAI/AAAAAAAAHyQ/ATH_dJrCwok/s64/photo.jpg",
      "userId": "05726012581152193594"
     },
     "user_tz": -180
    },
    "id": "2Xih-k2U8by0",
    "outputId": "bafbad35-da16-425c-ac12-92bd89a7be9f"
   },
   "outputs": [
    {
     "name": "stdout",
     "output_type": "stream",
     "text": [
      "{'C'}\n",
      "{'F'}\n",
      "{}\n"
     ]
    }
   ],
   "source": [
    "# To avoid the type error you may use the 'get' function\n",
    "print(d.get('A', {}).get('E', {}))\n",
    "print(d.get('D', {}).get('E', {}))\n",
    "print(d.get('H', {}).get('E', {}))"
   ]
  },
  {
   "cell_type": "code",
   "execution_count": 57,
   "metadata": {
    "colab": {
     "base_uri": "https://localhost:8080/",
     "height": 697
    },
    "colab_type": "code",
    "executionInfo": {
     "elapsed": 541,
     "status": "ok",
     "timestamp": 1557348000821,
     "user": {
      "displayName": "George Perakis",
      "photoUrl": "https://lh6.googleusercontent.com/-z8wE9GEJtS0/AAAAAAAAAAI/AAAAAAAAHyQ/ATH_dJrCwok/s64/photo.jpg",
      "userId": "05726012581152193594"
     },
     "user_tz": -180
    },
    "id": "Br_CH_Z9xfQL",
    "outputId": "ef98ae49-e425-48f9-e37d-0a5ee471cb63",
    "scrolled": true
   },
   "outputs": [
    {
     "data": {
      "text/plain": [
       "['__class__',\n",
       " '__contains__',\n",
       " '__delattr__',\n",
       " '__delitem__',\n",
       " '__dir__',\n",
       " '__doc__',\n",
       " '__eq__',\n",
       " '__format__',\n",
       " '__ge__',\n",
       " '__getattribute__',\n",
       " '__getitem__',\n",
       " '__gt__',\n",
       " '__hash__',\n",
       " '__init__',\n",
       " '__init_subclass__',\n",
       " '__iter__',\n",
       " '__le__',\n",
       " '__len__',\n",
       " '__lt__',\n",
       " '__ne__',\n",
       " '__new__',\n",
       " '__reduce__',\n",
       " '__reduce_ex__',\n",
       " '__repr__',\n",
       " '__setattr__',\n",
       " '__setitem__',\n",
       " '__sizeof__',\n",
       " '__str__',\n",
       " '__subclasshook__',\n",
       " 'clear',\n",
       " 'copy',\n",
       " 'fromkeys',\n",
       " 'get',\n",
       " 'items',\n",
       " 'keys',\n",
       " 'pop',\n",
       " 'popitem',\n",
       " 'setdefault',\n",
       " 'update',\n",
       " 'values']"
      ]
     },
     "execution_count": 57,
     "metadata": {},
     "output_type": "execute_result"
    }
   ],
   "source": [
    "dir(d)"
   ]
  },
  {
   "cell_type": "code",
   "execution_count": 58,
   "metadata": {
    "colab": {
     "base_uri": "https://localhost:8080/",
     "height": 34
    },
    "colab_type": "code",
    "executionInfo": {
     "elapsed": 423,
     "status": "ok",
     "timestamp": 1557348001607,
     "user": {
      "displayName": "George Perakis",
      "photoUrl": "https://lh6.googleusercontent.com/-z8wE9GEJtS0/AAAAAAAAAAI/AAAAAAAAHyQ/ATH_dJrCwok/s64/photo.jpg",
      "userId": "05726012581152193594"
     },
     "user_tz": -180
    },
    "id": "z4PkaEXFxfQW",
    "outputId": "ccfd5437-a2df-41d7-efe2-847deee18d3d"
   },
   "outputs": [
    {
     "name": "stdout",
     "output_type": "stream",
     "text": [
      "[1, 2, 3, 4, 5, 6, 7, 8, 9, 10, 11, 12, 13, 14, 15, 16, 17, 18, 19]\n"
     ]
    }
   ],
   "source": [
    "print([i for i in range(1,20)])"
   ]
  },
  {
   "cell_type": "code",
   "execution_count": 59,
   "metadata": {
    "colab": {
     "base_uri": "https://localhost:8080/",
     "height": 34
    },
    "colab_type": "code",
    "executionInfo": {
     "elapsed": 612,
     "status": "ok",
     "timestamp": 1557348002748,
     "user": {
      "displayName": "George Perakis",
      "photoUrl": "https://lh6.googleusercontent.com/-z8wE9GEJtS0/AAAAAAAAAAI/AAAAAAAAHyQ/ATH_dJrCwok/s64/photo.jpg",
      "userId": "05726012581152193594"
     },
     "user_tz": -180
    },
    "id": "glwgrA6hxfQc",
    "outputId": "e67b8eea-b4e9-4451-b9a0-96e0e3700d06"
   },
   "outputs": [
    {
     "name": "stdout",
     "output_type": "stream",
     "text": [
      "True\n"
     ]
    }
   ],
   "source": [
    "a= True\n",
    "b= False\n",
    "\n",
    "if a :  # same as \" if a==True \"\n",
    "    print(True)\n",
    "\n",
    "elif b :\n",
    "    print('b')\n",
    "\n",
    "else:\n",
    "    print(False)"
   ]
  },
  {
   "cell_type": "code",
   "execution_count": 60,
   "metadata": {
    "colab": {
     "base_uri": "https://localhost:8080/",
     "height": 68
    },
    "colab_type": "code",
    "executionInfo": {
     "elapsed": 581,
     "status": "ok",
     "timestamp": 1557348003973,
     "user": {
      "displayName": "George Perakis",
      "photoUrl": "https://lh6.googleusercontent.com/-z8wE9GEJtS0/AAAAAAAAAAI/AAAAAAAAHyQ/ATH_dJrCwok/s64/photo.jpg",
      "userId": "05726012581152193594"
     },
     "user_tz": -180
    },
    "id": "etdtgpfd970-",
    "outputId": "c848ac5b-feec-4a13-8698-b1244aeba1ec"
   },
   "outputs": [
    {
     "name": "stdout",
     "output_type": "stream",
     "text": [
      "[1, 3, 5, 7, 9, 11, 13, 15, 17, 19, 21, 23, 25, 27, 29, 31, 33, 35, 37, 39, 41, 43, 45, 47, 49]\n"
     ]
    }
   ],
   "source": [
    "# Exercise: Append odd numbers in a list\n",
    "\n",
    "# first way \n",
    "l1 = list(range(1, 50, 2))\n",
    "\n",
    "print(l1)"
   ]
  },
  {
   "cell_type": "code",
   "execution_count": 61,
   "metadata": {
    "colab": {
     "base_uri": "https://localhost:8080/",
     "height": 68
    },
    "colab_type": "code",
    "executionInfo": {
     "elapsed": 581,
     "status": "ok",
     "timestamp": 1557348003973,
     "user": {
      "displayName": "George Perakis",
      "photoUrl": "https://lh6.googleusercontent.com/-z8wE9GEJtS0/AAAAAAAAAAI/AAAAAAAAHyQ/ATH_dJrCwok/s64/photo.jpg",
      "userId": "05726012581152193594"
     },
     "user_tz": -180
    },
    "id": "etdtgpfd970-",
    "outputId": "c848ac5b-feec-4a13-8698-b1244aeba1ec"
   },
   "outputs": [
    {
     "name": "stdout",
     "output_type": "stream",
     "text": [
      "[1, 3, 5, 7, 9, 11, 13, 15, 17, 19, 21, 23, 25, 27, 29, 31, 33, 35, 37, 39, 41, 43, 45, 47, 49]\n"
     ]
    }
   ],
   "source": [
    "# second way: Usage of modulo (%)\n",
    "l2= [i for i in range (1,50) if (i%2==1)]\n",
    "\n",
    "print(l2)"
   ]
  },
  {
   "cell_type": "code",
   "execution_count": 62,
   "metadata": {
    "colab": {
     "base_uri": "https://localhost:8080/",
     "height": 68
    },
    "colab_type": "code",
    "executionInfo": {
     "elapsed": 581,
     "status": "ok",
     "timestamp": 1557348003973,
     "user": {
      "displayName": "George Perakis",
      "photoUrl": "https://lh6.googleusercontent.com/-z8wE9GEJtS0/AAAAAAAAAAI/AAAAAAAAHyQ/ATH_dJrCwok/s64/photo.jpg",
      "userId": "05726012581152193594"
     },
     "user_tz": -180
    },
    "id": "etdtgpfd970-",
    "outputId": "c848ac5b-feec-4a13-8698-b1244aeba1ec"
   },
   "outputs": [
    {
     "name": "stdout",
     "output_type": "stream",
     "text": [
      "True\n"
     ]
    }
   ],
   "source": [
    "print(l1==l2)"
   ]
  },
  {
   "cell_type": "markdown",
   "metadata": {},
   "source": [
    "#### Counting Elements of an iterable"
   ]
  },
  {
   "cell_type": "code",
   "execution_count": 63,
   "metadata": {
    "colab": {
     "base_uri": "https://localhost:8080/",
     "height": 173
    },
    "colab_type": "code",
    "executionInfo": {
     "elapsed": 424,
     "status": "ok",
     "timestamp": 1557348004920,
     "user": {
      "displayName": "George Perakis",
      "photoUrl": "https://lh6.googleusercontent.com/-z8wE9GEJtS0/AAAAAAAAAAI/AAAAAAAAHyQ/ATH_dJrCwok/s64/photo.jpg",
      "userId": "05726012581152193594"
     },
     "user_tz": -180
    },
    "id": "tR6G8UKUIXpu",
    "outputId": "b783175e-d9a5-4321-cc7f-d1ec46d05ba2"
   },
   "outputs": [
    {
     "name": "stdout",
     "output_type": "stream",
     "text": [
      "['T', 'h', 'i', 's', ' ', 'i', 's', ' ', 'a', ' ', 't', 'e', 'x', 't', ' ', 't', 'h', 'a', 't', ' ', 'w', 'e', ' ', 'w', 'i', 'l', 'l', ' ', 'b', 'r', 'e', 'a', 'k', ' ', 'd', 'o', 'w', 'n', ' ', 'i', 'n', ' ', 'i', 't', \"'\", 's', ' ', 'c', 'h', 'a', 'r', 'a', 'c', 't', 'e', 'r', 's']\n"
     ]
    }
   ],
   "source": [
    "# Count elements in a list\n",
    "\n",
    "l = list(\"This is a text that we will break down in it's characters\")\n",
    "print(l)"
   ]
  },
  {
   "cell_type": "code",
   "execution_count": 64,
   "metadata": {
    "colab": {
     "base_uri": "https://localhost:8080/",
     "height": 173
    },
    "colab_type": "code",
    "executionInfo": {
     "elapsed": 424,
     "status": "ok",
     "timestamp": 1557348004920,
     "user": {
      "displayName": "George Perakis",
      "photoUrl": "https://lh6.googleusercontent.com/-z8wE9GEJtS0/AAAAAAAAAAI/AAAAAAAAHyQ/ATH_dJrCwok/s64/photo.jpg",
      "userId": "05726012581152193594"
     },
     "user_tz": -180
    },
    "id": "tR6G8UKUIXpu",
    "outputId": "b783175e-d9a5-4321-cc7f-d1ec46d05ba2"
   },
   "outputs": [
    {
     "name": "stdout",
     "output_type": "stream",
     "text": [
      "{'T': 1, 'h': 3, 'i': 5, 's': 4, ' ': 11, 'a': 5, 't': 6, 'e': 4, 'x': 1, 'w': 3, 'l': 2, 'b': 1, 'r': 3, 'k': 1, 'd': 1, 'o': 1, 'n': 2, \"'\": 1, 'c': 2}\n"
     ]
    }
   ],
   "source": [
    "# 1st way: Old fashioned\n",
    "d1 = dict()\n",
    "\n",
    "for item in l:\n",
    "  \n",
    "  if item in d1:\n",
    "    d1[item] +=1\n",
    "   \n",
    "  else:\n",
    "    d1[item] = 1\n",
    "    \n",
    "print(d1)"
   ]
  },
  {
   "cell_type": "code",
   "execution_count": 65,
   "metadata": {
    "colab": {
     "base_uri": "https://localhost:8080/",
     "height": 173
    },
    "colab_type": "code",
    "executionInfo": {
     "elapsed": 424,
     "status": "ok",
     "timestamp": 1557348004920,
     "user": {
      "displayName": "George Perakis",
      "photoUrl": "https://lh6.googleusercontent.com/-z8wE9GEJtS0/AAAAAAAAAAI/AAAAAAAAHyQ/ATH_dJrCwok/s64/photo.jpg",
      "userId": "05726012581152193594"
     },
     "user_tz": -180
    },
    "id": "tR6G8UKUIXpu",
    "outputId": "b783175e-d9a5-4321-cc7f-d1ec46d05ba2"
   },
   "outputs": [
    {
     "name": "stdout",
     "output_type": "stream",
     "text": [
      "defaultdict(<class 'int'>, {'T': 1, 'h': 3, 'i': 5, 's': 4, ' ': 11, 'a': 5, 't': 6, 'e': 4, 'x': 1, 'w': 3, 'l': 2, 'b': 1, 'r': 3, 'k': 1, 'd': 1, 'o': 1, 'n': 2, \"'\": 1, 'c': 2})\n",
      "\n"
     ]
    }
   ],
   "source": [
    "# 2nd way:  Slightly better\n",
    "from collections import defaultdict\n",
    "\n",
    "d2 = defaultdict(int)\n",
    "\n",
    "for item in l: \n",
    "    d2[item] +=1\n",
    "\n",
    "print(d2, end='\\n\\n')"
   ]
  },
  {
   "cell_type": "code",
   "execution_count": 66,
   "metadata": {
    "colab": {
     "base_uri": "https://localhost:8080/",
     "height": 173
    },
    "colab_type": "code",
    "executionInfo": {
     "elapsed": 424,
     "status": "ok",
     "timestamp": 1557348004920,
     "user": {
      "displayName": "George Perakis",
      "photoUrl": "https://lh6.googleusercontent.com/-z8wE9GEJtS0/AAAAAAAAAAI/AAAAAAAAHyQ/ATH_dJrCwok/s64/photo.jpg",
      "userId": "05726012581152193594"
     },
     "user_tz": -180
    },
    "id": "tR6G8UKUIXpu",
    "outputId": "b783175e-d9a5-4321-cc7f-d1ec46d05ba2"
   },
   "outputs": [
    {
     "name": "stdout",
     "output_type": "stream",
     "text": [
      "Counter({' ': 11, 't': 6, 'i': 5, 'a': 5, 's': 4, 'e': 4, 'h': 3, 'w': 3, 'r': 3, 'l': 2, 'n': 2, 'c': 2, 'T': 1, 'x': 1, 'b': 1, 'k': 1, 'd': 1, 'o': 1, \"'\": 1})\n"
     ]
    }
   ],
   "source": [
    "# 3rd way\n",
    "from collections import Counter\n",
    "\n",
    "d3 = Counter(l)\n",
    "\n",
    "print(d3)"
   ]
  },
  {
   "cell_type": "code",
   "execution_count": 67,
   "metadata": {
    "colab": {
     "base_uri": "https://localhost:8080/",
     "height": 173
    },
    "colab_type": "code",
    "executionInfo": {
     "elapsed": 424,
     "status": "ok",
     "timestamp": 1557348004920,
     "user": {
      "displayName": "George Perakis",
      "photoUrl": "https://lh6.googleusercontent.com/-z8wE9GEJtS0/AAAAAAAAAAI/AAAAAAAAHyQ/ATH_dJrCwok/s64/photo.jpg",
      "userId": "05726012581152193594"
     },
     "user_tz": -180
    },
    "id": "tR6G8UKUIXpu",
    "outputId": "b783175e-d9a5-4321-cc7f-d1ec46d05ba2"
   },
   "outputs": [
    {
     "name": "stdout",
     "output_type": "stream",
     "text": [
      "\n",
      "Checking if the results are the same\n",
      "True\n",
      "True\n"
     ]
    },
    {
     "data": {
      "text/plain": [
       "[(' ', 11),\n",
       " ('t', 6),\n",
       " ('i', 5),\n",
       " ('a', 5),\n",
       " ('s', 4),\n",
       " ('e', 4),\n",
       " ('h', 3),\n",
       " ('w', 3),\n",
       " ('r', 3),\n",
       " ('l', 2)]"
      ]
     },
     "execution_count": 67,
     "metadata": {},
     "output_type": "execute_result"
    }
   ],
   "source": [
    "print('\\nChecking if the results are the same')\n",
    "print(d1 == d2)\n",
    "print(d2 == d3)\n",
    "\n",
    "\n",
    "# The 3rd way has another built in fuction that helps a  lot\n",
    "d3.most_common(10)"
   ]
  },
  {
   "cell_type": "code",
   "execution_count": 68,
   "metadata": {
    "colab": {
     "base_uri": "https://localhost:8080/",
     "height": 51
    },
    "colab_type": "code",
    "executionInfo": {
     "elapsed": 449,
     "status": "ok",
     "timestamp": 1557348006068,
     "user": {
      "displayName": "George Perakis",
      "photoUrl": "https://lh6.googleusercontent.com/-z8wE9GEJtS0/AAAAAAAAAAI/AAAAAAAAHyQ/ATH_dJrCwok/s64/photo.jpg",
      "userId": "05726012581152193594"
     },
     "user_tz": -180
    },
    "id": "xYrbjsCqxfQu",
    "outputId": "1d3ca999-899e-43df-806f-99b6773944bb"
   },
   "outputs": [
    {
     "name": "stdout",
     "output_type": "stream",
     "text": [
      "None\n",
      "None\n"
     ]
    }
   ],
   "source": [
    "# How 'null' is defined in python\n",
    "\n",
    "a = None\n",
    "\n",
    "if a is None:\n",
    "    print(\"None\")\n",
    "    \n",
    "if a:\n",
    "    print('Has number')\n",
    "    \n",
    "if not a:\n",
    "    print('None')"
   ]
  },
  {
   "cell_type": "markdown",
   "metadata": {},
   "source": [
    "### Writing **from** and **to** a file"
   ]
  },
  {
   "cell_type": "code",
   "execution_count": 69,
   "metadata": {
    "colab": {},
    "colab_type": "code",
    "id": "zViJlirUxfQ0"
   },
   "outputs": [],
   "source": [
    "# How we write to a file\n",
    "\n",
    "# 1st way (standard way)\n",
    "f = open('output.txt','w')\n",
    "f.write('line 1 \\n')\n",
    "f.write('line 2 \\n')\n",
    "f.close() # after writing the rows to the file we must close the file"
   ]
  },
  {
   "cell_type": "code",
   "execution_count": 70,
   "metadata": {
    "colab": {},
    "colab_type": "code",
    "id": "zViJlirUxfQ0"
   },
   "outputs": [],
   "source": [
    "# 2nd way (best way) is to use a context manager. \n",
    "# The context manager will open the file, handle the \n",
    "# lines and close the file at the end without explicitely \n",
    "# closing the file.\n",
    "\n",
    "# Using the \"as\" we have an alias in order to handle better the situation\n",
    "\n",
    "# with open('output.txt', 'w') as f :  # a=append, w='write'\n",
    "#     f.write('some text')"
   ]
  },
  {
   "cell_type": "code",
   "execution_count": 71,
   "metadata": {
    "colab": {
     "base_uri": "https://localhost:8080/",
     "height": 34
    },
    "colab_type": "code",
    "executionInfo": {
     "elapsed": 600,
     "status": "ok",
     "timestamp": 1557348008777,
     "user": {
      "displayName": "George Perakis",
      "photoUrl": "https://lh6.googleusercontent.com/-z8wE9GEJtS0/AAAAAAAAAAI/AAAAAAAAHyQ/ATH_dJrCwok/s64/photo.jpg",
      "userId": "05726012581152193594"
     },
     "user_tz": -180
    },
    "id": "VbCFmOISxfQ5",
    "outputId": "7e8e488b-0193-4991-c6d8-905c1ce4a6de"
   },
   "outputs": [
    {
     "name": "stdout",
     "output_type": "stream",
     "text": [
      "['line 1 \\n', 'line 2 \\n']\n"
     ]
    }
   ],
   "source": [
    "# How to read a file\n",
    "\n",
    "# Read all the file at once\n",
    "with open('output.txt','r') as f :\n",
    "#     print f.read()\n",
    "    print(f.readlines())"
   ]
  },
  {
   "cell_type": "markdown",
   "metadata": {},
   "source": [
    "### Functions"
   ]
  },
  {
   "cell_type": "code",
   "execution_count": 72,
   "metadata": {
    "colab": {
     "base_uri": "https://localhost:8080/",
     "height": 34
    },
    "colab_type": "code",
    "executionInfo": {
     "elapsed": 815,
     "status": "ok",
     "timestamp": 1557348010076,
     "user": {
      "displayName": "George Perakis",
      "photoUrl": "https://lh6.googleusercontent.com/-z8wE9GEJtS0/AAAAAAAAAAI/AAAAAAAAHyQ/ATH_dJrCwok/s64/photo.jpg",
      "userId": "05726012581152193594"
     },
     "user_tz": -180
    },
    "id": "M4KyBQCgxfRB",
    "outputId": "f81caea7-aa06-4121-e31e-7e8a4c459ef8"
   },
   "outputs": [
    {
     "name": "stdout",
     "output_type": "stream",
     "text": [
      "4\n"
     ]
    }
   ],
   "source": [
    "# definition of a function\n",
    "\n",
    "def func(a,b):\n",
    "    return a+b\n",
    "\n",
    "print(func(1,3))"
   ]
  },
  {
   "cell_type": "code",
   "execution_count": 73,
   "metadata": {
    "colab": {
     "base_uri": "https://localhost:8080/",
     "height": 34
    },
    "colab_type": "code",
    "executionInfo": {
     "elapsed": 1383,
     "status": "ok",
     "timestamp": 1557348011991,
     "user": {
      "displayName": "George Perakis",
      "photoUrl": "https://lh6.googleusercontent.com/-z8wE9GEJtS0/AAAAAAAAAAI/AAAAAAAAHyQ/ATH_dJrCwok/s64/photo.jpg",
      "userId": "05726012581152193594"
     },
     "user_tz": -180
    },
    "id": "TNX79NqjAu6x",
    "outputId": "07979bf6-841a-4e9d-f1bd-442f63fb8f5b"
   },
   "outputs": [
    {
     "name": "stdout",
     "output_type": "stream",
     "text": [
      "4\n"
     ]
    }
   ],
   "source": [
    "# definition a function with type annotations\n",
    "# more on python annotations: https://www.python.org/dev/peps/pep-3107/\n",
    "\n",
    "def func(a:int, b: int) -> int:\n",
    "    \n",
    "    return a+b\n",
    "\n",
    "print(func(1,3))"
   ]
  },
  {
   "cell_type": "code",
   "execution_count": 74,
   "metadata": {
    "colab": {
     "base_uri": "https://localhost:8080/",
     "height": 68
    },
    "colab_type": "code",
    "executionInfo": {
     "elapsed": 686,
     "status": "ok",
     "timestamp": 1557348012418,
     "user": {
      "displayName": "George Perakis",
      "photoUrl": "https://lh6.googleusercontent.com/-z8wE9GEJtS0/AAAAAAAAAAI/AAAAAAAAHyQ/ATH_dJrCwok/s64/photo.jpg",
      "userId": "05726012581152193594"
     },
     "user_tz": -180
    },
    "id": "6nVb8v5vxfRM",
    "outputId": "4ee0c5ca-80bb-423c-d522-cb15b70843de"
   },
   "outputs": [
    {
     "name": "stdout",
     "output_type": "stream",
     "text": [
      "6\n",
      "7\n",
      "7\n"
     ]
    }
   ],
   "source": [
    "# Define function with predefined parameters\n",
    "def func(a, b=5):\n",
    "    \n",
    "    return a+b\n",
    "\n",
    "print(func(1))\n",
    "\n",
    "print(func(1, 6))\n",
    "\n",
    "print(func(a=1,b=6))"
   ]
  },
  {
   "cell_type": "code",
   "execution_count": 75,
   "metadata": {
    "colab": {
     "base_uri": "https://localhost:8080/",
     "height": 130
    },
    "colab_type": "code",
    "executionInfo": {
     "elapsed": 453,
     "status": "error",
     "timestamp": 1557348013595,
     "user": {
      "displayName": "George Perakis",
      "photoUrl": "https://lh6.googleusercontent.com/-z8wE9GEJtS0/AAAAAAAAAAI/AAAAAAAAHyQ/ATH_dJrCwok/s64/photo.jpg",
      "userId": "05726012581152193594"
     },
     "user_tz": -180
    },
    "id": "kJo2m8A3BUr2",
    "outputId": "8ea2af99-6904-4ec4-d5f0-b6deadf0c183"
   },
   "outputs": [
    {
     "ename": "SyntaxError",
     "evalue": "positional argument follows keyword argument (<ipython-input-75-584888e0ba3b>, line 1)",
     "output_type": "error",
     "traceback": [
      "\u001b[0;36m  File \u001b[0;32m\"<ipython-input-75-584888e0ba3b>\"\u001b[0;36m, line \u001b[0;32m1\u001b[0m\n\u001b[0;31m    print(func(b=1,6))  # expected to raise a SyntaxError\u001b[0m\n\u001b[0m                  ^\u001b[0m\n\u001b[0;31mSyntaxError\u001b[0m\u001b[0;31m:\u001b[0m positional argument follows keyword argument\n"
     ]
    }
   ],
   "source": [
    "print(func(b=1,6))  # expected to raise a SyntaxError"
   ]
  },
  {
   "cell_type": "code",
   "execution_count": 76,
   "metadata": {
    "colab": {
     "base_uri": "https://localhost:8080/",
     "height": 68
    },
    "colab_type": "code",
    "executionInfo": {
     "elapsed": 639,
     "status": "ok",
     "timestamp": 1557348015264,
     "user": {
      "displayName": "George Perakis",
      "photoUrl": "https://lh6.googleusercontent.com/-z8wE9GEJtS0/AAAAAAAAAAI/AAAAAAAAHyQ/ATH_dJrCwok/s64/photo.jpg",
      "userId": "05726012581152193594"
     },
     "user_tz": -180
    },
    "id": "aHDHodg3xfRR",
    "outputId": "3ef6071c-aad2-44eb-ec28-0f6d7421ea3b"
   },
   "outputs": [
    {
     "name": "stdout",
     "output_type": "stream",
     "text": [
      "[1, 3, 5, 7, 9, 11, 13, 15, 17, 19, 21, 23, 25, 27, 29]\n",
      "[1, 3, 5, 7, 9, 11, 13, 15, 17, 19, 21, 23, 25, 27, 29]\n",
      "[1, 3, 5, 7, 9, 11, 13, 15, 17, 19, 21, 23, 25, 27, 29]\n",
      "True\n"
     ]
    },
    {
     "data": {
      "text/plain": [
       "[1, 3, 5, 7, 9, 11, 13, 15, 17, 19, 21, 23, 25, 27, 29]"
      ]
     },
     "execution_count": 76,
     "metadata": {},
     "output_type": "execute_result"
    }
   ],
   "source": [
    "def save_odd_numbers(numbers: list):\n",
    "  \n",
    "    odds1 = [i for i in numbers if i%2==1] # extract odd numbers to the same list\n",
    "    \n",
    "    print(odds1)\n",
    "    \n",
    "    # intantiate a new list\n",
    "    odds2 = []\n",
    "    \n",
    "    for i in numbers:\n",
    "        if i%2==1:\n",
    "            odds2.append(i)\n",
    "    \n",
    "    print(odds1)\n",
    "    print(odds2)\n",
    "\n",
    "    print(odds1 == odds2)\n",
    "    \n",
    "    f = open('./odd_numbers.txt','w')\n",
    "    f.write(str(odds2))\n",
    "    f.close()\n",
    "    \n",
    "    return odds2\n",
    "\n",
    "test_numbers= list(range(30))\n",
    "\n",
    "save_odd_numbers(test_numbers)"
   ]
  },
  {
   "cell_type": "code",
   "execution_count": 77,
   "metadata": {
    "colab": {
     "base_uri": "https://localhost:8080/",
     "height": 34
    },
    "colab_type": "code",
    "executionInfo": {
     "elapsed": 606,
     "status": "ok",
     "timestamp": 1557348020478,
     "user": {
      "displayName": "George Perakis",
      "photoUrl": "https://lh6.googleusercontent.com/-z8wE9GEJtS0/AAAAAAAAAAI/AAAAAAAAHyQ/ATH_dJrCwok/s64/photo.jpg",
      "userId": "05726012581152193594"
     },
     "user_tz": -180
    },
    "id": "586potecxfRW",
    "outputId": "f502af08-5b29-4464-b2da-71fde3e70e4f"
   },
   "outputs": [
    {
     "name": "stdout",
     "output_type": "stream",
     "text": [
      "[1, 3, 5, 7, 9, 11, 13, 15, 17, 19, 21, 23, 25, 27, 29]\n"
     ]
    }
   ],
   "source": [
    "with open('./odd_numbers.txt') as f :\n",
    "    print(f.read())"
   ]
  },
  {
   "cell_type": "code",
   "execution_count": 78,
   "metadata": {
    "colab": {
     "base_uri": "https://localhost:8080/",
     "height": 34
    },
    "colab_type": "code",
    "executionInfo": {
     "elapsed": 359,
     "status": "ok",
     "timestamp": 1557348021783,
     "user": {
      "displayName": "George Perakis",
      "photoUrl": "https://lh6.googleusercontent.com/-z8wE9GEJtS0/AAAAAAAAAAI/AAAAAAAAHyQ/ATH_dJrCwok/s64/photo.jpg",
      "userId": "05726012581152193594"
     },
     "user_tz": -180
    },
    "id": "VAypZM2fxfRc",
    "outputId": "bcd58a30-e242-4346-ae63-36b20daed5e5"
   },
   "outputs": [
    {
     "name": "stdout",
     "output_type": "stream",
     "text": [
      "[1, 3, 5, 7, 9, 11, 13]\n"
     ]
    }
   ],
   "source": [
    "def write_and_read_odd_numbers(numbers):\n",
    "  \n",
    "    odds = [ num for num in numbers if num % 2 == 1]\n",
    "    \n",
    "    with open('odds.txt','w') as f:\n",
    "        f.write(str(odds))\n",
    "        \n",
    "    with open('odds.txt','r') as f:\n",
    "        print(f.read())\n",
    "        \n",
    "nums= list(range(15))\n",
    "\n",
    "write_and_read_odd_numbers(nums)"
   ]
  },
  {
   "cell_type": "code",
   "execution_count": 79,
   "metadata": {
    "colab": {
     "base_uri": "https://localhost:8080/",
     "height": 34
    },
    "colab_type": "code",
    "executionInfo": {
     "elapsed": 567,
     "status": "ok",
     "timestamp": 1557348024616,
     "user": {
      "displayName": "George Perakis",
      "photoUrl": "https://lh6.googleusercontent.com/-z8wE9GEJtS0/AAAAAAAAAAI/AAAAAAAAHyQ/ATH_dJrCwok/s64/photo.jpg",
      "userId": "05726012581152193594"
     },
     "user_tz": -180
    },
    "id": "UoaZwR61xfRp",
    "outputId": "16fe7ee7-0186-49e0-99b7-f9627f3e292d"
   },
   "outputs": [
    {
     "data": {
      "text/plain": [
       "[0, 2, 4, 6, 8, 10]"
      ]
     },
     "execution_count": 79,
     "metadata": {},
     "output_type": "execute_result"
    }
   ],
   "source": [
    "# even numbers\n",
    "[num for num in range(12) if num % 2 == 0]"
   ]
  },
  {
   "cell_type": "code",
   "execution_count": 80,
   "metadata": {
    "colab": {},
    "colab_type": "code",
    "id": "yCzv5_oTxfRz"
   },
   "outputs": [],
   "source": [
    "def fun(l):\n",
    "  \n",
    "    l=[ str(i)+'\\n'for i in range (1,5) if (i%2==1)]\n",
    "    \n",
    "    with open('monoi.txt','w') as f :\n",
    "        f.writelines(l)    \n",
    "\n",
    "l= [1,2,3,4]"
   ]
  },
  {
   "cell_type": "code",
   "execution_count": 81,
   "metadata": {
    "colab": {},
    "colab_type": "code",
    "id": "paHcbBw0xfR5"
   },
   "outputs": [],
   "source": [
    "fun(l)"
   ]
  },
  {
   "cell_type": "code",
   "execution_count": 82,
   "metadata": {
    "colab": {
     "base_uri": "https://localhost:8080/",
     "height": 34
    },
    "colab_type": "code",
    "executionInfo": {
     "elapsed": 879,
     "status": "ok",
     "timestamp": 1557348030520,
     "user": {
      "displayName": "George Perakis",
      "photoUrl": "https://lh6.googleusercontent.com/-z8wE9GEJtS0/AAAAAAAAAAI/AAAAAAAAHyQ/ATH_dJrCwok/s64/photo.jpg",
      "userId": "05726012581152193594"
     },
     "user_tz": -180
    },
    "id": "WrE7vS41xfR9",
    "outputId": "4357ca77-1536-4e2c-8c6b-ec983ee4e76d"
   },
   "outputs": [
    {
     "name": "stdout",
     "output_type": "stream",
     "text": [
      "['1\\n', '3\\n']\n"
     ]
    }
   ],
   "source": [
    "with open('monoi.txt','r') as f :\n",
    "    print(f.readlines())"
   ]
  },
  {
   "cell_type": "code",
   "execution_count": 83,
   "metadata": {
    "colab": {
     "base_uri": "https://localhost:8080/",
     "height": 34
    },
    "colab_type": "code",
    "executionInfo": {
     "elapsed": 450,
     "status": "ok",
     "timestamp": 1557348031807,
     "user": {
      "displayName": "George Perakis",
      "photoUrl": "https://lh6.googleusercontent.com/-z8wE9GEJtS0/AAAAAAAAAAI/AAAAAAAAHyQ/ATH_dJrCwok/s64/photo.jpg",
      "userId": "05726012581152193594"
     },
     "user_tz": -180
    },
    "id": "-aaLmEtgG-Bl",
    "outputId": "d0b229ab-4600-4a66-9164-b1df7fae4380"
   },
   "outputs": [
    {
     "name": "stdout",
     "output_type": "stream",
     "text": [
      "5 5\n"
     ]
    }
   ],
   "source": [
    "# Lambdas\n",
    "\n",
    "# We can define the so called lambda functions for simple functions\n",
    "\n",
    "def add_2_numbers(a, b):\n",
    "    return a + b\n",
    "\n",
    "add_2_nums = lambda a, b: a + b\n",
    "\n",
    "x1 = add_2_numbers(2, 3)\n",
    "\n",
    "x2 = add_2_nums(2, 3)\n",
    "\n",
    "print(x1, x2)"
   ]
  },
  {
   "cell_type": "code",
   "execution_count": 84,
   "metadata": {
    "colab": {
     "base_uri": "https://localhost:8080/",
     "height": 51
    },
    "colab_type": "code",
    "executionInfo": {
     "elapsed": 729,
     "status": "ok",
     "timestamp": 1557348033690,
     "user": {
      "displayName": "George Perakis",
      "photoUrl": "https://lh6.googleusercontent.com/-z8wE9GEJtS0/AAAAAAAAAAI/AAAAAAAAHyQ/ATH_dJrCwok/s64/photo.jpg",
      "userId": "05726012581152193594"
     },
     "user_tz": -180
    },
    "id": "rT_CkY6THmBt",
    "outputId": "49bffdee-2129-4da7-f687-db6566481d23"
   },
   "outputs": [
    {
     "name": "stdout",
     "output_type": "stream",
     "text": [
      "[5, 6, 7, 8, 9]\n",
      "[1, 3, 5, 7, 9, 11, 13, 15, 17, 19, 21, 23, 25, 27, 29, 31, 33, 35, 37, 39, 41, 43, 45, 47, 49]\n"
     ]
    }
   ],
   "source": [
    "# more examples:\n",
    "last_5_elements = lambda l: l[-5:]\n",
    "\n",
    "print(last_5_elements(list(range(10))))\n",
    "\n",
    "odd_numbers = lambda l: [num for num in l if num % 2 == 1]\n",
    "\n",
    "print(odd_numbers(list(range(50))))"
   ]
  },
  {
   "cell_type": "code",
   "execution_count": 85,
   "metadata": {},
   "outputs": [
    {
     "name": "stdout",
     "output_type": "stream",
     "text": [
      "[('Anna', 20), ('George', 40), ('Maria', 30)]\n"
     ]
    }
   ],
   "source": [
    "# why use lambdas ? \n",
    "\n",
    "# Labmdas are oftenly used within other functions.\n",
    "\n",
    "items = [('Anna', 20), \n",
    "         ('Maria', 30),\n",
    "         ('George', 40)]\n",
    "\n",
    "print(sorted(items))"
   ]
  },
  {
   "cell_type": "code",
   "execution_count": 86,
   "metadata": {},
   "outputs": [
    {
     "name": "stdout",
     "output_type": "stream",
     "text": [
      "[('Anna', 20), ('George', 40), ('Maria', 30)]\n"
     ]
    }
   ],
   "source": [
    "print(sorted(items, key=lambda t: t[0]))"
   ]
  },
  {
   "cell_type": "code",
   "execution_count": 87,
   "metadata": {},
   "outputs": [
    {
     "name": "stdout",
     "output_type": "stream",
     "text": [
      "[('Anna', 20), ('Maria', 30), ('George', 40)]\n"
     ]
    }
   ],
   "source": [
    "print(sorted(items, key=lambda t: t[1]))"
   ]
  },
  {
   "cell_type": "code",
   "execution_count": 88,
   "metadata": {},
   "outputs": [
    {
     "name": "stdout",
     "output_type": "stream",
     "text": [
      "[('George', 40), ('Maria', 30), ('Anna', 20)]\n"
     ]
    }
   ],
   "source": [
    "print(sorted(items, \n",
    "             key=lambda t: t[1],\n",
    "             reverse=True))"
   ]
  },
  {
   "cell_type": "code",
   "execution_count": 89,
   "metadata": {},
   "outputs": [
    {
     "data": {
      "text/plain": [
       "[('Anna', 20), ('George', 40), ('Maria', 30)]"
      ]
     },
     "execution_count": 89,
     "metadata": {},
     "output_type": "execute_result"
    }
   ],
   "source": [
    "items = [('Anna', 20), \n",
    "         ('Maria', 30),\n",
    "         ('George', 40)]\n",
    "\n",
    "items.sort() # sorts on the fly\n",
    "\n",
    "items"
   ]
  },
  {
   "cell_type": "markdown",
   "metadata": {},
   "source": [
    "### Introduction to classes"
   ]
  },
  {
   "cell_type": "code",
   "execution_count": 90,
   "metadata": {
    "colab": {
     "base_uri": "https://localhost:8080/",
     "height": 153
    },
    "colab_type": "code",
    "executionInfo": {
     "elapsed": 595,
     "status": "ok",
     "timestamp": 1557348039078,
     "user": {
      "displayName": "George Perakis",
      "photoUrl": "https://lh6.googleusercontent.com/-z8wE9GEJtS0/AAAAAAAAAAI/AAAAAAAAHyQ/ATH_dJrCwok/s64/photo.jpg",
      "userId": "05726012581152193594"
     },
     "user_tz": -180
    },
    "id": "EU4dSrhTxfSD",
    "outputId": "a14ab2fc-0ab7-4352-d08d-da1340c7329c"
   },
   "outputs": [],
   "source": [
    "class Employee:\n",
    "    \"\"\"\n",
    "    More info about classes and methods.\n",
    "\n",
    "    https://docs.python.org/3/tutorial/classes.html\n",
    "\n",
    "    https://realpython.com/instance-class-and-static-methods-demystified/\n",
    "    \n",
    "    https://jeffknupp.com/blog/2014/06/18/improve-your-python-python-classes-and-object-oriented-programming/\n",
    "    \n",
    "    \"\"\"\n",
    "\n",
    "    empCount = 0\n",
    "\n",
    "    def __init__(self,\n",
    "               name:str,\n",
    "               salary:int):\n",
    "        \n",
    "\n",
    "        self.name = name\n",
    "        self.salary = salary\n",
    "\n",
    "        Employee.empCount += 1\n",
    "\n",
    "    def displayCount(self):\n",
    "        print(f\"Total Employees: {Employee.empCount}\")\n",
    "    \n",
    "    # instance method     \n",
    "    def displayEmployee(self):\n",
    "        # another way to format print statements         \n",
    "        print(\"Name: {}, Salary: {}\".format(self.name, self.salary))\n",
    "\n",
    "    @staticmethod\n",
    "    def random_function_that_we_want_to_include_to_the_class(number):\n",
    "        print('\\nNumber: {}'.format(number))\n",
    "\n",
    "    @classmethod\n",
    "    def classmethod(cls):\n",
    "        return 'Class method called {}'.format(cls)"
   ]
  },
  {
   "cell_type": "code",
   "execution_count": 91,
   "metadata": {
    "colab": {
     "base_uri": "https://localhost:8080/",
     "height": 153
    },
    "colab_type": "code",
    "executionInfo": {
     "elapsed": 595,
     "status": "ok",
     "timestamp": 1557348039078,
     "user": {
      "displayName": "George Perakis",
      "photoUrl": "https://lh6.googleusercontent.com/-z8wE9GEJtS0/AAAAAAAAAAI/AAAAAAAAHyQ/ATH_dJrCwok/s64/photo.jpg",
      "userId": "05726012581152193594"
     },
     "user_tz": -180
    },
    "id": "EU4dSrhTxfSD",
    "outputId": "a14ab2fc-0ab7-4352-d08d-da1340c7329c"
   },
   "outputs": [
    {
     "name": "stdout",
     "output_type": "stream",
     "text": [
      "Total Employees: 1\n",
      "Name: Maria, Salary: 100\n"
     ]
    }
   ],
   "source": [
    "emp = Employee('Maria', 100)           \n",
    "\n",
    "emp.displayCount()  \n",
    "emp.displayEmployee()"
   ]
  },
  {
   "cell_type": "code",
   "execution_count": 92,
   "metadata": {
    "colab": {
     "base_uri": "https://localhost:8080/",
     "height": 153
    },
    "colab_type": "code",
    "executionInfo": {
     "elapsed": 595,
     "status": "ok",
     "timestamp": 1557348039078,
     "user": {
      "displayName": "George Perakis",
      "photoUrl": "https://lh6.googleusercontent.com/-z8wE9GEJtS0/AAAAAAAAAAI/AAAAAAAAHyQ/ATH_dJrCwok/s64/photo.jpg",
      "userId": "05726012581152193594"
     },
     "user_tz": -180
    },
    "id": "EU4dSrhTxfSD",
    "outputId": "a14ab2fc-0ab7-4352-d08d-da1340c7329c"
   },
   "outputs": [
    {
     "name": "stdout",
     "output_type": "stream",
     "text": [
      "Total Employees: 2\n"
     ]
    }
   ],
   "source": [
    "emp2 = Employee('John', 200)                   \n",
    "\n",
    "emp.displayCount() # check this out. It's not emp2. It's emp"
   ]
  },
  {
   "cell_type": "code",
   "execution_count": 93,
   "metadata": {
    "colab": {
     "base_uri": "https://localhost:8080/",
     "height": 153
    },
    "colab_type": "code",
    "executionInfo": {
     "elapsed": 595,
     "status": "ok",
     "timestamp": 1557348039078,
     "user": {
      "displayName": "George Perakis",
      "photoUrl": "https://lh6.googleusercontent.com/-z8wE9GEJtS0/AAAAAAAAAAI/AAAAAAAAHyQ/ATH_dJrCwok/s64/photo.jpg",
      "userId": "05726012581152193594"
     },
     "user_tz": -180
    },
    "id": "EU4dSrhTxfSD",
    "outputId": "a14ab2fc-0ab7-4352-d08d-da1340c7329c"
   },
   "outputs": [
    {
     "name": "stdout",
     "output_type": "stream",
     "text": [
      "Name: John, Salary: 200\n",
      "Total Employees: 2\n"
     ]
    }
   ],
   "source": [
    "emp2.displayEmployee()\n",
    "emp2.displayCount()"
   ]
  },
  {
   "cell_type": "code",
   "execution_count": 94,
   "metadata": {
    "colab": {
     "base_uri": "https://localhost:8080/",
     "height": 153
    },
    "colab_type": "code",
    "executionInfo": {
     "elapsed": 595,
     "status": "ok",
     "timestamp": 1557348039078,
     "user": {
      "displayName": "George Perakis",
      "photoUrl": "https://lh6.googleusercontent.com/-z8wE9GEJtS0/AAAAAAAAAAI/AAAAAAAAHyQ/ATH_dJrCwok/s64/photo.jpg",
      "userId": "05726012581152193594"
     },
     "user_tz": -180
    },
    "id": "EU4dSrhTxfSD",
    "outputId": "a14ab2fc-0ab7-4352-d08d-da1340c7329c"
   },
   "outputs": [
    {
     "name": "stdout",
     "output_type": "stream",
     "text": [
      "\n",
      "Number: 4\n"
     ]
    }
   ],
   "source": [
    "emp.random_function_that_we_want_to_include_to_the_class(4)"
   ]
  },
  {
   "cell_type": "code",
   "execution_count": 95,
   "metadata": {
    "colab": {
     "base_uri": "https://localhost:8080/",
     "height": 153
    },
    "colab_type": "code",
    "executionInfo": {
     "elapsed": 595,
     "status": "ok",
     "timestamp": 1557348039078,
     "user": {
      "displayName": "George Perakis",
      "photoUrl": "https://lh6.googleusercontent.com/-z8wE9GEJtS0/AAAAAAAAAAI/AAAAAAAAHyQ/ATH_dJrCwok/s64/photo.jpg",
      "userId": "05726012581152193594"
     },
     "user_tz": -180
    },
    "id": "EU4dSrhTxfSD",
    "outputId": "a14ab2fc-0ab7-4352-d08d-da1340c7329c"
   },
   "outputs": [
    {
     "data": {
      "text/plain": [
       "\"Class method called <class '__main__.Employee'>\""
      ]
     },
     "execution_count": 95,
     "metadata": {},
     "output_type": "execute_result"
    }
   ],
   "source": [
    "emp.classmethod()"
   ]
  },
  {
   "cell_type": "markdown",
   "metadata": {},
   "source": [
    "![url](https://media2.giphy.com/media/jygajwtCHYbgkCHofs/giphy.gif?cid=790b76115cd40df139786f626f7bea20&rid=giphy.gif \"url\")"
   ]
  }
 ],
 "metadata": {
  "colab": {
   "collapsed_sections": [],
   "name": "Python101.ipynb",
   "provenance": [],
   "version": "0.3.2"
  },
  "kernelspec": {
   "display_name": "Python 3",
   "language": "python",
   "name": "python3"
  },
  "language_info": {
   "codemirror_mode": {
    "name": "ipython",
    "version": 3
   },
   "file_extension": ".py",
   "mimetype": "text/x-python",
   "name": "python",
   "nbconvert_exporter": "python",
   "pygments_lexer": "ipython3",
   "version": "3.7.3"
  }
 },
 "nbformat": 4,
 "nbformat_minor": 1
}
