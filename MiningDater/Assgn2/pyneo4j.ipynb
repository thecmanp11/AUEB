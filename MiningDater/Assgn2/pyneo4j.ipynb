{
 "cells": [
  {
   "cell_type": "code",
   "execution_count": 2,
   "metadata": {},
   "outputs": [],
   "source": [
    "import pandas as pd\n",
    "from neo4j import GraphDatabase\n",
    "# from py2neo import Graph\n",
    "# graph = Graph()"
   ]
  },
  {
   "cell_type": "code",
   "execution_count": 8,
   "metadata": {},
   "outputs": [],
   "source": [
    "uri = \"neo4j://localhost:7687\"\n",
    "conn = GraphDatabase.driver(uri, auth=(\"neo4j\", \"Ass2DB\"), max_connection_lifetime=1000)"
   ]
  },
  {
   "cell_type": "code",
   "execution_count": null,
   "metadata": {},
   "outputs": [],
   "source": []
  },
  {
   "cell_type": "markdown",
   "metadata": {},
   "source": [
    "### examples"
   ]
  },
  {
   "cell_type": "code",
   "execution_count": 9,
   "metadata": {},
   "outputs": [],
   "source": [
    "# CQL to create a graph containing some of the Ivy League universities\n",
    "cqlCreate = \"CREATE (cornell:university { name: 'Cornell University'})\"\n",
    "\n",
    "#CQL to query all the universities present in the graph\n",
    "cqlNodeQuery = \"MATCH (x:university) RETURN x\""
   ]
  },
  {
   "cell_type": "code",
   "execution_count": 10,
   "metadata": {},
   "outputs": [],
   "source": [
    "# Execute the CQL query\n",
    "with conn.session() as graphDB_Session:\n",
    "\n",
    "    # Create nodes\n",
    "\n",
    "    graphDB_Session.run(cqlCreate)"
   ]
  },
  {
   "cell_type": "code",
   "execution_count": 11,
   "metadata": {},
   "outputs": [
    {
     "name": "stdout",
     "output_type": "stream",
     "text": [
      "List of Ivy League universities present in the graph:\n",
      "<Record x=<Node id=0 labels=frozenset({'university'}) properties={'name': 'Cornell University'}>>\n",
      "<Record x=<Node id=1 labels=frozenset({'university'}) properties={'name': 'Cornell University'}>>\n"
     ]
    }
   ],
   "source": [
    "# Query the graph    \n",
    "with conn.session() as graphDB_Session:\n",
    "    nodes = graphDB_Session.run(cqlNodeQuery)\n",
    "    \n",
    "    print(\"List of Ivy League universities present in the graph:\")\n",
    "\n",
    "    for node in nodes:\n",
    "\n",
    "        print(node)"
   ]
  },
  {
   "cell_type": "code",
   "execution_count": null,
   "metadata": {},
   "outputs": [],
   "source": []
  },
  {
   "cell_type": "markdown",
   "metadata": {},
   "source": [
    "Citations.csv: Contains info about citations between articles (articleId,--[Cites]->,\n",
    "articleId)."
   ]
  },
  {
   "cell_type": "markdown",
   "metadata": {},
   "source": [
    "## Article Nodes"
   ]
  },
  {
   "cell_type": "code",
   "execution_count": 3,
   "metadata": {},
   "outputs": [
    {
     "data": {
      "text/html": [
       "<div>\n",
       "<style scoped>\n",
       "    .dataframe tbody tr th:only-of-type {\n",
       "        vertical-align: middle;\n",
       "    }\n",
       "\n",
       "    .dataframe tbody tr th {\n",
       "        vertical-align: top;\n",
       "    }\n",
       "\n",
       "    .dataframe thead th {\n",
       "        text-align: right;\n",
       "    }\n",
       "</style>\n",
       "<table border=\"1\" class=\"dataframe\">\n",
       "  <thead>\n",
       "    <tr style=\"text-align: right;\">\n",
       "      <th></th>\n",
       "      <th>id</th>\n",
       "      <th>title</th>\n",
       "      <th>year</th>\n",
       "      <th>journal</th>\n",
       "      <th>abstract</th>\n",
       "    </tr>\n",
       "  </thead>\n",
       "  <tbody>\n",
       "    <tr>\n",
       "      <th>0</th>\n",
       "      <td>1001</td>\n",
       "      <td>Compactification  Geometry and Duality: N=2</td>\n",
       "      <td>2000</td>\n",
       "      <td>NaN</td>\n",
       "      <td>These are notes based on lectures given at T...</td>\n",
       "    </tr>\n",
       "    <tr>\n",
       "      <th>1</th>\n",
       "      <td>1002</td>\n",
       "      <td>Domain Walls and Massive Gauged Supergravity P...</td>\n",
       "      <td>2000</td>\n",
       "      <td>Class.Quant.Grav.</td>\n",
       "      <td>We point out that massive gauged supergravit...</td>\n",
       "    </tr>\n",
       "    <tr>\n",
       "      <th>2</th>\n",
       "      <td>1003</td>\n",
       "      <td>Comment on  Metric Fluctuations in Brane Worlds</td>\n",
       "      <td>2000</td>\n",
       "      <td>NaN</td>\n",
       "      <td>Recently- Ivanov and Volovich (hep-th/991224...</td>\n",
       "    </tr>\n",
       "    <tr>\n",
       "      <th>3</th>\n",
       "      <td>1004</td>\n",
       "      <td>Moving Mirrors and Thermodynamic Paradoxes</td>\n",
       "      <td>2000</td>\n",
       "      <td>Phys.Rev.</td>\n",
       "      <td>Quantum fields responding to  moving mirrors...</td>\n",
       "    </tr>\n",
       "    <tr>\n",
       "      <th>4</th>\n",
       "      <td>1005</td>\n",
       "      <td>Bundles of chiral blocks and boundary conditio...</td>\n",
       "      <td>2000</td>\n",
       "      <td>NaN</td>\n",
       "      <td>Various aspects of spaces of chiral blocks a...</td>\n",
       "    </tr>\n",
       "  </tbody>\n",
       "</table>\n",
       "</div>"
      ],
      "text/plain": [
       "     id                                              title  year  \\\n",
       "0  1001        Compactification  Geometry and Duality: N=2  2000   \n",
       "1  1002  Domain Walls and Massive Gauged Supergravity P...  2000   \n",
       "2  1003   Comment on  Metric Fluctuations in Brane Worlds   2000   \n",
       "3  1004         Moving Mirrors and Thermodynamic Paradoxes  2000   \n",
       "4  1005  Bundles of chiral blocks and boundary conditio...  2000   \n",
       "\n",
       "             journal                                           abstract  \n",
       "0                NaN    These are notes based on lectures given at T...  \n",
       "1  Class.Quant.Grav.    We point out that massive gauged supergravit...  \n",
       "2                NaN    Recently- Ivanov and Volovich (hep-th/991224...  \n",
       "3          Phys.Rev.    Quantum fields responding to  moving mirrors...  \n",
       "4                NaN    Various aspects of spaces of chiral blocks a...  "
      ]
     },
     "execution_count": 3,
     "metadata": {},
     "output_type": "execute_result"
    }
   ],
   "source": [
    "art = pd.read_csv('Citation Dataset\\\\ArticleNodes.csv', header=None)\n",
    "art.columns = ['id','title','year','journal','abstract']\n",
    "art.head() # 29555"
   ]
  },
  {
   "cell_type": "markdown",
   "metadata": {},
   "source": [
    "## Author Attributes"
   ]
  },
  {
   "cell_type": "code",
   "execution_count": 4,
   "metadata": {},
   "outputs": [
    {
     "data": {
      "text/html": [
       "<div>\n",
       "<style scoped>\n",
       "    .dataframe tbody tr th:only-of-type {\n",
       "        vertical-align: middle;\n",
       "    }\n",
       "\n",
       "    .dataframe tbody tr th {\n",
       "        vertical-align: top;\n",
       "    }\n",
       "\n",
       "    .dataframe thead th {\n",
       "        text-align: right;\n",
       "    }\n",
       "</style>\n",
       "<table border=\"1\" class=\"dataframe\">\n",
       "  <thead>\n",
       "    <tr style=\"text-align: right;\">\n",
       "      <th></th>\n",
       "      <th>id</th>\n",
       "      <th>author</th>\n",
       "    </tr>\n",
       "  </thead>\n",
       "  <tbody>\n",
       "    <tr>\n",
       "      <th>0</th>\n",
       "      <td>1001</td>\n",
       "      <td>Paul S. Aspinwall</td>\n",
       "    </tr>\n",
       "    <tr>\n",
       "      <th>1</th>\n",
       "      <td>1002</td>\n",
       "      <td>C.N. Pope</td>\n",
       "    </tr>\n",
       "    <tr>\n",
       "      <th>2</th>\n",
       "      <td>1002</td>\n",
       "      <td>M. Cvetic</td>\n",
       "    </tr>\n",
       "    <tr>\n",
       "      <th>3</th>\n",
       "      <td>1002</td>\n",
       "      <td>H. Lu</td>\n",
       "    </tr>\n",
       "    <tr>\n",
       "      <th>4</th>\n",
       "      <td>1003</td>\n",
       "      <td>Y.S. Myung</td>\n",
       "    </tr>\n",
       "  </tbody>\n",
       "</table>\n",
       "</div>"
      ],
      "text/plain": [
       "     id             author\n",
       "0  1001  Paul S. Aspinwall\n",
       "1  1002          C.N. Pope\n",
       "2  1002          M. Cvetic\n",
       "3  1002              H. Lu\n",
       "4  1003         Y.S. Myung"
      ]
     },
     "execution_count": 4,
     "metadata": {},
     "output_type": "execute_result"
    }
   ],
   "source": [
    "aut = pd.read_csv('Citation Dataset\\\\AuthorNodes.csv', header=None)\n",
    "aut.columns = ['id','author']\n",
    "#aut = aut.groupby('id')['author'].apply(list).reset_index(name='authors') # 29554\n",
    "aut.head() "
   ]
  },
  {
   "cell_type": "markdown",
   "metadata": {},
   "source": [
    "# Nodes\n",
    "https://pythontic.com/database/neo4j/create%20nodes%20and%20relationships"
   ]
  },
  {
   "cell_type": "code",
   "execution_count": 5,
   "metadata": {},
   "outputs": [
    {
     "data": {
      "text/html": [
       "<div>\n",
       "<style scoped>\n",
       "    .dataframe tbody tr th:only-of-type {\n",
       "        vertical-align: middle;\n",
       "    }\n",
       "\n",
       "    .dataframe tbody tr th {\n",
       "        vertical-align: top;\n",
       "    }\n",
       "\n",
       "    .dataframe thead th {\n",
       "        text-align: right;\n",
       "    }\n",
       "</style>\n",
       "<table border=\"1\" class=\"dataframe\">\n",
       "  <thead>\n",
       "    <tr style=\"text-align: right;\">\n",
       "      <th></th>\n",
       "      <th>id</th>\n",
       "      <th>author</th>\n",
       "      <th>title</th>\n",
       "      <th>year</th>\n",
       "      <th>journal</th>\n",
       "      <th>abstract</th>\n",
       "    </tr>\n",
       "  </thead>\n",
       "  <tbody>\n",
       "    <tr>\n",
       "      <th>0</th>\n",
       "      <td>1001</td>\n",
       "      <td>Paul S. Aspinwall</td>\n",
       "      <td>Compactification  Geometry and Duality: N=2</td>\n",
       "      <td>2000</td>\n",
       "      <td>NaN</td>\n",
       "      <td>These are notes based on lectures given at T...</td>\n",
       "    </tr>\n",
       "    <tr>\n",
       "      <th>1</th>\n",
       "      <td>1002</td>\n",
       "      <td>C.N. Pope</td>\n",
       "      <td>Domain Walls and Massive Gauged Supergravity P...</td>\n",
       "      <td>2000</td>\n",
       "      <td>Class.Quant.Grav.</td>\n",
       "      <td>We point out that massive gauged supergravit...</td>\n",
       "    </tr>\n",
       "    <tr>\n",
       "      <th>2</th>\n",
       "      <td>1002</td>\n",
       "      <td>M. Cvetic</td>\n",
       "      <td>Domain Walls and Massive Gauged Supergravity P...</td>\n",
       "      <td>2000</td>\n",
       "      <td>Class.Quant.Grav.</td>\n",
       "      <td>We point out that massive gauged supergravit...</td>\n",
       "    </tr>\n",
       "    <tr>\n",
       "      <th>3</th>\n",
       "      <td>1002</td>\n",
       "      <td>H. Lu</td>\n",
       "      <td>Domain Walls and Massive Gauged Supergravity P...</td>\n",
       "      <td>2000</td>\n",
       "      <td>Class.Quant.Grav.</td>\n",
       "      <td>We point out that massive gauged supergravit...</td>\n",
       "    </tr>\n",
       "    <tr>\n",
       "      <th>4</th>\n",
       "      <td>1003</td>\n",
       "      <td>Y.S. Myung</td>\n",
       "      <td>Comment on  Metric Fluctuations in Brane Worlds</td>\n",
       "      <td>2000</td>\n",
       "      <td>NaN</td>\n",
       "      <td>Recently- Ivanov and Volovich (hep-th/991224...</td>\n",
       "    </tr>\n",
       "    <tr>\n",
       "      <th>...</th>\n",
       "      <td>...</td>\n",
       "      <td>...</td>\n",
       "      <td>...</td>\n",
       "      <td>...</td>\n",
       "      <td>...</td>\n",
       "      <td>...</td>\n",
       "    </tr>\n",
       "    <tr>\n",
       "      <th>95</th>\n",
       "      <td>1052</td>\n",
       "      <td>J.J.Rosales</td>\n",
       "      <td>On the Schrodinger Equation for the Minisupers...</td>\n",
       "      <td>2000</td>\n",
       "      <td>NaN</td>\n",
       "      <td>We obtain a time-dependent Schrodinger equat...</td>\n",
       "    </tr>\n",
       "    <tr>\n",
       "      <th>96</th>\n",
       "      <td>1052</td>\n",
       "      <td>V.I.Tkach</td>\n",
       "      <td>On the Schrodinger Equation for the Minisupers...</td>\n",
       "      <td>2000</td>\n",
       "      <td>NaN</td>\n",
       "      <td>We obtain a time-dependent Schrodinger equat...</td>\n",
       "    </tr>\n",
       "    <tr>\n",
       "      <th>97</th>\n",
       "      <td>1052</td>\n",
       "      <td>A.Pashnev</td>\n",
       "      <td>On the Schrodinger Equation for the Minisupers...</td>\n",
       "      <td>2000</td>\n",
       "      <td>NaN</td>\n",
       "      <td>We obtain a time-dependent Schrodinger equat...</td>\n",
       "    </tr>\n",
       "    <tr>\n",
       "      <th>98</th>\n",
       "      <td>1053</td>\n",
       "      <td>Juan Maldacena</td>\n",
       "      <td>Strings in AdS_3 and the SL(2 R) WZW Model. Pa...</td>\n",
       "      <td>2000</td>\n",
       "      <td>J.Math.Phys.</td>\n",
       "      <td>In this paper we study the spectrum of boson...</td>\n",
       "    </tr>\n",
       "    <tr>\n",
       "      <th>99</th>\n",
       "      <td>1053</td>\n",
       "      <td>Hirosi Ooguri</td>\n",
       "      <td>Strings in AdS_3 and the SL(2 R) WZW Model. Pa...</td>\n",
       "      <td>2000</td>\n",
       "      <td>J.Math.Phys.</td>\n",
       "      <td>In this paper we study the spectrum of boson...</td>\n",
       "    </tr>\n",
       "  </tbody>\n",
       "</table>\n",
       "<p>100 rows × 6 columns</p>\n",
       "</div>"
      ],
      "text/plain": [
       "      id             author  \\\n",
       "0   1001  Paul S. Aspinwall   \n",
       "1   1002          C.N. Pope   \n",
       "2   1002          M. Cvetic   \n",
       "3   1002              H. Lu   \n",
       "4   1003         Y.S. Myung   \n",
       "..   ...                ...   \n",
       "95  1052        J.J.Rosales   \n",
       "96  1052          V.I.Tkach   \n",
       "97  1052          A.Pashnev   \n",
       "98  1053     Juan Maldacena   \n",
       "99  1053      Hirosi Ooguri   \n",
       "\n",
       "                                                title  year  \\\n",
       "0         Compactification  Geometry and Duality: N=2  2000   \n",
       "1   Domain Walls and Massive Gauged Supergravity P...  2000   \n",
       "2   Domain Walls and Massive Gauged Supergravity P...  2000   \n",
       "3   Domain Walls and Massive Gauged Supergravity P...  2000   \n",
       "4    Comment on  Metric Fluctuations in Brane Worlds   2000   \n",
       "..                                                ...   ...   \n",
       "95  On the Schrodinger Equation for the Minisupers...  2000   \n",
       "96  On the Schrodinger Equation for the Minisupers...  2000   \n",
       "97  On the Schrodinger Equation for the Minisupers...  2000   \n",
       "98  Strings in AdS_3 and the SL(2 R) WZW Model. Pa...  2000   \n",
       "99  Strings in AdS_3 and the SL(2 R) WZW Model. Pa...  2000   \n",
       "\n",
       "              journal                                           abstract  \n",
       "0                 NaN    These are notes based on lectures given at T...  \n",
       "1   Class.Quant.Grav.    We point out that massive gauged supergravit...  \n",
       "2   Class.Quant.Grav.    We point out that massive gauged supergravit...  \n",
       "3   Class.Quant.Grav.    We point out that massive gauged supergravit...  \n",
       "4                 NaN    Recently- Ivanov and Volovich (hep-th/991224...  \n",
       "..                ...                                                ...  \n",
       "95                NaN    We obtain a time-dependent Schrodinger equat...  \n",
       "96                NaN    We obtain a time-dependent Schrodinger equat...  \n",
       "97                NaN    We obtain a time-dependent Schrodinger equat...  \n",
       "98       J.Math.Phys.    In this paper we study the spectrum of boson...  \n",
       "99       J.Math.Phys.    In this paper we study the spectrum of boson...  \n",
       "\n",
       "[100 rows x 6 columns]"
      ]
     },
     "execution_count": 5,
     "metadata": {},
     "output_type": "execute_result"
    }
   ],
   "source": [
    "nodes = aut.merge(art, how='left', on='id')\n",
    "nodes = nodes[:100]\n",
    "nodes"
   ]
  },
  {
   "cell_type": "code",
   "execution_count": 6,
   "metadata": {},
   "outputs": [
    {
     "data": {
      "text/plain": [
       "['Paul S. Aspinwall']"
      ]
     },
     "execution_count": 6,
     "metadata": {},
     "output_type": "execute_result"
    }
   ],
   "source": [
    "authlist = []\n",
    "for a in nodes['authors'][0]:\n",
    "    authlist.append(a)\n",
    "authlist"
   ]
  },
  {
   "cell_type": "markdown",
   "metadata": {},
   "source": [
    "### DAter"
   ]
  },
  {
   "cell_type": "code",
   "execution_count": 16,
   "metadata": {},
   "outputs": [
    {
     "data": {
      "text/plain": [
       "'CREATE (1001:ID {title: \"Compactification  Geometry and Duality: N=2\", year: 2000, journal: \"nan\"})'"
      ]
     },
     "execution_count": 16,
     "metadata": {},
     "output_type": "execute_result"
    }
   ],
   "source": [
    "# \"CREATE (cornell:university { name: 'Cornell University'})\"\n",
    "cqlCreate = \"CREATE ({}:ID\".format(nodes['id'][0]) + \" {\" + \"title: \"'\"{}\"'\", year: {}, journal: \"'\"{}\"'\"\".format(str(nodes['title'][0]), nodes['year'][0], str(nodes['journal'][0]) ) + \"})\"\n",
    "    #, str(nodes['abstract'][0]), authlist) + \"})\"    # , abstract: \"'\"{}\"'\", authors: {} # up top\n",
    "cqlCreate"
   ]
  },
  {
   "cell_type": "code",
   "execution_count": 8,
   "metadata": {},
   "outputs": [
    {
     "name": "stderr",
     "output_type": "stream",
     "text": [
      "Unable to retrieve routing information\n"
     ]
    },
    {
     "ename": "ServiceUnavailable",
     "evalue": "Unable to retrieve routing information",
     "output_type": "error",
     "traceback": [
      "\u001b[1;31m---------------------------------------------------------------------------\u001b[0m",
      "\u001b[1;31mServiceUnavailable\u001b[0m                        Traceback (most recent call last)",
      "\u001b[1;32m<ipython-input-8-4152eb2bd22d>\u001b[0m in \u001b[0;36m<module>\u001b[1;34m()\u001b[0m\n\u001b[0;32m      5\u001b[0m     \u001b[1;31m# Create nodes\u001b[0m\u001b[1;33m\u001b[0m\u001b[1;33m\u001b[0m\u001b[0m\n\u001b[0;32m      6\u001b[0m \u001b[1;33m\u001b[0m\u001b[0m\n\u001b[1;32m----> 7\u001b[1;33m     \u001b[0mgraphDB_Session\u001b[0m\u001b[1;33m.\u001b[0m\u001b[0mrun\u001b[0m\u001b[1;33m(\u001b[0m\u001b[0mcqlCreate\u001b[0m\u001b[1;33m)\u001b[0m\u001b[1;33m\u001b[0m\u001b[0m\n\u001b[0m",
      "\u001b[1;32m~\\Anaconda3\\lib\\site-packages\\neo4j\\work\\simple.py\u001b[0m in \u001b[0;36mrun\u001b[1;34m(self, query, parameters, **kwparameters)\u001b[0m\n\u001b[0;32m    219\u001b[0m \u001b[1;33m\u001b[0m\u001b[0m\n\u001b[0;32m    220\u001b[0m         \u001b[1;32mif\u001b[0m \u001b[1;32mnot\u001b[0m \u001b[0mself\u001b[0m\u001b[1;33m.\u001b[0m\u001b[0m_connection\u001b[0m\u001b[1;33m:\u001b[0m\u001b[1;33m\u001b[0m\u001b[0m\n\u001b[1;32m--> 221\u001b[1;33m             \u001b[0mself\u001b[0m\u001b[1;33m.\u001b[0m\u001b[0m_connect\u001b[0m\u001b[1;33m(\u001b[0m\u001b[0mself\u001b[0m\u001b[1;33m.\u001b[0m\u001b[0m_config\u001b[0m\u001b[1;33m.\u001b[0m\u001b[0mdefault_access_mode\u001b[0m\u001b[1;33m,\u001b[0m \u001b[0mdatabase\u001b[0m\u001b[1;33m=\u001b[0m\u001b[0mself\u001b[0m\u001b[1;33m.\u001b[0m\u001b[0m_config\u001b[0m\u001b[1;33m.\u001b[0m\u001b[0mdatabase\u001b[0m\u001b[1;33m)\u001b[0m\u001b[1;33m\u001b[0m\u001b[0m\n\u001b[0m\u001b[0;32m    222\u001b[0m         \u001b[0mcx\u001b[0m \u001b[1;33m=\u001b[0m \u001b[0mself\u001b[0m\u001b[1;33m.\u001b[0m\u001b[0m_connection\u001b[0m\u001b[1;33m\u001b[0m\u001b[0m\n\u001b[0;32m    223\u001b[0m         \u001b[0mprotocol_version\u001b[0m \u001b[1;33m=\u001b[0m \u001b[0mcx\u001b[0m\u001b[1;33m.\u001b[0m\u001b[0mPROTOCOL_VERSION\u001b[0m\u001b[1;33m\u001b[0m\u001b[0m\n",
      "\u001b[1;32m~\\Anaconda3\\lib\\site-packages\\neo4j\\work\\simple.py\u001b[0m in \u001b[0;36m_connect\u001b[1;34m(self, access_mode, database)\u001b[0m\n\u001b[0;32m    120\u001b[0m             \u001b[0mtimeout\u001b[0m\u001b[1;33m=\u001b[0m\u001b[0mself\u001b[0m\u001b[1;33m.\u001b[0m\u001b[0m_config\u001b[0m\u001b[1;33m.\u001b[0m\u001b[0mconnection_acquisition_timeout\u001b[0m\u001b[1;33m,\u001b[0m\u001b[1;33m\u001b[0m\u001b[0m\n\u001b[0;32m    121\u001b[0m             \u001b[0mdatabase\u001b[0m\u001b[1;33m=\u001b[0m\u001b[0mdatabase\u001b[0m\u001b[1;33m,\u001b[0m\u001b[1;33m\u001b[0m\u001b[0m\n\u001b[1;32m--> 122\u001b[1;33m             \u001b[0mbookmarks\u001b[0m\u001b[1;33m=\u001b[0m\u001b[0mself\u001b[0m\u001b[1;33m.\u001b[0m\u001b[0m_bookmarks\u001b[0m\u001b[1;33m\u001b[0m\u001b[0m\n\u001b[0m\u001b[0;32m    123\u001b[0m         )\n\u001b[0;32m    124\u001b[0m \u001b[1;33m\u001b[0m\u001b[0m\n",
      "\u001b[1;32m~\\Anaconda3\\lib\\site-packages\\neo4j\\io\\__init__.py\u001b[0m in \u001b[0;36macquire\u001b[1;34m(self, access_mode, timeout, database, bookmarks)\u001b[0m\n\u001b[0;32m   1116\u001b[0m                 address = self._select_address(\n\u001b[0;32m   1117\u001b[0m                     \u001b[0maccess_mode\u001b[0m\u001b[1;33m=\u001b[0m\u001b[0maccess_mode\u001b[0m\u001b[1;33m,\u001b[0m \u001b[0mdatabase\u001b[0m\u001b[1;33m=\u001b[0m\u001b[0mdatabase\u001b[0m\u001b[1;33m,\u001b[0m\u001b[1;33m\u001b[0m\u001b[0m\n\u001b[1;32m-> 1118\u001b[1;33m                     \u001b[0mbookmarks\u001b[0m\u001b[1;33m=\u001b[0m\u001b[0mbookmarks\u001b[0m\u001b[1;33m\u001b[0m\u001b[0m\n\u001b[0m\u001b[0;32m   1119\u001b[0m                 )\n\u001b[0;32m   1120\u001b[0m                 \u001b[0mlog\u001b[0m\u001b[1;33m.\u001b[0m\u001b[0mdebug\u001b[0m\u001b[1;33m(\u001b[0m\u001b[1;34m\"[#0000]  C: <ACQUIRE ADDRESS> database=%r address=%r\"\u001b[0m\u001b[1;33m,\u001b[0m \u001b[0mdatabase\u001b[0m\u001b[1;33m,\u001b[0m \u001b[0maddress\u001b[0m\u001b[1;33m)\u001b[0m\u001b[1;33m\u001b[0m\u001b[0m\n",
      "\u001b[1;32m~\\Anaconda3\\lib\\site-packages\\neo4j\\io\\__init__.py\u001b[0m in \u001b[0;36m_select_address\u001b[1;34m(self, access_mode, database, bookmarks)\u001b[0m\n\u001b[0;32m   1085\u001b[0m         \u001b[0mself\u001b[0m\u001b[1;33m.\u001b[0m\u001b[0mcreate_routing_table\u001b[0m\u001b[1;33m(\u001b[0m\u001b[0mdatabase\u001b[0m\u001b[1;33m)\u001b[0m\u001b[1;33m\u001b[0m\u001b[0m\n\u001b[0;32m   1086\u001b[0m         self.ensure_routing_table_is_fresh(\n\u001b[1;32m-> 1087\u001b[1;33m             \u001b[0maccess_mode\u001b[0m\u001b[1;33m=\u001b[0m\u001b[0maccess_mode\u001b[0m\u001b[1;33m,\u001b[0m \u001b[0mdatabase\u001b[0m\u001b[1;33m=\u001b[0m\u001b[0mdatabase\u001b[0m\u001b[1;33m,\u001b[0m \u001b[0mbookmarks\u001b[0m\u001b[1;33m=\u001b[0m\u001b[0mbookmarks\u001b[0m\u001b[1;33m\u001b[0m\u001b[0m\n\u001b[0m\u001b[0;32m   1088\u001b[0m         )\n\u001b[0;32m   1089\u001b[0m         \u001b[0mlog\u001b[0m\u001b[1;33m.\u001b[0m\u001b[0mdebug\u001b[0m\u001b[1;33m(\u001b[0m\u001b[1;34m\"[#0000]  C: <ROUTING TABLE ENSURE FRESH> %r\"\u001b[0m\u001b[1;33m,\u001b[0m \u001b[0mself\u001b[0m\u001b[1;33m.\u001b[0m\u001b[0mrouting_tables\u001b[0m\u001b[1;33m)\u001b[0m\u001b[1;33m\u001b[0m\u001b[0m\n",
      "\u001b[1;32m~\\Anaconda3\\lib\\site-packages\\neo4j\\io\\__init__.py\u001b[0m in \u001b[0;36mensure_routing_table_is_fresh\u001b[1;34m(self, access_mode, database, bookmarks)\u001b[0m\n\u001b[0;32m   1067\u001b[0m         \u001b[1;32mwith\u001b[0m \u001b[0mself\u001b[0m\u001b[1;33m.\u001b[0m\u001b[0mrefresh_lock\u001b[0m\u001b[1;33m:\u001b[0m\u001b[1;33m\u001b[0m\u001b[0m\n\u001b[0;32m   1068\u001b[0m \u001b[1;33m\u001b[0m\u001b[0m\n\u001b[1;32m-> 1069\u001b[1;33m             \u001b[0mself\u001b[0m\u001b[1;33m.\u001b[0m\u001b[0mupdate_routing_table\u001b[0m\u001b[1;33m(\u001b[0m\u001b[0mdatabase\u001b[0m\u001b[1;33m=\u001b[0m\u001b[0mdatabase\u001b[0m\u001b[1;33m,\u001b[0m \u001b[0mbookmarks\u001b[0m\u001b[1;33m=\u001b[0m\u001b[0mbookmarks\u001b[0m\u001b[1;33m)\u001b[0m\u001b[1;33m\u001b[0m\u001b[0m\n\u001b[0m\u001b[0;32m   1070\u001b[0m             \u001b[0mself\u001b[0m\u001b[1;33m.\u001b[0m\u001b[0mupdate_connection_pool\u001b[0m\u001b[1;33m(\u001b[0m\u001b[0mdatabase\u001b[0m\u001b[1;33m=\u001b[0m\u001b[0mdatabase\u001b[0m\u001b[1;33m)\u001b[0m\u001b[1;33m\u001b[0m\u001b[0m\n\u001b[0;32m   1071\u001b[0m \u001b[1;33m\u001b[0m\u001b[0m\n",
      "\u001b[1;32m~\\Anaconda3\\lib\\site-packages\\neo4j\\io\\__init__.py\u001b[0m in \u001b[0;36mupdate_routing_table\u001b[1;34m(self, database, bookmarks)\u001b[0m\n\u001b[0;32m   1039\u001b[0m         \u001b[1;31m# None of the routers have been successful, so just fail\u001b[0m\u001b[1;33m\u001b[0m\u001b[1;33m\u001b[0m\u001b[0m\n\u001b[0;32m   1040\u001b[0m         \u001b[0mlog\u001b[0m\u001b[1;33m.\u001b[0m\u001b[0merror\u001b[0m\u001b[1;33m(\u001b[0m\u001b[1;34m\"Unable to retrieve routing information\"\u001b[0m\u001b[1;33m)\u001b[0m\u001b[1;33m\u001b[0m\u001b[0m\n\u001b[1;32m-> 1041\u001b[1;33m         \u001b[1;32mraise\u001b[0m \u001b[0mServiceUnavailable\u001b[0m\u001b[1;33m(\u001b[0m\u001b[1;34m\"Unable to retrieve routing information\"\u001b[0m\u001b[1;33m)\u001b[0m\u001b[1;33m\u001b[0m\u001b[0m\n\u001b[0m\u001b[0;32m   1042\u001b[0m \u001b[1;33m\u001b[0m\u001b[0m\n\u001b[0;32m   1043\u001b[0m     \u001b[1;32mdef\u001b[0m \u001b[0mupdate_connection_pool\u001b[0m\u001b[1;33m(\u001b[0m\u001b[0mself\u001b[0m\u001b[1;33m,\u001b[0m \u001b[1;33m*\u001b[0m\u001b[1;33m,\u001b[0m \u001b[0mdatabase\u001b[0m\u001b[1;33m)\u001b[0m\u001b[1;33m:\u001b[0m\u001b[1;33m\u001b[0m\u001b[0m\n",
      "\u001b[1;31mServiceUnavailable\u001b[0m: Unable to retrieve routing information"
     ]
    }
   ],
   "source": [
    "# Execute the CQL query\n",
    "\n",
    "with conn.session() as graphDB_Session:\n",
    "\n",
    "    # Create nodes\n",
    "\n",
    "    graphDB_Session.run(cqlCreate)"
   ]
  },
  {
   "cell_type": "code",
   "execution_count": 16,
   "metadata": {},
   "outputs": [
    {
     "ename": "KeyError",
     "evalue": "'title'",
     "output_type": "error",
     "traceback": [
      "\u001b[1;31m---------------------------------------------------------------------------\u001b[0m",
      "\u001b[1;31mKeyError\u001b[0m                                  Traceback (most recent call last)",
      "\u001b[1;32m<ipython-input-16-b01130b4ca2e>\u001b[0m in \u001b[0;36m<module>\u001b[1;34m()\u001b[0m\n\u001b[0;32m      4\u001b[0m cqlCreate = 'CREATE ({}:ID {title: {}, year: {}, journal: {}, abstract: {}, authors: {}  })'.format(\n\u001b[0;32m      5\u001b[0m     \u001b[0mnodes\u001b[0m\u001b[1;33m[\u001b[0m\u001b[1;34m'id'\u001b[0m\u001b[1;33m]\u001b[0m\u001b[1;33m[\u001b[0m\u001b[1;36m0\u001b[0m\u001b[1;33m]\u001b[0m\u001b[1;33m,\u001b[0m \u001b[0mstr\u001b[0m\u001b[1;33m(\u001b[0m\u001b[0mnodes\u001b[0m\u001b[1;33m[\u001b[0m\u001b[1;34m'title'\u001b[0m\u001b[1;33m]\u001b[0m\u001b[1;33m[\u001b[0m\u001b[1;36m0\u001b[0m\u001b[1;33m]\u001b[0m\u001b[1;33m)\u001b[0m\u001b[1;33m,\u001b[0m \u001b[0mnodes\u001b[0m\u001b[1;33m[\u001b[0m\u001b[1;34m'year'\u001b[0m\u001b[1;33m]\u001b[0m\u001b[1;33m[\u001b[0m\u001b[1;36m0\u001b[0m\u001b[1;33m]\u001b[0m\u001b[1;33m,\u001b[0m \u001b[0mstr\u001b[0m\u001b[1;33m(\u001b[0m\u001b[0mnodes\u001b[0m\u001b[1;33m[\u001b[0m\u001b[1;34m'journal'\u001b[0m\u001b[1;33m]\u001b[0m\u001b[1;33m[\u001b[0m\u001b[1;36m0\u001b[0m\u001b[1;33m]\u001b[0m\u001b[1;33m)\u001b[0m\u001b[1;33m,\u001b[0m\u001b[1;33m\u001b[0m\u001b[0m\n\u001b[1;32m----> 6\u001b[1;33m     str(nodes['abstract'][0]), nodes['authors'][0] )\n\u001b[0m\u001b[0;32m      7\u001b[0m \u001b[0mcqlCreate\u001b[0m\u001b[1;33m\u001b[0m\u001b[0m\n",
      "\u001b[1;31mKeyError\u001b[0m: 'title'"
     ]
    }
   ],
   "source": [
    "# CQL to create a graph containing some of the Ivy League universities\n",
    "#CREATE (n:Person {name: 'Andy', title: 'Developer'})\n",
    "\n",
    "cqlCreate = 'CREATE ({}:ID {title: {}, year: {}, journal: {}, abstract: {}, authors: {}  })'.format(\n",
    "    nodes['id'][0], str(nodes['title'][0]), nodes['year'][0], str(nodes['journal'][0]), \n",
    "    str(nodes['abstract'][0]), nodes['authors'][0] )\n",
    "cqlCreate"
   ]
  },
  {
   "cell_type": "code",
   "execution_count": null,
   "metadata": {},
   "outputs": [],
   "source": []
  },
  {
   "cell_type": "code",
   "execution_count": null,
   "metadata": {},
   "outputs": [],
   "source": [
    " \n",
    "\n",
    "(cornell)-[:connects_in {miles: 259}]->(yale),\n",
    "\n",
    "(cornell)-[:connects_in {miles: 210}]->(princeton),\n",
    "\n",
    "(cornell)-[:connects_in {miles: 327}]->(harvard),\n",
    "\n",
    " \n",
    "\n",
    "(yale)-[:connects_in {miles: 259}]->(cornell),\n",
    "\n",
    "(yale)-[:connects_in {miles: 133}]->(princeton),\n",
    "\n",
    "(yale)-[:connects_in {miles: 133}]->(harvard),\n",
    "\n",
    " \n",
    "\n",
    "(harvard)-[:connects_in {miles: 327}]->(cornell),\n",
    "\n",
    "(harvard)-[:connects_in {miles: 133}]->(yale),\n",
    "\n",
    "(harvard)-[:connects_in {miles: 260}]->(princeton),\n",
    "\n",
    " \n",
    "\n",
    "(princeton)-[:connects_in {miles: 210}]->(cornell),\n",
    "\n",
    "(princeton)-[:connects_in {miles: 133}]->(yale),\n",
    "\n",
    "(princeton)-[:connects_in {miles: 260}]->(harvard)"
   ]
  },
  {
   "cell_type": "code",
   "execution_count": null,
   "metadata": {},
   "outputs": [],
   "source": []
  },
  {
   "cell_type": "code",
   "execution_count": null,
   "metadata": {},
   "outputs": [],
   "source": []
  },
  {
   "cell_type": "code",
   "execution_count": null,
   "metadata": {},
   "outputs": [],
   "source": [
    "graph = Graph()\n",
    "\n",
    "tx = graph.begin()\n",
    "for name in [\"Alice\", \"Bob\", \"Carol\"]:\n",
    "    tx.append(\"CREATE (person:Person name: $name) RETURN person\", name=name)\n",
    "alice, bob, carol = [result.one for result in tx.commit()]"
   ]
  },
  {
   "cell_type": "code",
   "execution_count": 43,
   "metadata": {},
   "outputs": [
    {
     "ename": "AttributeError",
     "evalue": "'Neo4jDriver' object has no attribute 'begin'",
     "output_type": "error",
     "traceback": [
      "\u001b[1;31m---------------------------------------------------------------------------\u001b[0m",
      "\u001b[1;31mAttributeError\u001b[0m                            Traceback (most recent call last)",
      "\u001b[1;32m<ipython-input-43-8db379f79f86>\u001b[0m in \u001b[0;36m<module>\u001b[1;34m()\u001b[0m\n\u001b[1;32m----> 1\u001b[1;33m \u001b[0mtx\u001b[0m \u001b[1;33m=\u001b[0m \u001b[0mconn\u001b[0m\u001b[1;33m.\u001b[0m\u001b[0mbegin\u001b[0m\u001b[1;33m(\u001b[0m\u001b[1;33m)\u001b[0m\u001b[1;33m\u001b[0m\u001b[0m\n\u001b[0m\u001b[0;32m      2\u001b[0m tx.evaluate('''\n\u001b[0;32m      3\u001b[0m \u001b[0mCREATE\u001b[0m \u001b[1;33m(\u001b[0m\u001b[0mn\u001b[0m\u001b[1;33m:\u001b[0m\u001b[0mPerson\u001b[0m \u001b[1;33m{\u001b[0m\u001b[0mname\u001b[0m\u001b[1;33m:\u001b[0m \u001b[1;34m'Andy'\u001b[0m\u001b[1;33m,\u001b[0m \u001b[0mtitle\u001b[0m\u001b[1;33m:\u001b[0m \u001b[1;34m'Developer'\u001b[0m\u001b[1;33m}\u001b[0m\u001b[1;33m)\u001b[0m\u001b[1;33m\u001b[0m\u001b[0m\n\u001b[0;32m      4\u001b[0m ''')\n\u001b[0;32m      5\u001b[0m \u001b[0mtx\u001b[0m\u001b[1;33m.\u001b[0m\u001b[0mcommit\u001b[0m\u001b[1;33m(\u001b[0m\u001b[1;33m)\u001b[0m\u001b[1;33m\u001b[0m\u001b[0m\n",
      "\u001b[1;31mAttributeError\u001b[0m: 'Neo4jDriver' object has no attribute 'begin'"
     ]
    }
   ],
   "source": [
    "tx = conn.begin()\n",
    "tx.evaluate('''\n",
    "CREATE (n:Person {name: 'Andy', title: 'Developer'})\n",
    "''')\n",
    "tx.commit()"
   ]
  },
  {
   "cell_type": "code",
   "execution_count": 32,
   "metadata": {},
   "outputs": [
    {
     "data": {
      "text/html": [
       "<div>\n",
       "<style scoped>\n",
       "    .dataframe tbody tr th:only-of-type {\n",
       "        vertical-align: middle;\n",
       "    }\n",
       "\n",
       "    .dataframe tbody tr th {\n",
       "        vertical-align: top;\n",
       "    }\n",
       "\n",
       "    .dataframe thead th {\n",
       "        text-align: right;\n",
       "    }\n",
       "</style>\n",
       "<table border=\"1\" class=\"dataframe\">\n",
       "  <thead>\n",
       "    <tr style=\"text-align: right;\">\n",
       "      <th></th>\n",
       "      <th>id</th>\n",
       "      <th>authors</th>\n",
       "    </tr>\n",
       "  </thead>\n",
       "  <tbody>\n",
       "    <tr>\n",
       "      <th>0</th>\n",
       "      <td>1001</td>\n",
       "      <td>[Paul S. Aspinwall]</td>\n",
       "    </tr>\n",
       "    <tr>\n",
       "      <th>1</th>\n",
       "      <td>1002</td>\n",
       "      <td>[C.N. Pope, M. Cvetic, H. Lu]</td>\n",
       "    </tr>\n",
       "    <tr>\n",
       "      <th>2</th>\n",
       "      <td>1003</td>\n",
       "      <td>[Y.S. Myung, Gungwon Kang]</td>\n",
       "    </tr>\n",
       "    <tr>\n",
       "      <th>3</th>\n",
       "      <td>1004</td>\n",
       "      <td>[Adam D. Helfer]</td>\n",
       "    </tr>\n",
       "    <tr>\n",
       "      <th>4</th>\n",
       "      <td>1005</td>\n",
       "      <td>[J. Fuchs, C. Schweigert]</td>\n",
       "    </tr>\n",
       "    <tr>\n",
       "      <th>...</th>\n",
       "      <td>...</td>\n",
       "      <td>...</td>\n",
       "    </tr>\n",
       "    <tr>\n",
       "      <th>29549</th>\n",
       "      <td>9912290</td>\n",
       "      <td>[Dirk Kreimer]</td>\n",
       "    </tr>\n",
       "    <tr>\n",
       "      <th>29550</th>\n",
       "      <td>9912291</td>\n",
       "      <td>[S. Nussinov, O. Kenneth]</td>\n",
       "    </tr>\n",
       "    <tr>\n",
       "      <th>29551</th>\n",
       "      <td>9912292</td>\n",
       "      <td>[F.Delduc, E. Ivanov, S. Krivonos]</td>\n",
       "    </tr>\n",
       "    <tr>\n",
       "      <th>29552</th>\n",
       "      <td>9912293</td>\n",
       "      <td>[L. Cornalba]</td>\n",
       "    </tr>\n",
       "    <tr>\n",
       "      <th>29553</th>\n",
       "      <td>9912294</td>\n",
       "      <td>[A. Y. Marko, L. F. Blazhyjevskii]</td>\n",
       "    </tr>\n",
       "  </tbody>\n",
       "</table>\n",
       "<p>29554 rows × 2 columns</p>\n",
       "</div>"
      ],
      "text/plain": [
       "            id                             authors\n",
       "0         1001                 [Paul S. Aspinwall]\n",
       "1         1002       [C.N. Pope, M. Cvetic, H. Lu]\n",
       "2         1003          [Y.S. Myung, Gungwon Kang]\n",
       "3         1004                    [Adam D. Helfer]\n",
       "4         1005           [J. Fuchs, C. Schweigert]\n",
       "...        ...                                 ...\n",
       "29549  9912290                      [Dirk Kreimer]\n",
       "29550  9912291           [S. Nussinov, O. Kenneth]\n",
       "29551  9912292  [F.Delduc, E. Ivanov, S. Krivonos]\n",
       "29552  9912293                       [L. Cornalba]\n",
       "29553  9912294  [A. Y. Marko, L. F. Blazhyjevskii]\n",
       "\n",
       "[29554 rows x 2 columns]"
      ]
     },
     "execution_count": 32,
     "metadata": {},
     "output_type": "execute_result"
    }
   ],
   "source": [
    "for index, row in df.iterrows():\n",
    "    tx = graph.begin()\n",
    "    tx.evaluate('''\n",
    "       MATCH (a:Label1 {property:$label1}), (b:Label2 {property:$label2})\n",
    "       MERGE (a)-[r:R_TYPE{property_name:$p}]->(b)\n",
    "       ''', parameters = {'label1': row['label1'], 'label2': row['label2'], 'p': row['property']})\n",
    "    tx.commit()"
   ]
  },
  {
   "cell_type": "markdown",
   "metadata": {},
   "source": [
    "## Citation Relationships"
   ]
  },
  {
   "cell_type": "code",
   "execution_count": 15,
   "metadata": {},
   "outputs": [
    {
     "data": {
      "text/html": [
       "<div>\n",
       "<style scoped>\n",
       "    .dataframe tbody tr th:only-of-type {\n",
       "        vertical-align: middle;\n",
       "    }\n",
       "\n",
       "    .dataframe tbody tr th {\n",
       "        vertical-align: top;\n",
       "    }\n",
       "\n",
       "    .dataframe thead th {\n",
       "        text-align: right;\n",
       "    }\n",
       "</style>\n",
       "<table border=\"1\" class=\"dataframe\">\n",
       "  <thead>\n",
       "    <tr style=\"text-align: right;\">\n",
       "      <th></th>\n",
       "      <th>id1</th>\n",
       "      <th>id2</th>\n",
       "    </tr>\n",
       "  </thead>\n",
       "  <tbody>\n",
       "    <tr>\n",
       "      <th>0</th>\n",
       "      <td>1001</td>\n",
       "      <td>9304045</td>\n",
       "    </tr>\n",
       "    <tr>\n",
       "      <th>1</th>\n",
       "      <td>1001</td>\n",
       "      <td>9308122</td>\n",
       "    </tr>\n",
       "    <tr>\n",
       "      <th>2</th>\n",
       "      <td>1001</td>\n",
       "      <td>9309097</td>\n",
       "    </tr>\n",
       "    <tr>\n",
       "      <th>3</th>\n",
       "      <td>1001</td>\n",
       "      <td>9311042</td>\n",
       "    </tr>\n",
       "    <tr>\n",
       "      <th>4</th>\n",
       "      <td>1001</td>\n",
       "      <td>9401139</td>\n",
       "    </tr>\n",
       "  </tbody>\n",
       "</table>\n",
       "</div>"
      ],
      "text/plain": [
       "    id1      id2\n",
       "0  1001  9304045\n",
       "1  1001  9308122\n",
       "2  1001  9309097\n",
       "3  1001  9311042\n",
       "4  1001  9401139"
      ]
     },
     "execution_count": 15,
     "metadata": {},
     "output_type": "execute_result"
    }
   ],
   "source": [
    "cit = pd.read_csv('Citation Dataset\\\\Citations.csv', sep = '\\t', header=None)\n",
    "cit.columns = ['id1','id2']\n",
    "cit.head()"
   ]
  },
  {
   "cell_type": "markdown",
   "metadata": {},
   "source": [
    "# Populate the database\n",
    "\n",
    "This is achieved in three steps.  First, we create all constraints guaranteeing the uniqueness of each node.  Second, we create the each of the nodes themselves.  Finally, we create the relationships between all nodes (`:AUTHORED` and `:IN_CATEGORY`). \n",
    "\n",
    "https://colab.research.google.com/drive/1J9__HotNoINHpucoipLH-4qWc48GALAk?usp=sharing#scrollTo=D85NxPXhEkvw"
   ]
  },
  {
   "cell_type": "code",
   "execution_count": null,
   "metadata": {},
   "outputs": [],
   "source": [
    "conn.query('CREATE CONSTRAINT papers IF NOT EXISTS ON (p:Paper) ASSERT p.id IS UNIQUE')\n",
    "conn.query('CREATE CONSTRAINT authors IF NOT EXISTS ON (a:Author) ASSERT a.name IS UNIQUE')\n",
    "conn.query('CREATE CONSTRAINT categories IF NOT EXISTS ON (c:Category) ASSERT c.category IS UNIQUE')"
   ]
  },
  {
   "cell_type": "code",
   "execution_count": 30,
   "metadata": {},
   "outputs": [],
   "source": [
    "def add_article(rows, batch_size=10000):\n",
    "    # Adds author nodes to the Neo4j graph as a batch job.\n",
    "\n",
    "    query = '''UNWIND $rows AS row\n",
    "               MERGE (:Author {name: row.author})\n",
    "               RETURN count(*) as total\n",
    "    '''\n",
    "    return insert_data(query, rows, batch_size)"
   ]
  },
  {
   "cell_type": "code",
   "execution_count": 31,
   "metadata": {},
   "outputs": [
    {
     "ename": "AttributeError",
     "evalue": "'Neo4jDriver' object has no attribute 'query'",
     "output_type": "error",
     "traceback": [
      "\u001b[1;31m---------------------------------------------------------------------------\u001b[0m",
      "\u001b[1;31mAttributeError\u001b[0m                            Traceback (most recent call last)",
      "\u001b[1;32m<ipython-input-31-71eaed46b348>\u001b[0m in \u001b[0;36m<module>\u001b[1;34m()\u001b[0m\n\u001b[0;32m      1\u001b[0m \u001b[0marticles\u001b[0m \u001b[1;33m=\u001b[0m \u001b[0mpd\u001b[0m\u001b[1;33m.\u001b[0m\u001b[0mDataFrame\u001b[0m\u001b[1;33m(\u001b[0m\u001b[0mart\u001b[0m\u001b[1;33m[\u001b[0m\u001b[1;33m[\u001b[0m\u001b[1;34m'id'\u001b[0m\u001b[1;33m]\u001b[0m\u001b[1;33m]\u001b[0m\u001b[1;33m)\u001b[0m\u001b[1;33m\u001b[0m\u001b[0m\n\u001b[1;32m----> 2\u001b[1;33m \u001b[0madd_article\u001b[0m\u001b[1;33m(\u001b[0m\u001b[0marticles\u001b[0m\u001b[1;33m)\u001b[0m\u001b[1;33m\u001b[0m\u001b[0m\n\u001b[0m",
      "\u001b[1;32m<ipython-input-30-2c95c24137ca>\u001b[0m in \u001b[0;36madd_article\u001b[1;34m(rows, batch_size)\u001b[0m\n\u001b[0;32m      6\u001b[0m                \u001b[0mRETURN\u001b[0m \u001b[0mcount\u001b[0m\u001b[1;33m(\u001b[0m\u001b[1;33m*\u001b[0m\u001b[1;33m)\u001b[0m \u001b[1;32mas\u001b[0m \u001b[0mtotal\u001b[0m\u001b[1;33m\u001b[0m\u001b[0m\n\u001b[0;32m      7\u001b[0m     '''\n\u001b[1;32m----> 8\u001b[1;33m     \u001b[1;32mreturn\u001b[0m \u001b[0minsert_data\u001b[0m\u001b[1;33m(\u001b[0m\u001b[0mquery\u001b[0m\u001b[1;33m,\u001b[0m \u001b[0mrows\u001b[0m\u001b[1;33m,\u001b[0m \u001b[0mbatch_size\u001b[0m\u001b[1;33m)\u001b[0m\u001b[1;33m\u001b[0m\u001b[0m\n\u001b[0m",
      "\u001b[1;32m<ipython-input-28-bbd63bda2468>\u001b[0m in \u001b[0;36minsert_data\u001b[1;34m(query, rows, batch_size)\u001b[0m\n\u001b[0;32m     38\u001b[0m     \u001b[1;32mwhile\u001b[0m \u001b[0mbatch\u001b[0m \u001b[1;33m*\u001b[0m \u001b[0mbatch_size\u001b[0m \u001b[1;33m<\u001b[0m \u001b[0mlen\u001b[0m\u001b[1;33m(\u001b[0m\u001b[0mrows\u001b[0m\u001b[1;33m)\u001b[0m\u001b[1;33m:\u001b[0m\u001b[1;33m\u001b[0m\u001b[0m\n\u001b[0;32m     39\u001b[0m \u001b[1;33m\u001b[0m\u001b[0m\n\u001b[1;32m---> 40\u001b[1;33m         \u001b[0mres\u001b[0m \u001b[1;33m=\u001b[0m \u001b[0mconn\u001b[0m\u001b[1;33m.\u001b[0m\u001b[0mquery\u001b[0m\u001b[1;33m(\u001b[0m\u001b[0mquery\u001b[0m\u001b[1;33m,\u001b[0m \u001b[0mparameters\u001b[0m\u001b[1;33m=\u001b[0m\u001b[1;33m{\u001b[0m\u001b[1;34m'rows'\u001b[0m\u001b[1;33m:\u001b[0m \u001b[0mrows\u001b[0m\u001b[1;33m[\u001b[0m\u001b[0mbatch\u001b[0m\u001b[1;33m*\u001b[0m\u001b[0mbatch_size\u001b[0m\u001b[1;33m:\u001b[0m\u001b[1;33m(\u001b[0m\u001b[0mbatch\u001b[0m\u001b[1;33m+\u001b[0m\u001b[1;36m1\u001b[0m\u001b[1;33m)\u001b[0m\u001b[1;33m*\u001b[0m\u001b[0mbatch_size\u001b[0m\u001b[1;33m]\u001b[0m\u001b[1;33m.\u001b[0m\u001b[0mto_dict\u001b[0m\u001b[1;33m(\u001b[0m\u001b[1;34m'records'\u001b[0m\u001b[1;33m)\u001b[0m\u001b[1;33m}\u001b[0m\u001b[1;33m)\u001b[0m\u001b[1;33m\u001b[0m\u001b[0m\n\u001b[0m\u001b[0;32m     41\u001b[0m         \u001b[0mtotal\u001b[0m \u001b[1;33m+=\u001b[0m \u001b[0mres\u001b[0m\u001b[1;33m[\u001b[0m\u001b[1;36m0\u001b[0m\u001b[1;33m]\u001b[0m\u001b[1;33m[\u001b[0m\u001b[1;34m'total'\u001b[0m\u001b[1;33m]\u001b[0m\u001b[1;33m\u001b[0m\u001b[0m\n\u001b[0;32m     42\u001b[0m         \u001b[0mbatch\u001b[0m \u001b[1;33m+=\u001b[0m \u001b[1;36m1\u001b[0m\u001b[1;33m\u001b[0m\u001b[0m\n",
      "\u001b[1;31mAttributeError\u001b[0m: 'Neo4jDriver' object has no attribute 'query'"
     ]
    }
   ],
   "source": [
    "articles = pd.DataFrame(art[['id']])\n",
    "add_article(articles)"
   ]
  },
  {
   "cell_type": "code",
   "execution_count": null,
   "metadata": {},
   "outputs": [],
   "source": []
  },
  {
   "cell_type": "code",
   "execution_count": null,
   "metadata": {},
   "outputs": [],
   "source": []
  },
  {
   "cell_type": "code",
   "execution_count": null,
   "metadata": {},
   "outputs": [],
   "source": []
  },
  {
   "cell_type": "markdown",
   "metadata": {},
   "source": [
    "### test query"
   ]
  },
  {
   "cell_type": "code",
   "execution_count": null,
   "metadata": {},
   "outputs": [],
   "source": [
    "query_string = '''\n",
    "MATCH (c:Category) \n",
    "RETURN c.category, SIZE(()-[:IN_CATEGORY]->(c)) AS inDegree \n",
    "ORDER BY inDegree DESC LIMIT 20\n",
    "'''\n",
    "\n",
    "top_cat_df = pd.DataFrame([dict(_) for _ in conn.query(query_string)])\n",
    "top_cat_df.head(20)"
   ]
  },
  {
   "cell_type": "code",
   "execution_count": 46,
   "metadata": {},
   "outputs": [],
   "source": [
    "driver.close()  # close the driver object"
   ]
  }
 ],
 "metadata": {
  "kernelspec": {
   "display_name": "Python 3",
   "language": "python",
   "name": "python3"
  },
  "language_info": {
   "codemirror_mode": {
    "name": "ipython",
    "version": 3
   },
   "file_extension": ".py",
   "mimetype": "text/x-python",
   "name": "python",
   "nbconvert_exporter": "python",
   "pygments_lexer": "ipython3",
   "version": "3.6.5"
  }
 },
 "nbformat": 4,
 "nbformat_minor": 2
}
